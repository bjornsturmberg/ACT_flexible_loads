{
 "cells": [
  {
   "cell_type": "code",
   "execution_count": 62,
   "metadata": {},
   "outputs": [],
   "source": [
    "import numpy as np\n",
    "import pandas as pd\n",
    "import glob\n",
    "\n",
    "import plotly.graph_objects as go\n",
    "import plotly.express as px\n",
    "from datetime import datetime\n",
    "from plotly.subplots import make_subplots\n",
    "pd.options.plotting.backend = \"plotly\""
   ]
  },
  {
   "cell_type": "code",
   "execution_count": 2,
   "metadata": {},
   "outputs": [],
   "source": [
    "def zs_data(start: str, end: str, src: str) -> pd.DataFrame:\n",
    "    \"\"\"Get data from \"\"\"\n",
    "    data_df = pd.read_csv(src, index_col=0)#, parse_dates=[\"Time\"])\n",
    "\n",
    "    freq='15min'\n",
    "    intervals_per_hour = 4\n",
    "\n",
    "    # temp bandaid to deal with substation data\n",
    "    # data_df.index = pd.to_datetime(data_df.index, utc=True)#, format='mixed')\n",
    "\n",
    "    # NOTE timestamps indicate start of an interval\n",
    "    # Starting with 15 min data we'll set the time index to start at the beninning of this \n",
    "    # period and then trim off the first 5 min after ffill()\n",
    "    tmp = pd.date_range(start=pd.to_datetime(\"2021-7-1 00:00\").tz_localize(\"UTC\"), \n",
    "                        end=pd.to_datetime(\"2023-06-30 23:45\").tz_localize(\"UTC\"), \n",
    "                        freq=freq)\n",
    "    data_df.index = tmp\n",
    "\n",
    "    # data_df = data_df.resample(\"5min\").ffill()#.reset_index()\n",
    "\n",
    "    # data_df.rename(columns={data_df.columns[0]: \"network_load\"}, inplace=True)\n",
    "\n",
    "    new_df = data_df.loc[start:end]#[1:]\n",
    "\n",
    "    # new_df.reset_index(inplace=True)\n",
    "\n",
    "    # temp bandaid to deal with substation data\n",
    "    # new_df = new_df.rename(columns={data_df.index.name:'settlementdate'})\n",
    "    # new_df = new_df.rename(columns={'index':'settlementdate'})\n",
    "    return new_df, intervals_per_hour"
   ]
  },
  {
   "cell_type": "code",
   "execution_count": 72,
   "metadata": {},
   "outputs": [],
   "source": [
    "zs_df, intervals_per_hour = zs_data(\"2022-1-1 00:00\", \"2022-12-31 23:45\",\n",
    "    src = \"data/evoenergy-zone-substation-report-2021-23.csv\")\n",
    "\n",
    "pop_SA3_df = pd.read_csv('data/SA3_population.csv', index_col=0)\n",
    "pop_SA2_df = pd.read_csv('data/SA2_population.csv', index_col=0)\n",
    "evo_cust_df = pd.read_csv('data/evo_customers.csv', index_col=0)\n",
    "\n",
    "# http://www.bom.gov.au/climate/averages/tables/cw_070282.shtml\n",
    "mean_3pm_temps = [26.9,26.4,23.5,19.1,14.9,11.4,10.6,12.6,15.1,18.3,22.0,24.8,18.8]\n",
    "mean_temps_Bin = [20.495001,20.325001,17.85,13.48,9.469999,6.67,5.585,7.105,9.710001,12.985,15.895,18.775]\n",
    "\n",
    "NextGen_solar = pd.read_csv('data/NextGen_solar.csv', index_col=0) \n",
    "\n",
    "SA3_dict = {'Gungahlin':['Gold Creek'],\n",
    "            'Tuggeranong': ['Wanniassa', 'Gilmore', 'Theodore'],\n",
    "            'Woden Valley':['Woden', 'Wanniassa'],\n",
    "            'Canberra East':['East Lake'],#, 'Fyshwick'],\n",
    "            'South Canberra':['Telopea Park'],\n",
    "            'Belconnen':['Belconnen', 'Latham'],\n",
    "            'North Canberra':['Civic', 'City East'],\n",
    "            'Weston Creek':['Woden'],\n",
    "            'Molongolo':['Woden'],\n",
    "            'Urriarra - Namadgi':['Tennent/Angle Crossing'],}\n",
    "\n",
    "SA3_division = {'Woden Valley':[39238/(39238+24315+12102), 39238/(39238+88965)],\n",
    "                'Tuggeranong':[88965/(39238+88965), 1, 1],\n",
    "            'Weston Creek':[24315/(39238+24315+12102), ],\n",
    "            'Molongolo':[12102/(39238+24315+12102)],\n",
    "            'Gungahlin':[1],\n",
    "            'Canberra East':[1,1],\n",
    "            'South Canberra':[1],\n",
    "            'Belconnen':[1,1],\n",
    "            'North Canberra':[1,1]}\n"
   ]
  },
  {
   "cell_type": "code",
   "execution_count": 63,
   "metadata": {},
   "outputs": [
    {
     "data": {
      "text/plain": [
       "original index\n",
       "1514725200    0.610338\n",
       "1514725500    0.611965\n",
       "1514725800    0.609029\n",
       "1514726100    0.593162\n",
       "1514726400    0.584317\n",
       "                ...   \n",
       "1546259700    0.710515\n",
       "1546260000    0.675712\n",
       "1546260300    0.677424\n",
       "1546260600    0.674451\n",
       "1546260900    0.648202\n",
       "Length: 105120, dtype: float64"
      ]
     },
     "execution_count": 63,
     "metadata": {},
     "output_type": "execute_result"
    }
   ],
   "source": [
    "# ng_demand = pd.DataFrame()\n",
    "# ng_solar = pd.DataFrame()\n",
    "\n",
    "# nextgen_files = glob.glob('/home/bjorn/Data/NextGen_csv/*.csv')\n",
    "# for f in nextgen_files:\n",
    "#     ng = pd.read_csv(f)\n",
    "#     ng = ng.set_index('original index')\n",
    "#     load = ng['load power (kW)'].to_frame(name=f)\n",
    "#     solar_tmp = ng['solar power (kW)'].to_frame(name=f)\n",
    "#     ng_demand = pd.concat([ng_demand,load], axis=1)\n",
    "#     ng_solar = pd.concat([ng_solar,solar_tmp], axis=1)\n",
    "\n",
    "\n",
    "# # ng_demand_av = ng_demand.mean(axis=1)\n",
    "# ng_solar_av = ng_solar.mean(axis=1)\n",
    "\n",
    "# # rearrange to match WW day of year\n",
    "# # start_time = 1539435600 # 14/10/2018\n",
    "# # end_time = 1531663200 #16/7/2018\n",
    "# start_time = 1540990800 # 1/11/2018\n",
    "# end_time = 1533045600 #1/8/2018\n",
    "# end_2018_year = 1546261200\n",
    "# start_2018_year = 1514725200\n",
    "# # rearrange_year_demand = pd.concat([ng_demand_av.loc[start_time:end_2018_year],\n",
    "# #     ng_demand_av.loc[start_2018_year:end_time]], axis=0)\n",
    "# # rearrange_year_solar = pd.concat([ng_solar_av.loc[start_time:end_2018_year],\n",
    "# #     ng_solar_av.loc[start_2018_year:end_time]], axis=0)\n",
    "\n",
    "# # rearrange_year_demand = ng_demand_av.loc[start_2018_year:end_2018_year]\n",
    "# rearrange_year_solar = ng_solar_av.loc[start_2018_year:end_2018_year]\n",
    "\n",
    "# ng_solar_15min = rearrange_year_solar.groupby(np.arange(len(rearrange_year_solar.index)) // 3).mean()\n",
    "# ng_solar_15min.index = zs_df.index\n",
    "# ng_solar_15min.to_csv('NextGen_solar.csv', index=True) "
   ]
  },
  {
   "cell_type": "code",
   "execution_count": 51,
   "metadata": {},
   "outputs": [],
   "source": [
    "def forecast(evo_regions, evo_fractions, nu_days, start_day, zs_df, timed_hw_start, timed_hw_end,\n",
    "             current_households, future_households, mean_temps, #resist_kWh_per_household,\n",
    "             current_frac_gas, future_frac_gas, current_frac_heatpumps, future_frac_heatpumps,\n",
    "             intervals_per_hour):\n",
    "    current_frac_elec = 1 - current_frac_gas\n",
    "    future_frac_elec = 1 - future_frac_gas\n",
    "    current_frac_resist = 1 - current_frac_heatpumps\n",
    "    future_frac_resist = 1 - future_frac_heatpumps\n",
    "\n",
    "    date_dict = {}\n",
    "    for i_d, day in enumerate(range(start_day,start_day+nu_days)):\n",
    "        for e, zs in enumerate(evo_regions):\n",
    "            if e == 0:\n",
    "                current_day_zs_df = zs_df[zs][zs_df.index.dayofyear == day+1]*evo_fractions[e]\n",
    "                current_day_zs_df.rename('Current', inplace=True)\n",
    "            else:\n",
    "                tmp_df = zs_df[zs][zs_df.index.dayofyear == day+1]*evo_fractions[e]\n",
    "                tmp_df.rename('Current', inplace=True)\n",
    "                # print(current_day_zs_df)\n",
    "                # print(tmp_df)\n",
    "                current_day_zs_df = current_day_zs_df.add(tmp_df)\n",
    "                # print(current_day_zs_df)\n",
    "        # current_day_zs_df.index = current_day_zs_df.index.strftime('%H:%M')\n",
    "        # current_day_zs_df.index = current_day_zs_df.index.time\n",
    "        # time_interval = current_day_zs_df.index[1] - current_day_zs_df.index[0]\n",
    "        # print(current_day_zs_df)\n",
    "        # print(repr(current_day_zs_df.index))\n",
    "\n",
    "        date_dict[day] = current_day_zs_df.index[0].date()\n",
    "        month = current_day_zs_df.index[0].month\n",
    "        temp = mean_temps[month-1]\n",
    "\n",
    "        current_gas_users = current_frac_gas*current_households\n",
    "        future_elec_users = future_households*future_frac_elec\n",
    "        \n",
    "        pop_growth_factor = (future_households)/(current_households)\n",
    "        \n",
    "        # heating energy demand as function of temperature per household\n",
    "        CBR_factor = 1.266\n",
    "        hw_kWh_household_per_day = (10.295 - 0.2816*temp)*CBR_factor\n",
    "        # Heat pump coefficient of performance as function of temperature\n",
    "        heatpump_CoP = 2.9664 + 0.0703*temp\n",
    "\n",
    "        current_hw_MWh_per_day_elec = (current_frac_resist*hw_kWh_household_per_day + \\\n",
    "                                       current_frac_heatpumps*hw_kWh_household_per_day/heatpump_CoP)/1000\n",
    "        current_hw_MWh_per_day = current_frac_elec*current_households*current_hw_MWh_per_day_elec\n",
    "        current_hw_MW = current_hw_MWh_per_day/24\n",
    "        # print('current_hw_kWh', current_hw_MWh_per_day_elec*1000)\n",
    "            \n",
    "        curent_day_zs_sans_hw = current_day_zs_df - current_hw_MW\n",
    "        curent_day_zs_sans_hw.rename('Current w/o hot water', inplace=True)\n",
    "\n",
    "        future_zs = current_day_zs_df*pop_growth_factor\n",
    "        future_zs_sans_hw = curent_day_zs_sans_hw*pop_growth_factor\n",
    "        \n",
    "        future_hw_resist_kWh = future_frac_resist*hw_kWh_household_per_day\n",
    "        future_hw_heatpump_kWh = future_frac_heatpumps*hw_kWh_household_per_day/heatpump_CoP\n",
    "        future_hw_MWh_total = future_elec_users*(future_hw_heatpump_kWh + future_hw_resist_kWh)/1000\n",
    "        # print('future_hw_kWh', future_hw_MWh_total/future_elec_users*1000)\n",
    "\n",
    "        if timed_hw_start < timed_hw_end:\n",
    "            time_mask = (current_day_zs_df.index.hour >= timed_hw_start) & \\\n",
    "                    (current_day_zs_df.index.hour < timed_hw_end)\n",
    "        else:\n",
    "            time_mask = (current_day_zs_df.index.hour >= 0) & \\\n",
    "                    (current_day_zs_df.index.hour < timed_hw_end) + \\\n",
    "                    (current_day_zs_df.index.hour >= timed_hw_start) & \\\n",
    "                    (current_day_zs_df.index.hour <= 24)\n",
    "\n",
    "        timed_hw_df = pd.Series(index=current_day_zs_df.index, data = 0)\n",
    "        # timed_hw_df[timed_hw_df.index.hour > timed_hw_start & timed_hw_df.index.hour < timed_hw_end] == 1\n",
    "        # print(timed_hw_df.between_time(timed_hw_start,timed_hw_end))\n",
    "        timed_hw_df[time_mask] = 1\n",
    "        future_hw_MW = future_hw_MWh_total / (np.sum(timed_hw_df)/intervals_per_hour)\n",
    "        timed_hw_df = timed_hw_df*future_hw_MW\n",
    "        # print(timed_hw_df)\n",
    "\n",
    "        future_zs_with_hw = future_zs_sans_hw + timed_hw_df\n",
    "        future_zs_with_hw.rename('Future', inplace=True)\n",
    "\n",
    "        # print(future_zs_with_hw)\n",
    "\n",
    "        plotting_df = pd.concat([current_day_zs_df, curent_day_zs_sans_hw, future_zs_with_hw],axis=1)\n",
    "\n",
    "        current_day_zs_df.index = current_day_zs_df.index.time\n",
    "        curent_day_zs_sans_hw.index = current_day_zs_df.index\n",
    "        future_zs_sans_hw.index = current_day_zs_df.index\n",
    "        future_zs_with_hw.index = current_day_zs_df.index\n",
    "\n",
    "        if i_d == 0:\n",
    "            many_day_df_current = current_day_zs_df.rename(date_dict[day], inplace=True).to_frame()\n",
    "            many_day_df_current_sans = curent_day_zs_sans_hw.rename(date_dict[day], inplace=True).to_frame()\n",
    "            many_day_df_future = future_zs_with_hw.rename(date_dict[day], inplace=True).to_frame()\n",
    "            # many_day_df_future_sans = future_zs_sans_hw.rename(date_dict[day], inplace=True).to_frame()\n",
    "        else:\n",
    "            many_day_df_current = many_day_df_current.join(current_day_zs_df.rename(date_dict[day]))\n",
    "            many_day_df_current_sans = many_day_df_current_sans.join(curent_day_zs_sans_hw.rename(date_dict[day]))\n",
    "            many_day_df_future = many_day_df_future.join(future_zs_with_hw.rename(date_dict[day]))\n",
    "            # many_day_df_future_sans = many_day_df_future_sans.join(future_zs_with_hw.rename(date_dict[day]))\n",
    "\n",
    "    plotting_df_many = pd.concat([many_day_df_current.mean(axis=1), many_day_df_current_sans.mean(axis=1), \n",
    "                                #   many_day_df_future_sans.mean(axis=1), \n",
    "                                  many_day_df_future.mean(axis=1)],axis=1)\n",
    "    plotting_df_many.columns = ['Current','Current w/o hot water','Future']\n",
    "\n",
    "    return many_day_df_current, many_day_df_current_sans, many_day_df_future, \\\n",
    "            plotting_df_many, plotting_df, future_hw_MWh_total"
   ]
  },
  {
   "cell_type": "code",
   "execution_count": 52,
   "metadata": {},
   "outputs": [],
   "source": [
    "future_year = 2034\n",
    "POE = 0.9\n",
    "nu_days = 30\n",
    "start_day = 5*30\n",
    "\n",
    "timed_hw_start = 21\n",
    "timed_hw_end = 17\n",
    "# resist_kWh_per_household = 8.1\n",
    "current_frac_gas = 0.45\n",
    "future_frac_gas = 0.0\n",
    "current_frac_heatpumps = 0.1\n",
    "future_frac_heatpumps = 0.75\n",
    "\n",
    "SA_level = 3\n",
    "SA_region = 'Belconnen'\n",
    "SA_region = 'Tuggeranong'\n",
    "SA_region = 'Gungahlin'\n",
    "SA_region = 'Woden Valley'\n",
    "# SA_region = 'Canberra East'\n",
    "# SA_region = 'South Canberra'\n",
    "# SA_region = 'North Canberra'\n",
    "\n",
    "current_households = 0\n",
    "for e, r in enumerate(SA3_dict[SA_region]):\n",
    "    zs_frac = SA3_division[SA_region][e]\n",
    "    current_households += evo_cust_df.loc[r,\"Evo resi customers\"]*zs_frac\n",
    "\n",
    "if SA_level == 2:\n",
    "    current_pop = pop_SA2_df.loc[SA_region,'2022']\n",
    "    pop_per_household = current_pop/current_households\n",
    "    # print(pop_per_household)\n",
    "    future_households = pop_SA2_df.loc[SA_region,str(future_year)]/pop_per_household\n",
    "elif SA_level == 3:\n",
    "    current_pop = pop_SA3_df.loc[SA_region,'2022']\n",
    "    pop_per_household = current_pop/current_households\n",
    "    future_households = pop_SA3_df.loc[SA_region,str(future_year)]/pop_per_household\n",
    "\n",
    "# mean_temps = mean_3pm_temps\n",
    "mean_temps = mean_temps_Bin\n",
    "\n",
    "\n",
    "many_day_df_current, many_day_df_current_sans, many_day_df_future, \\\n",
    "    plotting_df_many, plotting_df, future_hw_MWh_total = \\\n",
    "        forecast(SA3_dict[SA_region], SA3_division[SA_region], nu_days, start_day, zs_df, timed_hw_start, timed_hw_end,\n",
    "             current_households, future_households, mean_temps, #resist_kWh_per_household,\n",
    "             current_frac_gas, future_frac_gas, current_frac_heatpumps, future_frac_heatpumps,\n",
    "             intervals_per_hour)\n"
   ]
  },
  {
   "cell_type": "code",
   "execution_count": 53,
   "metadata": {},
   "outputs": [
    {
     "data": {
      "application/vnd.plotly.v1+json": {
       "config": {
        "plotlyServerURL": "https://plot.ly"
       },
       "data": [
        {
         "hovertemplate": "variable=Current<br>index=%{x}<br>value=%{y}<extra></extra>",
         "legendgroup": "Current",
         "line": {
          "color": "#636efa",
          "dash": "solid"
         },
         "marker": {
          "symbol": "circle"
         },
         "mode": "lines",
         "name": "Current",
         "orientation": "v",
         "showlegend": true,
         "type": "scatter",
         "x": [
          "00:00:00",
          "00:15:00",
          "00:30:00",
          "00:45:00",
          "01:00:00",
          "01:15:00",
          "01:30:00",
          "01:45:00",
          "02:00:00",
          "02:15:00",
          "02:30:00",
          "02:45:00",
          "03:00:00",
          "03:15:00",
          "03:30:00",
          "03:45:00",
          "04:00:00",
          "04:15:00",
          "04:30:00",
          "04:45:00",
          "05:00:00",
          "05:15:00",
          "05:30:00",
          "05:45:00",
          "06:00:00",
          "06:15:00",
          "06:30:00",
          "06:45:00",
          "07:00:00",
          "07:15:00",
          "07:30:00",
          "07:45:00",
          "08:00:00",
          "08:15:00",
          "08:30:00",
          "08:45:00",
          "09:00:00",
          "09:15:00",
          "09:30:00",
          "09:45:00",
          "10:00:00",
          "10:15:00",
          "10:30:00",
          "10:45:00",
          "11:00:00",
          "11:15:00",
          "11:30:00",
          "11:45:00",
          "12:00:00",
          "12:15:00",
          "12:30:00",
          "12:45:00",
          "13:00:00",
          "13:15:00",
          "13:30:00",
          "13:45:00",
          "14:00:00",
          "14:15:00",
          "14:30:00",
          "14:45:00",
          "15:00:00",
          "15:15:00",
          "15:30:00",
          "15:45:00",
          "16:00:00",
          "16:15:00",
          "16:30:00",
          "16:45:00",
          "17:00:00",
          "17:15:00",
          "17:30:00",
          "17:45:00",
          "18:00:00",
          "18:15:00",
          "18:30:00",
          "18:45:00",
          "19:00:00",
          "19:15:00",
          "19:30:00",
          "19:45:00",
          "20:00:00",
          "20:15:00",
          "20:30:00",
          "20:45:00",
          "21:00:00",
          "21:15:00",
          "21:30:00",
          "21:45:00",
          "22:00:00",
          "22:15:00",
          "22:30:00",
          "22:45:00",
          "23:00:00",
          "23:15:00",
          "23:30:00",
          "23:45:00"
         ],
         "xaxis": "x",
         "y": [
          33.79215164029652,
          32.73391536763118,
          31.814433154430414,
          31.149333471907813,
          30.579768004555277,
          30.058730126623622,
          29.64164735042557,
          29.319286583286125,
          29.151869824695204,
          28.92222023870864,
          28.772877714207237,
          28.65063279022253,
          28.774030949658904,
          28.81543055578335,
          28.893012645907977,
          28.990635989426032,
          29.331508654594202,
          29.58064210108697,
          29.98648568992656,
          30.516038083222348,
          31.829705721427857,
          32.71014679607941,
          34.10366026146266,
          35.65693263745826,
          38.36944130232772,
          40.62548281966658,
          43.07172901361155,
          45.35888901189319,
          48.28833850965854,
          51.13534845803817,
          53.05496793890044,
          54.083558478806644,
          54.27842538745907,
          53.87836628306465,
          52.649289465351444,
          51.48048336560531,
          50.6511102466264,
          49.87962292458587,
          48.59793040773876,
          47.03499028092735,
          46.918241638044755,
          45.684479670589255,
          44.15517026403491,
          42.60414346758867,
          41.520739918427054,
          40.26215971523249,
          39.472173171029205,
          38.666563237707535,
          38.762546187972085,
          38.55179333795634,
          37.36567553971651,
          36.824062109853216,
          36.548804004329575,
          36.730283636968394,
          36.66511798907138,
          37.04850299237843,
          37.562895787612405,
          37.89591412618263,
          38.16750931368945,
          38.51463448459253,
          39.208920596613595,
          40.328012331685265,
          41.83236528971269,
          43.45134106699126,
          45.276633319200776,
          46.98066478277983,
          49.04333012050067,
          51.2389066716661,
          53.15581695857543,
          55.453635153990184,
          57.21829354355177,
          58.31715992311039,
          58.58312008676819,
          58.54959329108156,
          58.321390652497456,
          57.86104216964307,
          56.94210737989579,
          56.2541085917861,
          55.579554842532396,
          54.874248313765875,
          54.08614921004965,
          53.32078296793846,
          52.43864721900867,
          51.39496919323301,
          49.91590181259218,
          48.57651995045612,
          46.91911500790646,
          45.350811304173085,
          45.313267885263485,
          44.87079212529073,
          43.32603015713928,
          41.71572436741783,
          40.03288388389626,
          38.238954004381604,
          36.50760128676743,
          35.11927125402338
         ],
         "yaxis": "y"
        },
        {
         "hovertemplate": "variable=Current w/o hot water<br>index=%{x}<br>value=%{y}<extra></extra>",
         "legendgroup": "Current w/o hot water",
         "line": {
          "color": "#EF553B",
          "dash": "solid"
         },
         "marker": {
          "symbol": "circle"
         },
         "mode": "lines",
         "name": "Current w/o hot water",
         "orientation": "v",
         "showlegend": true,
         "type": "scatter",
         "x": [
          "00:00:00",
          "00:15:00",
          "00:30:00",
          "00:45:00",
          "01:00:00",
          "01:15:00",
          "01:30:00",
          "01:45:00",
          "02:00:00",
          "02:15:00",
          "02:30:00",
          "02:45:00",
          "03:00:00",
          "03:15:00",
          "03:30:00",
          "03:45:00",
          "04:00:00",
          "04:15:00",
          "04:30:00",
          "04:45:00",
          "05:00:00",
          "05:15:00",
          "05:30:00",
          "05:45:00",
          "06:00:00",
          "06:15:00",
          "06:30:00",
          "06:45:00",
          "07:00:00",
          "07:15:00",
          "07:30:00",
          "07:45:00",
          "08:00:00",
          "08:15:00",
          "08:30:00",
          "08:45:00",
          "09:00:00",
          "09:15:00",
          "09:30:00",
          "09:45:00",
          "10:00:00",
          "10:15:00",
          "10:30:00",
          "10:45:00",
          "11:00:00",
          "11:15:00",
          "11:30:00",
          "11:45:00",
          "12:00:00",
          "12:15:00",
          "12:30:00",
          "12:45:00",
          "13:00:00",
          "13:15:00",
          "13:30:00",
          "13:45:00",
          "14:00:00",
          "14:15:00",
          "14:30:00",
          "14:45:00",
          "15:00:00",
          "15:15:00",
          "15:30:00",
          "15:45:00",
          "16:00:00",
          "16:15:00",
          "16:30:00",
          "16:45:00",
          "17:00:00",
          "17:15:00",
          "17:30:00",
          "17:45:00",
          "18:00:00",
          "18:15:00",
          "18:30:00",
          "18:45:00",
          "19:00:00",
          "19:15:00",
          "19:30:00",
          "19:45:00",
          "20:00:00",
          "20:15:00",
          "20:30:00",
          "20:45:00",
          "21:00:00",
          "21:15:00",
          "21:30:00",
          "21:45:00",
          "22:00:00",
          "22:15:00",
          "22:30:00",
          "22:45:00",
          "23:00:00",
          "23:15:00",
          "23:30:00",
          "23:45:00"
         ],
         "xaxis": "x",
         "y": [
          29.208656482377993,
          28.150420209712667,
          27.230937996511884,
          26.565838313989282,
          25.99627284663675,
          25.47523496870509,
          25.058152192507055,
          24.735791425367612,
          24.56837466677668,
          24.338725080790123,
          24.189382556288717,
          24.067137632304007,
          24.19053579174038,
          24.231935397864824,
          24.309517487989464,
          24.40714083150749,
          24.74801349667568,
          24.99714694316844,
          25.402990532008044,
          25.932542925303817,
          27.24621056350934,
          28.12665163816088,
          29.52016510354413,
          31.073437479539734,
          33.7859461444092,
          36.04198766174807,
          38.488233855693025,
          40.775393853974656,
          43.70484335174003,
          46.551853300119674,
          48.4714727809819,
          49.50006332088813,
          49.69493022954055,
          49.29487112514614,
          48.06579430743292,
          46.89698820768677,
          46.06761508870787,
          45.296127766667354,
          44.014435249820245,
          42.45149512300882,
          42.33474648012624,
          41.10098451267074,
          39.571675106116395,
          38.020648309670136,
          36.93724476050853,
          35.678664557313965,
          34.88867801311066,
          34.083068079789,
          34.17905103005355,
          33.96829818003781,
          32.78218038179799,
          32.240566951934696,
          31.96530884641105,
          32.14678847904987,
          32.08162283115285,
          32.46500783445991,
          32.979400629693885,
          33.3124189682641,
          33.58401415577094,
          33.93113932667401,
          34.62542543869509,
          35.744517173766745,
          37.24887013179418,
          38.867845909072734,
          40.69313816128224,
          42.39716962486129,
          44.45983496258214,
          46.655411513747566,
          48.572321800656916,
          50.87013999607164,
          52.63479838563323,
          53.733664765191875,
          53.999624928849684,
          53.966098133163044,
          53.737895494578915,
          53.27754701172455,
          52.358612221977246,
          51.67061343386756,
          50.99605968461385,
          50.29075315584736,
          49.50265405213114,
          48.73728781001993,
          47.855152061090166,
          46.8114740353145,
          45.332406654673676,
          43.99302479253762,
          42.335619849987935,
          40.767316146254565,
          40.729772727344944,
          40.287296967372214,
          38.74253499922076,
          37.13222920949931,
          35.44938872597774,
          33.65545884646307,
          31.924106128848894,
          30.535776096104865
         ],
         "yaxis": "y"
        },
        {
         "hovertemplate": "variable=Future<br>index=%{x}<br>value=%{y}<extra></extra>",
         "legendgroup": "Future",
         "line": {
          "color": "#00cc96",
          "dash": "solid"
         },
         "marker": {
          "symbol": "circle"
         },
         "mode": "lines",
         "name": "Future",
         "orientation": "v",
         "showlegend": true,
         "type": "scatter",
         "x": [
          "00:00:00",
          "00:15:00",
          "00:30:00",
          "00:45:00",
          "01:00:00",
          "01:15:00",
          "01:30:00",
          "01:45:00",
          "02:00:00",
          "02:15:00",
          "02:30:00",
          "02:45:00",
          "03:00:00",
          "03:15:00",
          "03:30:00",
          "03:45:00",
          "04:00:00",
          "04:15:00",
          "04:30:00",
          "04:45:00",
          "05:00:00",
          "05:15:00",
          "05:30:00",
          "05:45:00",
          "06:00:00",
          "06:15:00",
          "06:30:00",
          "06:45:00",
          "07:00:00",
          "07:15:00",
          "07:30:00",
          "07:45:00",
          "08:00:00",
          "08:15:00",
          "08:30:00",
          "08:45:00",
          "09:00:00",
          "09:15:00",
          "09:30:00",
          "09:45:00",
          "10:00:00",
          "10:15:00",
          "10:30:00",
          "10:45:00",
          "11:00:00",
          "11:15:00",
          "11:30:00",
          "11:45:00",
          "12:00:00",
          "12:15:00",
          "12:30:00",
          "12:45:00",
          "13:00:00",
          "13:15:00",
          "13:30:00",
          "13:45:00",
          "14:00:00",
          "14:15:00",
          "14:30:00",
          "14:45:00",
          "15:00:00",
          "15:15:00",
          "15:30:00",
          "15:45:00",
          "16:00:00",
          "16:15:00",
          "16:30:00",
          "16:45:00",
          "17:00:00",
          "17:15:00",
          "17:30:00",
          "17:45:00",
          "18:00:00",
          "18:15:00",
          "18:30:00",
          "18:45:00",
          "19:00:00",
          "19:15:00",
          "19:30:00",
          "19:45:00",
          "20:00:00",
          "20:15:00",
          "20:30:00",
          "20:45:00",
          "21:00:00",
          "21:15:00",
          "21:30:00",
          "21:45:00",
          "22:00:00",
          "22:15:00",
          "22:30:00",
          "22:45:00",
          "23:00:00",
          "23:15:00",
          "23:30:00",
          "23:45:00"
         ],
         "xaxis": "x",
         "y": [
          36.22434652428421,
          35.10496998886003,
          34.13236411550007,
          33.428837882687475,
          32.826365414099186,
          32.27522424677277,
          31.83404425222414,
          31.493058890072064,
          31.31596952350608,
          31.07305178900452,
          30.915080906711058,
          30.785773205758275,
          30.916300771062485,
          30.960092265333223,
          31.04215670925552,
          31.14542030252521,
          31.50598709919694,
          31.769514386435894,
          32.19880584254444,
          32.75895345668741,
          34.14851906461136,
          35.07982817321558,
          36.55385275093952,
          38.196866410292635,
          41.06609196040748,
          43.452477687945844,
          46.04005728628638,
          48.45935938447383,
          51.5580596598383,
          54.56955738927143,
          56.60008408668686,
          57.6881020885934,
          57.894227554815366,
          57.47105478536001,
          56.17096728550815,
          54.93463268206345,
          54.05734201222246,
          53.24128152745538,
          51.88553842353214,
          50.232298453011026,
          50.10880458423989,
          48.803761247188056,
          47.18609503282855,
          45.54545669278823,
          44.3994588257218,
          43.068163363833065,
          42.232534852768346,
          41.380380301503855,
          41.48190872677351,
          41.25897949898657,
          40.004333002836304,
          39.43142751819194,
          39.140266203401204,
          39.3322309353619,
          39.263300301385506,
          39.668835613130746,
          40.212947773948976,
          40.56520645538935,
          40.85249322478306,
          41.21967376962053,
          41.95407269615692,
          43.13782065640334,
          44.7290885478078,
          46.44160166356159,
          48.37235131767125,
          50.174834265218266,
          52.35667138337167,
          54.67909874348484,
          51.37861808288561,
          53.80919416221403,
          55.675806794324586,
          56.83816086648887,
          57.11948704500498,
          57.08402321772088,
          56.84263602891327,
          56.35569062443619,
          55.38366380226226,
          54.655915453710016,
          53.94238893954583,
          53.19633288479138,
          52.362700862268795,
          51.553115106653685,
          50.62001341290453,
          49.516036236192676,
          53.27965645091483,
          51.86289096368414,
          50.10972841359179,
          48.45081498213623,
          48.41110246870935,
          47.94306239486084,
          46.30905083748976,
          44.60570862324874,
          42.825640977890615,
          40.92806567718069,
          39.09668297305263,
          37.62814130403175
         ],
         "yaxis": "y"
        }
       ],
       "layout": {
        "legend": {
         "title": {
          "text": "variable"
         },
         "tracegroupgap": 0
        },
        "margin": {
         "t": 60
        },
        "template": {
         "data": {
          "bar": [
           {
            "error_x": {
             "color": "#2a3f5f"
            },
            "error_y": {
             "color": "#2a3f5f"
            },
            "marker": {
             "line": {
              "color": "#E5ECF6",
              "width": 0.5
             },
             "pattern": {
              "fillmode": "overlay",
              "size": 10,
              "solidity": 0.2
             }
            },
            "type": "bar"
           }
          ],
          "barpolar": [
           {
            "marker": {
             "line": {
              "color": "#E5ECF6",
              "width": 0.5
             },
             "pattern": {
              "fillmode": "overlay",
              "size": 10,
              "solidity": 0.2
             }
            },
            "type": "barpolar"
           }
          ],
          "carpet": [
           {
            "aaxis": {
             "endlinecolor": "#2a3f5f",
             "gridcolor": "white",
             "linecolor": "white",
             "minorgridcolor": "white",
             "startlinecolor": "#2a3f5f"
            },
            "baxis": {
             "endlinecolor": "#2a3f5f",
             "gridcolor": "white",
             "linecolor": "white",
             "minorgridcolor": "white",
             "startlinecolor": "#2a3f5f"
            },
            "type": "carpet"
           }
          ],
          "choropleth": [
           {
            "colorbar": {
             "outlinewidth": 0,
             "ticks": ""
            },
            "type": "choropleth"
           }
          ],
          "contour": [
           {
            "colorbar": {
             "outlinewidth": 0,
             "ticks": ""
            },
            "colorscale": [
             [
              0,
              "#0d0887"
             ],
             [
              0.1111111111111111,
              "#46039f"
             ],
             [
              0.2222222222222222,
              "#7201a8"
             ],
             [
              0.3333333333333333,
              "#9c179e"
             ],
             [
              0.4444444444444444,
              "#bd3786"
             ],
             [
              0.5555555555555556,
              "#d8576b"
             ],
             [
              0.6666666666666666,
              "#ed7953"
             ],
             [
              0.7777777777777778,
              "#fb9f3a"
             ],
             [
              0.8888888888888888,
              "#fdca26"
             ],
             [
              1,
              "#f0f921"
             ]
            ],
            "type": "contour"
           }
          ],
          "contourcarpet": [
           {
            "colorbar": {
             "outlinewidth": 0,
             "ticks": ""
            },
            "type": "contourcarpet"
           }
          ],
          "heatmap": [
           {
            "colorbar": {
             "outlinewidth": 0,
             "ticks": ""
            },
            "colorscale": [
             [
              0,
              "#0d0887"
             ],
             [
              0.1111111111111111,
              "#46039f"
             ],
             [
              0.2222222222222222,
              "#7201a8"
             ],
             [
              0.3333333333333333,
              "#9c179e"
             ],
             [
              0.4444444444444444,
              "#bd3786"
             ],
             [
              0.5555555555555556,
              "#d8576b"
             ],
             [
              0.6666666666666666,
              "#ed7953"
             ],
             [
              0.7777777777777778,
              "#fb9f3a"
             ],
             [
              0.8888888888888888,
              "#fdca26"
             ],
             [
              1,
              "#f0f921"
             ]
            ],
            "type": "heatmap"
           }
          ],
          "heatmapgl": [
           {
            "colorbar": {
             "outlinewidth": 0,
             "ticks": ""
            },
            "colorscale": [
             [
              0,
              "#0d0887"
             ],
             [
              0.1111111111111111,
              "#46039f"
             ],
             [
              0.2222222222222222,
              "#7201a8"
             ],
             [
              0.3333333333333333,
              "#9c179e"
             ],
             [
              0.4444444444444444,
              "#bd3786"
             ],
             [
              0.5555555555555556,
              "#d8576b"
             ],
             [
              0.6666666666666666,
              "#ed7953"
             ],
             [
              0.7777777777777778,
              "#fb9f3a"
             ],
             [
              0.8888888888888888,
              "#fdca26"
             ],
             [
              1,
              "#f0f921"
             ]
            ],
            "type": "heatmapgl"
           }
          ],
          "histogram": [
           {
            "marker": {
             "pattern": {
              "fillmode": "overlay",
              "size": 10,
              "solidity": 0.2
             }
            },
            "type": "histogram"
           }
          ],
          "histogram2d": [
           {
            "colorbar": {
             "outlinewidth": 0,
             "ticks": ""
            },
            "colorscale": [
             [
              0,
              "#0d0887"
             ],
             [
              0.1111111111111111,
              "#46039f"
             ],
             [
              0.2222222222222222,
              "#7201a8"
             ],
             [
              0.3333333333333333,
              "#9c179e"
             ],
             [
              0.4444444444444444,
              "#bd3786"
             ],
             [
              0.5555555555555556,
              "#d8576b"
             ],
             [
              0.6666666666666666,
              "#ed7953"
             ],
             [
              0.7777777777777778,
              "#fb9f3a"
             ],
             [
              0.8888888888888888,
              "#fdca26"
             ],
             [
              1,
              "#f0f921"
             ]
            ],
            "type": "histogram2d"
           }
          ],
          "histogram2dcontour": [
           {
            "colorbar": {
             "outlinewidth": 0,
             "ticks": ""
            },
            "colorscale": [
             [
              0,
              "#0d0887"
             ],
             [
              0.1111111111111111,
              "#46039f"
             ],
             [
              0.2222222222222222,
              "#7201a8"
             ],
             [
              0.3333333333333333,
              "#9c179e"
             ],
             [
              0.4444444444444444,
              "#bd3786"
             ],
             [
              0.5555555555555556,
              "#d8576b"
             ],
             [
              0.6666666666666666,
              "#ed7953"
             ],
             [
              0.7777777777777778,
              "#fb9f3a"
             ],
             [
              0.8888888888888888,
              "#fdca26"
             ],
             [
              1,
              "#f0f921"
             ]
            ],
            "type": "histogram2dcontour"
           }
          ],
          "mesh3d": [
           {
            "colorbar": {
             "outlinewidth": 0,
             "ticks": ""
            },
            "type": "mesh3d"
           }
          ],
          "parcoords": [
           {
            "line": {
             "colorbar": {
              "outlinewidth": 0,
              "ticks": ""
             }
            },
            "type": "parcoords"
           }
          ],
          "pie": [
           {
            "automargin": true,
            "type": "pie"
           }
          ],
          "scatter": [
           {
            "fillpattern": {
             "fillmode": "overlay",
             "size": 10,
             "solidity": 0.2
            },
            "type": "scatter"
           }
          ],
          "scatter3d": [
           {
            "line": {
             "colorbar": {
              "outlinewidth": 0,
              "ticks": ""
             }
            },
            "marker": {
             "colorbar": {
              "outlinewidth": 0,
              "ticks": ""
             }
            },
            "type": "scatter3d"
           }
          ],
          "scattercarpet": [
           {
            "marker": {
             "colorbar": {
              "outlinewidth": 0,
              "ticks": ""
             }
            },
            "type": "scattercarpet"
           }
          ],
          "scattergeo": [
           {
            "marker": {
             "colorbar": {
              "outlinewidth": 0,
              "ticks": ""
             }
            },
            "type": "scattergeo"
           }
          ],
          "scattergl": [
           {
            "marker": {
             "colorbar": {
              "outlinewidth": 0,
              "ticks": ""
             }
            },
            "type": "scattergl"
           }
          ],
          "scattermapbox": [
           {
            "marker": {
             "colorbar": {
              "outlinewidth": 0,
              "ticks": ""
             }
            },
            "type": "scattermapbox"
           }
          ],
          "scatterpolar": [
           {
            "marker": {
             "colorbar": {
              "outlinewidth": 0,
              "ticks": ""
             }
            },
            "type": "scatterpolar"
           }
          ],
          "scatterpolargl": [
           {
            "marker": {
             "colorbar": {
              "outlinewidth": 0,
              "ticks": ""
             }
            },
            "type": "scatterpolargl"
           }
          ],
          "scatterternary": [
           {
            "marker": {
             "colorbar": {
              "outlinewidth": 0,
              "ticks": ""
             }
            },
            "type": "scatterternary"
           }
          ],
          "surface": [
           {
            "colorbar": {
             "outlinewidth": 0,
             "ticks": ""
            },
            "colorscale": [
             [
              0,
              "#0d0887"
             ],
             [
              0.1111111111111111,
              "#46039f"
             ],
             [
              0.2222222222222222,
              "#7201a8"
             ],
             [
              0.3333333333333333,
              "#9c179e"
             ],
             [
              0.4444444444444444,
              "#bd3786"
             ],
             [
              0.5555555555555556,
              "#d8576b"
             ],
             [
              0.6666666666666666,
              "#ed7953"
             ],
             [
              0.7777777777777778,
              "#fb9f3a"
             ],
             [
              0.8888888888888888,
              "#fdca26"
             ],
             [
              1,
              "#f0f921"
             ]
            ],
            "type": "surface"
           }
          ],
          "table": [
           {
            "cells": {
             "fill": {
              "color": "#EBF0F8"
             },
             "line": {
              "color": "white"
             }
            },
            "header": {
             "fill": {
              "color": "#C8D4E3"
             },
             "line": {
              "color": "white"
             }
            },
            "type": "table"
           }
          ]
         },
         "layout": {
          "annotationdefaults": {
           "arrowcolor": "#2a3f5f",
           "arrowhead": 0,
           "arrowwidth": 1
          },
          "autotypenumbers": "strict",
          "coloraxis": {
           "colorbar": {
            "outlinewidth": 0,
            "ticks": ""
           }
          },
          "colorscale": {
           "diverging": [
            [
             0,
             "#8e0152"
            ],
            [
             0.1,
             "#c51b7d"
            ],
            [
             0.2,
             "#de77ae"
            ],
            [
             0.3,
             "#f1b6da"
            ],
            [
             0.4,
             "#fde0ef"
            ],
            [
             0.5,
             "#f7f7f7"
            ],
            [
             0.6,
             "#e6f5d0"
            ],
            [
             0.7,
             "#b8e186"
            ],
            [
             0.8,
             "#7fbc41"
            ],
            [
             0.9,
             "#4d9221"
            ],
            [
             1,
             "#276419"
            ]
           ],
           "sequential": [
            [
             0,
             "#0d0887"
            ],
            [
             0.1111111111111111,
             "#46039f"
            ],
            [
             0.2222222222222222,
             "#7201a8"
            ],
            [
             0.3333333333333333,
             "#9c179e"
            ],
            [
             0.4444444444444444,
             "#bd3786"
            ],
            [
             0.5555555555555556,
             "#d8576b"
            ],
            [
             0.6666666666666666,
             "#ed7953"
            ],
            [
             0.7777777777777778,
             "#fb9f3a"
            ],
            [
             0.8888888888888888,
             "#fdca26"
            ],
            [
             1,
             "#f0f921"
            ]
           ],
           "sequentialminus": [
            [
             0,
             "#0d0887"
            ],
            [
             0.1111111111111111,
             "#46039f"
            ],
            [
             0.2222222222222222,
             "#7201a8"
            ],
            [
             0.3333333333333333,
             "#9c179e"
            ],
            [
             0.4444444444444444,
             "#bd3786"
            ],
            [
             0.5555555555555556,
             "#d8576b"
            ],
            [
             0.6666666666666666,
             "#ed7953"
            ],
            [
             0.7777777777777778,
             "#fb9f3a"
            ],
            [
             0.8888888888888888,
             "#fdca26"
            ],
            [
             1,
             "#f0f921"
            ]
           ]
          },
          "colorway": [
           "#636efa",
           "#EF553B",
           "#00cc96",
           "#ab63fa",
           "#FFA15A",
           "#19d3f3",
           "#FF6692",
           "#B6E880",
           "#FF97FF",
           "#FECB52"
          ],
          "font": {
           "color": "#2a3f5f"
          },
          "geo": {
           "bgcolor": "white",
           "lakecolor": "white",
           "landcolor": "#E5ECF6",
           "showlakes": true,
           "showland": true,
           "subunitcolor": "white"
          },
          "hoverlabel": {
           "align": "left"
          },
          "hovermode": "closest",
          "mapbox": {
           "style": "light"
          },
          "paper_bgcolor": "white",
          "plot_bgcolor": "#E5ECF6",
          "polar": {
           "angularaxis": {
            "gridcolor": "white",
            "linecolor": "white",
            "ticks": ""
           },
           "bgcolor": "#E5ECF6",
           "radialaxis": {
            "gridcolor": "white",
            "linecolor": "white",
            "ticks": ""
           }
          },
          "scene": {
           "xaxis": {
            "backgroundcolor": "#E5ECF6",
            "gridcolor": "white",
            "gridwidth": 2,
            "linecolor": "white",
            "showbackground": true,
            "ticks": "",
            "zerolinecolor": "white"
           },
           "yaxis": {
            "backgroundcolor": "#E5ECF6",
            "gridcolor": "white",
            "gridwidth": 2,
            "linecolor": "white",
            "showbackground": true,
            "ticks": "",
            "zerolinecolor": "white"
           },
           "zaxis": {
            "backgroundcolor": "#E5ECF6",
            "gridcolor": "white",
            "gridwidth": 2,
            "linecolor": "white",
            "showbackground": true,
            "ticks": "",
            "zerolinecolor": "white"
           }
          },
          "shapedefaults": {
           "line": {
            "color": "#2a3f5f"
           }
          },
          "ternary": {
           "aaxis": {
            "gridcolor": "white",
            "linecolor": "white",
            "ticks": ""
           },
           "baxis": {
            "gridcolor": "white",
            "linecolor": "white",
            "ticks": ""
           },
           "bgcolor": "#E5ECF6",
           "caxis": {
            "gridcolor": "white",
            "linecolor": "white",
            "ticks": ""
           }
          },
          "title": {
           "x": 0.05
          },
          "xaxis": {
           "automargin": true,
           "gridcolor": "white",
           "linecolor": "white",
           "ticks": "",
           "title": {
            "standoff": 15
           },
           "zerolinecolor": "white",
           "zerolinewidth": 2
          },
          "yaxis": {
           "automargin": true,
           "gridcolor": "white",
           "linecolor": "white",
           "ticks": "",
           "title": {
            "standoff": 15
           },
           "zerolinecolor": "white",
           "zerolinewidth": 2
          }
         }
        },
        "xaxis": {
         "anchor": "y",
         "domain": [
          0,
          1
         ],
         "title": {
          "text": "index"
         }
        },
        "yaxis": {
         "anchor": "x",
         "domain": [
          0,
          1
         ],
         "range": [
          0,
          58.58312008676819
         ],
         "title": {
          "text": "value"
         }
        }
       }
      }
     },
     "metadata": {},
     "output_type": "display_data"
    }
   ],
   "source": [
    "\n",
    "# future_zs_with_hw.plot()\n",
    "# many_day_df_current.plot()\n",
    "# many_day_df_current.mean(axis=1).plot()\n",
    "# plotting_df_many.plot()\n",
    "fig = go.Figure(plotting_df_many.plot())\n",
    "fig.update_yaxes(range = [0,plotting_df_many.max().max()])\n"
   ]
  },
  {
   "cell_type": "code",
   "execution_count": 61,
   "metadata": {},
   "outputs": [
    {
     "name": "stdout",
     "output_type": "stream",
     "text": [
      "Current total energy delivered =  1018.0  MWh\n",
      "Current substation utilisation =  62.0  %\n",
      "Future total energy delivered =  1067.0  MWh\n",
      "Current substation utilisation =  63.0  %\n",
      "Threshold of 0.9 POE = 68.1 MW\n",
      "Future max peak = 70.0 MW\n",
      "Future HW demand = 107.0 MWh/day\n",
      "Future HW demand = 5.0 kWh/household/day\n",
      "Future HW demand = 1247559.0 MWh for 250,000 households/day\n",
      "Current households = 20.3 k\n",
      "Future households = 21.4 k\n"
     ]
    }
   ],
   "source": [
    "# Utilization\n",
    "total_day_profile = many_day_df_current.mean(axis='columns')\n",
    "total_day_profile_peak = total_day_profile.max()\n",
    "current_tot_energy = total_day_profile.sum()/intervals_per_hour\n",
    "total_day_profile = many_day_df_future.mean(axis='columns')\n",
    "total_day_profile_peak = total_day_profile.max()\n",
    "future_tot_energy = total_day_profile.sum()/intervals_per_hour\n",
    "\n",
    "POE_index = int(POE*nu_days)\n",
    "current_peak_load_day = many_day_df_current.max().idxmax()\n",
    "current_peak_load_MW = many_day_df_current[current_peak_load_day].max()\n",
    "# peak_load_MW = many_day_df_future.max(axis='columns')\n",
    "future_peak_load_day = many_day_df_future.max().idxmax()\n",
    "future_peak_load_MW = many_day_df_future[future_peak_load_day].max()\n",
    "sorted_load_days = many_day_df_future.max().sort_values(ascending=True)\n",
    "\n",
    "high_load_days = sorted_load_days.iloc[POE_index:].index.to_numpy()\n",
    "many_day_df_future[high_load_days].plot()\n",
    "\n",
    "min_threshold_POE = many_day_df_future[high_load_days].max().min()\n",
    "\n",
    "\n",
    "print('Current total energy delivered = ', np.round(current_tot_energy,0), \" MWh\")\n",
    "print('Current substation utilisation = ', np.round(100*current_tot_energy/(current_peak_load_MW*24),0), \" %\")\n",
    "print('Future total energy delivered = ', np.round(future_tot_energy,0), \" MWh\")\n",
    "print('Current substation utilisation = ', np.round(100*future_tot_energy/(future_peak_load_MW*24),0), \" %\")\n",
    "\n",
    "print(f\"Future threshold of {POE} POE = {np.round(min_threshold_POE,1)} MW\")\n",
    "print(f\"Future max peak = {np.round(future_peak_load_MW,1)} MW\")\n",
    "print(f\"Future HW demand = {np.round(future_hw_MWh_total,1)} MWh/day\")\n",
    "print(f\"Future HW demand = {np.round((future_hw_MWh_total/future_households)*1000,1)} kWh/household/day\")\n",
    "print(f\"Future HW demand = {np.round((future_hw_MWh_total/future_households)*250000*1000,1)} MWh for 250,000 households/day\")\n",
    "print(f\"Current households = {np.round((current_households)/1000,1)} k\")\n",
    "print(f\"Future households = {np.round((future_households)/1000,1)} k\")"
   ]
  },
  {
   "cell_type": "code",
   "execution_count": 59,
   "metadata": {},
   "outputs": [
    {
     "data": {
      "text/plain": [
       "np.float64(128.03377929073554)"
      ]
     },
     "execution_count": 59,
     "metadata": {},
     "output_type": "execute_result"
    }
   ],
   "source": [
    "future_tot_energy"
   ]
  },
  {
   "cell_type": "code",
   "execution_count": null,
   "metadata": {},
   "outputs": [
    {
     "data": {
      "text/plain": [
       "np.float64(21437.57213664058)"
      ]
     },
     "execution_count": 8,
     "metadata": {},
     "output_type": "execute_result"
    }
   ],
   "source": [
    "future_households"
   ]
  },
  {
   "cell_type": "code",
   "execution_count": null,
   "metadata": {},
   "outputs": [
    {
     "data": {
      "application/vnd.plotly.v1+json": {
       "config": {
        "plotlyServerURL": "https://plot.ly"
       },
       "data": [
        {
         "hovertemplate": "variable=0<br>index=%{x}<br>value=%{y}<extra></extra>",
         "legendgroup": "0",
         "line": {
          "color": "#636efa",
          "dash": "solid"
         },
         "marker": {
          "symbol": "circle"
         },
         "mode": "lines",
         "name": "0",
         "orientation": "v",
         "showlegend": true,
         "type": "scatter",
         "x": [
          "00:00:00",
          "00:15:00",
          "00:30:00",
          "00:45:00",
          "01:00:00",
          "01:15:00",
          "01:30:00",
          "01:45:00",
          "02:00:00",
          "02:15:00",
          "02:30:00",
          "02:45:00",
          "03:00:00",
          "03:15:00",
          "03:30:00",
          "03:45:00",
          "04:00:00",
          "04:15:00",
          "04:30:00",
          "04:45:00",
          "05:00:00",
          "05:15:00",
          "05:30:00",
          "05:45:00",
          "06:00:00",
          "06:15:00",
          "06:30:00",
          "06:45:00",
          "07:00:00",
          "07:15:00",
          "07:30:00",
          "07:45:00",
          "08:00:00",
          "08:15:00",
          "08:30:00",
          "08:45:00",
          "09:00:00",
          "09:15:00",
          "09:30:00",
          "09:45:00",
          "10:00:00",
          "10:15:00",
          "10:30:00",
          "10:45:00",
          "11:00:00",
          "11:15:00",
          "11:30:00",
          "11:45:00",
          "12:00:00",
          "12:15:00",
          "12:30:00",
          "12:45:00",
          "13:00:00",
          "13:15:00",
          "13:30:00",
          "13:45:00",
          "14:00:00",
          "14:15:00",
          "14:30:00",
          "14:45:00",
          "15:00:00",
          "15:15:00",
          "15:30:00",
          "15:45:00",
          "16:00:00",
          "16:15:00",
          "16:30:00",
          "16:45:00",
          "17:00:00",
          "17:15:00",
          "17:30:00",
          "17:45:00",
          "18:00:00",
          "18:15:00",
          "18:30:00",
          "18:45:00",
          "19:00:00",
          "19:15:00",
          "19:30:00",
          "19:45:00",
          "20:00:00",
          "20:15:00",
          "20:30:00",
          "20:45:00",
          "21:00:00",
          "21:15:00",
          "21:30:00",
          "21:45:00",
          "22:00:00",
          "22:15:00",
          "22:30:00",
          "22:45:00",
          "23:00:00",
          "23:15:00",
          "23:30:00",
          "23:45:00"
         ],
         "xaxis": "x",
         "y": [
          6.982843757722024,
          6.750528310505847,
          6.553531205673195,
          6.403676333550669,
          6.287594594914628,
          6.174027973280474,
          6.079556152619648,
          6.013140998251966,
          5.985243374554593,
          5.943916501037143,
          5.9166732725776825,
          5.899528174951415,
          5.917675741993481,
          5.925227028362606,
          5.947818305249738,
          5.974176400799936,
          6.085142558789602,
          6.165557857114574,
          6.276397717269559,
          6.420256507364397,
          6.759343602576855,
          6.998495129573518,
          7.324314431983087,
          7.679373117729215,
          8.30660167377362,
          8.771501145220766,
          9.196989969733083,
          9.562194511937356,
          10.031231916828641,
          10.372784518164973,
          10.531636758710711,
          10.530024592005573,
          10.445512175477727,
          10.248917562890918,
          9.952706052505976,
          9.624198953181528,
          12.547844643582783,
          12.301000368068294,
          12.019282213945422,
          11.763980497570833,
          11.842945617943709,
          11.582382875462297,
          11.269476778405666,
          10.9245971517981,
          10.682369985506892,
          10.544044293629241,
          10.3347919277381,
          10.2045283205872,
          10.244438624502983,
          10.203038805564725,
          10.104386422128831,
          10.044951189535631,
          10.060369962683092,
          10.093775695280556,
          10.130102213291103,
          10.179525499821693,
          10.26784813597244,
          10.417445453708496,
          10.603278493867926,
          10.785271124679946,
          10.998579505583999,
          11.266157688048906,
          11.595004149701607,
          11.977047607931908,
          12.384324690156754,
          12.787617888325585,
          13.225243773800502,
          13.679525863185571,
          10.944495204387302,
          11.387677781129875,
          11.799703201486025,
          12.124243065786589,
          12.252221028626769,
          12.310326947648768,
          12.293768148452385,
          12.196167642475295,
          11.993092366742383,
          11.8185411494798,
          11.660743555090859,
          11.49317846087691,
          11.279394348366575,
          11.06435904218123,
          10.828128790054796,
          10.582456389752442,
          10.27683703401662,
          9.981900505018844,
          9.62933895833079,
          9.294208138033282,
          9.4696910658866,
          9.425220581861689,
          9.114319458212735,
          8.76756879546652,
          8.391759274518746,
          7.967025117463269,
          7.579425729709226,
          7.26117997049008
         ],
         "yaxis": "y"
        }
       ],
       "layout": {
        "legend": {
         "title": {
          "text": "variable"
         },
         "tracegroupgap": 0
        },
        "margin": {
         "t": 60
        },
        "template": {
         "data": {
          "bar": [
           {
            "error_x": {
             "color": "#2a3f5f"
            },
            "error_y": {
             "color": "#2a3f5f"
            },
            "marker": {
             "line": {
              "color": "#E5ECF6",
              "width": 0.5
             },
             "pattern": {
              "fillmode": "overlay",
              "size": 10,
              "solidity": 0.2
             }
            },
            "type": "bar"
           }
          ],
          "barpolar": [
           {
            "marker": {
             "line": {
              "color": "#E5ECF6",
              "width": 0.5
             },
             "pattern": {
              "fillmode": "overlay",
              "size": 10,
              "solidity": 0.2
             }
            },
            "type": "barpolar"
           }
          ],
          "carpet": [
           {
            "aaxis": {
             "endlinecolor": "#2a3f5f",
             "gridcolor": "white",
             "linecolor": "white",
             "minorgridcolor": "white",
             "startlinecolor": "#2a3f5f"
            },
            "baxis": {
             "endlinecolor": "#2a3f5f",
             "gridcolor": "white",
             "linecolor": "white",
             "minorgridcolor": "white",
             "startlinecolor": "#2a3f5f"
            },
            "type": "carpet"
           }
          ],
          "choropleth": [
           {
            "colorbar": {
             "outlinewidth": 0,
             "ticks": ""
            },
            "type": "choropleth"
           }
          ],
          "contour": [
           {
            "colorbar": {
             "outlinewidth": 0,
             "ticks": ""
            },
            "colorscale": [
             [
              0,
              "#0d0887"
             ],
             [
              0.1111111111111111,
              "#46039f"
             ],
             [
              0.2222222222222222,
              "#7201a8"
             ],
             [
              0.3333333333333333,
              "#9c179e"
             ],
             [
              0.4444444444444444,
              "#bd3786"
             ],
             [
              0.5555555555555556,
              "#d8576b"
             ],
             [
              0.6666666666666666,
              "#ed7953"
             ],
             [
              0.7777777777777778,
              "#fb9f3a"
             ],
             [
              0.8888888888888888,
              "#fdca26"
             ],
             [
              1,
              "#f0f921"
             ]
            ],
            "type": "contour"
           }
          ],
          "contourcarpet": [
           {
            "colorbar": {
             "outlinewidth": 0,
             "ticks": ""
            },
            "type": "contourcarpet"
           }
          ],
          "heatmap": [
           {
            "colorbar": {
             "outlinewidth": 0,
             "ticks": ""
            },
            "colorscale": [
             [
              0,
              "#0d0887"
             ],
             [
              0.1111111111111111,
              "#46039f"
             ],
             [
              0.2222222222222222,
              "#7201a8"
             ],
             [
              0.3333333333333333,
              "#9c179e"
             ],
             [
              0.4444444444444444,
              "#bd3786"
             ],
             [
              0.5555555555555556,
              "#d8576b"
             ],
             [
              0.6666666666666666,
              "#ed7953"
             ],
             [
              0.7777777777777778,
              "#fb9f3a"
             ],
             [
              0.8888888888888888,
              "#fdca26"
             ],
             [
              1,
              "#f0f921"
             ]
            ],
            "type": "heatmap"
           }
          ],
          "heatmapgl": [
           {
            "colorbar": {
             "outlinewidth": 0,
             "ticks": ""
            },
            "colorscale": [
             [
              0,
              "#0d0887"
             ],
             [
              0.1111111111111111,
              "#46039f"
             ],
             [
              0.2222222222222222,
              "#7201a8"
             ],
             [
              0.3333333333333333,
              "#9c179e"
             ],
             [
              0.4444444444444444,
              "#bd3786"
             ],
             [
              0.5555555555555556,
              "#d8576b"
             ],
             [
              0.6666666666666666,
              "#ed7953"
             ],
             [
              0.7777777777777778,
              "#fb9f3a"
             ],
             [
              0.8888888888888888,
              "#fdca26"
             ],
             [
              1,
              "#f0f921"
             ]
            ],
            "type": "heatmapgl"
           }
          ],
          "histogram": [
           {
            "marker": {
             "pattern": {
              "fillmode": "overlay",
              "size": 10,
              "solidity": 0.2
             }
            },
            "type": "histogram"
           }
          ],
          "histogram2d": [
           {
            "colorbar": {
             "outlinewidth": 0,
             "ticks": ""
            },
            "colorscale": [
             [
              0,
              "#0d0887"
             ],
             [
              0.1111111111111111,
              "#46039f"
             ],
             [
              0.2222222222222222,
              "#7201a8"
             ],
             [
              0.3333333333333333,
              "#9c179e"
             ],
             [
              0.4444444444444444,
              "#bd3786"
             ],
             [
              0.5555555555555556,
              "#d8576b"
             ],
             [
              0.6666666666666666,
              "#ed7953"
             ],
             [
              0.7777777777777778,
              "#fb9f3a"
             ],
             [
              0.8888888888888888,
              "#fdca26"
             ],
             [
              1,
              "#f0f921"
             ]
            ],
            "type": "histogram2d"
           }
          ],
          "histogram2dcontour": [
           {
            "colorbar": {
             "outlinewidth": 0,
             "ticks": ""
            },
            "colorscale": [
             [
              0,
              "#0d0887"
             ],
             [
              0.1111111111111111,
              "#46039f"
             ],
             [
              0.2222222222222222,
              "#7201a8"
             ],
             [
              0.3333333333333333,
              "#9c179e"
             ],
             [
              0.4444444444444444,
              "#bd3786"
             ],
             [
              0.5555555555555556,
              "#d8576b"
             ],
             [
              0.6666666666666666,
              "#ed7953"
             ],
             [
              0.7777777777777778,
              "#fb9f3a"
             ],
             [
              0.8888888888888888,
              "#fdca26"
             ],
             [
              1,
              "#f0f921"
             ]
            ],
            "type": "histogram2dcontour"
           }
          ],
          "mesh3d": [
           {
            "colorbar": {
             "outlinewidth": 0,
             "ticks": ""
            },
            "type": "mesh3d"
           }
          ],
          "parcoords": [
           {
            "line": {
             "colorbar": {
              "outlinewidth": 0,
              "ticks": ""
             }
            },
            "type": "parcoords"
           }
          ],
          "pie": [
           {
            "automargin": true,
            "type": "pie"
           }
          ],
          "scatter": [
           {
            "fillpattern": {
             "fillmode": "overlay",
             "size": 10,
             "solidity": 0.2
            },
            "type": "scatter"
           }
          ],
          "scatter3d": [
           {
            "line": {
             "colorbar": {
              "outlinewidth": 0,
              "ticks": ""
             }
            },
            "marker": {
             "colorbar": {
              "outlinewidth": 0,
              "ticks": ""
             }
            },
            "type": "scatter3d"
           }
          ],
          "scattercarpet": [
           {
            "marker": {
             "colorbar": {
              "outlinewidth": 0,
              "ticks": ""
             }
            },
            "type": "scattercarpet"
           }
          ],
          "scattergeo": [
           {
            "marker": {
             "colorbar": {
              "outlinewidth": 0,
              "ticks": ""
             }
            },
            "type": "scattergeo"
           }
          ],
          "scattergl": [
           {
            "marker": {
             "colorbar": {
              "outlinewidth": 0,
              "ticks": ""
             }
            },
            "type": "scattergl"
           }
          ],
          "scattermapbox": [
           {
            "marker": {
             "colorbar": {
              "outlinewidth": 0,
              "ticks": ""
             }
            },
            "type": "scattermapbox"
           }
          ],
          "scatterpolar": [
           {
            "marker": {
             "colorbar": {
              "outlinewidth": 0,
              "ticks": ""
             }
            },
            "type": "scatterpolar"
           }
          ],
          "scatterpolargl": [
           {
            "marker": {
             "colorbar": {
              "outlinewidth": 0,
              "ticks": ""
             }
            },
            "type": "scatterpolargl"
           }
          ],
          "scatterternary": [
           {
            "marker": {
             "colorbar": {
              "outlinewidth": 0,
              "ticks": ""
             }
            },
            "type": "scatterternary"
           }
          ],
          "surface": [
           {
            "colorbar": {
             "outlinewidth": 0,
             "ticks": ""
            },
            "colorscale": [
             [
              0,
              "#0d0887"
             ],
             [
              0.1111111111111111,
              "#46039f"
             ],
             [
              0.2222222222222222,
              "#7201a8"
             ],
             [
              0.3333333333333333,
              "#9c179e"
             ],
             [
              0.4444444444444444,
              "#bd3786"
             ],
             [
              0.5555555555555556,
              "#d8576b"
             ],
             [
              0.6666666666666666,
              "#ed7953"
             ],
             [
              0.7777777777777778,
              "#fb9f3a"
             ],
             [
              0.8888888888888888,
              "#fdca26"
             ],
             [
              1,
              "#f0f921"
             ]
            ],
            "type": "surface"
           }
          ],
          "table": [
           {
            "cells": {
             "fill": {
              "color": "#EBF0F8"
             },
             "line": {
              "color": "white"
             }
            },
            "header": {
             "fill": {
              "color": "#C8D4E3"
             },
             "line": {
              "color": "white"
             }
            },
            "type": "table"
           }
          ]
         },
         "layout": {
          "annotationdefaults": {
           "arrowcolor": "#2a3f5f",
           "arrowhead": 0,
           "arrowwidth": 1
          },
          "autotypenumbers": "strict",
          "coloraxis": {
           "colorbar": {
            "outlinewidth": 0,
            "ticks": ""
           }
          },
          "colorscale": {
           "diverging": [
            [
             0,
             "#8e0152"
            ],
            [
             0.1,
             "#c51b7d"
            ],
            [
             0.2,
             "#de77ae"
            ],
            [
             0.3,
             "#f1b6da"
            ],
            [
             0.4,
             "#fde0ef"
            ],
            [
             0.5,
             "#f7f7f7"
            ],
            [
             0.6,
             "#e6f5d0"
            ],
            [
             0.7,
             "#b8e186"
            ],
            [
             0.8,
             "#7fbc41"
            ],
            [
             0.9,
             "#4d9221"
            ],
            [
             1,
             "#276419"
            ]
           ],
           "sequential": [
            [
             0,
             "#0d0887"
            ],
            [
             0.1111111111111111,
             "#46039f"
            ],
            [
             0.2222222222222222,
             "#7201a8"
            ],
            [
             0.3333333333333333,
             "#9c179e"
            ],
            [
             0.4444444444444444,
             "#bd3786"
            ],
            [
             0.5555555555555556,
             "#d8576b"
            ],
            [
             0.6666666666666666,
             "#ed7953"
            ],
            [
             0.7777777777777778,
             "#fb9f3a"
            ],
            [
             0.8888888888888888,
             "#fdca26"
            ],
            [
             1,
             "#f0f921"
            ]
           ],
           "sequentialminus": [
            [
             0,
             "#0d0887"
            ],
            [
             0.1111111111111111,
             "#46039f"
            ],
            [
             0.2222222222222222,
             "#7201a8"
            ],
            [
             0.3333333333333333,
             "#9c179e"
            ],
            [
             0.4444444444444444,
             "#bd3786"
            ],
            [
             0.5555555555555556,
             "#d8576b"
            ],
            [
             0.6666666666666666,
             "#ed7953"
            ],
            [
             0.7777777777777778,
             "#fb9f3a"
            ],
            [
             0.8888888888888888,
             "#fdca26"
            ],
            [
             1,
             "#f0f921"
            ]
           ]
          },
          "colorway": [
           "#636efa",
           "#EF553B",
           "#00cc96",
           "#ab63fa",
           "#FFA15A",
           "#19d3f3",
           "#FF6692",
           "#B6E880",
           "#FF97FF",
           "#FECB52"
          ],
          "font": {
           "color": "#2a3f5f"
          },
          "geo": {
           "bgcolor": "white",
           "lakecolor": "white",
           "landcolor": "#E5ECF6",
           "showlakes": true,
           "showland": true,
           "subunitcolor": "white"
          },
          "hoverlabel": {
           "align": "left"
          },
          "hovermode": "closest",
          "mapbox": {
           "style": "light"
          },
          "paper_bgcolor": "white",
          "plot_bgcolor": "#E5ECF6",
          "polar": {
           "angularaxis": {
            "gridcolor": "white",
            "linecolor": "white",
            "ticks": ""
           },
           "bgcolor": "#E5ECF6",
           "radialaxis": {
            "gridcolor": "white",
            "linecolor": "white",
            "ticks": ""
           }
          },
          "scene": {
           "xaxis": {
            "backgroundcolor": "#E5ECF6",
            "gridcolor": "white",
            "gridwidth": 2,
            "linecolor": "white",
            "showbackground": true,
            "ticks": "",
            "zerolinecolor": "white"
           },
           "yaxis": {
            "backgroundcolor": "#E5ECF6",
            "gridcolor": "white",
            "gridwidth": 2,
            "linecolor": "white",
            "showbackground": true,
            "ticks": "",
            "zerolinecolor": "white"
           },
           "zaxis": {
            "backgroundcolor": "#E5ECF6",
            "gridcolor": "white",
            "gridwidth": 2,
            "linecolor": "white",
            "showbackground": true,
            "ticks": "",
            "zerolinecolor": "white"
           }
          },
          "shapedefaults": {
           "line": {
            "color": "#2a3f5f"
           }
          },
          "ternary": {
           "aaxis": {
            "gridcolor": "white",
            "linecolor": "white",
            "ticks": ""
           },
           "baxis": {
            "gridcolor": "white",
            "linecolor": "white",
            "ticks": ""
           },
           "bgcolor": "#E5ECF6",
           "caxis": {
            "gridcolor": "white",
            "linecolor": "white",
            "ticks": ""
           }
          },
          "title": {
           "x": 0.05
          },
          "xaxis": {
           "automargin": true,
           "gridcolor": "white",
           "linecolor": "white",
           "ticks": "",
           "title": {
            "standoff": 15
           },
           "zerolinecolor": "white",
           "zerolinewidth": 2
          },
          "yaxis": {
           "automargin": true,
           "gridcolor": "white",
           "linecolor": "white",
           "ticks": "",
           "title": {
            "standoff": 15
           },
           "zerolinecolor": "white",
           "zerolinewidth": 2
          }
         }
        },
        "xaxis": {
         "anchor": "y",
         "domain": [
          0,
          1
         ],
         "title": {
          "text": "index"
         }
        },
        "yaxis": {
         "anchor": "x",
         "domain": [
          0,
          1
         ],
         "range": [
          0,
          13.679525863185571
         ],
         "title": {
          "text": "value"
         }
        }
       }
      }
     },
     "metadata": {},
     "output_type": "display_data"
    }
   ],
   "source": [
    "\n",
    "# fig = make_subplots(rows=1, cols=1)#,specs=[[{\"secondary_y\": True}]])\n",
    "fig = go.Figure(total_day_profile.plot())\n",
    "fig.update_yaxes(range = [0,total_day_profile_peak])"
   ]
  },
  {
   "cell_type": "code",
   "execution_count": null,
   "metadata": {},
   "outputs": [],
   "source": []
  }
 ],
 "metadata": {
  "kernelspec": {
   "display_name": "venv",
   "language": "python",
   "name": "python3"
  },
  "language_info": {
   "codemirror_mode": {
    "name": "ipython",
    "version": 3
   },
   "file_extension": ".py",
   "mimetype": "text/x-python",
   "name": "python",
   "nbconvert_exporter": "python",
   "pygments_lexer": "ipython3",
   "version": "3.10.12"
  }
 },
 "nbformat": 4,
 "nbformat_minor": 2
}
