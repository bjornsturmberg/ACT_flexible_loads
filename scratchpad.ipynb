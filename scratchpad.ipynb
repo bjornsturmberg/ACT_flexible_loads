{
 "cells": [
  {
   "cell_type": "code",
   "execution_count": 1,
   "metadata": {},
   "outputs": [],
   "source": [
    "import numpy as np\n",
    "import pandas as pd\n",
    "\n",
    "import plotly.graph_objects as go\n",
    "import plotly.express as px\n",
    "from datetime import datetime\n",
    "from plotly.subplots import make_subplots\n",
    "pd.options.plotting.backend = \"plotly\""
   ]
  },
  {
   "cell_type": "code",
   "execution_count": 161,
   "metadata": {},
   "outputs": [],
   "source": [
    "zs_df, intervals_per_hour = zs_data(\"2022-1-1 00:00\", \"2022-12-31 23:45\",\n",
    "    src = \"data/evoenergy-zone-substation-report-2021-23.csv\")\n",
    "\n",
    "pop_SA3_df = pd.read_csv('data/SA3_population.csv', index_col=0)\n",
    "pop_SA2_df = pd.read_csv('data/SA2_population.csv', index_col=0)\n",
    "evo_cust_df = pd.read_csv('data/evo_customers.csv', index_col=0)\n",
    "\n",
    "# http://www.bom.gov.au/climate/averages/tables/cw_070282.shtml\n",
    "mean_3pm_temps = [26.9,26.4,23.5,19.1,14.9,11.4,10.6,12.6,15.1,18.3,22.0,24.8,18.8]\n",
    "mean_temps_Bin = [20.495001,20.325001,17.85,13.48,9.469999,6.67,5.585,7.105,9.710001,12.985,15.895,18.775]"
   ]
  },
  {
   "cell_type": "code",
   "execution_count": 138,
   "metadata": {},
   "outputs": [],
   "source": [
    "def zs_data(start: str, end: str, src: str) -> pd.DataFrame:\n",
    "    \"\"\"Get data from \"\"\"\n",
    "    data_df = pd.read_csv(src, index_col=0)#, parse_dates=[\"Time\"])\n",
    "\n",
    "    freq='15min'\n",
    "    intervals_per_hour = 4\n",
    "\n",
    "    # temp bandaid to deal with substation data\n",
    "    # data_df.index = pd.to_datetime(data_df.index, utc=True)#, format='mixed')\n",
    "\n",
    "    # NOTE timestamps indicate start of an interval\n",
    "    # Starting with 15 min data we'll set the time index to start at the beninning of this \n",
    "    # period and then trim off the first 5 min after ffill()\n",
    "    tmp = pd.date_range(start=pd.to_datetime(\"2021-7-1 00:00\").tz_localize(\"UTC\"), \n",
    "                        end=pd.to_datetime(\"2023-06-30 23:45\").tz_localize(\"UTC\"), \n",
    "                        freq=freq)\n",
    "    data_df.index = tmp\n",
    "\n",
    "    # data_df = data_df.resample(\"5min\").ffill()#.reset_index()\n",
    "\n",
    "    # data_df.rename(columns={data_df.columns[0]: \"network_load\"}, inplace=True)\n",
    "\n",
    "    new_df = data_df.loc[start:end]#[1:]\n",
    "\n",
    "    # new_df.reset_index(inplace=True)\n",
    "\n",
    "    # temp bandaid to deal with substation data\n",
    "    # new_df = new_df.rename(columns={data_df.index.name:'settlementdate'})\n",
    "    # new_df = new_df.rename(columns={'index':'settlementdate'})\n",
    "    return new_df, intervals_per_hour"
   ]
  },
  {
   "cell_type": "code",
   "execution_count": 186,
   "metadata": {},
   "outputs": [],
   "source": [
    "def forecast(evo_region, nu_days, start_day, zs_df, timed_hw_start, timed_hw_end,\n",
    "             current_households, future_households, mean_temps, #resist_kWh_per_household,\n",
    "             current_frac_gas, future_frac_gas, current_frac_heatpumps, future_frac_heatpumps,\n",
    "             intervals_per_hour):\n",
    "    current_frac_elec = 1 - current_frac_gas\n",
    "    future_frac_elec = 1 - future_frac_gas\n",
    "    current_frac_resist = 1 - current_frac_heatpumps\n",
    "    future_frac_resist = 1 - future_frac_heatpumps\n",
    "\n",
    "    date_dict = {}\n",
    "    for i_d, day in enumerate(range(start_day,nu_days)):\n",
    "        current_day_zs_df = zs_df[evo_region][zs_df.index.dayofyear == day+1]\n",
    "        current_day_zs_df.rename('Current', inplace=True)\n",
    "        # current_day_zs_df.index = current_day_zs_df.index.strftime('%H:%M')\n",
    "        # current_day_zs_df.index = current_day_zs_df.index.time\n",
    "        # time_interval = current_day_zs_df.index[1] - current_day_zs_df.index[0]\n",
    "        # print(current_day_zs_df)\n",
    "        # print(repr(current_day_zs_df.index))\n",
    "\n",
    "        date_dict[day] = current_day_zs_df.index[0].date()\n",
    "        month = current_day_zs_df.index[0].month\n",
    "        temp = mean_temps[month-1]\n",
    "\n",
    "        current_gas_users = current_frac_gas*current_households\n",
    "        future_elec_users = future_households*future_frac_elec\n",
    "        \n",
    "        pop_growth_factor = (future_households)/(current_households)\n",
    "        \n",
    "        # heating energy demand as function of temperature per household\n",
    "        CBR_factor = 1.266\n",
    "        hw_kWh_household_per_day = (10.295 - 0.2816*temp)*CBR_factor\n",
    "        # Heat pump coefficient of performance as function of temperature\n",
    "        heatpump_CoP = 2.9664 + 0.0703*temp\n",
    "\n",
    "        current_hw_MWh_per_day = current_frac_elec*current_households \\\n",
    "            *(current_frac_resist*hw_kWh_household_per_day + current_frac_heatpumps*hw_kWh_household_per_day/heatpump_CoP)/1000\n",
    "        current_hw_MW = current_hw_MWh_per_day/24\n",
    "            \n",
    "        curent_day_zs_sans_hw = current_day_zs_df - current_hw_MW\n",
    "        curent_day_zs_sans_hw.rename('Current w/o hot water', inplace=True)\n",
    "\n",
    "        future_zs = current_day_zs_df*pop_growth_factor\n",
    "        future_zs_sans_hw = curent_day_zs_sans_hw*pop_growth_factor\n",
    "        \n",
    "        future_hw_resist_kWh = future_elec_users*future_frac_resist*hw_kWh_household_per_day\n",
    "        future_hw_heatpump_kWh = future_elec_users*future_frac_resist*hw_kWh_household_per_day/heatpump_CoP\n",
    "        future_hw_MWh_total = (future_hw_heatpump_kWh + future_hw_resist_kWh)/1000\n",
    "\n",
    "\n",
    "        time_mask = (current_day_zs_df.index.hour >= timed_hw_start) & \\\n",
    "                (current_day_zs_df.index.hour < timed_hw_end)\n",
    "        timed_hw_df = pd.Series(index=current_day_zs_df.index, data = 0)\n",
    "        # timed_hw_df[timed_hw_df.index.hour > timed_hw_start & timed_hw_df.index.hour < timed_hw_end] == 1\n",
    "        # print(timed_hw_df.between_time(timed_hw_start,timed_hw_end))\n",
    "        timed_hw_df[time_mask] = 1\n",
    "        future_hw_MW = future_hw_MWh_total / (np.sum(timed_hw_df)/intervals_per_hour)\n",
    "        timed_hw_df = timed_hw_df*future_hw_MW\n",
    "        # print(timed_hw_df)\n",
    "\n",
    "        future_zs_with_hw = future_zs_sans_hw + timed_hw_df\n",
    "        future_zs_with_hw.rename('Future', inplace=True)\n",
    "\n",
    "        # print(future_zs_with_hw)\n",
    "\n",
    "        plotting_df = pd.concat([current_day_zs_df, curent_day_zs_sans_hw, future_zs_with_hw],axis=1)\n",
    "\n",
    "        current_day_zs_df.index = current_day_zs_df.index.time\n",
    "        curent_day_zs_sans_hw.index = current_day_zs_df.index\n",
    "        future_zs_with_hw.index = current_day_zs_df.index\n",
    "\n",
    "        if i_d == 0:\n",
    "            many_day_df_current = current_day_zs_df.rename(date_dict[day], inplace=True).to_frame()\n",
    "            many_day_df_current_sans = curent_day_zs_sans_hw.rename(date_dict[day], inplace=True).to_frame()\n",
    "            many_day_df_future = future_zs_with_hw.rename(date_dict[day], inplace=True).to_frame()\n",
    "        else:\n",
    "            many_day_df_current = many_day_df_current.join(current_day_zs_df.rename(date_dict[day]))\n",
    "            many_day_df_current_sans = many_day_df_current_sans.join(curent_day_zs_sans_hw.rename(date_dict[day]))\n",
    "            many_day_df_future = many_day_df_future.join(future_zs_with_hw.rename(date_dict[day]))\n",
    "\n",
    "    plotting_df_many = pd.concat([many_day_df_current.mean(axis=1), many_day_df_current_sans.mean(axis=1), many_day_df_future.mean(axis=1)],axis=1)\n",
    "    plotting_df_many.columns = ['Current','Current w/o hot water','Future']\n",
    "\n",
    "    return many_day_df_current, many_day_df_current_sans, many_day_df_future, plotting_df_many, plotting_df"
   ]
  },
  {
   "cell_type": "code",
   "execution_count": 190,
   "metadata": {},
   "outputs": [
    {
     "name": "stdout",
     "output_type": "stream",
     "text": [
      "2.728738059067384\n"
     ]
    }
   ],
   "source": [
    "\n",
    "\n",
    "POE = 0.9\n",
    "nu_days = 300\n",
    "start_day = 0#5*30\n",
    "\n",
    "timed_hw_start = 9\n",
    "timed_hw_end = 17\n",
    "# resist_kWh_per_household = 8.1\n",
    "current_frac_gas = 0.45\n",
    "future_frac_gas = 0.0\n",
    "current_frac_heatpumps = 0.1\n",
    "future_frac_heatpumps = 0.75\n",
    "\n",
    "# pop_level = 3\n",
    "# pop_region = 'Gungahlin'\n",
    "# evo_region = 'Gold Creek'\n",
    "\n",
    "pop_level = 2\n",
    "pop_region = 'Total - Belconnen'\n",
    "evo_region = 'Belconnen'\n",
    "\n",
    "current_households = evo_cust_df.loc[evo_region,\"Evo resi customers\"]\n",
    "\n",
    "if pop_level == 2:\n",
    "    current_pop = pop_SA2_df.loc[pop_region,'2022']\n",
    "    pop_per_household = current_pop/current_households\n",
    "    # print(pop_per_household)\n",
    "    future_households = pop_SA2_df.loc[pop_region,'2045']/pop_per_household\n",
    "# elif pop_level == 3:\n",
    "#     current_households = pop_SA3_df.loc[pop_region,'2022']/pop_per_household\n",
    "#     future_households = pop_SA3_df.loc[pop_region,'2045']/pop_per_household\n",
    "\n",
    "\n",
    "\n",
    "# mean_temps = mean_3pm_temps\n",
    "mean_temps = mean_temps_Bin\n",
    "\n",
    "\n",
    "many_day_df_current, many_day_df_current_sans, many_day_df_future, plotting_df_many, \\\n",
    "      plotting_df = forecast(evo_region, nu_days, start_day, zs_df, timed_hw_start, timed_hw_end,\n",
    "             current_households, future_households, mean_temps, #resist_kWh_per_household,\n",
    "             current_frac_gas, future_frac_gas, current_frac_heatpumps, future_frac_heatpumps,\n",
    "             intervals_per_hour)\n"
   ]
  },
  {
   "cell_type": "code",
   "execution_count": 191,
   "metadata": {},
   "outputs": [
    {
     "data": {
      "application/vnd.plotly.v1+json": {
       "config": {
        "plotlyServerURL": "https://plot.ly"
       },
       "data": [
        {
         "hovertemplate": "variable=Current<br>index=%{x}<br>value=%{y}<extra></extra>",
         "legendgroup": "Current",
         "line": {
          "color": "#636efa",
          "dash": "solid"
         },
         "marker": {
          "symbol": "circle"
         },
         "mode": "lines",
         "name": "Current",
         "orientation": "v",
         "showlegend": true,
         "type": "scatter",
         "x": [
          "00:00:00",
          "00:15:00",
          "00:30:00",
          "00:45:00",
          "01:00:00",
          "01:15:00",
          "01:30:00",
          "01:45:00",
          "02:00:00",
          "02:15:00",
          "02:30:00",
          "02:45:00",
          "03:00:00",
          "03:15:00",
          "03:30:00",
          "03:45:00",
          "04:00:00",
          "04:15:00",
          "04:30:00",
          "04:45:00",
          "05:00:00",
          "05:15:00",
          "05:30:00",
          "05:45:00",
          "06:00:00",
          "06:15:00",
          "06:30:00",
          "06:45:00",
          "07:00:00",
          "07:15:00",
          "07:30:00",
          "07:45:00",
          "08:00:00",
          "08:15:00",
          "08:30:00",
          "08:45:00",
          "09:00:00",
          "09:15:00",
          "09:30:00",
          "09:45:00",
          "10:00:00",
          "10:15:00",
          "10:30:00",
          "10:45:00",
          "11:00:00",
          "11:15:00",
          "11:30:00",
          "11:45:00",
          "12:00:00",
          "12:15:00",
          "12:30:00",
          "12:45:00",
          "13:00:00",
          "13:15:00",
          "13:30:00",
          "13:45:00",
          "14:00:00",
          "14:15:00",
          "14:30:00",
          "14:45:00",
          "15:00:00",
          "15:15:00",
          "15:30:00",
          "15:45:00",
          "16:00:00",
          "16:15:00",
          "16:30:00",
          "16:45:00",
          "17:00:00",
          "17:15:00",
          "17:30:00",
          "17:45:00",
          "18:00:00",
          "18:15:00",
          "18:30:00",
          "18:45:00",
          "19:00:00",
          "19:15:00",
          "19:30:00",
          "19:45:00",
          "20:00:00",
          "20:15:00",
          "20:30:00",
          "20:45:00",
          "21:00:00",
          "21:15:00",
          "21:30:00",
          "21:45:00",
          "22:00:00",
          "22:15:00",
          "22:30:00",
          "22:45:00",
          "23:00:00",
          "23:15:00",
          "23:30:00",
          "23:45:00"
         ],
         "xaxis": "x",
         "y": [
          24.381233333333338,
          23.71966666666666,
          23.178000000000008,
          22.709300000000013,
          22.35959999999999,
          22.028466666666663,
          21.752966666666666,
          21.513499999999986,
          21.352399999999996,
          21.222900000000013,
          21.200200000000006,
          21.15106666666665,
          21.13793333333333,
          21.118366666666663,
          21.174900000000008,
          21.282966666666667,
          21.568766666666654,
          21.78589999999999,
          22.100766666666665,
          22.455599999999986,
          23.50356666666669,
          24.227,
          25.018266666666666,
          25.85923333333334,
          27.650966666666676,
          28.816233333333344,
          29.863400000000002,
          30.747399999999992,
          32.156966666666655,
          32.911100000000005,
          33.360166666666636,
          33.51246666666667,
          33.45523333333334,
          33.01526666666665,
          32.58049999999999,
          32.06829999999998,
          31.865866666666687,
          31.47659999999997,
          31.10206666666667,
          30.622933333333343,
          30.92796666666667,
          30.40320000000001,
          29.788733333333337,
          29.17949999999999,
          28.70096666666668,
          28.29853333333333,
          27.967633333333318,
          27.684900000000003,
          27.733233333333338,
          27.833733333333353,
          27.71386666666667,
          27.521133333333363,
          27.57566666666667,
          27.572000000000024,
          27.465133333333338,
          27.687299999999983,
          27.800966666666632,
          28.232966666666677,
          28.63443333333331,
          28.979133333333344,
          29.329233333333352,
          29.8729,
          30.627800000000008,
          31.422100000000004,
          32.264133333333334,
          33.29759999999999,
          34.257666666666616,
          35.379499999999986,
          36.289866666666676,
          37.440333333333335,
          38.391433333333325,
          39.20116666666665,
          39.41773333333333,
          39.62456666666667,
          39.64353333333332,
          39.44543333333333,
          38.93199999999998,
          38.541966666666646,
          38.143199999999965,
          37.699100000000016,
          37.039900000000024,
          36.451933333333336,
          35.815633333333324,
          35.10283333333333,
          34.07713333333333,
          33.16620000000001,
          32.13466666666667,
          31.218966666666663,
          31.527033333333335,
          31.278533333333343,
          30.370100000000015,
          29.403100000000013,
          28.339666666666684,
          27.19833333333332,
          26.091233333333335,
          25.180233333333327
         ],
         "yaxis": "y"
        },
        {
         "hovertemplate": "variable=Current w/o hot water<br>index=%{x}<br>value=%{y}<extra></extra>",
         "legendgroup": "Current w/o hot water",
         "line": {
          "color": "#EF553B",
          "dash": "solid"
         },
         "marker": {
          "symbol": "circle"
         },
         "mode": "lines",
         "name": "Current w/o hot water",
         "orientation": "v",
         "showlegend": true,
         "type": "scatter",
         "x": [
          "00:00:00",
          "00:15:00",
          "00:30:00",
          "00:45:00",
          "01:00:00",
          "01:15:00",
          "01:30:00",
          "01:45:00",
          "02:00:00",
          "02:15:00",
          "02:30:00",
          "02:45:00",
          "03:00:00",
          "03:15:00",
          "03:30:00",
          "03:45:00",
          "04:00:00",
          "04:15:00",
          "04:30:00",
          "04:45:00",
          "05:00:00",
          "05:15:00",
          "05:30:00",
          "05:45:00",
          "06:00:00",
          "06:15:00",
          "06:30:00",
          "06:45:00",
          "07:00:00",
          "07:15:00",
          "07:30:00",
          "07:45:00",
          "08:00:00",
          "08:15:00",
          "08:30:00",
          "08:45:00",
          "09:00:00",
          "09:15:00",
          "09:30:00",
          "09:45:00",
          "10:00:00",
          "10:15:00",
          "10:30:00",
          "10:45:00",
          "11:00:00",
          "11:15:00",
          "11:30:00",
          "11:45:00",
          "12:00:00",
          "12:15:00",
          "12:30:00",
          "12:45:00",
          "13:00:00",
          "13:15:00",
          "13:30:00",
          "13:45:00",
          "14:00:00",
          "14:15:00",
          "14:30:00",
          "14:45:00",
          "15:00:00",
          "15:15:00",
          "15:30:00",
          "15:45:00",
          "16:00:00",
          "16:15:00",
          "16:30:00",
          "16:45:00",
          "17:00:00",
          "17:15:00",
          "17:30:00",
          "17:45:00",
          "18:00:00",
          "18:15:00",
          "18:30:00",
          "18:45:00",
          "19:00:00",
          "19:15:00",
          "19:30:00",
          "19:45:00",
          "20:00:00",
          "20:15:00",
          "20:30:00",
          "20:45:00",
          "21:00:00",
          "21:15:00",
          "21:30:00",
          "21:45:00",
          "22:00:00",
          "22:15:00",
          "22:30:00",
          "22:45:00",
          "23:00:00",
          "23:15:00",
          "23:30:00",
          "23:45:00"
         ],
         "xaxis": "x",
         "y": [
          17.247819687445833,
          16.586253020779154,
          16.044586354112504,
          15.5758863541125,
          15.226186354112496,
          14.895053020779175,
          14.619553020779167,
          14.3800863541125,
          14.218986354112497,
          14.089486354112497,
          14.066786354112502,
          14.017653020779155,
          14.004519687445836,
          13.984953020779164,
          14.0414863541125,
          14.14955302077917,
          14.435353020779173,
          14.6524863541125,
          14.967353020779159,
          15.322186354112498,
          16.370153020779163,
          17.093586354112496,
          17.884853020779165,
          18.72581968744584,
          20.51755302077917,
          21.68281968744585,
          22.72998635411251,
          23.61398635411251,
          25.023553020779165,
          25.777686354112486,
          26.226753020779164,
          26.379053020779164,
          26.32181968744584,
          25.88185302077917,
          25.447086354112486,
          24.934886354112496,
          24.73245302077918,
          24.34318635411251,
          23.968653020779158,
          23.489519687445835,
          23.794553020779173,
          23.269786354112487,
          22.655319687445836,
          22.046086354112514,
          21.567553020779158,
          21.165119687445834,
          20.834219687445835,
          20.5514863541125,
          20.59981968744584,
          20.700319687445827,
          20.580453020779167,
          20.38771968744585,
          20.442253020779173,
          20.438586354112502,
          20.331719687445833,
          20.553886354112503,
          20.667553020779156,
          21.09955302077917,
          21.50101968744584,
          21.845719687445843,
          22.19581968744582,
          22.739486354112486,
          23.49438635411249,
          24.28868635411251,
          25.130719687445826,
          26.164186354112495,
          27.124253020779168,
          28.24608635411251,
          29.156453020779168,
          30.306919687445824,
          31.25801968744584,
          32.067753020779165,
          32.28431968744583,
          32.49115302077919,
          32.51011968744583,
          32.31201968744581,
          31.798586354112533,
          31.408553020779177,
          31.0097863541125,
          30.565686354112476,
          29.906486354112523,
          29.318519687445843,
          28.682219687445855,
          27.969419687445818,
          26.943719687445835,
          26.03278635411249,
          25.001253020779174,
          24.085553020779184,
          24.393619687445817,
          24.14511968744583,
          23.236686354112503,
          22.269686354112498,
          21.206253020779172,
          20.064919687445823,
          18.957819687445816,
          18.046819687445815
         ],
         "yaxis": "y"
        },
        {
         "hovertemplate": "variable=Future<br>index=%{x}<br>value=%{y}<extra></extra>",
         "legendgroup": "Future",
         "line": {
          "color": "#00cc96",
          "dash": "solid"
         },
         "marker": {
          "symbol": "circle"
         },
         "mode": "lines",
         "name": "Future",
         "orientation": "v",
         "showlegend": true,
         "type": "scatter",
         "x": [
          "00:00:00",
          "00:15:00",
          "00:30:00",
          "00:45:00",
          "01:00:00",
          "01:15:00",
          "01:30:00",
          "01:45:00",
          "02:00:00",
          "02:15:00",
          "02:30:00",
          "02:45:00",
          "03:00:00",
          "03:15:00",
          "03:30:00",
          "03:45:00",
          "04:00:00",
          "04:15:00",
          "04:30:00",
          "04:45:00",
          "05:00:00",
          "05:15:00",
          "05:30:00",
          "05:45:00",
          "06:00:00",
          "06:15:00",
          "06:30:00",
          "06:45:00",
          "07:00:00",
          "07:15:00",
          "07:30:00",
          "07:45:00",
          "08:00:00",
          "08:15:00",
          "08:30:00",
          "08:45:00",
          "09:00:00",
          "09:15:00",
          "09:30:00",
          "09:45:00",
          "10:00:00",
          "10:15:00",
          "10:30:00",
          "10:45:00",
          "11:00:00",
          "11:15:00",
          "11:30:00",
          "11:45:00",
          "12:00:00",
          "12:15:00",
          "12:30:00",
          "12:45:00",
          "13:00:00",
          "13:15:00",
          "13:30:00",
          "13:45:00",
          "14:00:00",
          "14:15:00",
          "14:30:00",
          "14:45:00",
          "15:00:00",
          "15:15:00",
          "15:30:00",
          "15:45:00",
          "16:00:00",
          "16:15:00",
          "16:30:00",
          "16:45:00",
          "17:00:00",
          "17:15:00",
          "17:30:00",
          "17:45:00",
          "18:00:00",
          "18:15:00",
          "18:30:00",
          "18:45:00",
          "19:00:00",
          "19:15:00",
          "19:30:00",
          "19:45:00",
          "20:00:00",
          "20:15:00",
          "20:30:00",
          "20:45:00",
          "21:00:00",
          "21:15:00",
          "21:30:00",
          "21:45:00",
          "22:00:00",
          "22:15:00",
          "22:30:00",
          "22:45:00",
          "23:00:00",
          "23:15:00",
          "23:30:00",
          "23:45:00"
         ],
         "xaxis": "x",
         "y": [
          23.7387001205129,
          22.828165746063352,
          22.082653397355454,
          21.437567296728897,
          20.956264524403082,
          20.500515621506825,
          20.12133657153326,
          19.791751296879873,
          19.570024454953387,
          19.391789656508468,
          19.360546954387246,
          19.292923249649075,
          19.27484744254807,
          19.24791724262859,
          19.325725792992202,
          19.474461241269793,
          19.867816495289585,
          20.166663722334693,
          20.600024315928216,
          21.088392251435604,
          22.53074072719115,
          23.526424081283896,
          24.615468520276377,
          25.772916584617963,
          28.23893380109465,
          29.842725843318057,
          31.283973254681648,
          32.500649407772904,
          34.44067898868433,
          35.47861568881765,
          36.09667983415873,
          36.30629496777392,
          36.22752298606735,
          35.62198344818457,
          35.02360082884937,
          34.31864435191118,
          52.368784426961724,
          51.833024844918015,
          51.3175431987591,
          50.658097383354395,
          51.07792406046369,
          50.355671697035476,
          49.50996248866122,
          48.67145607651762,
          48.01283605940686,
          47.45895479257911,
          47.0035270334638,
          46.61439252627982,
          46.68091516662606,
          46.819236380863245,
          46.654260232804575,
          46.388995469713535,
          46.46405135909728,
          46.459004813967574,
          46.31192096227791,
          46.617695719455625,
          46.774138618476805,
          47.36871339012317,
          47.92126420414402,
          48.395685324020164,
          48.877538628541984,
          49.625803638229684,
          50.66479552507195,
          51.75801483321726,
          52.9169309834148,
          54.33932266706643,
          55.66069169275778,
          57.204705114035505,
          40.12891527048395,
          41.712337621456534,
          43.021365550421535,
          44.135826225794595,
          44.43389353222877,
          44.71856455522769,
          44.74466895685319,
          44.472017886799605,
          43.76536393559048,
          43.22854916683785,
          42.679714445139844,
          42.06848607456539,
          41.16120901560864,
          40.35197256521738,
          39.476213474479806,
          38.49516510126326,
          37.08346291775003,
          35.82971759679684,
          34.40998681875905,
          33.14968098913723,
          33.57368253539928,
          33.2316644086536,
          31.981359913925214,
          30.650448330170445,
          29.186812609504127,
          27.615960743672872,
          26.092225258279953,
          24.838388181960767
         ],
         "yaxis": "y"
        }
       ],
       "layout": {
        "legend": {
         "title": {
          "text": "variable"
         },
         "tracegroupgap": 0
        },
        "margin": {
         "t": 60
        },
        "template": {
         "data": {
          "bar": [
           {
            "error_x": {
             "color": "#2a3f5f"
            },
            "error_y": {
             "color": "#2a3f5f"
            },
            "marker": {
             "line": {
              "color": "#E5ECF6",
              "width": 0.5
             },
             "pattern": {
              "fillmode": "overlay",
              "size": 10,
              "solidity": 0.2
             }
            },
            "type": "bar"
           }
          ],
          "barpolar": [
           {
            "marker": {
             "line": {
              "color": "#E5ECF6",
              "width": 0.5
             },
             "pattern": {
              "fillmode": "overlay",
              "size": 10,
              "solidity": 0.2
             }
            },
            "type": "barpolar"
           }
          ],
          "carpet": [
           {
            "aaxis": {
             "endlinecolor": "#2a3f5f",
             "gridcolor": "white",
             "linecolor": "white",
             "minorgridcolor": "white",
             "startlinecolor": "#2a3f5f"
            },
            "baxis": {
             "endlinecolor": "#2a3f5f",
             "gridcolor": "white",
             "linecolor": "white",
             "minorgridcolor": "white",
             "startlinecolor": "#2a3f5f"
            },
            "type": "carpet"
           }
          ],
          "choropleth": [
           {
            "colorbar": {
             "outlinewidth": 0,
             "ticks": ""
            },
            "type": "choropleth"
           }
          ],
          "contour": [
           {
            "colorbar": {
             "outlinewidth": 0,
             "ticks": ""
            },
            "colorscale": [
             [
              0,
              "#0d0887"
             ],
             [
              0.1111111111111111,
              "#46039f"
             ],
             [
              0.2222222222222222,
              "#7201a8"
             ],
             [
              0.3333333333333333,
              "#9c179e"
             ],
             [
              0.4444444444444444,
              "#bd3786"
             ],
             [
              0.5555555555555556,
              "#d8576b"
             ],
             [
              0.6666666666666666,
              "#ed7953"
             ],
             [
              0.7777777777777778,
              "#fb9f3a"
             ],
             [
              0.8888888888888888,
              "#fdca26"
             ],
             [
              1,
              "#f0f921"
             ]
            ],
            "type": "contour"
           }
          ],
          "contourcarpet": [
           {
            "colorbar": {
             "outlinewidth": 0,
             "ticks": ""
            },
            "type": "contourcarpet"
           }
          ],
          "heatmap": [
           {
            "colorbar": {
             "outlinewidth": 0,
             "ticks": ""
            },
            "colorscale": [
             [
              0,
              "#0d0887"
             ],
             [
              0.1111111111111111,
              "#46039f"
             ],
             [
              0.2222222222222222,
              "#7201a8"
             ],
             [
              0.3333333333333333,
              "#9c179e"
             ],
             [
              0.4444444444444444,
              "#bd3786"
             ],
             [
              0.5555555555555556,
              "#d8576b"
             ],
             [
              0.6666666666666666,
              "#ed7953"
             ],
             [
              0.7777777777777778,
              "#fb9f3a"
             ],
             [
              0.8888888888888888,
              "#fdca26"
             ],
             [
              1,
              "#f0f921"
             ]
            ],
            "type": "heatmap"
           }
          ],
          "heatmapgl": [
           {
            "colorbar": {
             "outlinewidth": 0,
             "ticks": ""
            },
            "colorscale": [
             [
              0,
              "#0d0887"
             ],
             [
              0.1111111111111111,
              "#46039f"
             ],
             [
              0.2222222222222222,
              "#7201a8"
             ],
             [
              0.3333333333333333,
              "#9c179e"
             ],
             [
              0.4444444444444444,
              "#bd3786"
             ],
             [
              0.5555555555555556,
              "#d8576b"
             ],
             [
              0.6666666666666666,
              "#ed7953"
             ],
             [
              0.7777777777777778,
              "#fb9f3a"
             ],
             [
              0.8888888888888888,
              "#fdca26"
             ],
             [
              1,
              "#f0f921"
             ]
            ],
            "type": "heatmapgl"
           }
          ],
          "histogram": [
           {
            "marker": {
             "pattern": {
              "fillmode": "overlay",
              "size": 10,
              "solidity": 0.2
             }
            },
            "type": "histogram"
           }
          ],
          "histogram2d": [
           {
            "colorbar": {
             "outlinewidth": 0,
             "ticks": ""
            },
            "colorscale": [
             [
              0,
              "#0d0887"
             ],
             [
              0.1111111111111111,
              "#46039f"
             ],
             [
              0.2222222222222222,
              "#7201a8"
             ],
             [
              0.3333333333333333,
              "#9c179e"
             ],
             [
              0.4444444444444444,
              "#bd3786"
             ],
             [
              0.5555555555555556,
              "#d8576b"
             ],
             [
              0.6666666666666666,
              "#ed7953"
             ],
             [
              0.7777777777777778,
              "#fb9f3a"
             ],
             [
              0.8888888888888888,
              "#fdca26"
             ],
             [
              1,
              "#f0f921"
             ]
            ],
            "type": "histogram2d"
           }
          ],
          "histogram2dcontour": [
           {
            "colorbar": {
             "outlinewidth": 0,
             "ticks": ""
            },
            "colorscale": [
             [
              0,
              "#0d0887"
             ],
             [
              0.1111111111111111,
              "#46039f"
             ],
             [
              0.2222222222222222,
              "#7201a8"
             ],
             [
              0.3333333333333333,
              "#9c179e"
             ],
             [
              0.4444444444444444,
              "#bd3786"
             ],
             [
              0.5555555555555556,
              "#d8576b"
             ],
             [
              0.6666666666666666,
              "#ed7953"
             ],
             [
              0.7777777777777778,
              "#fb9f3a"
             ],
             [
              0.8888888888888888,
              "#fdca26"
             ],
             [
              1,
              "#f0f921"
             ]
            ],
            "type": "histogram2dcontour"
           }
          ],
          "mesh3d": [
           {
            "colorbar": {
             "outlinewidth": 0,
             "ticks": ""
            },
            "type": "mesh3d"
           }
          ],
          "parcoords": [
           {
            "line": {
             "colorbar": {
              "outlinewidth": 0,
              "ticks": ""
             }
            },
            "type": "parcoords"
           }
          ],
          "pie": [
           {
            "automargin": true,
            "type": "pie"
           }
          ],
          "scatter": [
           {
            "fillpattern": {
             "fillmode": "overlay",
             "size": 10,
             "solidity": 0.2
            },
            "type": "scatter"
           }
          ],
          "scatter3d": [
           {
            "line": {
             "colorbar": {
              "outlinewidth": 0,
              "ticks": ""
             }
            },
            "marker": {
             "colorbar": {
              "outlinewidth": 0,
              "ticks": ""
             }
            },
            "type": "scatter3d"
           }
          ],
          "scattercarpet": [
           {
            "marker": {
             "colorbar": {
              "outlinewidth": 0,
              "ticks": ""
             }
            },
            "type": "scattercarpet"
           }
          ],
          "scattergeo": [
           {
            "marker": {
             "colorbar": {
              "outlinewidth": 0,
              "ticks": ""
             }
            },
            "type": "scattergeo"
           }
          ],
          "scattergl": [
           {
            "marker": {
             "colorbar": {
              "outlinewidth": 0,
              "ticks": ""
             }
            },
            "type": "scattergl"
           }
          ],
          "scattermapbox": [
           {
            "marker": {
             "colorbar": {
              "outlinewidth": 0,
              "ticks": ""
             }
            },
            "type": "scattermapbox"
           }
          ],
          "scatterpolar": [
           {
            "marker": {
             "colorbar": {
              "outlinewidth": 0,
              "ticks": ""
             }
            },
            "type": "scatterpolar"
           }
          ],
          "scatterpolargl": [
           {
            "marker": {
             "colorbar": {
              "outlinewidth": 0,
              "ticks": ""
             }
            },
            "type": "scatterpolargl"
           }
          ],
          "scatterternary": [
           {
            "marker": {
             "colorbar": {
              "outlinewidth": 0,
              "ticks": ""
             }
            },
            "type": "scatterternary"
           }
          ],
          "surface": [
           {
            "colorbar": {
             "outlinewidth": 0,
             "ticks": ""
            },
            "colorscale": [
             [
              0,
              "#0d0887"
             ],
             [
              0.1111111111111111,
              "#46039f"
             ],
             [
              0.2222222222222222,
              "#7201a8"
             ],
             [
              0.3333333333333333,
              "#9c179e"
             ],
             [
              0.4444444444444444,
              "#bd3786"
             ],
             [
              0.5555555555555556,
              "#d8576b"
             ],
             [
              0.6666666666666666,
              "#ed7953"
             ],
             [
              0.7777777777777778,
              "#fb9f3a"
             ],
             [
              0.8888888888888888,
              "#fdca26"
             ],
             [
              1,
              "#f0f921"
             ]
            ],
            "type": "surface"
           }
          ],
          "table": [
           {
            "cells": {
             "fill": {
              "color": "#EBF0F8"
             },
             "line": {
              "color": "white"
             }
            },
            "header": {
             "fill": {
              "color": "#C8D4E3"
             },
             "line": {
              "color": "white"
             }
            },
            "type": "table"
           }
          ]
         },
         "layout": {
          "annotationdefaults": {
           "arrowcolor": "#2a3f5f",
           "arrowhead": 0,
           "arrowwidth": 1
          },
          "autotypenumbers": "strict",
          "coloraxis": {
           "colorbar": {
            "outlinewidth": 0,
            "ticks": ""
           }
          },
          "colorscale": {
           "diverging": [
            [
             0,
             "#8e0152"
            ],
            [
             0.1,
             "#c51b7d"
            ],
            [
             0.2,
             "#de77ae"
            ],
            [
             0.3,
             "#f1b6da"
            ],
            [
             0.4,
             "#fde0ef"
            ],
            [
             0.5,
             "#f7f7f7"
            ],
            [
             0.6,
             "#e6f5d0"
            ],
            [
             0.7,
             "#b8e186"
            ],
            [
             0.8,
             "#7fbc41"
            ],
            [
             0.9,
             "#4d9221"
            ],
            [
             1,
             "#276419"
            ]
           ],
           "sequential": [
            [
             0,
             "#0d0887"
            ],
            [
             0.1111111111111111,
             "#46039f"
            ],
            [
             0.2222222222222222,
             "#7201a8"
            ],
            [
             0.3333333333333333,
             "#9c179e"
            ],
            [
             0.4444444444444444,
             "#bd3786"
            ],
            [
             0.5555555555555556,
             "#d8576b"
            ],
            [
             0.6666666666666666,
             "#ed7953"
            ],
            [
             0.7777777777777778,
             "#fb9f3a"
            ],
            [
             0.8888888888888888,
             "#fdca26"
            ],
            [
             1,
             "#f0f921"
            ]
           ],
           "sequentialminus": [
            [
             0,
             "#0d0887"
            ],
            [
             0.1111111111111111,
             "#46039f"
            ],
            [
             0.2222222222222222,
             "#7201a8"
            ],
            [
             0.3333333333333333,
             "#9c179e"
            ],
            [
             0.4444444444444444,
             "#bd3786"
            ],
            [
             0.5555555555555556,
             "#d8576b"
            ],
            [
             0.6666666666666666,
             "#ed7953"
            ],
            [
             0.7777777777777778,
             "#fb9f3a"
            ],
            [
             0.8888888888888888,
             "#fdca26"
            ],
            [
             1,
             "#f0f921"
            ]
           ]
          },
          "colorway": [
           "#636efa",
           "#EF553B",
           "#00cc96",
           "#ab63fa",
           "#FFA15A",
           "#19d3f3",
           "#FF6692",
           "#B6E880",
           "#FF97FF",
           "#FECB52"
          ],
          "font": {
           "color": "#2a3f5f"
          },
          "geo": {
           "bgcolor": "white",
           "lakecolor": "white",
           "landcolor": "#E5ECF6",
           "showlakes": true,
           "showland": true,
           "subunitcolor": "white"
          },
          "hoverlabel": {
           "align": "left"
          },
          "hovermode": "closest",
          "mapbox": {
           "style": "light"
          },
          "paper_bgcolor": "white",
          "plot_bgcolor": "#E5ECF6",
          "polar": {
           "angularaxis": {
            "gridcolor": "white",
            "linecolor": "white",
            "ticks": ""
           },
           "bgcolor": "#E5ECF6",
           "radialaxis": {
            "gridcolor": "white",
            "linecolor": "white",
            "ticks": ""
           }
          },
          "scene": {
           "xaxis": {
            "backgroundcolor": "#E5ECF6",
            "gridcolor": "white",
            "gridwidth": 2,
            "linecolor": "white",
            "showbackground": true,
            "ticks": "",
            "zerolinecolor": "white"
           },
           "yaxis": {
            "backgroundcolor": "#E5ECF6",
            "gridcolor": "white",
            "gridwidth": 2,
            "linecolor": "white",
            "showbackground": true,
            "ticks": "",
            "zerolinecolor": "white"
           },
           "zaxis": {
            "backgroundcolor": "#E5ECF6",
            "gridcolor": "white",
            "gridwidth": 2,
            "linecolor": "white",
            "showbackground": true,
            "ticks": "",
            "zerolinecolor": "white"
           }
          },
          "shapedefaults": {
           "line": {
            "color": "#2a3f5f"
           }
          },
          "ternary": {
           "aaxis": {
            "gridcolor": "white",
            "linecolor": "white",
            "ticks": ""
           },
           "baxis": {
            "gridcolor": "white",
            "linecolor": "white",
            "ticks": ""
           },
           "bgcolor": "#E5ECF6",
           "caxis": {
            "gridcolor": "white",
            "linecolor": "white",
            "ticks": ""
           }
          },
          "title": {
           "x": 0.05
          },
          "xaxis": {
           "automargin": true,
           "gridcolor": "white",
           "linecolor": "white",
           "ticks": "",
           "title": {
            "standoff": 15
           },
           "zerolinecolor": "white",
           "zerolinewidth": 2
          },
          "yaxis": {
           "automargin": true,
           "gridcolor": "white",
           "linecolor": "white",
           "ticks": "",
           "title": {
            "standoff": 15
           },
           "zerolinecolor": "white",
           "zerolinewidth": 2
          }
         }
        },
        "xaxis": {
         "anchor": "y",
         "domain": [
          0,
          1
         ],
         "title": {
          "text": "index"
         }
        },
        "yaxis": {
         "anchor": "x",
         "domain": [
          0,
          1
         ],
         "range": [
          0,
          57.204705114035505
         ],
         "title": {
          "text": "value"
         }
        }
       }
      }
     },
     "metadata": {},
     "output_type": "display_data"
    }
   ],
   "source": [
    "\n",
    "# future_zs_with_hw.plot()\n",
    "# many_day_df_current.plot()\n",
    "# many_day_df_current.mean(axis=1).plot()\n",
    "# plotting_df_many.plot()\n",
    "fig = go.Figure(plotting_df_many.plot())\n",
    "fig.update_yaxes(range = [0,plotting_df_many.max().max()])\n"
   ]
  },
  {
   "cell_type": "code",
   "execution_count": 192,
   "metadata": {},
   "outputs": [
    {
     "name": "stdout",
     "output_type": "stream",
     "text": [
      "Current total energy delivered =  850.0  GWh\n",
      "Future total energy delivered =  1063.0  GWh\n",
      "Threshold of 0.9 POE = 75.7 MW\n",
      "Max peak = 85.1 MW\n"
     ]
    }
   ],
   "source": [
    "# Utilization\n",
    "total_day_profile = many_day_df_current.sum(axis='columns')/1000\n",
    "total_day_profile_peak = total_day_profile.max()\n",
    "print('Current total energy delivered = ', np.round(total_day_profile.sum(),0), \" GWh\")\n",
    "total_day_profile = many_day_df_future.sum(axis='columns')/1000\n",
    "total_day_profile_peak = total_day_profile.max()\n",
    "print('Future total energy delivered = ', np.round(total_day_profile.sum(),0), \" GWh\")\n",
    "\n",
    "POE_index = int(POE*nu_days)\n",
    "# peak_load_MW = many_day_df_future.max(axis='columns')\n",
    "peak_load_day = many_day_df_future.max().idxmax()\n",
    "peak_load_MW = many_day_df_future[peak_load_day].max()\n",
    "sorted_load_days = many_day_df_future.max().sort_values(ascending=True)\n",
    "\n",
    "high_load_days = sorted_load_days.iloc[POE_index:].index.to_numpy()\n",
    "many_day_df_future[high_load_days].plot()\n",
    "\n",
    "min_threshold_POE = many_day_df_future[high_load_days].max().min()\n",
    "\n",
    "print(f\"Threshold of {POE} POE = {np.round(min_threshold_POE,1)} MW\")\n",
    "print(f\"Max peak = {np.round(peak_load_MW,1)} MW\")\n"
   ]
  },
  {
   "cell_type": "code",
   "execution_count": 136,
   "metadata": {},
   "outputs": [
    {
     "data": {
      "application/vnd.plotly.v1+json": {
       "config": {
        "plotlyServerURL": "https://plot.ly"
       },
       "data": [
        {
         "hovertemplate": "variable=0<br>index=%{x}<br>value=%{y}<extra></extra>",
         "legendgroup": "0",
         "line": {
          "color": "#636efa",
          "dash": "solid"
         },
         "marker": {
          "symbol": "circle"
         },
         "mode": "lines",
         "name": "0",
         "orientation": "v",
         "showlegend": true,
         "type": "scatter",
         "x": [
          "00:00:00",
          "00:15:00",
          "00:30:00",
          "00:45:00",
          "01:00:00",
          "01:15:00",
          "01:30:00",
          "01:45:00",
          "02:00:00",
          "02:15:00",
          "02:30:00",
          "02:45:00",
          "03:00:00",
          "03:15:00",
          "03:30:00",
          "03:45:00",
          "04:00:00",
          "04:15:00",
          "04:30:00",
          "04:45:00",
          "05:00:00",
          "05:15:00",
          "05:30:00",
          "05:45:00",
          "06:00:00",
          "06:15:00",
          "06:30:00",
          "06:45:00",
          "07:00:00",
          "07:15:00",
          "07:30:00",
          "07:45:00",
          "08:00:00",
          "08:15:00",
          "08:30:00",
          "08:45:00",
          "09:00:00",
          "09:15:00",
          "09:30:00",
          "09:45:00",
          "10:00:00",
          "10:15:00",
          "10:30:00",
          "10:45:00",
          "11:00:00",
          "11:15:00",
          "11:30:00",
          "11:45:00",
          "12:00:00",
          "12:15:00",
          "12:30:00",
          "12:45:00",
          "13:00:00",
          "13:15:00",
          "13:30:00",
          "13:45:00",
          "14:00:00",
          "14:15:00",
          "14:30:00",
          "14:45:00",
          "15:00:00",
          "15:15:00",
          "15:30:00",
          "15:45:00",
          "16:00:00",
          "16:15:00",
          "16:30:00",
          "16:45:00",
          "17:00:00",
          "17:15:00",
          "17:30:00",
          "17:45:00",
          "18:00:00",
          "18:15:00",
          "18:30:00",
          "18:45:00",
          "19:00:00",
          "19:15:00",
          "19:30:00",
          "19:45:00",
          "20:00:00",
          "20:15:00",
          "20:30:00",
          "20:45:00",
          "21:00:00",
          "21:15:00",
          "21:30:00",
          "21:45:00",
          "22:00:00",
          "22:15:00",
          "22:30:00",
          "22:45:00",
          "23:00:00",
          "23:15:00",
          "23:30:00",
          "23:45:00"
         ],
         "xaxis": "x",
         "y": [
          8.322399229285043,
          8.049238916950172,
          7.825585212337808,
          7.632059382149841,
          7.487668550452091,
          7.3509438795832205,
          7.2371901645911505,
          7.138314582195133,
          7.071796529617192,
          7.018326090083714,
          7.00895327944734,
          6.988666168025893,
          6.983243425895595,
          6.975164365919747,
          6.998506931028829,
          7.043127565512111,
          7.1611341417180405,
          7.250788309831578,
          7.380796487909628,
          7.527306868561862,
          7.960011411288511,
          8.258716417516341,
          8.585429749214084,
          8.932664168516562,
          9.672469333459569,
          10.15360694612658,
          10.585981169535659,
          10.95098401546305,
          11.532992889736462,
          11.844373899776473,
          12.029793143378795,
          12.092677683463341,
          12.069046088951383,
          11.887384227586534,
          11.70786944178598,
          11.49638249870453,
          15.411113597278808,
          15.25038572266569,
          15.095741228818033,
          14.897907484196592,
          15.023855487329378,
          14.807179778300945,
          14.553467015788666,
          14.301915092145558,
          14.104329087012326,
          13.938164706964018,
          13.801536379229432,
          13.684796027074212,
          13.704752819178088,
          13.746249183449253,
          13.69675633903165,
          13.617176910104346,
          13.639693676919473,
          13.638179713380554,
          13.594054557873656,
          13.685786985026974,
          13.732719854733324,
          13.91109228622725,
          14.07685753043347,
          14.21918386639635,
          14.363739857752869,
          14.588219360659194,
          14.899916926711885,
          15.227882719155463,
          11.577241914987457,
          12.003959420082962,
          12.40037012779036,
          12.86357415417369,
          13.239463774276365,
          13.714490479568122,
          14.107198858257652,
          14.44153706086956,
          14.530957252799796,
          14.616358559699478,
          14.624189880187133,
          14.542394559171052,
          14.330398373808325,
          14.169353943182537,
          14.004703526673126,
          13.821335015500773,
          13.549151897813761,
          13.306380962696373,
          13.043653235475126,
          12.749338723510142,
          12.325828068456179,
          11.94970447217022,
          11.523785238758876,
          11.145693489872341,
          11.272893953750954,
          11.170288515727249,
          10.795197167308741,
          10.395923692182306,
          9.956832975982403,
          9.485577416233022,
          9.028456770615149,
          8.6523056477194
         ],
         "yaxis": "y"
        }
       ],
       "layout": {
        "legend": {
         "title": {
          "text": "variable"
         },
         "tracegroupgap": 0
        },
        "margin": {
         "t": 60
        },
        "template": {
         "data": {
          "bar": [
           {
            "error_x": {
             "color": "#2a3f5f"
            },
            "error_y": {
             "color": "#2a3f5f"
            },
            "marker": {
             "line": {
              "color": "#E5ECF6",
              "width": 0.5
             },
             "pattern": {
              "fillmode": "overlay",
              "size": 10,
              "solidity": 0.2
             }
            },
            "type": "bar"
           }
          ],
          "barpolar": [
           {
            "marker": {
             "line": {
              "color": "#E5ECF6",
              "width": 0.5
             },
             "pattern": {
              "fillmode": "overlay",
              "size": 10,
              "solidity": 0.2
             }
            },
            "type": "barpolar"
           }
          ],
          "carpet": [
           {
            "aaxis": {
             "endlinecolor": "#2a3f5f",
             "gridcolor": "white",
             "linecolor": "white",
             "minorgridcolor": "white",
             "startlinecolor": "#2a3f5f"
            },
            "baxis": {
             "endlinecolor": "#2a3f5f",
             "gridcolor": "white",
             "linecolor": "white",
             "minorgridcolor": "white",
             "startlinecolor": "#2a3f5f"
            },
            "type": "carpet"
           }
          ],
          "choropleth": [
           {
            "colorbar": {
             "outlinewidth": 0,
             "ticks": ""
            },
            "type": "choropleth"
           }
          ],
          "contour": [
           {
            "colorbar": {
             "outlinewidth": 0,
             "ticks": ""
            },
            "colorscale": [
             [
              0,
              "#0d0887"
             ],
             [
              0.1111111111111111,
              "#46039f"
             ],
             [
              0.2222222222222222,
              "#7201a8"
             ],
             [
              0.3333333333333333,
              "#9c179e"
             ],
             [
              0.4444444444444444,
              "#bd3786"
             ],
             [
              0.5555555555555556,
              "#d8576b"
             ],
             [
              0.6666666666666666,
              "#ed7953"
             ],
             [
              0.7777777777777778,
              "#fb9f3a"
             ],
             [
              0.8888888888888888,
              "#fdca26"
             ],
             [
              1,
              "#f0f921"
             ]
            ],
            "type": "contour"
           }
          ],
          "contourcarpet": [
           {
            "colorbar": {
             "outlinewidth": 0,
             "ticks": ""
            },
            "type": "contourcarpet"
           }
          ],
          "heatmap": [
           {
            "colorbar": {
             "outlinewidth": 0,
             "ticks": ""
            },
            "colorscale": [
             [
              0,
              "#0d0887"
             ],
             [
              0.1111111111111111,
              "#46039f"
             ],
             [
              0.2222222222222222,
              "#7201a8"
             ],
             [
              0.3333333333333333,
              "#9c179e"
             ],
             [
              0.4444444444444444,
              "#bd3786"
             ],
             [
              0.5555555555555556,
              "#d8576b"
             ],
             [
              0.6666666666666666,
              "#ed7953"
             ],
             [
              0.7777777777777778,
              "#fb9f3a"
             ],
             [
              0.8888888888888888,
              "#fdca26"
             ],
             [
              1,
              "#f0f921"
             ]
            ],
            "type": "heatmap"
           }
          ],
          "heatmapgl": [
           {
            "colorbar": {
             "outlinewidth": 0,
             "ticks": ""
            },
            "colorscale": [
             [
              0,
              "#0d0887"
             ],
             [
              0.1111111111111111,
              "#46039f"
             ],
             [
              0.2222222222222222,
              "#7201a8"
             ],
             [
              0.3333333333333333,
              "#9c179e"
             ],
             [
              0.4444444444444444,
              "#bd3786"
             ],
             [
              0.5555555555555556,
              "#d8576b"
             ],
             [
              0.6666666666666666,
              "#ed7953"
             ],
             [
              0.7777777777777778,
              "#fb9f3a"
             ],
             [
              0.8888888888888888,
              "#fdca26"
             ],
             [
              1,
              "#f0f921"
             ]
            ],
            "type": "heatmapgl"
           }
          ],
          "histogram": [
           {
            "marker": {
             "pattern": {
              "fillmode": "overlay",
              "size": 10,
              "solidity": 0.2
             }
            },
            "type": "histogram"
           }
          ],
          "histogram2d": [
           {
            "colorbar": {
             "outlinewidth": 0,
             "ticks": ""
            },
            "colorscale": [
             [
              0,
              "#0d0887"
             ],
             [
              0.1111111111111111,
              "#46039f"
             ],
             [
              0.2222222222222222,
              "#7201a8"
             ],
             [
              0.3333333333333333,
              "#9c179e"
             ],
             [
              0.4444444444444444,
              "#bd3786"
             ],
             [
              0.5555555555555556,
              "#d8576b"
             ],
             [
              0.6666666666666666,
              "#ed7953"
             ],
             [
              0.7777777777777778,
              "#fb9f3a"
             ],
             [
              0.8888888888888888,
              "#fdca26"
             ],
             [
              1,
              "#f0f921"
             ]
            ],
            "type": "histogram2d"
           }
          ],
          "histogram2dcontour": [
           {
            "colorbar": {
             "outlinewidth": 0,
             "ticks": ""
            },
            "colorscale": [
             [
              0,
              "#0d0887"
             ],
             [
              0.1111111111111111,
              "#46039f"
             ],
             [
              0.2222222222222222,
              "#7201a8"
             ],
             [
              0.3333333333333333,
              "#9c179e"
             ],
             [
              0.4444444444444444,
              "#bd3786"
             ],
             [
              0.5555555555555556,
              "#d8576b"
             ],
             [
              0.6666666666666666,
              "#ed7953"
             ],
             [
              0.7777777777777778,
              "#fb9f3a"
             ],
             [
              0.8888888888888888,
              "#fdca26"
             ],
             [
              1,
              "#f0f921"
             ]
            ],
            "type": "histogram2dcontour"
           }
          ],
          "mesh3d": [
           {
            "colorbar": {
             "outlinewidth": 0,
             "ticks": ""
            },
            "type": "mesh3d"
           }
          ],
          "parcoords": [
           {
            "line": {
             "colorbar": {
              "outlinewidth": 0,
              "ticks": ""
             }
            },
            "type": "parcoords"
           }
          ],
          "pie": [
           {
            "automargin": true,
            "type": "pie"
           }
          ],
          "scatter": [
           {
            "fillpattern": {
             "fillmode": "overlay",
             "size": 10,
             "solidity": 0.2
            },
            "type": "scatter"
           }
          ],
          "scatter3d": [
           {
            "line": {
             "colorbar": {
              "outlinewidth": 0,
              "ticks": ""
             }
            },
            "marker": {
             "colorbar": {
              "outlinewidth": 0,
              "ticks": ""
             }
            },
            "type": "scatter3d"
           }
          ],
          "scattercarpet": [
           {
            "marker": {
             "colorbar": {
              "outlinewidth": 0,
              "ticks": ""
             }
            },
            "type": "scattercarpet"
           }
          ],
          "scattergeo": [
           {
            "marker": {
             "colorbar": {
              "outlinewidth": 0,
              "ticks": ""
             }
            },
            "type": "scattergeo"
           }
          ],
          "scattergl": [
           {
            "marker": {
             "colorbar": {
              "outlinewidth": 0,
              "ticks": ""
             }
            },
            "type": "scattergl"
           }
          ],
          "scattermapbox": [
           {
            "marker": {
             "colorbar": {
              "outlinewidth": 0,
              "ticks": ""
             }
            },
            "type": "scattermapbox"
           }
          ],
          "scatterpolar": [
           {
            "marker": {
             "colorbar": {
              "outlinewidth": 0,
              "ticks": ""
             }
            },
            "type": "scatterpolar"
           }
          ],
          "scatterpolargl": [
           {
            "marker": {
             "colorbar": {
              "outlinewidth": 0,
              "ticks": ""
             }
            },
            "type": "scatterpolargl"
           }
          ],
          "scatterternary": [
           {
            "marker": {
             "colorbar": {
              "outlinewidth": 0,
              "ticks": ""
             }
            },
            "type": "scatterternary"
           }
          ],
          "surface": [
           {
            "colorbar": {
             "outlinewidth": 0,
             "ticks": ""
            },
            "colorscale": [
             [
              0,
              "#0d0887"
             ],
             [
              0.1111111111111111,
              "#46039f"
             ],
             [
              0.2222222222222222,
              "#7201a8"
             ],
             [
              0.3333333333333333,
              "#9c179e"
             ],
             [
              0.4444444444444444,
              "#bd3786"
             ],
             [
              0.5555555555555556,
              "#d8576b"
             ],
             [
              0.6666666666666666,
              "#ed7953"
             ],
             [
              0.7777777777777778,
              "#fb9f3a"
             ],
             [
              0.8888888888888888,
              "#fdca26"
             ],
             [
              1,
              "#f0f921"
             ]
            ],
            "type": "surface"
           }
          ],
          "table": [
           {
            "cells": {
             "fill": {
              "color": "#EBF0F8"
             },
             "line": {
              "color": "white"
             }
            },
            "header": {
             "fill": {
              "color": "#C8D4E3"
             },
             "line": {
              "color": "white"
             }
            },
            "type": "table"
           }
          ]
         },
         "layout": {
          "annotationdefaults": {
           "arrowcolor": "#2a3f5f",
           "arrowhead": 0,
           "arrowwidth": 1
          },
          "autotypenumbers": "strict",
          "coloraxis": {
           "colorbar": {
            "outlinewidth": 0,
            "ticks": ""
           }
          },
          "colorscale": {
           "diverging": [
            [
             0,
             "#8e0152"
            ],
            [
             0.1,
             "#c51b7d"
            ],
            [
             0.2,
             "#de77ae"
            ],
            [
             0.3,
             "#f1b6da"
            ],
            [
             0.4,
             "#fde0ef"
            ],
            [
             0.5,
             "#f7f7f7"
            ],
            [
             0.6,
             "#e6f5d0"
            ],
            [
             0.7,
             "#b8e186"
            ],
            [
             0.8,
             "#7fbc41"
            ],
            [
             0.9,
             "#4d9221"
            ],
            [
             1,
             "#276419"
            ]
           ],
           "sequential": [
            [
             0,
             "#0d0887"
            ],
            [
             0.1111111111111111,
             "#46039f"
            ],
            [
             0.2222222222222222,
             "#7201a8"
            ],
            [
             0.3333333333333333,
             "#9c179e"
            ],
            [
             0.4444444444444444,
             "#bd3786"
            ],
            [
             0.5555555555555556,
             "#d8576b"
            ],
            [
             0.6666666666666666,
             "#ed7953"
            ],
            [
             0.7777777777777778,
             "#fb9f3a"
            ],
            [
             0.8888888888888888,
             "#fdca26"
            ],
            [
             1,
             "#f0f921"
            ]
           ],
           "sequentialminus": [
            [
             0,
             "#0d0887"
            ],
            [
             0.1111111111111111,
             "#46039f"
            ],
            [
             0.2222222222222222,
             "#7201a8"
            ],
            [
             0.3333333333333333,
             "#9c179e"
            ],
            [
             0.4444444444444444,
             "#bd3786"
            ],
            [
             0.5555555555555556,
             "#d8576b"
            ],
            [
             0.6666666666666666,
             "#ed7953"
            ],
            [
             0.7777777777777778,
             "#fb9f3a"
            ],
            [
             0.8888888888888888,
             "#fdca26"
            ],
            [
             1,
             "#f0f921"
            ]
           ]
          },
          "colorway": [
           "#636efa",
           "#EF553B",
           "#00cc96",
           "#ab63fa",
           "#FFA15A",
           "#19d3f3",
           "#FF6692",
           "#B6E880",
           "#FF97FF",
           "#FECB52"
          ],
          "font": {
           "color": "#2a3f5f"
          },
          "geo": {
           "bgcolor": "white",
           "lakecolor": "white",
           "landcolor": "#E5ECF6",
           "showlakes": true,
           "showland": true,
           "subunitcolor": "white"
          },
          "hoverlabel": {
           "align": "left"
          },
          "hovermode": "closest",
          "mapbox": {
           "style": "light"
          },
          "paper_bgcolor": "white",
          "plot_bgcolor": "#E5ECF6",
          "polar": {
           "angularaxis": {
            "gridcolor": "white",
            "linecolor": "white",
            "ticks": ""
           },
           "bgcolor": "#E5ECF6",
           "radialaxis": {
            "gridcolor": "white",
            "linecolor": "white",
            "ticks": ""
           }
          },
          "scene": {
           "xaxis": {
            "backgroundcolor": "#E5ECF6",
            "gridcolor": "white",
            "gridwidth": 2,
            "linecolor": "white",
            "showbackground": true,
            "ticks": "",
            "zerolinecolor": "white"
           },
           "yaxis": {
            "backgroundcolor": "#E5ECF6",
            "gridcolor": "white",
            "gridwidth": 2,
            "linecolor": "white",
            "showbackground": true,
            "ticks": "",
            "zerolinecolor": "white"
           },
           "zaxis": {
            "backgroundcolor": "#E5ECF6",
            "gridcolor": "white",
            "gridwidth": 2,
            "linecolor": "white",
            "showbackground": true,
            "ticks": "",
            "zerolinecolor": "white"
           }
          },
          "shapedefaults": {
           "line": {
            "color": "#2a3f5f"
           }
          },
          "ternary": {
           "aaxis": {
            "gridcolor": "white",
            "linecolor": "white",
            "ticks": ""
           },
           "baxis": {
            "gridcolor": "white",
            "linecolor": "white",
            "ticks": ""
           },
           "bgcolor": "#E5ECF6",
           "caxis": {
            "gridcolor": "white",
            "linecolor": "white",
            "ticks": ""
           }
          },
          "title": {
           "x": 0.05
          },
          "xaxis": {
           "automargin": true,
           "gridcolor": "white",
           "linecolor": "white",
           "ticks": "",
           "title": {
            "standoff": 15
           },
           "zerolinecolor": "white",
           "zerolinewidth": 2
          },
          "yaxis": {
           "automargin": true,
           "gridcolor": "white",
           "linecolor": "white",
           "ticks": "",
           "title": {
            "standoff": 15
           },
           "zerolinecolor": "white",
           "zerolinewidth": 2
          }
         }
        },
        "xaxis": {
         "anchor": "y",
         "domain": [
          0,
          1
         ],
         "title": {
          "text": "index"
         }
        },
        "yaxis": {
         "anchor": "x",
         "domain": [
          0,
          1
         ],
         "range": [
          0,
          15.411113597278808
         ],
         "title": {
          "text": "value"
         }
        }
       }
      }
     },
     "metadata": {},
     "output_type": "display_data"
    }
   ],
   "source": [
    "\n",
    "# fig = make_subplots(rows=1, cols=1)#,specs=[[{\"secondary_y\": True}]])\n",
    "fig = go.Figure(total_day_profile.plot())\n",
    "fig.update_yaxes(range = [0,total_day_profile_peak])"
   ]
  },
  {
   "cell_type": "code",
   "execution_count": null,
   "metadata": {},
   "outputs": [],
   "source": []
  }
 ],
 "metadata": {
  "kernelspec": {
   "display_name": "venv",
   "language": "python",
   "name": "python3"
  },
  "language_info": {
   "codemirror_mode": {
    "name": "ipython",
    "version": 3
   },
   "file_extension": ".py",
   "mimetype": "text/x-python",
   "name": "python",
   "nbconvert_exporter": "python",
   "pygments_lexer": "ipython3",
   "version": "3.10.12"
  }
 },
 "nbformat": 4,
 "nbformat_minor": 2
}
