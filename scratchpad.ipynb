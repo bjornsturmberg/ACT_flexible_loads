{
 "cells": [
  {
   "cell_type": "code",
   "execution_count": 1,
   "metadata": {},
   "outputs": [],
   "source": [
    "import numpy as np\n",
    "import pandas as pd\n",
    "\n",
    "import plotly.graph_objects as go\n",
    "import plotly.express as px\n",
    "from datetime import datetime\n",
    "from plotly.subplots import make_subplots\n",
    "pd.options.plotting.backend = \"plotly\""
   ]
  },
  {
   "cell_type": "code",
   "execution_count": 2,
   "metadata": {},
   "outputs": [],
   "source": [
    "def zs_data(start: str, end: str, src: str) -> pd.DataFrame:\n",
    "    \"\"\"Get data from \"\"\"\n",
    "    data_df = pd.read_csv(src, index_col=0)#, parse_dates=[\"Time\"])\n",
    "\n",
    "    freq='15min'\n",
    "    intervals_per_hour = 4\n",
    "\n",
    "    # temp bandaid to deal with substation data\n",
    "    # data_df.index = pd.to_datetime(data_df.index, utc=True)#, format='mixed')\n",
    "\n",
    "    # NOTE timestamps indicate start of an interval\n",
    "    # Starting with 15 min data we'll set the time index to start at the beninning of this \n",
    "    # period and then trim off the first 5 min after ffill()\n",
    "    tmp = pd.date_range(start=pd.to_datetime(\"2021-7-1 00:00\").tz_localize(\"UTC\"), \n",
    "                        end=pd.to_datetime(\"2023-06-30 23:45\").tz_localize(\"UTC\"), \n",
    "                        freq=freq)\n",
    "    data_df.index = tmp\n",
    "\n",
    "    # data_df = data_df.resample(\"5min\").ffill()#.reset_index()\n",
    "\n",
    "    # data_df.rename(columns={data_df.columns[0]: \"network_load\"}, inplace=True)\n",
    "\n",
    "    new_df = data_df.loc[start:end]#[1:]\n",
    "\n",
    "    # new_df.reset_index(inplace=True)\n",
    "\n",
    "    # temp bandaid to deal with substation data\n",
    "    # new_df = new_df.rename(columns={data_df.index.name:'settlementdate'})\n",
    "    # new_df = new_df.rename(columns={'index':'settlementdate'})\n",
    "    return new_df, intervals_per_hour"
   ]
  },
  {
   "cell_type": "code",
   "execution_count": 42,
   "metadata": {},
   "outputs": [],
   "source": [
    "zs_df, intervals_per_hour = zs_data(\"2022-1-1 00:00\", \"2022-12-31 23:45\",\n",
    "    src = \"data/evoenergy-zone-substation-report-2021-23.csv\")\n",
    "\n",
    "pop_SA3_df = pd.read_csv('data/SA3_population.csv', index_col=0)\n",
    "pop_SA2_df = pd.read_csv('data/SA2_population.csv', index_col=0)\n",
    "evo_cust_df = pd.read_csv('data/evo_customers.csv', index_col=0)\n",
    "\n",
    "# http://www.bom.gov.au/climate/averages/tables/cw_070282.shtml\n",
    "mean_3pm_temps = [26.9,26.4,23.5,19.1,14.9,11.4,10.6,12.6,15.1,18.3,22.0,24.8,18.8]\n",
    "mean_temps_Bin = [20.495001,20.325001,17.85,13.48,9.469999,6.67,5.585,7.105,9.710001,12.985,15.895,18.775]\n",
    "\n",
    "\n",
    "SA3_dict = {'Gungahlin':['Gold Creek'],\n",
    "            'Tuggeranong': ['Wanniassa', 'Gilmore', 'Theodore'],\n",
    "            'Woden Valley':['Woden', 'Wanniassa'],\n",
    "            'Canberra East':['East Lake'],#, 'Fyshwick'],\n",
    "            'South Canberra':['Telopea Park'],\n",
    "            'Belconnen':['Belconnen', 'Latham'],\n",
    "            'North Canberra':['Civic', 'City East'],\n",
    "            'Weston Creek':['Woden'],\n",
    "            'Molongolo':['Woden'],\n",
    "            'Urriarra - Namadgi':['Tennent/Angle Crossing'],}\n",
    "\n",
    "SA3_division = {'Woden Valley':[39238/(39238+24315+12102), 39238/(39238+88965)],\n",
    "                'Tuggeranong':[88965/(39238+88965), 1, 1],\n",
    "            'Weston Creek':[24315/(39238+24315+12102), ],\n",
    "            'Molongolo':[12102/(39238+24315+12102)],\n",
    "            'Gungahlin':[1],\n",
    "            'Canberra East':[1,1],\n",
    "            'South Canberra':[1],\n",
    "            'Belconnen':[1,1],\n",
    "            'North Canberra':[1,1]}\n"
   ]
  },
  {
   "cell_type": "code",
   "execution_count": 43,
   "metadata": {},
   "outputs": [],
   "source": [
    "def forecast(evo_regions, evo_fractions, nu_days, start_day, zs_df, timed_hw_start, timed_hw_end,\n",
    "             current_households, future_households, mean_temps, #resist_kWh_per_household,\n",
    "             current_frac_gas, future_frac_gas, current_frac_heatpumps, future_frac_heatpumps,\n",
    "             intervals_per_hour):\n",
    "    current_frac_elec = 1 - current_frac_gas\n",
    "    future_frac_elec = 1 - future_frac_gas\n",
    "    current_frac_resist = 1 - current_frac_heatpumps\n",
    "    future_frac_resist = 1 - future_frac_heatpumps\n",
    "\n",
    "    date_dict = {}\n",
    "    for i_d, day in enumerate(range(start_day,nu_days)):\n",
    "        for e, zs in enumerate(evo_regions):\n",
    "            if e == 0:\n",
    "                current_day_zs_df = zs_df[zs][zs_df.index.dayofyear == day+1]*evo_fractions[e]\n",
    "                current_day_zs_df.rename('Current', inplace=True)\n",
    "            else:\n",
    "                tmp_df = zs_df[zs][zs_df.index.dayofyear == day+1]*evo_fractions[e]\n",
    "                tmp_df.rename('Current', inplace=True)\n",
    "                # print(current_day_zs_df)\n",
    "                # print(tmp_df)\n",
    "                current_day_zs_df = current_day_zs_df.add(tmp_df)\n",
    "                # print(current_day_zs_df)\n",
    "        # current_day_zs_df.index = current_day_zs_df.index.strftime('%H:%M')\n",
    "        # current_day_zs_df.index = current_day_zs_df.index.time\n",
    "        # time_interval = current_day_zs_df.index[1] - current_day_zs_df.index[0]\n",
    "        # print(current_day_zs_df)\n",
    "        # print(repr(current_day_zs_df.index))\n",
    "\n",
    "        date_dict[day] = current_day_zs_df.index[0].date()\n",
    "        month = current_day_zs_df.index[0].month\n",
    "        temp = mean_temps[month-1]\n",
    "\n",
    "        current_gas_users = current_frac_gas*current_households\n",
    "        future_elec_users = future_households*future_frac_elec\n",
    "        \n",
    "        pop_growth_factor = (future_households)/(current_households)\n",
    "        \n",
    "        # heating energy demand as function of temperature per household\n",
    "        CBR_factor = 1.266\n",
    "        hw_kWh_household_per_day = (10.295 - 0.2816*temp)*CBR_factor\n",
    "        # Heat pump coefficient of performance as function of temperature\n",
    "        heatpump_CoP = 2.9664 + 0.0703*temp\n",
    "\n",
    "        current_hw_MWh_per_day_elec = (current_frac_resist*hw_kWh_household_per_day + \\\n",
    "                                       current_frac_heatpumps*hw_kWh_household_per_day/heatpump_CoP)/1000\n",
    "        current_hw_MWh_per_day = current_frac_elec*current_households*current_hw_MWh_per_day_elec\n",
    "        current_hw_MW = current_hw_MWh_per_day/24\n",
    "        # print('current_hw_kWh', current_hw_MWh_per_day_elec*1000)\n",
    "            \n",
    "        curent_day_zs_sans_hw = current_day_zs_df - current_hw_MW\n",
    "        curent_day_zs_sans_hw.rename('Current w/o hot water', inplace=True)\n",
    "\n",
    "        future_zs = current_day_zs_df*pop_growth_factor\n",
    "        future_zs_sans_hw = curent_day_zs_sans_hw*pop_growth_factor\n",
    "        \n",
    "        future_hw_resist_kWh = future_frac_resist*hw_kWh_household_per_day\n",
    "        future_hw_heatpump_kWh = future_frac_heatpumps*hw_kWh_household_per_day/heatpump_CoP\n",
    "        future_hw_MWh_total = future_elec_users*(future_hw_heatpump_kWh + future_hw_resist_kWh)/1000\n",
    "        # print('future_hw_kWh', future_hw_MWh_total/future_elec_users*1000)\n",
    "\n",
    "\n",
    "        time_mask = (current_day_zs_df.index.hour >= timed_hw_start) & \\\n",
    "                (current_day_zs_df.index.hour < timed_hw_end)\n",
    "        timed_hw_df = pd.Series(index=current_day_zs_df.index, data = 0)\n",
    "        # timed_hw_df[timed_hw_df.index.hour > timed_hw_start & timed_hw_df.index.hour < timed_hw_end] == 1\n",
    "        # print(timed_hw_df.between_time(timed_hw_start,timed_hw_end))\n",
    "        timed_hw_df[time_mask] = 1\n",
    "        future_hw_MW = future_hw_MWh_total / (np.sum(timed_hw_df)/intervals_per_hour)\n",
    "        timed_hw_df = timed_hw_df*future_hw_MW\n",
    "        # print(timed_hw_df)\n",
    "\n",
    "        future_zs_with_hw = future_zs_sans_hw + timed_hw_df\n",
    "        future_zs_with_hw.rename('Future', inplace=True)\n",
    "\n",
    "        # print(future_zs_with_hw)\n",
    "\n",
    "        plotting_df = pd.concat([current_day_zs_df, curent_day_zs_sans_hw, future_zs_with_hw],axis=1)\n",
    "\n",
    "        current_day_zs_df.index = current_day_zs_df.index.time\n",
    "        curent_day_zs_sans_hw.index = current_day_zs_df.index\n",
    "        future_zs_with_hw.index = current_day_zs_df.index\n",
    "\n",
    "        if i_d == 0:\n",
    "            many_day_df_current = current_day_zs_df.rename(date_dict[day], inplace=True).to_frame()\n",
    "            many_day_df_current_sans = curent_day_zs_sans_hw.rename(date_dict[day], inplace=True).to_frame()\n",
    "            many_day_df_future = future_zs_with_hw.rename(date_dict[day], inplace=True).to_frame()\n",
    "        else:\n",
    "            many_day_df_current = many_day_df_current.join(current_day_zs_df.rename(date_dict[day]))\n",
    "            many_day_df_current_sans = many_day_df_current_sans.join(curent_day_zs_sans_hw.rename(date_dict[day]))\n",
    "            many_day_df_future = many_day_df_future.join(future_zs_with_hw.rename(date_dict[day]))\n",
    "\n",
    "    plotting_df_many = pd.concat([many_day_df_current.mean(axis=1), many_day_df_current_sans.mean(axis=1), many_day_df_future.mean(axis=1)],axis=1)\n",
    "    plotting_df_many.columns = ['Current','Current w/o hot water','Future']\n",
    "\n",
    "    return many_day_df_current, many_day_df_current_sans, many_day_df_future, plotting_df_many, plotting_df, future_hw_MWh_total"
   ]
  },
  {
   "cell_type": "code",
   "execution_count": 51,
   "metadata": {},
   "outputs": [],
   "source": [
    "POE = 0.9\n",
    "nu_days = 300\n",
    "start_day = 0#5*30\n",
    "\n",
    "timed_hw_start = 9\n",
    "timed_hw_end = 17\n",
    "# resist_kWh_per_household = 8.1\n",
    "current_frac_gas = 0.45\n",
    "future_frac_gas = 0.0\n",
    "current_frac_heatpumps = 0.1\n",
    "future_frac_heatpumps = 0.75\n",
    "\n",
    "SA_level = 3\n",
    "SA_region = 'Belconnen'\n",
    "SA_region = 'Tuggeranong'\n",
    "SA_region = 'Gungahlin'\n",
    "SA_region = 'Woden Valley'\n",
    "# SA_region = 'Canberra East'\n",
    "# SA_region = 'South Canberra'\n",
    "# SA_region = 'North Canberra'\n",
    "\n",
    "current_households = 0\n",
    "for e, r in enumerate(SA3_dict[SA_region]):\n",
    "    zs_frac = SA3_division[SA_region][e]\n",
    "    current_households += evo_cust_df.loc[r,\"Evo resi customers\"]*zs_frac\n",
    "\n",
    "if SA_level == 2:\n",
    "    current_pop = pop_SA2_df.loc[SA_region,'2022']\n",
    "    pop_per_household = current_pop/current_households\n",
    "    # print(pop_per_household)\n",
    "    future_households = pop_SA2_df.loc[SA_region,'2045']/pop_per_household\n",
    "elif SA_level == 3:\n",
    "    current_pop = pop_SA3_df.loc[SA_region,'2022']\n",
    "    pop_per_household = current_pop/current_households\n",
    "    future_households = pop_SA3_df.loc[SA_region,'2045']/pop_per_household\n",
    "\n",
    "# mean_temps = mean_3pm_temps\n",
    "mean_temps = mean_temps_Bin\n",
    "\n",
    "\n",
    "many_day_df_current, many_day_df_current_sans, many_day_df_future, plotting_df_many, \\\n",
    "      plotting_df, future_hw_MWh_total = forecast(SA3_dict[SA_region], SA3_division[SA_region], nu_days, start_day, zs_df, timed_hw_start, timed_hw_end,\n",
    "             current_households, future_households, mean_temps, #resist_kWh_per_household,\n",
    "             current_frac_gas, future_frac_gas, current_frac_heatpumps, future_frac_heatpumps,\n",
    "             intervals_per_hour)\n"
   ]
  },
  {
   "cell_type": "code",
   "execution_count": 52,
   "metadata": {},
   "outputs": [
    {
     "data": {
      "application/vnd.plotly.v1+json": {
       "config": {
        "plotlyServerURL": "https://plot.ly"
       },
       "data": [
        {
         "hovertemplate": "variable=Current<br>index=%{x}<br>value=%{y}<extra></extra>",
         "legendgroup": "Current",
         "line": {
          "color": "#636efa",
          "dash": "solid"
         },
         "marker": {
          "symbol": "circle"
         },
         "mode": "lines",
         "name": "Current",
         "orientation": "v",
         "showlegend": true,
         "type": "scatter",
         "x": [
          "00:00:00",
          "00:15:00",
          "00:30:00",
          "00:45:00",
          "01:00:00",
          "01:15:00",
          "01:30:00",
          "01:45:00",
          "02:00:00",
          "02:15:00",
          "02:30:00",
          "02:45:00",
          "03:00:00",
          "03:15:00",
          "03:30:00",
          "03:45:00",
          "04:00:00",
          "04:15:00",
          "04:30:00",
          "04:45:00",
          "05:00:00",
          "05:15:00",
          "05:30:00",
          "05:45:00",
          "06:00:00",
          "06:15:00",
          "06:30:00",
          "06:45:00",
          "07:00:00",
          "07:15:00",
          "07:30:00",
          "07:45:00",
          "08:00:00",
          "08:15:00",
          "08:30:00",
          "08:45:00",
          "09:00:00",
          "09:15:00",
          "09:30:00",
          "09:45:00",
          "10:00:00",
          "10:15:00",
          "10:30:00",
          "10:45:00",
          "11:00:00",
          "11:15:00",
          "11:30:00",
          "11:45:00",
          "12:00:00",
          "12:15:00",
          "12:30:00",
          "12:45:00",
          "13:00:00",
          "13:15:00",
          "13:30:00",
          "13:45:00",
          "14:00:00",
          "14:15:00",
          "14:30:00",
          "14:45:00",
          "15:00:00",
          "15:15:00",
          "15:30:00",
          "15:45:00",
          "16:00:00",
          "16:15:00",
          "16:30:00",
          "16:45:00",
          "17:00:00",
          "17:15:00",
          "17:30:00",
          "17:45:00",
          "18:00:00",
          "18:15:00",
          "18:30:00",
          "18:45:00",
          "19:00:00",
          "19:15:00",
          "19:30:00",
          "19:45:00",
          "20:00:00",
          "20:15:00",
          "20:30:00",
          "20:45:00",
          "21:00:00",
          "21:15:00",
          "21:30:00",
          "21:45:00",
          "22:00:00",
          "22:15:00",
          "22:30:00",
          "22:45:00",
          "23:00:00",
          "23:15:00",
          "23:30:00",
          "23:45:00"
         ],
         "xaxis": "x",
         "y": [
          25.727296540858916,
          24.995208558056213,
          24.374418099121645,
          23.9021853984556,
          23.53638085598268,
          23.178502118506806,
          22.880796195598766,
          22.671504316943256,
          22.583591458360964,
          22.453359449118903,
          22.367508764599553,
          22.313479985684587,
          22.370667813303495,
          22.39446393220899,
          22.465655075645294,
          22.548716470111735,
          22.898400452539434,
          23.151810521661645,
          23.501096505901398,
          23.9544339516502,
          25.02298789631121,
          25.776618191158832,
          26.803361779316592,
          27.92224646881637,
          29.898811066019164,
          31.36383338948563,
          32.70466224514276,
          33.85551923642988,
          35.33358129265796,
          36.40990470519742,
          36.91049051530329,
          36.905410147702895,
          36.63908896553852,
          36.01956686710212,
          35.08612533439648,
          34.050911780744904,
          33.368899894208155,
          32.59102769546606,
          31.703258596845505,
          30.89873474453009,
          31.147574915850043,
          30.326472166021922,
          29.340421534667573,
          28.253613777463386,
          27.49029132226245,
          27.054390145866446,
          26.3949800882158,
          25.98448469269024,
          26.11025271301287,
          25.97979083327956,
          25.66891084120972,
          25.481614559115844,
          25.53020322881506,
          25.635473608741975,
          25.749948163108694,
          25.905694130814364,
          26.184022332017705,
          26.655443410066695,
          27.241052921352594,
          27.814560277719423,
          28.486751921289553,
          29.329962195036327,
          30.36624516996535,
          31.570166080220407,
          32.8536048749309,
          34.12448938762003,
          35.50356536194164,
          36.935129480585225,
          38.21151767600349,
          39.60810426767715,
          40.90650634324509,
          41.92921808041939,
          42.332510800647704,
          42.51561806086422,
          42.463436864794005,
          42.155871619359395,
          41.51592722155931,
          40.965869745516315,
          40.46860740695206,
          39.94056506934075,
          39.26687426849902,
          38.58924062242425,
          37.84481604442666,
          37.07063673726979,
          36.10754857276248,
          35.17812484672028,
          34.06710930891793,
          33.01102264250557,
          33.56401618730808,
          33.42387782227822,
          32.44414539729027,
          31.351441505804384,
          30.16716539586194,
          28.82871469879389,
          27.607285571645157,
          26.604408239577424
         ],
         "yaxis": "y"
        },
        {
         "hovertemplate": "variable=Current w/o hot water<br>index=%{x}<br>value=%{y}<extra></extra>",
         "legendgroup": "Current w/o hot water",
         "line": {
          "color": "#EF553B",
          "dash": "solid"
         },
         "marker": {
          "symbol": "circle"
         },
         "mode": "lines",
         "name": "Current w/o hot water",
         "orientation": "v",
         "showlegend": true,
         "type": "scatter",
         "x": [
          "00:00:00",
          "00:15:00",
          "00:30:00",
          "00:45:00",
          "01:00:00",
          "01:15:00",
          "01:30:00",
          "01:45:00",
          "02:00:00",
          "02:15:00",
          "02:30:00",
          "02:45:00",
          "03:00:00",
          "03:15:00",
          "03:30:00",
          "03:45:00",
          "04:00:00",
          "04:15:00",
          "04:30:00",
          "04:45:00",
          "05:00:00",
          "05:15:00",
          "05:30:00",
          "05:45:00",
          "06:00:00",
          "06:15:00",
          "06:30:00",
          "06:45:00",
          "07:00:00",
          "07:15:00",
          "07:30:00",
          "07:45:00",
          "08:00:00",
          "08:15:00",
          "08:30:00",
          "08:45:00",
          "09:00:00",
          "09:15:00",
          "09:30:00",
          "09:45:00",
          "10:00:00",
          "10:15:00",
          "10:30:00",
          "10:45:00",
          "11:00:00",
          "11:15:00",
          "11:30:00",
          "11:45:00",
          "12:00:00",
          "12:15:00",
          "12:30:00",
          "12:45:00",
          "13:00:00",
          "13:15:00",
          "13:30:00",
          "13:45:00",
          "14:00:00",
          "14:15:00",
          "14:30:00",
          "14:45:00",
          "15:00:00",
          "15:15:00",
          "15:30:00",
          "15:45:00",
          "16:00:00",
          "16:15:00",
          "16:30:00",
          "16:45:00",
          "17:00:00",
          "17:15:00",
          "17:30:00",
          "17:45:00",
          "18:00:00",
          "18:15:00",
          "18:30:00",
          "18:45:00",
          "19:00:00",
          "19:15:00",
          "19:30:00",
          "19:45:00",
          "20:00:00",
          "20:15:00",
          "20:30:00",
          "20:45:00",
          "21:00:00",
          "21:15:00",
          "21:30:00",
          "21:45:00",
          "22:00:00",
          "22:15:00",
          "22:30:00",
          "22:45:00",
          "23:00:00",
          "23:15:00",
          "23:30:00",
          "23:45:00"
         ],
         "xaxis": "x",
         "y": [
          22.0048045107414,
          21.27271652793866,
          20.6519260690041,
          20.17969336833805,
          19.813888825865178,
          19.456010088389288,
          19.158304165481248,
          18.949012286825724,
          18.861099428243424,
          18.730867419001378,
          18.645016734482027,
          18.590987955567087,
          18.64817578318597,
          18.671971902091478,
          18.74316304552777,
          18.8262244399942,
          19.175908422421905,
          19.429318491544127,
          19.778604475783887,
          20.231941921532663,
          21.300495866193675,
          22.05412616104132,
          23.08086974919906,
          24.19975443869887,
          26.17631903590165,
          27.641341359368145,
          28.982170215025228,
          30.133027206312338,
          31.61108926254045,
          32.687412675079855,
          33.187998485185766,
          33.1829181175854,
          32.91659693542101,
          32.297074836984585,
          31.363633304278956,
          30.32841975062741,
          29.64640786409064,
          28.868535665348535,
          27.98076656672797,
          27.176242714412567,
          27.425082885732504,
          26.603980135904386,
          25.61792950455004,
          24.531121747345846,
          23.76779929214494,
          23.331898115748924,
          22.672488058098292,
          22.261992662572734,
          22.38776068289536,
          22.25729880316204,
          21.94641881109221,
          21.759122528998336,
          21.807711198697536,
          21.912981578624446,
          22.027456132991166,
          22.183202100696835,
          22.46153030190018,
          22.932951379949174,
          23.51856089123508,
          24.09206824760191,
          24.764259891172024,
          25.60747016491879,
          26.643753139847817,
          27.847674050102867,
          29.13111284481338,
          30.401997357502527,
          31.7810733318241,
          33.21263745046777,
          34.48902564588593,
          35.88561223755963,
          37.18401431312757,
          38.206726050301874,
          38.610018770530196,
          38.7931260307467,
          38.74094483467648,
          38.433379589241895,
          37.79343519144184,
          37.243377715398786,
          36.74611537683452,
          36.218073039223235,
          35.5443822383815,
          34.866748592306735,
          34.12232401430912,
          33.34814470715229,
          32.38505654264499,
          31.455632816602744,
          30.344617278800452,
          29.288530612388048,
          29.841524157190566,
          29.70138579216068,
          28.72165336717273,
          27.628949475686877,
          26.44467336574442,
          25.106222668676356,
          23.88479354152761,
          22.881916209459913
         ],
         "yaxis": "y"
        },
        {
         "hovertemplate": "variable=Future<br>index=%{x}<br>value=%{y}<extra></extra>",
         "legendgroup": "Future",
         "line": {
          "color": "#00cc96",
          "dash": "solid"
         },
         "marker": {
          "symbol": "circle"
         },
         "mode": "lines",
         "name": "Future",
         "orientation": "v",
         "showlegend": true,
         "type": "scatter",
         "x": [
          "00:00:00",
          "00:15:00",
          "00:30:00",
          "00:45:00",
          "01:00:00",
          "01:15:00",
          "01:30:00",
          "01:45:00",
          "02:00:00",
          "02:15:00",
          "02:30:00",
          "02:45:00",
          "03:00:00",
          "03:15:00",
          "03:30:00",
          "03:45:00",
          "04:00:00",
          "04:15:00",
          "04:30:00",
          "04:45:00",
          "05:00:00",
          "05:15:00",
          "05:30:00",
          "05:45:00",
          "06:00:00",
          "06:15:00",
          "06:30:00",
          "06:45:00",
          "07:00:00",
          "07:15:00",
          "07:30:00",
          "07:45:00",
          "08:00:00",
          "08:15:00",
          "08:30:00",
          "08:45:00",
          "09:00:00",
          "09:15:00",
          "09:30:00",
          "09:45:00",
          "10:00:00",
          "10:15:00",
          "10:30:00",
          "10:45:00",
          "11:00:00",
          "11:15:00",
          "11:30:00",
          "11:45:00",
          "12:00:00",
          "12:15:00",
          "12:30:00",
          "12:45:00",
          "13:00:00",
          "13:15:00",
          "13:30:00",
          "13:45:00",
          "14:00:00",
          "14:15:00",
          "14:30:00",
          "14:45:00",
          "15:00:00",
          "15:15:00",
          "15:30:00",
          "15:45:00",
          "16:00:00",
          "16:15:00",
          "16:30:00",
          "16:45:00",
          "17:00:00",
          "17:15:00",
          "17:30:00",
          "17:45:00",
          "18:00:00",
          "18:15:00",
          "18:30:00",
          "18:45:00",
          "19:00:00",
          "19:15:00",
          "19:30:00",
          "19:45:00",
          "20:00:00",
          "20:15:00",
          "20:30:00",
          "20:45:00",
          "21:00:00",
          "21:15:00",
          "21:30:00",
          "21:45:00",
          "22:00:00",
          "22:15:00",
          "22:30:00",
          "22:45:00",
          "23:00:00",
          "23:15:00",
          "23:30:00",
          "23:45:00"
         ],
         "xaxis": "x",
         "y": [
          24.743207600245192,
          23.92001442298748,
          23.22196926679572,
          22.690969241664806,
          22.279641900351624,
          21.8772266963103,
          21.542472554289155,
          21.307135203298802,
          21.208281968335022,
          21.061843146790356,
          20.96530871456448,
          20.9045562869559,
          20.96886089326541,
          20.995618336617003,
          21.075668911048762,
          21.169066938095337,
          21.56226758513882,
          21.84721344526781,
          22.239966564964075,
          22.74971990213423,
          23.951250780170536,
          24.798667117368435,
          25.953184520220496,
          27.211309587385514,
          29.433849130511657,
          31.081187168476518,
          32.58887639678697,
          33.88295258090898,
          35.54495309018165,
          36.75522031289057,
          37.3181018697406,
          37.312389272286694,
          37.01292556673915,
          36.31630661304344,
          35.26670230435016,
          34.10266088530078,
          44.46239035614308,
          43.58771531458389,
          42.58946717756775,
          41.68482379900598,
          41.96463105724559,
          41.04134560882401,
          39.93258522587933,
          38.710528926995444,
          37.852214281857556,
          37.36206708261783,
          36.62059628508473,
          36.1590165066561,
          36.30043581509831,
          36.15373851667036,
          35.80417084935518,
          35.59356635212639,
          35.64820167237203,
          35.76657249740783,
          35.895292916726234,
          36.070420798910405,
          36.38338574527085,
          36.91347314484775,
          37.5719592360717,
          38.21683711135234,
          38.972680108089115,
          39.9208242665065,
          41.086068191702594,
          42.4398118708239,
          43.88296909243114,
          45.31200970572328,
          46.862705741786314,
          48.47242184552954,
          38.78103625368603,
          40.35142202796702,
          41.81140464624861,
          42.961388451637916,
          43.41486921286922,
          43.620763382501025,
          43.562088461459844,
          43.21624804671342,
          42.49666532651012,
          41.87815556810005,
          41.31901107450219,
          40.72525614362526,
          39.96772742595523,
          39.205765192954956,
          38.3687001843961,
          37.498177598865006,
          36.41523726280746,
          35.37015075950177,
          34.12087412605007,
          32.93336202531154,
          33.55517323358491,
          33.39759525296711,
          32.29593934994209,
          31.067253168275155,
          29.73559900020412,
          28.230583882070185,
          26.857153163916095,
          25.72947206987055
         ],
         "yaxis": "y"
        }
       ],
       "layout": {
        "legend": {
         "title": {
          "text": "variable"
         },
         "tracegroupgap": 0
        },
        "margin": {
         "t": 60
        },
        "template": {
         "data": {
          "bar": [
           {
            "error_x": {
             "color": "#2a3f5f"
            },
            "error_y": {
             "color": "#2a3f5f"
            },
            "marker": {
             "line": {
              "color": "#E5ECF6",
              "width": 0.5
             },
             "pattern": {
              "fillmode": "overlay",
              "size": 10,
              "solidity": 0.2
             }
            },
            "type": "bar"
           }
          ],
          "barpolar": [
           {
            "marker": {
             "line": {
              "color": "#E5ECF6",
              "width": 0.5
             },
             "pattern": {
              "fillmode": "overlay",
              "size": 10,
              "solidity": 0.2
             }
            },
            "type": "barpolar"
           }
          ],
          "carpet": [
           {
            "aaxis": {
             "endlinecolor": "#2a3f5f",
             "gridcolor": "white",
             "linecolor": "white",
             "minorgridcolor": "white",
             "startlinecolor": "#2a3f5f"
            },
            "baxis": {
             "endlinecolor": "#2a3f5f",
             "gridcolor": "white",
             "linecolor": "white",
             "minorgridcolor": "white",
             "startlinecolor": "#2a3f5f"
            },
            "type": "carpet"
           }
          ],
          "choropleth": [
           {
            "colorbar": {
             "outlinewidth": 0,
             "ticks": ""
            },
            "type": "choropleth"
           }
          ],
          "contour": [
           {
            "colorbar": {
             "outlinewidth": 0,
             "ticks": ""
            },
            "colorscale": [
             [
              0,
              "#0d0887"
             ],
             [
              0.1111111111111111,
              "#46039f"
             ],
             [
              0.2222222222222222,
              "#7201a8"
             ],
             [
              0.3333333333333333,
              "#9c179e"
             ],
             [
              0.4444444444444444,
              "#bd3786"
             ],
             [
              0.5555555555555556,
              "#d8576b"
             ],
             [
              0.6666666666666666,
              "#ed7953"
             ],
             [
              0.7777777777777778,
              "#fb9f3a"
             ],
             [
              0.8888888888888888,
              "#fdca26"
             ],
             [
              1,
              "#f0f921"
             ]
            ],
            "type": "contour"
           }
          ],
          "contourcarpet": [
           {
            "colorbar": {
             "outlinewidth": 0,
             "ticks": ""
            },
            "type": "contourcarpet"
           }
          ],
          "heatmap": [
           {
            "colorbar": {
             "outlinewidth": 0,
             "ticks": ""
            },
            "colorscale": [
             [
              0,
              "#0d0887"
             ],
             [
              0.1111111111111111,
              "#46039f"
             ],
             [
              0.2222222222222222,
              "#7201a8"
             ],
             [
              0.3333333333333333,
              "#9c179e"
             ],
             [
              0.4444444444444444,
              "#bd3786"
             ],
             [
              0.5555555555555556,
              "#d8576b"
             ],
             [
              0.6666666666666666,
              "#ed7953"
             ],
             [
              0.7777777777777778,
              "#fb9f3a"
             ],
             [
              0.8888888888888888,
              "#fdca26"
             ],
             [
              1,
              "#f0f921"
             ]
            ],
            "type": "heatmap"
           }
          ],
          "heatmapgl": [
           {
            "colorbar": {
             "outlinewidth": 0,
             "ticks": ""
            },
            "colorscale": [
             [
              0,
              "#0d0887"
             ],
             [
              0.1111111111111111,
              "#46039f"
             ],
             [
              0.2222222222222222,
              "#7201a8"
             ],
             [
              0.3333333333333333,
              "#9c179e"
             ],
             [
              0.4444444444444444,
              "#bd3786"
             ],
             [
              0.5555555555555556,
              "#d8576b"
             ],
             [
              0.6666666666666666,
              "#ed7953"
             ],
             [
              0.7777777777777778,
              "#fb9f3a"
             ],
             [
              0.8888888888888888,
              "#fdca26"
             ],
             [
              1,
              "#f0f921"
             ]
            ],
            "type": "heatmapgl"
           }
          ],
          "histogram": [
           {
            "marker": {
             "pattern": {
              "fillmode": "overlay",
              "size": 10,
              "solidity": 0.2
             }
            },
            "type": "histogram"
           }
          ],
          "histogram2d": [
           {
            "colorbar": {
             "outlinewidth": 0,
             "ticks": ""
            },
            "colorscale": [
             [
              0,
              "#0d0887"
             ],
             [
              0.1111111111111111,
              "#46039f"
             ],
             [
              0.2222222222222222,
              "#7201a8"
             ],
             [
              0.3333333333333333,
              "#9c179e"
             ],
             [
              0.4444444444444444,
              "#bd3786"
             ],
             [
              0.5555555555555556,
              "#d8576b"
             ],
             [
              0.6666666666666666,
              "#ed7953"
             ],
             [
              0.7777777777777778,
              "#fb9f3a"
             ],
             [
              0.8888888888888888,
              "#fdca26"
             ],
             [
              1,
              "#f0f921"
             ]
            ],
            "type": "histogram2d"
           }
          ],
          "histogram2dcontour": [
           {
            "colorbar": {
             "outlinewidth": 0,
             "ticks": ""
            },
            "colorscale": [
             [
              0,
              "#0d0887"
             ],
             [
              0.1111111111111111,
              "#46039f"
             ],
             [
              0.2222222222222222,
              "#7201a8"
             ],
             [
              0.3333333333333333,
              "#9c179e"
             ],
             [
              0.4444444444444444,
              "#bd3786"
             ],
             [
              0.5555555555555556,
              "#d8576b"
             ],
             [
              0.6666666666666666,
              "#ed7953"
             ],
             [
              0.7777777777777778,
              "#fb9f3a"
             ],
             [
              0.8888888888888888,
              "#fdca26"
             ],
             [
              1,
              "#f0f921"
             ]
            ],
            "type": "histogram2dcontour"
           }
          ],
          "mesh3d": [
           {
            "colorbar": {
             "outlinewidth": 0,
             "ticks": ""
            },
            "type": "mesh3d"
           }
          ],
          "parcoords": [
           {
            "line": {
             "colorbar": {
              "outlinewidth": 0,
              "ticks": ""
             }
            },
            "type": "parcoords"
           }
          ],
          "pie": [
           {
            "automargin": true,
            "type": "pie"
           }
          ],
          "scatter": [
           {
            "fillpattern": {
             "fillmode": "overlay",
             "size": 10,
             "solidity": 0.2
            },
            "type": "scatter"
           }
          ],
          "scatter3d": [
           {
            "line": {
             "colorbar": {
              "outlinewidth": 0,
              "ticks": ""
             }
            },
            "marker": {
             "colorbar": {
              "outlinewidth": 0,
              "ticks": ""
             }
            },
            "type": "scatter3d"
           }
          ],
          "scattercarpet": [
           {
            "marker": {
             "colorbar": {
              "outlinewidth": 0,
              "ticks": ""
             }
            },
            "type": "scattercarpet"
           }
          ],
          "scattergeo": [
           {
            "marker": {
             "colorbar": {
              "outlinewidth": 0,
              "ticks": ""
             }
            },
            "type": "scattergeo"
           }
          ],
          "scattergl": [
           {
            "marker": {
             "colorbar": {
              "outlinewidth": 0,
              "ticks": ""
             }
            },
            "type": "scattergl"
           }
          ],
          "scattermapbox": [
           {
            "marker": {
             "colorbar": {
              "outlinewidth": 0,
              "ticks": ""
             }
            },
            "type": "scattermapbox"
           }
          ],
          "scatterpolar": [
           {
            "marker": {
             "colorbar": {
              "outlinewidth": 0,
              "ticks": ""
             }
            },
            "type": "scatterpolar"
           }
          ],
          "scatterpolargl": [
           {
            "marker": {
             "colorbar": {
              "outlinewidth": 0,
              "ticks": ""
             }
            },
            "type": "scatterpolargl"
           }
          ],
          "scatterternary": [
           {
            "marker": {
             "colorbar": {
              "outlinewidth": 0,
              "ticks": ""
             }
            },
            "type": "scatterternary"
           }
          ],
          "surface": [
           {
            "colorbar": {
             "outlinewidth": 0,
             "ticks": ""
            },
            "colorscale": [
             [
              0,
              "#0d0887"
             ],
             [
              0.1111111111111111,
              "#46039f"
             ],
             [
              0.2222222222222222,
              "#7201a8"
             ],
             [
              0.3333333333333333,
              "#9c179e"
             ],
             [
              0.4444444444444444,
              "#bd3786"
             ],
             [
              0.5555555555555556,
              "#d8576b"
             ],
             [
              0.6666666666666666,
              "#ed7953"
             ],
             [
              0.7777777777777778,
              "#fb9f3a"
             ],
             [
              0.8888888888888888,
              "#fdca26"
             ],
             [
              1,
              "#f0f921"
             ]
            ],
            "type": "surface"
           }
          ],
          "table": [
           {
            "cells": {
             "fill": {
              "color": "#EBF0F8"
             },
             "line": {
              "color": "white"
             }
            },
            "header": {
             "fill": {
              "color": "#C8D4E3"
             },
             "line": {
              "color": "white"
             }
            },
            "type": "table"
           }
          ]
         },
         "layout": {
          "annotationdefaults": {
           "arrowcolor": "#2a3f5f",
           "arrowhead": 0,
           "arrowwidth": 1
          },
          "autotypenumbers": "strict",
          "coloraxis": {
           "colorbar": {
            "outlinewidth": 0,
            "ticks": ""
           }
          },
          "colorscale": {
           "diverging": [
            [
             0,
             "#8e0152"
            ],
            [
             0.1,
             "#c51b7d"
            ],
            [
             0.2,
             "#de77ae"
            ],
            [
             0.3,
             "#f1b6da"
            ],
            [
             0.4,
             "#fde0ef"
            ],
            [
             0.5,
             "#f7f7f7"
            ],
            [
             0.6,
             "#e6f5d0"
            ],
            [
             0.7,
             "#b8e186"
            ],
            [
             0.8,
             "#7fbc41"
            ],
            [
             0.9,
             "#4d9221"
            ],
            [
             1,
             "#276419"
            ]
           ],
           "sequential": [
            [
             0,
             "#0d0887"
            ],
            [
             0.1111111111111111,
             "#46039f"
            ],
            [
             0.2222222222222222,
             "#7201a8"
            ],
            [
             0.3333333333333333,
             "#9c179e"
            ],
            [
             0.4444444444444444,
             "#bd3786"
            ],
            [
             0.5555555555555556,
             "#d8576b"
            ],
            [
             0.6666666666666666,
             "#ed7953"
            ],
            [
             0.7777777777777778,
             "#fb9f3a"
            ],
            [
             0.8888888888888888,
             "#fdca26"
            ],
            [
             1,
             "#f0f921"
            ]
           ],
           "sequentialminus": [
            [
             0,
             "#0d0887"
            ],
            [
             0.1111111111111111,
             "#46039f"
            ],
            [
             0.2222222222222222,
             "#7201a8"
            ],
            [
             0.3333333333333333,
             "#9c179e"
            ],
            [
             0.4444444444444444,
             "#bd3786"
            ],
            [
             0.5555555555555556,
             "#d8576b"
            ],
            [
             0.6666666666666666,
             "#ed7953"
            ],
            [
             0.7777777777777778,
             "#fb9f3a"
            ],
            [
             0.8888888888888888,
             "#fdca26"
            ],
            [
             1,
             "#f0f921"
            ]
           ]
          },
          "colorway": [
           "#636efa",
           "#EF553B",
           "#00cc96",
           "#ab63fa",
           "#FFA15A",
           "#19d3f3",
           "#FF6692",
           "#B6E880",
           "#FF97FF",
           "#FECB52"
          ],
          "font": {
           "color": "#2a3f5f"
          },
          "geo": {
           "bgcolor": "white",
           "lakecolor": "white",
           "landcolor": "#E5ECF6",
           "showlakes": true,
           "showland": true,
           "subunitcolor": "white"
          },
          "hoverlabel": {
           "align": "left"
          },
          "hovermode": "closest",
          "mapbox": {
           "style": "light"
          },
          "paper_bgcolor": "white",
          "plot_bgcolor": "#E5ECF6",
          "polar": {
           "angularaxis": {
            "gridcolor": "white",
            "linecolor": "white",
            "ticks": ""
           },
           "bgcolor": "#E5ECF6",
           "radialaxis": {
            "gridcolor": "white",
            "linecolor": "white",
            "ticks": ""
           }
          },
          "scene": {
           "xaxis": {
            "backgroundcolor": "#E5ECF6",
            "gridcolor": "white",
            "gridwidth": 2,
            "linecolor": "white",
            "showbackground": true,
            "ticks": "",
            "zerolinecolor": "white"
           },
           "yaxis": {
            "backgroundcolor": "#E5ECF6",
            "gridcolor": "white",
            "gridwidth": 2,
            "linecolor": "white",
            "showbackground": true,
            "ticks": "",
            "zerolinecolor": "white"
           },
           "zaxis": {
            "backgroundcolor": "#E5ECF6",
            "gridcolor": "white",
            "gridwidth": 2,
            "linecolor": "white",
            "showbackground": true,
            "ticks": "",
            "zerolinecolor": "white"
           }
          },
          "shapedefaults": {
           "line": {
            "color": "#2a3f5f"
           }
          },
          "ternary": {
           "aaxis": {
            "gridcolor": "white",
            "linecolor": "white",
            "ticks": ""
           },
           "baxis": {
            "gridcolor": "white",
            "linecolor": "white",
            "ticks": ""
           },
           "bgcolor": "#E5ECF6",
           "caxis": {
            "gridcolor": "white",
            "linecolor": "white",
            "ticks": ""
           }
          },
          "title": {
           "x": 0.05
          },
          "xaxis": {
           "automargin": true,
           "gridcolor": "white",
           "linecolor": "white",
           "ticks": "",
           "title": {
            "standoff": 15
           },
           "zerolinecolor": "white",
           "zerolinewidth": 2
          },
          "yaxis": {
           "automargin": true,
           "gridcolor": "white",
           "linecolor": "white",
           "ticks": "",
           "title": {
            "standoff": 15
           },
           "zerolinecolor": "white",
           "zerolinewidth": 2
          }
         }
        },
        "xaxis": {
         "anchor": "y",
         "domain": [
          0,
          1
         ],
         "title": {
          "text": "index"
         }
        },
        "yaxis": {
         "anchor": "x",
         "domain": [
          0,
          1
         ],
         "range": [
          0,
          48.47242184552954
         ],
         "title": {
          "text": "value"
         }
        }
       }
      }
     },
     "metadata": {},
     "output_type": "display_data"
    }
   ],
   "source": [
    "\n",
    "# future_zs_with_hw.plot()\n",
    "# many_day_df_current.plot()\n",
    "# many_day_df_current.mean(axis=1).plot()\n",
    "# plotting_df_many.plot()\n",
    "fig = go.Figure(plotting_df_many.plot())\n",
    "fig.update_yaxes(range = [0,plotting_df_many.max().max()])\n"
   ]
  },
  {
   "cell_type": "code",
   "execution_count": 53,
   "metadata": {},
   "outputs": [
    {
     "name": "stdout",
     "output_type": "stream",
     "text": [
      "Current total energy delivered =  882.0  GWh\n",
      "Future total energy delivered =  978.0  GWh\n",
      "Threshold of 0.9 POE = 68.1 MW\n",
      "Max peak = 77.3 MW\n",
      "Future HW demand = 84.9 MWh/day\n",
      "Future HW demand = 3.7 kWh/household/day\n",
      "Future HW demand = 931477.3 MWh for 250,000 households/day\n",
      "Current households = 20.3 k\n",
      "Future households = 22.8 k\n"
     ]
    }
   ],
   "source": [
    "# Utilization\n",
    "total_day_profile = many_day_df_current.sum(axis='columns')/1000\n",
    "total_day_profile_peak = total_day_profile.max()\n",
    "print('Current total energy delivered = ', np.round(total_day_profile.sum(),0), \" GWh\")\n",
    "total_day_profile = many_day_df_future.sum(axis='columns')/1000\n",
    "total_day_profile_peak = total_day_profile.max()\n",
    "print('Future total energy delivered = ', np.round(total_day_profile.sum(),0), \" GWh\")\n",
    "\n",
    "POE_index = int(POE*nu_days)\n",
    "# peak_load_MW = many_day_df_future.max(axis='columns')\n",
    "peak_load_day = many_day_df_future.max().idxmax()\n",
    "peak_load_MW = many_day_df_future[peak_load_day].max()\n",
    "sorted_load_days = many_day_df_future.max().sort_values(ascending=True)\n",
    "\n",
    "high_load_days = sorted_load_days.iloc[POE_index:].index.to_numpy()\n",
    "many_day_df_future[high_load_days].plot()\n",
    "\n",
    "min_threshold_POE = many_day_df_future[high_load_days].max().min()\n",
    "\n",
    "print(f\"Threshold of {POE} POE = {np.round(min_threshold_POE,1)} MW\")\n",
    "print(f\"Max peak = {np.round(peak_load_MW,1)} MW\")\n",
    "print(f\"Future HW demand = {np.round(future_hw_MWh_total,1)} MWh/day\")\n",
    "print(f\"Future HW demand = {np.round((future_hw_MWh_total/future_households)*1000,1)} kWh/household/day\")\n",
    "print(f\"Future HW demand = {np.round((future_hw_MWh_total/future_households)*250000*1000,1)} MWh for 250,000 households/day\")\n",
    "print(f\"Current households = {np.round((current_households)/1000,1)} k\")\n",
    "print(f\"Future households = {np.round((future_households)/1000,1)} k\")"
   ]
  },
  {
   "cell_type": "code",
   "execution_count": 10,
   "metadata": {},
   "outputs": [
    {
     "data": {
      "text/plain": [
       "np.float64(53452.54723711029)"
      ]
     },
     "execution_count": 10,
     "metadata": {},
     "output_type": "execute_result"
    }
   ],
   "source": [
    "future_households"
   ]
  },
  {
   "cell_type": "code",
   "execution_count": 9,
   "metadata": {},
   "outputs": [
    {
     "data": {
      "application/vnd.plotly.v1+json": {
       "config": {
        "plotlyServerURL": "https://plot.ly"
       },
       "data": [
        {
         "hovertemplate": "variable=0<br>index=%{x}<br>value=%{y}<extra></extra>",
         "legendgroup": "0",
         "line": {
          "color": "#636efa",
          "dash": "solid"
         },
         "marker": {
          "symbol": "circle"
         },
         "mode": "lines",
         "name": "0",
         "orientation": "v",
         "showlegend": true,
         "type": "scatter",
         "x": [
          "00:00:00",
          "00:15:00",
          "00:30:00",
          "00:45:00",
          "01:00:00",
          "01:15:00",
          "01:30:00",
          "01:45:00",
          "02:00:00",
          "02:15:00",
          "02:30:00",
          "02:45:00",
          "03:00:00",
          "03:15:00",
          "03:30:00",
          "03:45:00",
          "04:00:00",
          "04:15:00",
          "04:30:00",
          "04:45:00",
          "05:00:00",
          "05:15:00",
          "05:30:00",
          "05:45:00",
          "06:00:00",
          "06:15:00",
          "06:30:00",
          "06:45:00",
          "07:00:00",
          "07:15:00",
          "07:30:00",
          "07:45:00",
          "08:00:00",
          "08:15:00",
          "08:30:00",
          "08:45:00",
          "09:00:00",
          "09:15:00",
          "09:30:00",
          "09:45:00",
          "10:00:00",
          "10:15:00",
          "10:30:00",
          "10:45:00",
          "11:00:00",
          "11:15:00",
          "11:30:00",
          "11:45:00",
          "12:00:00",
          "12:15:00",
          "12:30:00",
          "12:45:00",
          "13:00:00",
          "13:15:00",
          "13:30:00",
          "13:45:00",
          "14:00:00",
          "14:15:00",
          "14:30:00",
          "14:45:00",
          "15:00:00",
          "15:15:00",
          "15:30:00",
          "15:45:00",
          "16:00:00",
          "16:15:00",
          "16:30:00",
          "16:45:00",
          "17:00:00",
          "17:15:00",
          "17:30:00",
          "17:45:00",
          "18:00:00",
          "18:15:00",
          "18:30:00",
          "18:45:00",
          "19:00:00",
          "19:15:00",
          "19:30:00",
          "19:45:00",
          "20:00:00",
          "20:15:00",
          "20:30:00",
          "20:45:00",
          "21:00:00",
          "21:15:00",
          "21:30:00",
          "21:45:00",
          "22:00:00",
          "22:15:00",
          "22:30:00",
          "22:45:00",
          "23:00:00",
          "23:15:00",
          "23:30:00",
          "23:45:00"
         ],
         "xaxis": "x",
         "y": [
          7.121610036153871,
          6.848449723819006,
          6.624796019206636,
          6.431270189018669,
          6.286879357320924,
          6.150154686452047,
          6.036400971459977,
          5.937525389063961,
          5.8710073364860165,
          5.81753689695254,
          5.808164086316173,
          5.787876974894722,
          5.78245423276442,
          5.774375172788576,
          5.79771773789766,
          5.8423383723809375,
          5.960344948586875,
          6.049999116700408,
          6.1800072947784646,
          6.326517675430681,
          6.759222218157345,
          7.0579272243851685,
          7.384640556082912,
          7.731874975385389,
          8.471680140328395,
          8.952817752995417,
          9.385191976404494,
          9.75019482233187,
          10.3322036966053,
          10.643584706645296,
          10.82900395024762,
          10.891888490332176,
          10.868256895820204,
          10.68659503445537,
          10.50708024865481,
          10.295593305573355,
          18.041475540153026,
          17.880747665539914,
          17.726103171692245,
          17.52826942707083,
          17.654217430203605,
          17.437541721175148,
          17.183828958662886,
          16.93227703501979,
          16.734691029886548,
          16.568526649838255,
          16.431898322103667,
          16.31515796994845,
          16.33511476205233,
          16.37661112632349,
          16.327118281905893,
          16.24753885297858,
          16.2700556197937,
          16.2685416562548,
          16.22441650074788,
          16.3161489279012,
          16.363081797607553,
          16.54145422910147,
          16.70721947330772,
          16.849545809270563,
          16.994101800627092,
          17.218581303533405,
          17.530278869586105,
          17.858244662029676,
          18.205919507088932,
          18.63263701218442,
          19.029047719891825,
          19.492251746275176,
          12.038674581145186,
          12.51370128643696,
          12.90640966512646,
          13.24074786773838,
          13.330168059668631,
          13.415569366568306,
          13.423400687055956,
          13.34160536603988,
          13.129609180677143,
          12.968564750051355,
          12.803914333541954,
          12.62054582236962,
          12.348362704682593,
          12.105591769565214,
          11.842864042343942,
          11.548549530378978,
          11.12503887532501,
          10.748915279039053,
          10.322996045627715,
          9.94490429674117,
          10.072104760619784,
          9.96949932259608,
          9.594407974177564,
          9.195134499051134,
          8.756043782851238,
          8.284788223101861,
          7.827667577483986,
          7.45151645458823
         ],
         "yaxis": "y"
        }
       ],
       "layout": {
        "legend": {
         "title": {
          "text": "variable"
         },
         "tracegroupgap": 0
        },
        "margin": {
         "t": 60
        },
        "template": {
         "data": {
          "bar": [
           {
            "error_x": {
             "color": "#2a3f5f"
            },
            "error_y": {
             "color": "#2a3f5f"
            },
            "marker": {
             "line": {
              "color": "#E5ECF6",
              "width": 0.5
             },
             "pattern": {
              "fillmode": "overlay",
              "size": 10,
              "solidity": 0.2
             }
            },
            "type": "bar"
           }
          ],
          "barpolar": [
           {
            "marker": {
             "line": {
              "color": "#E5ECF6",
              "width": 0.5
             },
             "pattern": {
              "fillmode": "overlay",
              "size": 10,
              "solidity": 0.2
             }
            },
            "type": "barpolar"
           }
          ],
          "carpet": [
           {
            "aaxis": {
             "endlinecolor": "#2a3f5f",
             "gridcolor": "white",
             "linecolor": "white",
             "minorgridcolor": "white",
             "startlinecolor": "#2a3f5f"
            },
            "baxis": {
             "endlinecolor": "#2a3f5f",
             "gridcolor": "white",
             "linecolor": "white",
             "minorgridcolor": "white",
             "startlinecolor": "#2a3f5f"
            },
            "type": "carpet"
           }
          ],
          "choropleth": [
           {
            "colorbar": {
             "outlinewidth": 0,
             "ticks": ""
            },
            "type": "choropleth"
           }
          ],
          "contour": [
           {
            "colorbar": {
             "outlinewidth": 0,
             "ticks": ""
            },
            "colorscale": [
             [
              0,
              "#0d0887"
             ],
             [
              0.1111111111111111,
              "#46039f"
             ],
             [
              0.2222222222222222,
              "#7201a8"
             ],
             [
              0.3333333333333333,
              "#9c179e"
             ],
             [
              0.4444444444444444,
              "#bd3786"
             ],
             [
              0.5555555555555556,
              "#d8576b"
             ],
             [
              0.6666666666666666,
              "#ed7953"
             ],
             [
              0.7777777777777778,
              "#fb9f3a"
             ],
             [
              0.8888888888888888,
              "#fdca26"
             ],
             [
              1,
              "#f0f921"
             ]
            ],
            "type": "contour"
           }
          ],
          "contourcarpet": [
           {
            "colorbar": {
             "outlinewidth": 0,
             "ticks": ""
            },
            "type": "contourcarpet"
           }
          ],
          "heatmap": [
           {
            "colorbar": {
             "outlinewidth": 0,
             "ticks": ""
            },
            "colorscale": [
             [
              0,
              "#0d0887"
             ],
             [
              0.1111111111111111,
              "#46039f"
             ],
             [
              0.2222222222222222,
              "#7201a8"
             ],
             [
              0.3333333333333333,
              "#9c179e"
             ],
             [
              0.4444444444444444,
              "#bd3786"
             ],
             [
              0.5555555555555556,
              "#d8576b"
             ],
             [
              0.6666666666666666,
              "#ed7953"
             ],
             [
              0.7777777777777778,
              "#fb9f3a"
             ],
             [
              0.8888888888888888,
              "#fdca26"
             ],
             [
              1,
              "#f0f921"
             ]
            ],
            "type": "heatmap"
           }
          ],
          "heatmapgl": [
           {
            "colorbar": {
             "outlinewidth": 0,
             "ticks": ""
            },
            "colorscale": [
             [
              0,
              "#0d0887"
             ],
             [
              0.1111111111111111,
              "#46039f"
             ],
             [
              0.2222222222222222,
              "#7201a8"
             ],
             [
              0.3333333333333333,
              "#9c179e"
             ],
             [
              0.4444444444444444,
              "#bd3786"
             ],
             [
              0.5555555555555556,
              "#d8576b"
             ],
             [
              0.6666666666666666,
              "#ed7953"
             ],
             [
              0.7777777777777778,
              "#fb9f3a"
             ],
             [
              0.8888888888888888,
              "#fdca26"
             ],
             [
              1,
              "#f0f921"
             ]
            ],
            "type": "heatmapgl"
           }
          ],
          "histogram": [
           {
            "marker": {
             "pattern": {
              "fillmode": "overlay",
              "size": 10,
              "solidity": 0.2
             }
            },
            "type": "histogram"
           }
          ],
          "histogram2d": [
           {
            "colorbar": {
             "outlinewidth": 0,
             "ticks": ""
            },
            "colorscale": [
             [
              0,
              "#0d0887"
             ],
             [
              0.1111111111111111,
              "#46039f"
             ],
             [
              0.2222222222222222,
              "#7201a8"
             ],
             [
              0.3333333333333333,
              "#9c179e"
             ],
             [
              0.4444444444444444,
              "#bd3786"
             ],
             [
              0.5555555555555556,
              "#d8576b"
             ],
             [
              0.6666666666666666,
              "#ed7953"
             ],
             [
              0.7777777777777778,
              "#fb9f3a"
             ],
             [
              0.8888888888888888,
              "#fdca26"
             ],
             [
              1,
              "#f0f921"
             ]
            ],
            "type": "histogram2d"
           }
          ],
          "histogram2dcontour": [
           {
            "colorbar": {
             "outlinewidth": 0,
             "ticks": ""
            },
            "colorscale": [
             [
              0,
              "#0d0887"
             ],
             [
              0.1111111111111111,
              "#46039f"
             ],
             [
              0.2222222222222222,
              "#7201a8"
             ],
             [
              0.3333333333333333,
              "#9c179e"
             ],
             [
              0.4444444444444444,
              "#bd3786"
             ],
             [
              0.5555555555555556,
              "#d8576b"
             ],
             [
              0.6666666666666666,
              "#ed7953"
             ],
             [
              0.7777777777777778,
              "#fb9f3a"
             ],
             [
              0.8888888888888888,
              "#fdca26"
             ],
             [
              1,
              "#f0f921"
             ]
            ],
            "type": "histogram2dcontour"
           }
          ],
          "mesh3d": [
           {
            "colorbar": {
             "outlinewidth": 0,
             "ticks": ""
            },
            "type": "mesh3d"
           }
          ],
          "parcoords": [
           {
            "line": {
             "colorbar": {
              "outlinewidth": 0,
              "ticks": ""
             }
            },
            "type": "parcoords"
           }
          ],
          "pie": [
           {
            "automargin": true,
            "type": "pie"
           }
          ],
          "scatter": [
           {
            "fillpattern": {
             "fillmode": "overlay",
             "size": 10,
             "solidity": 0.2
            },
            "type": "scatter"
           }
          ],
          "scatter3d": [
           {
            "line": {
             "colorbar": {
              "outlinewidth": 0,
              "ticks": ""
             }
            },
            "marker": {
             "colorbar": {
              "outlinewidth": 0,
              "ticks": ""
             }
            },
            "type": "scatter3d"
           }
          ],
          "scattercarpet": [
           {
            "marker": {
             "colorbar": {
              "outlinewidth": 0,
              "ticks": ""
             }
            },
            "type": "scattercarpet"
           }
          ],
          "scattergeo": [
           {
            "marker": {
             "colorbar": {
              "outlinewidth": 0,
              "ticks": ""
             }
            },
            "type": "scattergeo"
           }
          ],
          "scattergl": [
           {
            "marker": {
             "colorbar": {
              "outlinewidth": 0,
              "ticks": ""
             }
            },
            "type": "scattergl"
           }
          ],
          "scattermapbox": [
           {
            "marker": {
             "colorbar": {
              "outlinewidth": 0,
              "ticks": ""
             }
            },
            "type": "scattermapbox"
           }
          ],
          "scatterpolar": [
           {
            "marker": {
             "colorbar": {
              "outlinewidth": 0,
              "ticks": ""
             }
            },
            "type": "scatterpolar"
           }
          ],
          "scatterpolargl": [
           {
            "marker": {
             "colorbar": {
              "outlinewidth": 0,
              "ticks": ""
             }
            },
            "type": "scatterpolargl"
           }
          ],
          "scatterternary": [
           {
            "marker": {
             "colorbar": {
              "outlinewidth": 0,
              "ticks": ""
             }
            },
            "type": "scatterternary"
           }
          ],
          "surface": [
           {
            "colorbar": {
             "outlinewidth": 0,
             "ticks": ""
            },
            "colorscale": [
             [
              0,
              "#0d0887"
             ],
             [
              0.1111111111111111,
              "#46039f"
             ],
             [
              0.2222222222222222,
              "#7201a8"
             ],
             [
              0.3333333333333333,
              "#9c179e"
             ],
             [
              0.4444444444444444,
              "#bd3786"
             ],
             [
              0.5555555555555556,
              "#d8576b"
             ],
             [
              0.6666666666666666,
              "#ed7953"
             ],
             [
              0.7777777777777778,
              "#fb9f3a"
             ],
             [
              0.8888888888888888,
              "#fdca26"
             ],
             [
              1,
              "#f0f921"
             ]
            ],
            "type": "surface"
           }
          ],
          "table": [
           {
            "cells": {
             "fill": {
              "color": "#EBF0F8"
             },
             "line": {
              "color": "white"
             }
            },
            "header": {
             "fill": {
              "color": "#C8D4E3"
             },
             "line": {
              "color": "white"
             }
            },
            "type": "table"
           }
          ]
         },
         "layout": {
          "annotationdefaults": {
           "arrowcolor": "#2a3f5f",
           "arrowhead": 0,
           "arrowwidth": 1
          },
          "autotypenumbers": "strict",
          "coloraxis": {
           "colorbar": {
            "outlinewidth": 0,
            "ticks": ""
           }
          },
          "colorscale": {
           "diverging": [
            [
             0,
             "#8e0152"
            ],
            [
             0.1,
             "#c51b7d"
            ],
            [
             0.2,
             "#de77ae"
            ],
            [
             0.3,
             "#f1b6da"
            ],
            [
             0.4,
             "#fde0ef"
            ],
            [
             0.5,
             "#f7f7f7"
            ],
            [
             0.6,
             "#e6f5d0"
            ],
            [
             0.7,
             "#b8e186"
            ],
            [
             0.8,
             "#7fbc41"
            ],
            [
             0.9,
             "#4d9221"
            ],
            [
             1,
             "#276419"
            ]
           ],
           "sequential": [
            [
             0,
             "#0d0887"
            ],
            [
             0.1111111111111111,
             "#46039f"
            ],
            [
             0.2222222222222222,
             "#7201a8"
            ],
            [
             0.3333333333333333,
             "#9c179e"
            ],
            [
             0.4444444444444444,
             "#bd3786"
            ],
            [
             0.5555555555555556,
             "#d8576b"
            ],
            [
             0.6666666666666666,
             "#ed7953"
            ],
            [
             0.7777777777777778,
             "#fb9f3a"
            ],
            [
             0.8888888888888888,
             "#fdca26"
            ],
            [
             1,
             "#f0f921"
            ]
           ],
           "sequentialminus": [
            [
             0,
             "#0d0887"
            ],
            [
             0.1111111111111111,
             "#46039f"
            ],
            [
             0.2222222222222222,
             "#7201a8"
            ],
            [
             0.3333333333333333,
             "#9c179e"
            ],
            [
             0.4444444444444444,
             "#bd3786"
            ],
            [
             0.5555555555555556,
             "#d8576b"
            ],
            [
             0.6666666666666666,
             "#ed7953"
            ],
            [
             0.7777777777777778,
             "#fb9f3a"
            ],
            [
             0.8888888888888888,
             "#fdca26"
            ],
            [
             1,
             "#f0f921"
            ]
           ]
          },
          "colorway": [
           "#636efa",
           "#EF553B",
           "#00cc96",
           "#ab63fa",
           "#FFA15A",
           "#19d3f3",
           "#FF6692",
           "#B6E880",
           "#FF97FF",
           "#FECB52"
          ],
          "font": {
           "color": "#2a3f5f"
          },
          "geo": {
           "bgcolor": "white",
           "lakecolor": "white",
           "landcolor": "#E5ECF6",
           "showlakes": true,
           "showland": true,
           "subunitcolor": "white"
          },
          "hoverlabel": {
           "align": "left"
          },
          "hovermode": "closest",
          "mapbox": {
           "style": "light"
          },
          "paper_bgcolor": "white",
          "plot_bgcolor": "#E5ECF6",
          "polar": {
           "angularaxis": {
            "gridcolor": "white",
            "linecolor": "white",
            "ticks": ""
           },
           "bgcolor": "#E5ECF6",
           "radialaxis": {
            "gridcolor": "white",
            "linecolor": "white",
            "ticks": ""
           }
          },
          "scene": {
           "xaxis": {
            "backgroundcolor": "#E5ECF6",
            "gridcolor": "white",
            "gridwidth": 2,
            "linecolor": "white",
            "showbackground": true,
            "ticks": "",
            "zerolinecolor": "white"
           },
           "yaxis": {
            "backgroundcolor": "#E5ECF6",
            "gridcolor": "white",
            "gridwidth": 2,
            "linecolor": "white",
            "showbackground": true,
            "ticks": "",
            "zerolinecolor": "white"
           },
           "zaxis": {
            "backgroundcolor": "#E5ECF6",
            "gridcolor": "white",
            "gridwidth": 2,
            "linecolor": "white",
            "showbackground": true,
            "ticks": "",
            "zerolinecolor": "white"
           }
          },
          "shapedefaults": {
           "line": {
            "color": "#2a3f5f"
           }
          },
          "ternary": {
           "aaxis": {
            "gridcolor": "white",
            "linecolor": "white",
            "ticks": ""
           },
           "baxis": {
            "gridcolor": "white",
            "linecolor": "white",
            "ticks": ""
           },
           "bgcolor": "#E5ECF6",
           "caxis": {
            "gridcolor": "white",
            "linecolor": "white",
            "ticks": ""
           }
          },
          "title": {
           "x": 0.05
          },
          "xaxis": {
           "automargin": true,
           "gridcolor": "white",
           "linecolor": "white",
           "ticks": "",
           "title": {
            "standoff": 15
           },
           "zerolinecolor": "white",
           "zerolinewidth": 2
          },
          "yaxis": {
           "automargin": true,
           "gridcolor": "white",
           "linecolor": "white",
           "ticks": "",
           "title": {
            "standoff": 15
           },
           "zerolinecolor": "white",
           "zerolinewidth": 2
          }
         }
        },
        "xaxis": {
         "anchor": "y",
         "domain": [
          0,
          1
         ],
         "title": {
          "text": "index"
         }
        },
        "yaxis": {
         "anchor": "x",
         "domain": [
          0,
          1
         ],
         "range": [
          0,
          19.492251746275176
         ],
         "title": {
          "text": "value"
         }
        }
       }
      }
     },
     "metadata": {},
     "output_type": "display_data"
    }
   ],
   "source": [
    "\n",
    "# fig = make_subplots(rows=1, cols=1)#,specs=[[{\"secondary_y\": True}]])\n",
    "fig = go.Figure(total_day_profile.plot())\n",
    "fig.update_yaxes(range = [0,total_day_profile_peak])"
   ]
  },
  {
   "cell_type": "code",
   "execution_count": null,
   "metadata": {},
   "outputs": [],
   "source": []
  }
 ],
 "metadata": {
  "kernelspec": {
   "display_name": "venv",
   "language": "python",
   "name": "python3"
  },
  "language_info": {
   "codemirror_mode": {
    "name": "ipython",
    "version": 3
   },
   "file_extension": ".py",
   "mimetype": "text/x-python",
   "name": "python",
   "nbconvert_exporter": "python",
   "pygments_lexer": "ipython3",
   "version": "3.10.12"
  }
 },
 "nbformat": 4,
 "nbformat_minor": 2
}
