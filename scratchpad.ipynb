{
 "cells": [
  {
   "cell_type": "code",
   "execution_count": 62,
   "metadata": {},
   "outputs": [],
   "source": [
    "import numpy as np\n",
    "import pandas as pd\n",
    "import glob\n",
    "\n",
    "import plotly.graph_objects as go\n",
    "import plotly.express as px\n",
    "from datetime import datetime\n",
    "from plotly.subplots import make_subplots\n",
    "pd.options.plotting.backend = \"plotly\""
   ]
  },
  {
   "cell_type": "code",
   "execution_count": 2,
   "metadata": {},
   "outputs": [],
   "source": [
    "def zs_data(start: str, end: str, src: str) -> pd.DataFrame:\n",
    "    \"\"\"Get data from \"\"\"\n",
    "    data_df = pd.read_csv(src, index_col=0)#, parse_dates=[\"Time\"])\n",
    "\n",
    "    freq='15min'\n",
    "    intervals_per_hour = 4\n",
    "\n",
    "    # temp bandaid to deal with substation data\n",
    "    # data_df.index = pd.to_datetime(data_df.index, utc=True)#, format='mixed')\n",
    "\n",
    "    # NOTE timestamps indicate start of an interval\n",
    "    # Starting with 15 min data we'll set the time index to start at the beninning of this \n",
    "    # period and then trim off the first 5 min after ffill()\n",
    "    tmp = pd.date_range(start=pd.to_datetime(\"2021-7-1 00:00\").tz_localize(\"UTC\"), \n",
    "                        end=pd.to_datetime(\"2023-06-30 23:45\").tz_localize(\"UTC\"), \n",
    "                        freq=freq)\n",
    "    data_df.index = tmp\n",
    "\n",
    "    # data_df = data_df.resample(\"5min\").ffill()#.reset_index()\n",
    "\n",
    "    # data_df.rename(columns={data_df.columns[0]: \"network_load\"}, inplace=True)\n",
    "\n",
    "    new_df = data_df.loc[start:end]#[1:]\n",
    "\n",
    "    # new_df.reset_index(inplace=True)\n",
    "\n",
    "    # temp bandaid to deal with substation data\n",
    "    # new_df = new_df.rename(columns={data_df.index.name:'settlementdate'})\n",
    "    # new_df = new_df.rename(columns={'index':'settlementdate'})\n",
    "    return new_df, intervals_per_hour"
   ]
  },
  {
   "cell_type": "code",
   "execution_count": 96,
   "metadata": {},
   "outputs": [],
   "source": [
    "zs_df, intervals_per_hour = zs_data(\"2022-1-1 00:00\", \"2022-12-31 23:45\",\n",
    "    src = \"data/evoenergy-zone-substation-report-2021-23.csv\")\n",
    "\n",
    "pop_SA3_df = pd.read_csv('data/SA3_population.csv', index_col=0)\n",
    "pop_SA2_df = pd.read_csv('data/SA2_population.csv', index_col=0)\n",
    "evo_cust_df = pd.read_csv('data/evo_customers.csv', index_col=0)\n",
    "\n",
    "# http://www.bom.gov.au/climate/averages/tables/cw_070282.shtml\n",
    "mean_3pm_temps = [26.9,26.4,23.5,19.1,14.9,11.4,10.6,12.6,15.1,18.3,22.0,24.8,18.8]\n",
    "mean_temps_Bin = [20.495001,20.325001,17.85,13.48,9.469999,6.67,5.585,7.105,9.710001,12.985,15.895,18.775]\n",
    "\n",
    "NextGen_solar = pd.read_csv('data/NextGen_solar.csv', index_col=0) \n",
    "NextGen_solar_capacity = NextGen_solar/NextGen_solar.min()\n",
    "NextGen_solar_capacity.index = zs_df.index\n",
    "\n",
    "SA3_dict = {'Gungahlin':['Gold Creek'],\n",
    "            'Tuggeranong': ['Wanniassa', 'Gilmore', 'Theodore'],\n",
    "            'Woden Valley':['Woden', 'Wanniassa'],\n",
    "            'Canberra East':['East Lake'],#, 'Fyshwick'],\n",
    "            'South Canberra':['Telopea Park'],\n",
    "            'Belconnen':['Belconnen', 'Latham'],\n",
    "            'North Canberra':['Civic', 'City East'],\n",
    "            'Weston Creek':['Woden'],\n",
    "            'Molongolo':['Woden'],\n",
    "            'Urriarra - Namadgi':['Tennent/Angle Crossing'],}\n",
    "\n",
    "SA3_division = {'Woden Valley':[39238/(39238+24315+12102), 39238/(39238+88965)],\n",
    "                'Tuggeranong':[88965/(39238+88965), 1, 1],\n",
    "            'Weston Creek':[24315/(39238+24315+12102), ],\n",
    "            'Molongolo':[12102/(39238+24315+12102)],\n",
    "            'Gungahlin':[1],\n",
    "            'Canberra East':[1,1],\n",
    "            'South Canberra':[1],\n",
    "            'Belconnen':[1,1],\n",
    "            'North Canberra':[1,1]}\n",
    "\n",
    "zs_ratings = {'Gold Creek':[57,74], \n",
    "             'Gilmore':[45,62],  \n",
    "             'Theodore':[45,62], \n",
    "            'Woden':[95,95], \n",
    "            'East Lake':[50,60], \n",
    "            'Fyshwick':[28,28], \n",
    "            'Telopea Park':[100,114], \n",
    "            'Belconnen':[55,74], \n",
    "            'Latham':[95,95], \n",
    "            'Civic':[110,114],\n",
    "            'City East':[95,95],\n",
    "            'Wanniassa':[95,95]} # Table 54  [Continuous,2hr emergency] ratings\n",
    "\n",
    "ACT_vehicles = 318000 # 2021 data https://www.abs.gov.au/statistics/industry/tourism-and-transport/motor-vehicle-census-australia/latest-release"
   ]
  },
  {
   "cell_type": "code",
   "execution_count": 92,
   "metadata": {},
   "outputs": [],
   "source": [
    "# ng_demand = pd.DataFrame()\n",
    "# ng_solar = pd.DataFrame()\n",
    "\n",
    "# nextgen_files = glob.glob('/home/bjorn/Data/NextGen_csv/*.csv')\n",
    "# for f in nextgen_files:\n",
    "#     ng = pd.read_csv(f)\n",
    "#     ng = ng.set_index('original index')\n",
    "#     load = ng['load power (kW)'].to_frame(name=f)\n",
    "#     solar_tmp = ng['solar power (kW)'].to_frame(name=f)\n",
    "#     ng_demand = pd.concat([ng_demand,load], axis=1)\n",
    "#     ng_solar = pd.concat([ng_solar,solar_tmp], axis=1)\n",
    "\n",
    "\n",
    "# # ng_demand_av = ng_demand.mean(axis=1)\n",
    "# ng_solar_av = ng_solar.mean(axis=1)\n",
    "\n",
    "# # rearrange to match WW day of year\n",
    "# # start_time = 1539435600 # 14/10/2018\n",
    "# # end_time = 1531663200 #16/7/2018\n",
    "# start_time = 1540990800 # 1/11/2018\n",
    "# end_time = 1533045600 #1/8/2018\n",
    "# end_2018_year = 1546261200\n",
    "# start_2018_year = 1514725200\n",
    "# # rearrange_year_demand = pd.concat([ng_demand_av.loc[start_time:end_2018_year],\n",
    "# #     ng_demand_av.loc[start_2018_year:end_time]], axis=0)\n",
    "# # rearrange_year_solar = pd.concat([ng_solar_av.loc[start_time:end_2018_year],\n",
    "# #     ng_solar_av.loc[start_2018_year:end_time]], axis=0)\n",
    "\n",
    "# # rearrange_year_demand = ng_demand_av.loc[start_2018_year:end_2018_year]\n",
    "# rearrange_year_solar = ng_solar_av.loc[start_2018_year:end_2018_year]\n",
    "\n",
    "# ng_solar_15min = rearrange_year_solar.groupby(np.arange(len(rearrange_year_solar.index)) // 3).mean()\n",
    "# ng_solar_15min.index = zs_df.index\n",
    "# ng_solar_15min.to_csv('NextGen_solar.csv', index=True) "
   ]
  },
  {
   "cell_type": "code",
   "execution_count": 169,
   "metadata": {},
   "outputs": [],
   "source": [
    "def forecast(evo_regions, evo_fractions, nu_days, start_day, zs_df, timed_hw_start, timed_hw_end,\n",
    "             current_households, future_households, mean_temps, #resist_kWh_per_household,\n",
    "             current_frac_gas, future_frac_gas, current_frac_heatpumps, future_frac_heatpumps,\n",
    "             future_solar_MW, intervals_per_hour):\n",
    "    current_frac_elec = 1 - current_frac_gas\n",
    "    future_frac_elec = 1 - future_frac_gas\n",
    "    current_frac_resist = 1 - current_frac_heatpumps\n",
    "    future_frac_resist = 1 - future_frac_heatpumps\n",
    "\n",
    "    date_dict = {}\n",
    "    for i_d, day in enumerate(range(start_day,start_day+nu_days)):\n",
    "        for e, zs in enumerate(evo_regions):\n",
    "            if e == 0:\n",
    "                current_day_zs_df = zs_df[zs][zs_df.index.dayofyear == day+1]*evo_fractions[e]\n",
    "                current_day_zs_df.rename('Current', inplace=True)\n",
    "            else:\n",
    "                tmp_df = zs_df[zs][zs_df.index.dayofyear == day+1]*evo_fractions[e]\n",
    "                tmp_df.rename('Current', inplace=True)\n",
    "                # print(current_day_zs_df)\n",
    "                # print(tmp_df)\n",
    "                current_day_zs_df = current_day_zs_df.add(tmp_df)\n",
    "                # print(current_day_zs_df)\n",
    "        # current_day_zs_df.index = current_day_zs_df.index.strftime('%H:%M')\n",
    "        # current_day_zs_df.index = current_day_zs_df.index.time\n",
    "        # time_interval = current_day_zs_df.index[1] - current_day_zs_df.index[0]\n",
    "        # print(current_day_zs_df)\n",
    "        # print(repr(current_day_zs_df.index))\n",
    "\n",
    "        date_dict[day] = current_day_zs_df.index[0].date()\n",
    "        month = current_day_zs_df.index[0].month\n",
    "        temp = mean_temps[month-1]\n",
    "\n",
    "        current_gas_users = current_frac_gas*current_households\n",
    "        future_elec_users = future_households*future_frac_elec\n",
    "        \n",
    "        pop_growth_factor = (future_households)/(current_households)\n",
    "        \n",
    "        # heating energy demand as function of temperature per household\n",
    "        CBR_factor = 1.266\n",
    "        hw_kWh_household_per_day = (10.295 - 0.2816*temp)*CBR_factor\n",
    "        # Heat pump coefficient of performance as function of temperature\n",
    "        heatpump_CoP = 2.9664 + 0.0703*temp\n",
    "\n",
    "        current_hw_MWh_per_day_elec = (current_frac_resist*hw_kWh_household_per_day + \\\n",
    "                                       current_frac_heatpumps*hw_kWh_household_per_day/heatpump_CoP)/1000\n",
    "        current_hw_MWh_per_day = current_frac_elec*current_households*current_hw_MWh_per_day_elec\n",
    "        current_hw_MW = current_hw_MWh_per_day/24\n",
    "        # print('current_hw_kWh', current_hw_MWh_per_day_elec*1000)\n",
    "            \n",
    "        curent_day_zs_sans_hw = current_day_zs_df - current_hw_MW\n",
    "        curent_day_zs_sans_hw.rename('Current w/o hot water', inplace=True)\n",
    "\n",
    "\n",
    "        ### Future \n",
    "        future_solar_day_MW = future_solar_MW[future_solar_MW.index.dayofyear == day+1]\n",
    "\n",
    "        # future_zs = current_day_zs_df*pop_growth_factor\n",
    "        future_zs_sans_hw = curent_day_zs_sans_hw*pop_growth_factor - future_solar_day_MW['0']\n",
    "        \n",
    "        future_hw_resist_kWh = future_frac_resist*hw_kWh_household_per_day\n",
    "        future_hw_heatpump_kWh = future_frac_heatpumps*hw_kWh_household_per_day/heatpump_CoP\n",
    "        future_hw_MWh_total = future_elec_users*(future_hw_heatpump_kWh + future_hw_resist_kWh)/1000\n",
    "        # print('future_hw_kWh', future_hw_MWh_total/future_elec_users*1000)\n",
    "\n",
    "        if timed_hw_start < timed_hw_end:\n",
    "            time_mask = (current_day_zs_df.index.hour >= timed_hw_start) & \\\n",
    "                    (current_day_zs_df.index.hour < timed_hw_end)\n",
    "        else:\n",
    "            time_mask = (current_day_zs_df.index.hour >= 0) & \\\n",
    "                    (current_day_zs_df.index.hour < timed_hw_end) + \\\n",
    "                    (current_day_zs_df.index.hour >= timed_hw_start) & \\\n",
    "                    (current_day_zs_df.index.hour <= 24)\n",
    "\n",
    "        timed_hw_df = pd.Series(index=current_day_zs_df.index, data = 0)\n",
    "        # timed_hw_df[timed_hw_df.index.hour > timed_hw_start & timed_hw_df.index.hour < timed_hw_end] == 1\n",
    "        # print(timed_hw_df.between_time(timed_hw_start,timed_hw_end))\n",
    "        timed_hw_df[time_mask] = 1\n",
    "        future_hw_MW = future_hw_MWh_total / (np.sum(timed_hw_df)/intervals_per_hour)\n",
    "        timed_hw_df = timed_hw_df*future_hw_MW\n",
    "        # print(timed_hw_df)\n",
    "\n",
    "        future_zs_with_hw = future_zs_sans_hw + timed_hw_df\n",
    "        future_zs_with_hw.rename('Future', inplace=True)\n",
    "\n",
    "        # print(future_zs_with_hw)\n",
    "\n",
    "        plotting_df = pd.concat([current_day_zs_df, curent_day_zs_sans_hw, future_zs_with_hw],axis=1)\n",
    "\n",
    "        current_day_zs_df.index = current_day_zs_df.index.time\n",
    "        curent_day_zs_sans_hw.index = current_day_zs_df.index\n",
    "        future_zs_sans_hw.index = current_day_zs_df.index\n",
    "        future_zs_with_hw.index = current_day_zs_df.index\n",
    "\n",
    "        if i_d == 0:\n",
    "            many_day_df_current = current_day_zs_df.rename(date_dict[day], inplace=True).to_frame()\n",
    "            many_day_df_current_sans = curent_day_zs_sans_hw.rename(date_dict[day], inplace=True).to_frame()\n",
    "            many_day_df_future = future_zs_with_hw.rename(date_dict[day], inplace=True).to_frame()\n",
    "            many_day_df_future_sans = future_zs_sans_hw.rename(date_dict[day], inplace=True).to_frame()\n",
    "        else:\n",
    "            many_day_df_current = many_day_df_current.join(current_day_zs_df.rename(date_dict[day]))\n",
    "            many_day_df_current_sans = many_day_df_current_sans.join(curent_day_zs_sans_hw.rename(date_dict[day]))\n",
    "            many_day_df_future = many_day_df_future.join(future_zs_with_hw.rename(date_dict[day]))\n",
    "            many_day_df_future_sans = many_day_df_future_sans.join(future_zs_sans_hw.rename(date_dict[day]))\n",
    "\n",
    "    plotting_df_many = pd.concat([many_day_df_current.mean(axis=1), many_day_df_current_sans.mean(axis=1), \n",
    "                                  many_day_df_future_sans.mean(axis=1), many_day_df_future.mean(axis=1)],axis=1)\n",
    "    plotting_df_many.columns = ['Current','Current w/o hot water','Future w/o hot water','Future w hot water']\n",
    "\n",
    "    return many_day_df_current, many_day_df_current_sans, many_day_df_future, \\\n",
    "            many_day_df_future_sans, plotting_df_many, plotting_df, future_hw_MWh_total"
   ]
  },
  {
   "cell_type": "code",
   "execution_count": 182,
   "metadata": {},
   "outputs": [],
   "source": [
    "future_year = 2045\n",
    "POE = 0.9\n",
    "nu_days = 30\n",
    "start_day = 5*30\n",
    "\n",
    "timed_hw_start = 9\n",
    "timed_hw_end = 17\n",
    "# timed_hw_start = 21\n",
    "# timed_hw_end = 17\n",
    "# resist_kWh_per_household = 8.1\n",
    "current_frac_gas = 0.45\n",
    "future_frac_gas = 0.0\n",
    "current_frac_heatpumps = 0.1\n",
    "future_frac_heatpumps = 0.75\n",
    "\n",
    "future_solar_capacity_MW = 50\n",
    "future_solar_MW = future_solar_capacity_MW*NextGen_solar_capacity\n",
    "\n",
    "SA_level = 3\n",
    "SA_region = 'Belconnen'\n",
    "# SA_region = 'Tuggeranong'\n",
    "# SA_region = 'Gungahlin'\n",
    "# SA_region = 'Woden Valley'\n",
    "# SA_region = 'Canberra East'\n",
    "# SA_region = 'South Canberra'\n",
    "# SA_region = 'North Canberra'\n",
    "\n",
    "current_households = 0\n",
    "zs_combined_rating = 0\n",
    "for e, r in enumerate(SA3_dict[SA_region]):\n",
    "    zs_frac = SA3_division[SA_region][e]\n",
    "    current_households += evo_cust_df.loc[r,\"Evo resi customers\"]*zs_frac\n",
    "    zs_combined_rating += zs_ratings[r][0]*zs_frac # Continuous rating\n",
    "\n",
    "if SA_level == 2:\n",
    "    current_pop = pop_SA2_df.loc[SA_region,'2022']\n",
    "    pop_per_household = current_pop/current_households\n",
    "    # print(pop_per_household)\n",
    "    future_households = pop_SA2_df.loc[SA_region,str(future_year)]/pop_per_household\n",
    "elif SA_level == 3:\n",
    "    current_pop = pop_SA3_df.loc[SA_region,'2022']\n",
    "    pop_per_household = current_pop/current_households\n",
    "    future_households = pop_SA3_df.loc[SA_region,str(future_year)]/pop_per_household\n",
    "\n",
    "# mean_temps = mean_3pm_temps\n",
    "mean_temps = mean_temps_Bin\n",
    "\n",
    "\n",
    "many_day_df_current, many_day_df_current_sans, many_day_df_future, \\\n",
    "    many_day_df_future_sans, plotting_df_many, plotting_df, future_hw_MWh_total = \\\n",
    "        forecast(SA3_dict[SA_region], SA3_division[SA_region], nu_days, start_day, zs_df, timed_hw_start, timed_hw_end,\n",
    "             current_households, future_households, mean_temps, #resist_kWh_per_household,\n",
    "             current_frac_gas, future_frac_gas, current_frac_heatpumps, future_frac_heatpumps, future_solar_MW,\n",
    "             intervals_per_hour)\n"
   ]
  },
  {
   "cell_type": "code",
   "execution_count": 183,
   "metadata": {},
   "outputs": [
    {
     "data": {
      "application/vnd.plotly.v1+json": {
       "config": {
        "plotlyServerURL": "https://plot.ly"
       },
       "data": [
        {
         "hovertemplate": "variable=Current<br>index=%{x}<br>value=%{y}<extra></extra>",
         "legendgroup": "Current",
         "line": {
          "color": "#636efa",
          "dash": "solid"
         },
         "marker": {
          "symbol": "circle"
         },
         "mode": "lines",
         "name": "Current",
         "orientation": "v",
         "showlegend": true,
         "type": "scatter",
         "x": [
          "00:00:00",
          "00:15:00",
          "00:30:00",
          "00:45:00",
          "01:00:00",
          "01:15:00",
          "01:30:00",
          "01:45:00",
          "02:00:00",
          "02:15:00",
          "02:30:00",
          "02:45:00",
          "03:00:00",
          "03:15:00",
          "03:30:00",
          "03:45:00",
          "04:00:00",
          "04:15:00",
          "04:30:00",
          "04:45:00",
          "05:00:00",
          "05:15:00",
          "05:30:00",
          "05:45:00",
          "06:00:00",
          "06:15:00",
          "06:30:00",
          "06:45:00",
          "07:00:00",
          "07:15:00",
          "07:30:00",
          "07:45:00",
          "08:00:00",
          "08:15:00",
          "08:30:00",
          "08:45:00",
          "09:00:00",
          "09:15:00",
          "09:30:00",
          "09:45:00",
          "10:00:00",
          "10:15:00",
          "10:30:00",
          "10:45:00",
          "11:00:00",
          "11:15:00",
          "11:30:00",
          "11:45:00",
          "12:00:00",
          "12:15:00",
          "12:30:00",
          "12:45:00",
          "13:00:00",
          "13:15:00",
          "13:30:00",
          "13:45:00",
          "14:00:00",
          "14:15:00",
          "14:30:00",
          "14:45:00",
          "15:00:00",
          "15:15:00",
          "15:30:00",
          "15:45:00",
          "16:00:00",
          "16:15:00",
          "16:30:00",
          "16:45:00",
          "17:00:00",
          "17:15:00",
          "17:30:00",
          "17:45:00",
          "18:00:00",
          "18:15:00",
          "18:30:00",
          "18:45:00",
          "19:00:00",
          "19:15:00",
          "19:30:00",
          "19:45:00",
          "20:00:00",
          "20:15:00",
          "20:30:00",
          "20:45:00",
          "21:00:00",
          "21:15:00",
          "21:30:00",
          "21:45:00",
          "22:00:00",
          "22:15:00",
          "22:30:00",
          "22:45:00",
          "23:00:00",
          "23:15:00",
          "23:30:00",
          "23:45:00"
         ],
         "xaxis": "x",
         "y": [
          66.304,
          64.20933333333333,
          62.156666666666666,
          60.62833333333333,
          59.184333333333335,
          58.33599999999999,
          56.81566666666666,
          56.419,
          55.791333333333334,
          55.22833333333334,
          55.13666666666668,
          54.94000000000001,
          54.886999999999986,
          54.694,
          54.77066666666667,
          54.75300000000001,
          55.425666666666665,
          55.708999999999996,
          56.70833333333335,
          57.57333333333334,
          60.42433333333331,
          61.90066666666667,
          64.93133333333334,
          67.49100000000001,
          72.63866666666667,
          76.29766666666666,
          80.44366666666669,
          84.43166666666666,
          89.2996666666667,
          93.56833333333334,
          96.35799999999999,
          97.91433333333333,
          97.64766666666668,
          96.5106666666667,
          94.25433333333334,
          92.56600000000002,
          91.06299999999997,
          89.903,
          87.72266666666668,
          85.23700000000001,
          85.15966666666668,
          83.33033333333333,
          80.76533333333334,
          78.85366666666667,
          76.00333333333333,
          74.13199999999999,
          72.28266666666667,
          70.97733333333335,
          70.08366666666666,
          69.68133333333334,
          69.96633333333335,
          68.95466666666668,
          68.13266666666668,
          67.46800000000002,
          67.83333333333333,
          68.87166666666667,
          69.76700000000001,
          70.63066666666667,
          71.23066666666665,
          72.02166666666669,
          73.39999999999999,
          76.15433333333335,
          79.35800000000002,
          82.45566666666666,
          85.92266666666669,
          89.41866666666668,
          93.82233333333333,
          98.44666666666666,
          102.79533333333332,
          107.96133333333333,
          111.62566666666665,
          113.95066666666662,
          114.5296666666667,
          115.086,
          114.72133333333336,
          114.03066666666663,
          112.72733333333333,
          111.37100000000004,
          110.17400000000004,
          109.20133333333334,
          107.34533333333333,
          105.99833333333336,
          104.10666666666667,
          102.14133333333331,
          99.16799999999999,
          96.80099999999999,
          93.43166666666666,
          90.64266666666666,
          89.87299999999998,
          89.14133333333331,
          86.166,
          83.08566666666665,
          79.66400000000002,
          76.15633333333334,
          72.30333333333333,
          69.604
         ],
         "yaxis": "y"
        },
        {
         "hovertemplate": "variable=Current w/o hot water<br>index=%{x}<br>value=%{y}<extra></extra>",
         "legendgroup": "Current w/o hot water",
         "line": {
          "color": "#EF553B",
          "dash": "solid"
         },
         "marker": {
          "symbol": "circle"
         },
         "mode": "lines",
         "name": "Current w/o hot water",
         "orientation": "v",
         "showlegend": true,
         "type": "scatter",
         "x": [
          "00:00:00",
          "00:15:00",
          "00:30:00",
          "00:45:00",
          "01:00:00",
          "01:15:00",
          "01:30:00",
          "01:45:00",
          "02:00:00",
          "02:15:00",
          "02:30:00",
          "02:45:00",
          "03:00:00",
          "03:15:00",
          "03:30:00",
          "03:45:00",
          "04:00:00",
          "04:15:00",
          "04:30:00",
          "04:45:00",
          "05:00:00",
          "05:15:00",
          "05:30:00",
          "05:45:00",
          "06:00:00",
          "06:15:00",
          "06:30:00",
          "06:45:00",
          "07:00:00",
          "07:15:00",
          "07:30:00",
          "07:45:00",
          "08:00:00",
          "08:15:00",
          "08:30:00",
          "08:45:00",
          "09:00:00",
          "09:15:00",
          "09:30:00",
          "09:45:00",
          "10:00:00",
          "10:15:00",
          "10:30:00",
          "10:45:00",
          "11:00:00",
          "11:15:00",
          "11:30:00",
          "11:45:00",
          "12:00:00",
          "12:15:00",
          "12:30:00",
          "12:45:00",
          "13:00:00",
          "13:15:00",
          "13:30:00",
          "13:45:00",
          "14:00:00",
          "14:15:00",
          "14:30:00",
          "14:45:00",
          "15:00:00",
          "15:15:00",
          "15:30:00",
          "15:45:00",
          "16:00:00",
          "16:15:00",
          "16:30:00",
          "16:45:00",
          "17:00:00",
          "17:15:00",
          "17:30:00",
          "17:45:00",
          "18:00:00",
          "18:15:00",
          "18:30:00",
          "18:45:00",
          "19:00:00",
          "19:15:00",
          "19:30:00",
          "19:45:00",
          "20:00:00",
          "20:15:00",
          "20:30:00",
          "20:45:00",
          "21:00:00",
          "21:15:00",
          "21:30:00",
          "21:45:00",
          "22:00:00",
          "22:15:00",
          "22:30:00",
          "22:45:00",
          "23:00:00",
          "23:15:00",
          "23:30:00",
          "23:45:00"
         ],
         "xaxis": "x",
         "y": [
          57.52064555872184,
          55.42597889205517,
          53.37331222538852,
          51.84497889205519,
          50.400978892055186,
          49.55264555872184,
          48.03231222538852,
          47.63564555872185,
          47.007978892055185,
          46.444978892055175,
          46.35331222538853,
          46.15664555872185,
          46.10364555872186,
          45.910645558721846,
          45.987312225388514,
          45.96964555872184,
          46.64231222538852,
          46.92564555872185,
          47.92497889205518,
          48.78997889205518,
          51.640978892055195,
          53.11731222538853,
          56.147978892055185,
          58.707645558721865,
          63.85531222538852,
          67.51431222538854,
          71.66031222538851,
          75.64831222538852,
          80.5163122253885,
          84.78497889205521,
          87.57464555872184,
          89.1309788920552,
          88.86431222538849,
          87.72731222538852,
          85.4709788920552,
          83.78264555872185,
          82.27964555872184,
          81.11964555872184,
          78.9393122253885,
          76.45364555872183,
          76.37631222538852,
          74.5469788920552,
          71.98197889205518,
          70.07031222538852,
          67.21997889205518,
          65.34864555872187,
          63.499312225388515,
          62.19397889205517,
          61.30031222538854,
          60.89797889205517,
          61.18297889205518,
          60.17131222538851,
          59.349312225388516,
          58.68464555872184,
          59.04997889205519,
          60.088312225388535,
          60.98364555872185,
          61.847312225388535,
          62.44731222538851,
          63.238312225388505,
          64.61664555872184,
          67.37097889205519,
          70.57464555872184,
          73.67231222538854,
          77.1393122253885,
          80.63531222538855,
          85.03897889205518,
          89.66331222538854,
          94.0119788920552,
          99.17797889205524,
          102.84231222538851,
          105.16731222538851,
          105.7463122253885,
          106.30264555872184,
          105.9379788920552,
          105.2473122253885,
          103.9439788920552,
          102.58764555872185,
          101.39064555872184,
          100.41797889205517,
          98.5619788920552,
          97.21497889205516,
          95.32331222538852,
          93.3579788920552,
          90.38464555872183,
          88.01764555872184,
          84.64831222538852,
          81.8593122253885,
          81.08964555872187,
          80.35797889205519,
          77.38264555872182,
          74.30231222538853,
          70.88064555872185,
          67.37297889205519,
          63.519978892055185,
          60.82064555872186
         ],
         "yaxis": "y"
        },
        {
         "hovertemplate": "variable=Future w/o hot water<br>index=%{x}<br>value=%{y}<extra></extra>",
         "legendgroup": "Future w/o hot water",
         "line": {
          "color": "#00cc96",
          "dash": "solid"
         },
         "marker": {
          "symbol": "circle"
         },
         "mode": "lines",
         "name": "Future w/o hot water",
         "orientation": "v",
         "showlegend": true,
         "type": "scatter",
         "x": [
          "00:00:00",
          "00:15:00",
          "00:30:00",
          "00:45:00",
          "01:00:00",
          "01:15:00",
          "01:30:00",
          "01:45:00",
          "02:00:00",
          "02:15:00",
          "02:30:00",
          "02:45:00",
          "03:00:00",
          "03:15:00",
          "03:30:00",
          "03:45:00",
          "04:00:00",
          "04:15:00",
          "04:30:00",
          "04:45:00",
          "05:00:00",
          "05:15:00",
          "05:30:00",
          "05:45:00",
          "06:00:00",
          "06:15:00",
          "06:30:00",
          "06:45:00",
          "07:00:00",
          "07:15:00",
          "07:30:00",
          "07:45:00",
          "08:00:00",
          "08:15:00",
          "08:30:00",
          "08:45:00",
          "09:00:00",
          "09:15:00",
          "09:30:00",
          "09:45:00",
          "10:00:00",
          "10:15:00",
          "10:30:00",
          "10:45:00",
          "11:00:00",
          "11:15:00",
          "11:30:00",
          "11:45:00",
          "12:00:00",
          "12:15:00",
          "12:30:00",
          "12:45:00",
          "13:00:00",
          "13:15:00",
          "13:30:00",
          "13:45:00",
          "14:00:00",
          "14:15:00",
          "14:30:00",
          "14:45:00",
          "15:00:00",
          "15:15:00",
          "15:30:00",
          "15:45:00",
          "16:00:00",
          "16:15:00",
          "16:30:00",
          "16:45:00",
          "17:00:00",
          "17:15:00",
          "17:30:00",
          "17:45:00",
          "18:00:00",
          "18:15:00",
          "18:30:00",
          "18:45:00",
          "19:00:00",
          "19:15:00",
          "19:30:00",
          "19:45:00",
          "20:00:00",
          "20:15:00",
          "20:30:00",
          "20:45:00",
          "21:00:00",
          "21:15:00",
          "21:30:00",
          "21:45:00",
          "22:00:00",
          "22:15:00",
          "22:30:00",
          "22:45:00",
          "23:00:00",
          "23:15:00",
          "23:30:00",
          "23:45:00"
         ],
         "xaxis": "x",
         "y": [
          79.12646041270094,
          76.2439502467243,
          73.41898891533705,
          71.3158974311196,
          69.3282071474231,
          68.16078193166979,
          66.06844345683508,
          65.52260884119184,
          64.65861851673301,
          63.8836466778256,
          63.75804578633745,
          63.48704521552712,
          63.41478623126178,
          63.14884668884554,
          63.25404536727189,
          63.22949832803636,
          64.15566437938206,
          64.54588482443684,
          65.92128172472955,
          67.11205113146472,
          71.0360267420064,
          73.06784230694024,
          77.2383588338806,
          80.75462355460353,
          87.83658148947954,
          92.8785086047467,
          98.58578064536083,
          104.07547976529204,
          110.77522970815248,
          116.6498399804067,
          120.47553957982245,
          122.58879028413817,
          122.13061704780142,
          120.32639259686859,
          116.54444212897347,
          113.12729313500924,
          109.63599525009954,
          106.26380189058705,
          101.07385648768872,
          95.43304020952914,
          93.31030909431122,
          88.85750913040125,
          83.46904757564546,
          79.0604934977286,
          73.63189865412309,
          70.05613178048863,
          66.52068089717899,
          63.798188457178725,
          61.920995895414045,
          60.91949921583272,
          60.80772557873828,
          59.24615431986248,
          58.43452578453465,
          57.515823098815666,
          58.432857406987814,
          60.78998347483115,
          62.78360426915302,
          64.36341879505989,
          66.0251404319791,
          68.62824279872697,
          72.24016355948133,
          77.95163023132461,
          84.42878642525069,
          90.52386012453226,
          97.14783715982422,
          103.62332375734735,
          111.02173773631824,
          118.70885040323965,
          126.2431127683838,
          134.79883050891735,
          140.7619453895283,
          144.4414313016775,
          145.33750835231425,
          146.17520421199748,
          145.71774701241506,
          144.77278027519162,
          142.9832557433137,
          141.11911969887424,
          139.47711917716535,
          138.13481743193245,
          135.58938358348004,
          133.74263358960022,
          131.14568128966596,
          128.44078714678116,
          124.35529707153064,
          121.09917840439681,
          116.46381662796415,
          112.62444013588431,
          111.56429897077098,
          110.55862263376999,
          106.46464197595148,
          102.22505790507854,
          97.51376301019063,
          92.6861089902414,
          87.38369541028835,
          83.66862134368586
         ],
         "yaxis": "y"
        },
        {
         "hovertemplate": "variable=Future w hot water<br>index=%{x}<br>value=%{y}<extra></extra>",
         "legendgroup": "Future w hot water",
         "line": {
          "color": "#ab63fa",
          "dash": "solid"
         },
         "marker": {
          "symbol": "circle"
         },
         "mode": "lines",
         "name": "Future w hot water",
         "orientation": "v",
         "showlegend": true,
         "type": "scatter",
         "x": [
          "00:00:00",
          "00:15:00",
          "00:30:00",
          "00:45:00",
          "01:00:00",
          "01:15:00",
          "01:30:00",
          "01:45:00",
          "02:00:00",
          "02:15:00",
          "02:30:00",
          "02:45:00",
          "03:00:00",
          "03:15:00",
          "03:30:00",
          "03:45:00",
          "04:00:00",
          "04:15:00",
          "04:30:00",
          "04:45:00",
          "05:00:00",
          "05:15:00",
          "05:30:00",
          "05:45:00",
          "06:00:00",
          "06:15:00",
          "06:30:00",
          "06:45:00",
          "07:00:00",
          "07:15:00",
          "07:30:00",
          "07:45:00",
          "08:00:00",
          "08:15:00",
          "08:30:00",
          "08:45:00",
          "09:00:00",
          "09:15:00",
          "09:30:00",
          "09:45:00",
          "10:00:00",
          "10:15:00",
          "10:30:00",
          "10:45:00",
          "11:00:00",
          "11:15:00",
          "11:30:00",
          "11:45:00",
          "12:00:00",
          "12:15:00",
          "12:30:00",
          "12:45:00",
          "13:00:00",
          "13:15:00",
          "13:30:00",
          "13:45:00",
          "14:00:00",
          "14:15:00",
          "14:30:00",
          "14:45:00",
          "15:00:00",
          "15:15:00",
          "15:30:00",
          "15:45:00",
          "16:00:00",
          "16:15:00",
          "16:30:00",
          "16:45:00",
          "17:00:00",
          "17:15:00",
          "17:30:00",
          "17:45:00",
          "18:00:00",
          "18:15:00",
          "18:30:00",
          "18:45:00",
          "19:00:00",
          "19:15:00",
          "19:30:00",
          "19:45:00",
          "20:00:00",
          "20:15:00",
          "20:30:00",
          "20:45:00",
          "21:00:00",
          "21:15:00",
          "21:30:00",
          "21:45:00",
          "22:00:00",
          "22:15:00",
          "22:30:00",
          "22:45:00",
          "23:00:00",
          "23:15:00",
          "23:30:00",
          "23:45:00"
         ],
         "xaxis": "x",
         "y": [
          79.12646041270094,
          76.2439502467243,
          73.41898891533705,
          71.3158974311196,
          69.3282071474231,
          68.16078193166979,
          66.06844345683508,
          65.52260884119184,
          64.65861851673301,
          63.8836466778256,
          63.75804578633745,
          63.48704521552712,
          63.41478623126178,
          63.14884668884554,
          63.25404536727189,
          63.22949832803636,
          64.15566437938206,
          64.54588482443684,
          65.92128172472955,
          67.11205113146472,
          71.0360267420064,
          73.06784230694024,
          77.2383588338806,
          80.75462355460353,
          87.83658148947954,
          92.8785086047467,
          98.58578064536083,
          104.07547976529204,
          110.77522970815248,
          116.6498399804067,
          120.47553957982245,
          122.58879028413817,
          122.13061704780142,
          120.32639259686859,
          116.54444212897347,
          113.12729313500924,
          142.84903131740504,
          139.47683795789257,
          134.28689255499427,
          128.64607627683463,
          126.52334516161676,
          122.07054519770676,
          116.68208364295104,
          112.27352956503412,
          106.84493472142864,
          103.26916784779422,
          99.73371696448451,
          97.01122452448426,
          95.13403196271958,
          94.13253528313824,
          94.02076164604384,
          92.45919038716802,
          91.6475618518402,
          90.72885916612118,
          91.64589347429336,
          94.0030195421367,
          95.99664033645857,
          97.57645486236541,
          99.23817649928463,
          101.8412788660325,
          105.45319962678687,
          111.1646662986302,
          117.6418224925562,
          123.73689619183781,
          130.36087322712976,
          136.83635982465287,
          144.23477380362377,
          151.9218864705452,
          126.2431127683838,
          134.79883050891735,
          140.7619453895283,
          144.4414313016775,
          145.33750835231425,
          146.17520421199748,
          145.71774701241506,
          144.77278027519162,
          142.9832557433137,
          141.11911969887424,
          139.47711917716535,
          138.13481743193245,
          135.58938358348004,
          133.74263358960022,
          131.14568128966596,
          128.44078714678116,
          124.35529707153064,
          121.09917840439681,
          116.46381662796415,
          112.62444013588431,
          111.56429897077098,
          110.55862263376999,
          106.46464197595148,
          102.22505790507854,
          97.51376301019063,
          92.6861089902414,
          87.38369541028835,
          83.66862134368586
         ],
         "yaxis": "y"
        }
       ],
       "layout": {
        "legend": {
         "title": {
          "text": "variable"
         },
         "tracegroupgap": 0
        },
        "margin": {
         "t": 60
        },
        "shapes": [
         {
          "line": {
           "color": "black",
           "dash": "dash",
           "width": 3
          },
          "type": "line",
          "x0": 0,
          "x1": 1,
          "xref": "x domain",
          "y0": 150,
          "y1": 150,
          "yref": "y"
         }
        ],
        "template": {
         "data": {
          "bar": [
           {
            "error_x": {
             "color": "#2a3f5f"
            },
            "error_y": {
             "color": "#2a3f5f"
            },
            "marker": {
             "line": {
              "color": "#E5ECF6",
              "width": 0.5
             },
             "pattern": {
              "fillmode": "overlay",
              "size": 10,
              "solidity": 0.2
             }
            },
            "type": "bar"
           }
          ],
          "barpolar": [
           {
            "marker": {
             "line": {
              "color": "#E5ECF6",
              "width": 0.5
             },
             "pattern": {
              "fillmode": "overlay",
              "size": 10,
              "solidity": 0.2
             }
            },
            "type": "barpolar"
           }
          ],
          "carpet": [
           {
            "aaxis": {
             "endlinecolor": "#2a3f5f",
             "gridcolor": "white",
             "linecolor": "white",
             "minorgridcolor": "white",
             "startlinecolor": "#2a3f5f"
            },
            "baxis": {
             "endlinecolor": "#2a3f5f",
             "gridcolor": "white",
             "linecolor": "white",
             "minorgridcolor": "white",
             "startlinecolor": "#2a3f5f"
            },
            "type": "carpet"
           }
          ],
          "choropleth": [
           {
            "colorbar": {
             "outlinewidth": 0,
             "ticks": ""
            },
            "type": "choropleth"
           }
          ],
          "contour": [
           {
            "colorbar": {
             "outlinewidth": 0,
             "ticks": ""
            },
            "colorscale": [
             [
              0,
              "#0d0887"
             ],
             [
              0.1111111111111111,
              "#46039f"
             ],
             [
              0.2222222222222222,
              "#7201a8"
             ],
             [
              0.3333333333333333,
              "#9c179e"
             ],
             [
              0.4444444444444444,
              "#bd3786"
             ],
             [
              0.5555555555555556,
              "#d8576b"
             ],
             [
              0.6666666666666666,
              "#ed7953"
             ],
             [
              0.7777777777777778,
              "#fb9f3a"
             ],
             [
              0.8888888888888888,
              "#fdca26"
             ],
             [
              1,
              "#f0f921"
             ]
            ],
            "type": "contour"
           }
          ],
          "contourcarpet": [
           {
            "colorbar": {
             "outlinewidth": 0,
             "ticks": ""
            },
            "type": "contourcarpet"
           }
          ],
          "heatmap": [
           {
            "colorbar": {
             "outlinewidth": 0,
             "ticks": ""
            },
            "colorscale": [
             [
              0,
              "#0d0887"
             ],
             [
              0.1111111111111111,
              "#46039f"
             ],
             [
              0.2222222222222222,
              "#7201a8"
             ],
             [
              0.3333333333333333,
              "#9c179e"
             ],
             [
              0.4444444444444444,
              "#bd3786"
             ],
             [
              0.5555555555555556,
              "#d8576b"
             ],
             [
              0.6666666666666666,
              "#ed7953"
             ],
             [
              0.7777777777777778,
              "#fb9f3a"
             ],
             [
              0.8888888888888888,
              "#fdca26"
             ],
             [
              1,
              "#f0f921"
             ]
            ],
            "type": "heatmap"
           }
          ],
          "heatmapgl": [
           {
            "colorbar": {
             "outlinewidth": 0,
             "ticks": ""
            },
            "colorscale": [
             [
              0,
              "#0d0887"
             ],
             [
              0.1111111111111111,
              "#46039f"
             ],
             [
              0.2222222222222222,
              "#7201a8"
             ],
             [
              0.3333333333333333,
              "#9c179e"
             ],
             [
              0.4444444444444444,
              "#bd3786"
             ],
             [
              0.5555555555555556,
              "#d8576b"
             ],
             [
              0.6666666666666666,
              "#ed7953"
             ],
             [
              0.7777777777777778,
              "#fb9f3a"
             ],
             [
              0.8888888888888888,
              "#fdca26"
             ],
             [
              1,
              "#f0f921"
             ]
            ],
            "type": "heatmapgl"
           }
          ],
          "histogram": [
           {
            "marker": {
             "pattern": {
              "fillmode": "overlay",
              "size": 10,
              "solidity": 0.2
             }
            },
            "type": "histogram"
           }
          ],
          "histogram2d": [
           {
            "colorbar": {
             "outlinewidth": 0,
             "ticks": ""
            },
            "colorscale": [
             [
              0,
              "#0d0887"
             ],
             [
              0.1111111111111111,
              "#46039f"
             ],
             [
              0.2222222222222222,
              "#7201a8"
             ],
             [
              0.3333333333333333,
              "#9c179e"
             ],
             [
              0.4444444444444444,
              "#bd3786"
             ],
             [
              0.5555555555555556,
              "#d8576b"
             ],
             [
              0.6666666666666666,
              "#ed7953"
             ],
             [
              0.7777777777777778,
              "#fb9f3a"
             ],
             [
              0.8888888888888888,
              "#fdca26"
             ],
             [
              1,
              "#f0f921"
             ]
            ],
            "type": "histogram2d"
           }
          ],
          "histogram2dcontour": [
           {
            "colorbar": {
             "outlinewidth": 0,
             "ticks": ""
            },
            "colorscale": [
             [
              0,
              "#0d0887"
             ],
             [
              0.1111111111111111,
              "#46039f"
             ],
             [
              0.2222222222222222,
              "#7201a8"
             ],
             [
              0.3333333333333333,
              "#9c179e"
             ],
             [
              0.4444444444444444,
              "#bd3786"
             ],
             [
              0.5555555555555556,
              "#d8576b"
             ],
             [
              0.6666666666666666,
              "#ed7953"
             ],
             [
              0.7777777777777778,
              "#fb9f3a"
             ],
             [
              0.8888888888888888,
              "#fdca26"
             ],
             [
              1,
              "#f0f921"
             ]
            ],
            "type": "histogram2dcontour"
           }
          ],
          "mesh3d": [
           {
            "colorbar": {
             "outlinewidth": 0,
             "ticks": ""
            },
            "type": "mesh3d"
           }
          ],
          "parcoords": [
           {
            "line": {
             "colorbar": {
              "outlinewidth": 0,
              "ticks": ""
             }
            },
            "type": "parcoords"
           }
          ],
          "pie": [
           {
            "automargin": true,
            "type": "pie"
           }
          ],
          "scatter": [
           {
            "fillpattern": {
             "fillmode": "overlay",
             "size": 10,
             "solidity": 0.2
            },
            "type": "scatter"
           }
          ],
          "scatter3d": [
           {
            "line": {
             "colorbar": {
              "outlinewidth": 0,
              "ticks": ""
             }
            },
            "marker": {
             "colorbar": {
              "outlinewidth": 0,
              "ticks": ""
             }
            },
            "type": "scatter3d"
           }
          ],
          "scattercarpet": [
           {
            "marker": {
             "colorbar": {
              "outlinewidth": 0,
              "ticks": ""
             }
            },
            "type": "scattercarpet"
           }
          ],
          "scattergeo": [
           {
            "marker": {
             "colorbar": {
              "outlinewidth": 0,
              "ticks": ""
             }
            },
            "type": "scattergeo"
           }
          ],
          "scattergl": [
           {
            "marker": {
             "colorbar": {
              "outlinewidth": 0,
              "ticks": ""
             }
            },
            "type": "scattergl"
           }
          ],
          "scattermapbox": [
           {
            "marker": {
             "colorbar": {
              "outlinewidth": 0,
              "ticks": ""
             }
            },
            "type": "scattermapbox"
           }
          ],
          "scatterpolar": [
           {
            "marker": {
             "colorbar": {
              "outlinewidth": 0,
              "ticks": ""
             }
            },
            "type": "scatterpolar"
           }
          ],
          "scatterpolargl": [
           {
            "marker": {
             "colorbar": {
              "outlinewidth": 0,
              "ticks": ""
             }
            },
            "type": "scatterpolargl"
           }
          ],
          "scatterternary": [
           {
            "marker": {
             "colorbar": {
              "outlinewidth": 0,
              "ticks": ""
             }
            },
            "type": "scatterternary"
           }
          ],
          "surface": [
           {
            "colorbar": {
             "outlinewidth": 0,
             "ticks": ""
            },
            "colorscale": [
             [
              0,
              "#0d0887"
             ],
             [
              0.1111111111111111,
              "#46039f"
             ],
             [
              0.2222222222222222,
              "#7201a8"
             ],
             [
              0.3333333333333333,
              "#9c179e"
             ],
             [
              0.4444444444444444,
              "#bd3786"
             ],
             [
              0.5555555555555556,
              "#d8576b"
             ],
             [
              0.6666666666666666,
              "#ed7953"
             ],
             [
              0.7777777777777778,
              "#fb9f3a"
             ],
             [
              0.8888888888888888,
              "#fdca26"
             ],
             [
              1,
              "#f0f921"
             ]
            ],
            "type": "surface"
           }
          ],
          "table": [
           {
            "cells": {
             "fill": {
              "color": "#EBF0F8"
             },
             "line": {
              "color": "white"
             }
            },
            "header": {
             "fill": {
              "color": "#C8D4E3"
             },
             "line": {
              "color": "white"
             }
            },
            "type": "table"
           }
          ]
         },
         "layout": {
          "annotationdefaults": {
           "arrowcolor": "#2a3f5f",
           "arrowhead": 0,
           "arrowwidth": 1
          },
          "autotypenumbers": "strict",
          "coloraxis": {
           "colorbar": {
            "outlinewidth": 0,
            "ticks": ""
           }
          },
          "colorscale": {
           "diverging": [
            [
             0,
             "#8e0152"
            ],
            [
             0.1,
             "#c51b7d"
            ],
            [
             0.2,
             "#de77ae"
            ],
            [
             0.3,
             "#f1b6da"
            ],
            [
             0.4,
             "#fde0ef"
            ],
            [
             0.5,
             "#f7f7f7"
            ],
            [
             0.6,
             "#e6f5d0"
            ],
            [
             0.7,
             "#b8e186"
            ],
            [
             0.8,
             "#7fbc41"
            ],
            [
             0.9,
             "#4d9221"
            ],
            [
             1,
             "#276419"
            ]
           ],
           "sequential": [
            [
             0,
             "#0d0887"
            ],
            [
             0.1111111111111111,
             "#46039f"
            ],
            [
             0.2222222222222222,
             "#7201a8"
            ],
            [
             0.3333333333333333,
             "#9c179e"
            ],
            [
             0.4444444444444444,
             "#bd3786"
            ],
            [
             0.5555555555555556,
             "#d8576b"
            ],
            [
             0.6666666666666666,
             "#ed7953"
            ],
            [
             0.7777777777777778,
             "#fb9f3a"
            ],
            [
             0.8888888888888888,
             "#fdca26"
            ],
            [
             1,
             "#f0f921"
            ]
           ],
           "sequentialminus": [
            [
             0,
             "#0d0887"
            ],
            [
             0.1111111111111111,
             "#46039f"
            ],
            [
             0.2222222222222222,
             "#7201a8"
            ],
            [
             0.3333333333333333,
             "#9c179e"
            ],
            [
             0.4444444444444444,
             "#bd3786"
            ],
            [
             0.5555555555555556,
             "#d8576b"
            ],
            [
             0.6666666666666666,
             "#ed7953"
            ],
            [
             0.7777777777777778,
             "#fb9f3a"
            ],
            [
             0.8888888888888888,
             "#fdca26"
            ],
            [
             1,
             "#f0f921"
            ]
           ]
          },
          "colorway": [
           "#636efa",
           "#EF553B",
           "#00cc96",
           "#ab63fa",
           "#FFA15A",
           "#19d3f3",
           "#FF6692",
           "#B6E880",
           "#FF97FF",
           "#FECB52"
          ],
          "font": {
           "color": "#2a3f5f"
          },
          "geo": {
           "bgcolor": "white",
           "lakecolor": "white",
           "landcolor": "#E5ECF6",
           "showlakes": true,
           "showland": true,
           "subunitcolor": "white"
          },
          "hoverlabel": {
           "align": "left"
          },
          "hovermode": "closest",
          "mapbox": {
           "style": "light"
          },
          "paper_bgcolor": "white",
          "plot_bgcolor": "#E5ECF6",
          "polar": {
           "angularaxis": {
            "gridcolor": "white",
            "linecolor": "white",
            "ticks": ""
           },
           "bgcolor": "#E5ECF6",
           "radialaxis": {
            "gridcolor": "white",
            "linecolor": "white",
            "ticks": ""
           }
          },
          "scene": {
           "xaxis": {
            "backgroundcolor": "#E5ECF6",
            "gridcolor": "white",
            "gridwidth": 2,
            "linecolor": "white",
            "showbackground": true,
            "ticks": "",
            "zerolinecolor": "white"
           },
           "yaxis": {
            "backgroundcolor": "#E5ECF6",
            "gridcolor": "white",
            "gridwidth": 2,
            "linecolor": "white",
            "showbackground": true,
            "ticks": "",
            "zerolinecolor": "white"
           },
           "zaxis": {
            "backgroundcolor": "#E5ECF6",
            "gridcolor": "white",
            "gridwidth": 2,
            "linecolor": "white",
            "showbackground": true,
            "ticks": "",
            "zerolinecolor": "white"
           }
          },
          "shapedefaults": {
           "line": {
            "color": "#2a3f5f"
           }
          },
          "ternary": {
           "aaxis": {
            "gridcolor": "white",
            "linecolor": "white",
            "ticks": ""
           },
           "baxis": {
            "gridcolor": "white",
            "linecolor": "white",
            "ticks": ""
           },
           "bgcolor": "#E5ECF6",
           "caxis": {
            "gridcolor": "white",
            "linecolor": "white",
            "ticks": ""
           }
          },
          "title": {
           "x": 0.05
          },
          "xaxis": {
           "automargin": true,
           "gridcolor": "white",
           "linecolor": "white",
           "ticks": "",
           "title": {
            "standoff": 15
           },
           "zerolinecolor": "white",
           "zerolinewidth": 2
          },
          "yaxis": {
           "automargin": true,
           "gridcolor": "white",
           "linecolor": "white",
           "ticks": "",
           "title": {
            "standoff": 15
           },
           "zerolinecolor": "white",
           "zerolinewidth": 2
          }
         }
        },
        "xaxis": {
         "anchor": "y",
         "domain": [
          0,
          1
         ],
         "title": {
          "text": "index"
         }
        },
        "yaxis": {
         "anchor": "x",
         "domain": [
          0,
          1
         ],
         "range": [
          0,
          150
         ],
         "title": {
          "text": "value"
         }
        }
       }
      }
     },
     "metadata": {},
     "output_type": "display_data"
    }
   ],
   "source": [
    "\n",
    "# future_zs_with_hw.plot()\n",
    "# many_day_df_current.plot()\n",
    "# many_day_df_current.mean(axis=1).plot()\n",
    "# plotting_df_many.plot()\n",
    "fig = go.Figure(plotting_df_many.plot())\n",
    "fig.update_yaxes(range = [0,zs_combined_rating])\n",
    "fig.add_hline(y=zs_combined_rating, line_width=3, line_dash=\"dash\", line_color=\"black\")\n"
   ]
  },
  {
   "cell_type": "code",
   "execution_count": 110,
   "metadata": {},
   "outputs": [
    {
     "name": "stdout",
     "output_type": "stream",
     "text": [
      "Current total energy delivered =  1018.0  MWh\n",
      "Current substation utilisation =  54.0  %\n",
      "Future total energy delivered =  1067.0  MWh\n",
      "Current substation utilisation =  63.0  %\n",
      "Future threshold of 0.9 POE = 68.1 MW\n",
      "Future max peak = 70.0 MW\n",
      "Future HW demand = 107.0 MWh/day\n",
      "Future HW demand = 5.0 kWh/household/day\n",
      "Future HW demand = 1247559.0 MWh for 250,000 households/day\n",
      "Current households = 20.3 k\n",
      "Future households = 21.4 k\n"
     ]
    }
   ],
   "source": [
    "# Utilization\n",
    "total_day_profile = many_day_df_current.mean(axis='columns')\n",
    "total_day_profile_peak = total_day_profile.max()\n",
    "current_tot_energy = total_day_profile.sum()/intervals_per_hour\n",
    "total_day_profile = many_day_df_future.mean(axis='columns')\n",
    "total_day_profile_peak = total_day_profile.max()\n",
    "future_tot_energy = total_day_profile.sum()/intervals_per_hour\n",
    "\n",
    "POE_index = int(POE*nu_days)\n",
    "current_peak_load_day = many_day_df_current.max().idxmax()\n",
    "current_peak_load_MW = many_day_df_current[current_peak_load_day].max()\n",
    "# peak_load_MW = many_day_df_future.max(axis='columns')\n",
    "future_peak_load_day = many_day_df_future.max().idxmax()\n",
    "future_peak_load_MW = many_day_df_future[future_peak_load_day].max()\n",
    "sorted_load_days = many_day_df_future.max().sort_values(ascending=True)\n",
    "\n",
    "high_load_days = sorted_load_days.iloc[POE_index:].index.to_numpy()\n",
    "many_day_df_future[high_load_days].plot()\n",
    "\n",
    "min_threshold_POE = many_day_df_future[high_load_days].max().min()\n",
    "\n",
    "\n",
    "print('Current total energy delivered = ', np.round(current_tot_energy,0), \" MWh\")\n",
    "print('Current substation utilisation = ', np.round(100*current_tot_energy/(zs_combined_rating*24),0), \" %\")\n",
    "print('Future total energy delivered = ', np.round(future_tot_energy,0), \" MWh\")\n",
    "print('Current substation utilisation = ', np.round(100*future_tot_energy/(future_peak_load_MW*24),0), \" %\")\n",
    "\n",
    "print(f\"Future threshold of {POE} POE = {np.round(min_threshold_POE,1)} MW\")\n",
    "print(f\"Future max peak = {np.round(future_peak_load_MW,1)} MW\")\n",
    "print(f\"Future HW demand = {np.round(future_hw_MWh_total,1)} MWh/day\")\n",
    "print(f\"Future HW demand = {np.round((future_hw_MWh_total/future_households)*1000,1)} kWh/household/day\")\n",
    "print(f\"Future HW demand = {np.round((future_hw_MWh_total/future_households)*250000*1000,1)} MWh for 250,000 households/day\")\n",
    "print(f\"Current households = {np.round((current_households)/1000,1)} k\")\n",
    "print(f\"Future households = {np.round((future_households)/1000,1)} k\")"
   ]
  },
  {
   "cell_type": "code",
   "execution_count": 59,
   "metadata": {},
   "outputs": [
    {
     "data": {
      "text/plain": [
       "np.float64(128.03377929073554)"
      ]
     },
     "execution_count": 59,
     "metadata": {},
     "output_type": "execute_result"
    }
   ],
   "source": [
    "future_tot_energy"
   ]
  },
  {
   "cell_type": "code",
   "execution_count": null,
   "metadata": {},
   "outputs": [
    {
     "data": {
      "text/plain": [
       "np.float64(21437.57213664058)"
      ]
     },
     "execution_count": 8,
     "metadata": {},
     "output_type": "execute_result"
    }
   ],
   "source": [
    "future_households"
   ]
  },
  {
   "cell_type": "code",
   "execution_count": null,
   "metadata": {},
   "outputs": [
    {
     "data": {
      "application/vnd.plotly.v1+json": {
       "config": {
        "plotlyServerURL": "https://plot.ly"
       },
       "data": [
        {
         "hovertemplate": "variable=0<br>index=%{x}<br>value=%{y}<extra></extra>",
         "legendgroup": "0",
         "line": {
          "color": "#636efa",
          "dash": "solid"
         },
         "marker": {
          "symbol": "circle"
         },
         "mode": "lines",
         "name": "0",
         "orientation": "v",
         "showlegend": true,
         "type": "scatter",
         "x": [
          "00:00:00",
          "00:15:00",
          "00:30:00",
          "00:45:00",
          "01:00:00",
          "01:15:00",
          "01:30:00",
          "01:45:00",
          "02:00:00",
          "02:15:00",
          "02:30:00",
          "02:45:00",
          "03:00:00",
          "03:15:00",
          "03:30:00",
          "03:45:00",
          "04:00:00",
          "04:15:00",
          "04:30:00",
          "04:45:00",
          "05:00:00",
          "05:15:00",
          "05:30:00",
          "05:45:00",
          "06:00:00",
          "06:15:00",
          "06:30:00",
          "06:45:00",
          "07:00:00",
          "07:15:00",
          "07:30:00",
          "07:45:00",
          "08:00:00",
          "08:15:00",
          "08:30:00",
          "08:45:00",
          "09:00:00",
          "09:15:00",
          "09:30:00",
          "09:45:00",
          "10:00:00",
          "10:15:00",
          "10:30:00",
          "10:45:00",
          "11:00:00",
          "11:15:00",
          "11:30:00",
          "11:45:00",
          "12:00:00",
          "12:15:00",
          "12:30:00",
          "12:45:00",
          "13:00:00",
          "13:15:00",
          "13:30:00",
          "13:45:00",
          "14:00:00",
          "14:15:00",
          "14:30:00",
          "14:45:00",
          "15:00:00",
          "15:15:00",
          "15:30:00",
          "15:45:00",
          "16:00:00",
          "16:15:00",
          "16:30:00",
          "16:45:00",
          "17:00:00",
          "17:15:00",
          "17:30:00",
          "17:45:00",
          "18:00:00",
          "18:15:00",
          "18:30:00",
          "18:45:00",
          "19:00:00",
          "19:15:00",
          "19:30:00",
          "19:45:00",
          "20:00:00",
          "20:15:00",
          "20:30:00",
          "20:45:00",
          "21:00:00",
          "21:15:00",
          "21:30:00",
          "21:45:00",
          "22:00:00",
          "22:15:00",
          "22:30:00",
          "22:45:00",
          "23:00:00",
          "23:15:00",
          "23:30:00",
          "23:45:00"
         ],
         "xaxis": "x",
         "y": [
          6.982843757722024,
          6.750528310505847,
          6.553531205673195,
          6.403676333550669,
          6.287594594914628,
          6.174027973280474,
          6.079556152619648,
          6.013140998251966,
          5.985243374554593,
          5.943916501037143,
          5.9166732725776825,
          5.899528174951415,
          5.917675741993481,
          5.925227028362606,
          5.947818305249738,
          5.974176400799936,
          6.085142558789602,
          6.165557857114574,
          6.276397717269559,
          6.420256507364397,
          6.759343602576855,
          6.998495129573518,
          7.324314431983087,
          7.679373117729215,
          8.30660167377362,
          8.771501145220766,
          9.196989969733083,
          9.562194511937356,
          10.031231916828641,
          10.372784518164973,
          10.531636758710711,
          10.530024592005573,
          10.445512175477727,
          10.248917562890918,
          9.952706052505976,
          9.624198953181528,
          12.547844643582783,
          12.301000368068294,
          12.019282213945422,
          11.763980497570833,
          11.842945617943709,
          11.582382875462297,
          11.269476778405666,
          10.9245971517981,
          10.682369985506892,
          10.544044293629241,
          10.3347919277381,
          10.2045283205872,
          10.244438624502983,
          10.203038805564725,
          10.104386422128831,
          10.044951189535631,
          10.060369962683092,
          10.093775695280556,
          10.130102213291103,
          10.179525499821693,
          10.26784813597244,
          10.417445453708496,
          10.603278493867926,
          10.785271124679946,
          10.998579505583999,
          11.266157688048906,
          11.595004149701607,
          11.977047607931908,
          12.384324690156754,
          12.787617888325585,
          13.225243773800502,
          13.679525863185571,
          10.944495204387302,
          11.387677781129875,
          11.799703201486025,
          12.124243065786589,
          12.252221028626769,
          12.310326947648768,
          12.293768148452385,
          12.196167642475295,
          11.993092366742383,
          11.8185411494798,
          11.660743555090859,
          11.49317846087691,
          11.279394348366575,
          11.06435904218123,
          10.828128790054796,
          10.582456389752442,
          10.27683703401662,
          9.981900505018844,
          9.62933895833079,
          9.294208138033282,
          9.4696910658866,
          9.425220581861689,
          9.114319458212735,
          8.76756879546652,
          8.391759274518746,
          7.967025117463269,
          7.579425729709226,
          7.26117997049008
         ],
         "yaxis": "y"
        }
       ],
       "layout": {
        "legend": {
         "title": {
          "text": "variable"
         },
         "tracegroupgap": 0
        },
        "margin": {
         "t": 60
        },
        "template": {
         "data": {
          "bar": [
           {
            "error_x": {
             "color": "#2a3f5f"
            },
            "error_y": {
             "color": "#2a3f5f"
            },
            "marker": {
             "line": {
              "color": "#E5ECF6",
              "width": 0.5
             },
             "pattern": {
              "fillmode": "overlay",
              "size": 10,
              "solidity": 0.2
             }
            },
            "type": "bar"
           }
          ],
          "barpolar": [
           {
            "marker": {
             "line": {
              "color": "#E5ECF6",
              "width": 0.5
             },
             "pattern": {
              "fillmode": "overlay",
              "size": 10,
              "solidity": 0.2
             }
            },
            "type": "barpolar"
           }
          ],
          "carpet": [
           {
            "aaxis": {
             "endlinecolor": "#2a3f5f",
             "gridcolor": "white",
             "linecolor": "white",
             "minorgridcolor": "white",
             "startlinecolor": "#2a3f5f"
            },
            "baxis": {
             "endlinecolor": "#2a3f5f",
             "gridcolor": "white",
             "linecolor": "white",
             "minorgridcolor": "white",
             "startlinecolor": "#2a3f5f"
            },
            "type": "carpet"
           }
          ],
          "choropleth": [
           {
            "colorbar": {
             "outlinewidth": 0,
             "ticks": ""
            },
            "type": "choropleth"
           }
          ],
          "contour": [
           {
            "colorbar": {
             "outlinewidth": 0,
             "ticks": ""
            },
            "colorscale": [
             [
              0,
              "#0d0887"
             ],
             [
              0.1111111111111111,
              "#46039f"
             ],
             [
              0.2222222222222222,
              "#7201a8"
             ],
             [
              0.3333333333333333,
              "#9c179e"
             ],
             [
              0.4444444444444444,
              "#bd3786"
             ],
             [
              0.5555555555555556,
              "#d8576b"
             ],
             [
              0.6666666666666666,
              "#ed7953"
             ],
             [
              0.7777777777777778,
              "#fb9f3a"
             ],
             [
              0.8888888888888888,
              "#fdca26"
             ],
             [
              1,
              "#f0f921"
             ]
            ],
            "type": "contour"
           }
          ],
          "contourcarpet": [
           {
            "colorbar": {
             "outlinewidth": 0,
             "ticks": ""
            },
            "type": "contourcarpet"
           }
          ],
          "heatmap": [
           {
            "colorbar": {
             "outlinewidth": 0,
             "ticks": ""
            },
            "colorscale": [
             [
              0,
              "#0d0887"
             ],
             [
              0.1111111111111111,
              "#46039f"
             ],
             [
              0.2222222222222222,
              "#7201a8"
             ],
             [
              0.3333333333333333,
              "#9c179e"
             ],
             [
              0.4444444444444444,
              "#bd3786"
             ],
             [
              0.5555555555555556,
              "#d8576b"
             ],
             [
              0.6666666666666666,
              "#ed7953"
             ],
             [
              0.7777777777777778,
              "#fb9f3a"
             ],
             [
              0.8888888888888888,
              "#fdca26"
             ],
             [
              1,
              "#f0f921"
             ]
            ],
            "type": "heatmap"
           }
          ],
          "heatmapgl": [
           {
            "colorbar": {
             "outlinewidth": 0,
             "ticks": ""
            },
            "colorscale": [
             [
              0,
              "#0d0887"
             ],
             [
              0.1111111111111111,
              "#46039f"
             ],
             [
              0.2222222222222222,
              "#7201a8"
             ],
             [
              0.3333333333333333,
              "#9c179e"
             ],
             [
              0.4444444444444444,
              "#bd3786"
             ],
             [
              0.5555555555555556,
              "#d8576b"
             ],
             [
              0.6666666666666666,
              "#ed7953"
             ],
             [
              0.7777777777777778,
              "#fb9f3a"
             ],
             [
              0.8888888888888888,
              "#fdca26"
             ],
             [
              1,
              "#f0f921"
             ]
            ],
            "type": "heatmapgl"
           }
          ],
          "histogram": [
           {
            "marker": {
             "pattern": {
              "fillmode": "overlay",
              "size": 10,
              "solidity": 0.2
             }
            },
            "type": "histogram"
           }
          ],
          "histogram2d": [
           {
            "colorbar": {
             "outlinewidth": 0,
             "ticks": ""
            },
            "colorscale": [
             [
              0,
              "#0d0887"
             ],
             [
              0.1111111111111111,
              "#46039f"
             ],
             [
              0.2222222222222222,
              "#7201a8"
             ],
             [
              0.3333333333333333,
              "#9c179e"
             ],
             [
              0.4444444444444444,
              "#bd3786"
             ],
             [
              0.5555555555555556,
              "#d8576b"
             ],
             [
              0.6666666666666666,
              "#ed7953"
             ],
             [
              0.7777777777777778,
              "#fb9f3a"
             ],
             [
              0.8888888888888888,
              "#fdca26"
             ],
             [
              1,
              "#f0f921"
             ]
            ],
            "type": "histogram2d"
           }
          ],
          "histogram2dcontour": [
           {
            "colorbar": {
             "outlinewidth": 0,
             "ticks": ""
            },
            "colorscale": [
             [
              0,
              "#0d0887"
             ],
             [
              0.1111111111111111,
              "#46039f"
             ],
             [
              0.2222222222222222,
              "#7201a8"
             ],
             [
              0.3333333333333333,
              "#9c179e"
             ],
             [
              0.4444444444444444,
              "#bd3786"
             ],
             [
              0.5555555555555556,
              "#d8576b"
             ],
             [
              0.6666666666666666,
              "#ed7953"
             ],
             [
              0.7777777777777778,
              "#fb9f3a"
             ],
             [
              0.8888888888888888,
              "#fdca26"
             ],
             [
              1,
              "#f0f921"
             ]
            ],
            "type": "histogram2dcontour"
           }
          ],
          "mesh3d": [
           {
            "colorbar": {
             "outlinewidth": 0,
             "ticks": ""
            },
            "type": "mesh3d"
           }
          ],
          "parcoords": [
           {
            "line": {
             "colorbar": {
              "outlinewidth": 0,
              "ticks": ""
             }
            },
            "type": "parcoords"
           }
          ],
          "pie": [
           {
            "automargin": true,
            "type": "pie"
           }
          ],
          "scatter": [
           {
            "fillpattern": {
             "fillmode": "overlay",
             "size": 10,
             "solidity": 0.2
            },
            "type": "scatter"
           }
          ],
          "scatter3d": [
           {
            "line": {
             "colorbar": {
              "outlinewidth": 0,
              "ticks": ""
             }
            },
            "marker": {
             "colorbar": {
              "outlinewidth": 0,
              "ticks": ""
             }
            },
            "type": "scatter3d"
           }
          ],
          "scattercarpet": [
           {
            "marker": {
             "colorbar": {
              "outlinewidth": 0,
              "ticks": ""
             }
            },
            "type": "scattercarpet"
           }
          ],
          "scattergeo": [
           {
            "marker": {
             "colorbar": {
              "outlinewidth": 0,
              "ticks": ""
             }
            },
            "type": "scattergeo"
           }
          ],
          "scattergl": [
           {
            "marker": {
             "colorbar": {
              "outlinewidth": 0,
              "ticks": ""
             }
            },
            "type": "scattergl"
           }
          ],
          "scattermapbox": [
           {
            "marker": {
             "colorbar": {
              "outlinewidth": 0,
              "ticks": ""
             }
            },
            "type": "scattermapbox"
           }
          ],
          "scatterpolar": [
           {
            "marker": {
             "colorbar": {
              "outlinewidth": 0,
              "ticks": ""
             }
            },
            "type": "scatterpolar"
           }
          ],
          "scatterpolargl": [
           {
            "marker": {
             "colorbar": {
              "outlinewidth": 0,
              "ticks": ""
             }
            },
            "type": "scatterpolargl"
           }
          ],
          "scatterternary": [
           {
            "marker": {
             "colorbar": {
              "outlinewidth": 0,
              "ticks": ""
             }
            },
            "type": "scatterternary"
           }
          ],
          "surface": [
           {
            "colorbar": {
             "outlinewidth": 0,
             "ticks": ""
            },
            "colorscale": [
             [
              0,
              "#0d0887"
             ],
             [
              0.1111111111111111,
              "#46039f"
             ],
             [
              0.2222222222222222,
              "#7201a8"
             ],
             [
              0.3333333333333333,
              "#9c179e"
             ],
             [
              0.4444444444444444,
              "#bd3786"
             ],
             [
              0.5555555555555556,
              "#d8576b"
             ],
             [
              0.6666666666666666,
              "#ed7953"
             ],
             [
              0.7777777777777778,
              "#fb9f3a"
             ],
             [
              0.8888888888888888,
              "#fdca26"
             ],
             [
              1,
              "#f0f921"
             ]
            ],
            "type": "surface"
           }
          ],
          "table": [
           {
            "cells": {
             "fill": {
              "color": "#EBF0F8"
             },
             "line": {
              "color": "white"
             }
            },
            "header": {
             "fill": {
              "color": "#C8D4E3"
             },
             "line": {
              "color": "white"
             }
            },
            "type": "table"
           }
          ]
         },
         "layout": {
          "annotationdefaults": {
           "arrowcolor": "#2a3f5f",
           "arrowhead": 0,
           "arrowwidth": 1
          },
          "autotypenumbers": "strict",
          "coloraxis": {
           "colorbar": {
            "outlinewidth": 0,
            "ticks": ""
           }
          },
          "colorscale": {
           "diverging": [
            [
             0,
             "#8e0152"
            ],
            [
             0.1,
             "#c51b7d"
            ],
            [
             0.2,
             "#de77ae"
            ],
            [
             0.3,
             "#f1b6da"
            ],
            [
             0.4,
             "#fde0ef"
            ],
            [
             0.5,
             "#f7f7f7"
            ],
            [
             0.6,
             "#e6f5d0"
            ],
            [
             0.7,
             "#b8e186"
            ],
            [
             0.8,
             "#7fbc41"
            ],
            [
             0.9,
             "#4d9221"
            ],
            [
             1,
             "#276419"
            ]
           ],
           "sequential": [
            [
             0,
             "#0d0887"
            ],
            [
             0.1111111111111111,
             "#46039f"
            ],
            [
             0.2222222222222222,
             "#7201a8"
            ],
            [
             0.3333333333333333,
             "#9c179e"
            ],
            [
             0.4444444444444444,
             "#bd3786"
            ],
            [
             0.5555555555555556,
             "#d8576b"
            ],
            [
             0.6666666666666666,
             "#ed7953"
            ],
            [
             0.7777777777777778,
             "#fb9f3a"
            ],
            [
             0.8888888888888888,
             "#fdca26"
            ],
            [
             1,
             "#f0f921"
            ]
           ],
           "sequentialminus": [
            [
             0,
             "#0d0887"
            ],
            [
             0.1111111111111111,
             "#46039f"
            ],
            [
             0.2222222222222222,
             "#7201a8"
            ],
            [
             0.3333333333333333,
             "#9c179e"
            ],
            [
             0.4444444444444444,
             "#bd3786"
            ],
            [
             0.5555555555555556,
             "#d8576b"
            ],
            [
             0.6666666666666666,
             "#ed7953"
            ],
            [
             0.7777777777777778,
             "#fb9f3a"
            ],
            [
             0.8888888888888888,
             "#fdca26"
            ],
            [
             1,
             "#f0f921"
            ]
           ]
          },
          "colorway": [
           "#636efa",
           "#EF553B",
           "#00cc96",
           "#ab63fa",
           "#FFA15A",
           "#19d3f3",
           "#FF6692",
           "#B6E880",
           "#FF97FF",
           "#FECB52"
          ],
          "font": {
           "color": "#2a3f5f"
          },
          "geo": {
           "bgcolor": "white",
           "lakecolor": "white",
           "landcolor": "#E5ECF6",
           "showlakes": true,
           "showland": true,
           "subunitcolor": "white"
          },
          "hoverlabel": {
           "align": "left"
          },
          "hovermode": "closest",
          "mapbox": {
           "style": "light"
          },
          "paper_bgcolor": "white",
          "plot_bgcolor": "#E5ECF6",
          "polar": {
           "angularaxis": {
            "gridcolor": "white",
            "linecolor": "white",
            "ticks": ""
           },
           "bgcolor": "#E5ECF6",
           "radialaxis": {
            "gridcolor": "white",
            "linecolor": "white",
            "ticks": ""
           }
          },
          "scene": {
           "xaxis": {
            "backgroundcolor": "#E5ECF6",
            "gridcolor": "white",
            "gridwidth": 2,
            "linecolor": "white",
            "showbackground": true,
            "ticks": "",
            "zerolinecolor": "white"
           },
           "yaxis": {
            "backgroundcolor": "#E5ECF6",
            "gridcolor": "white",
            "gridwidth": 2,
            "linecolor": "white",
            "showbackground": true,
            "ticks": "",
            "zerolinecolor": "white"
           },
           "zaxis": {
            "backgroundcolor": "#E5ECF6",
            "gridcolor": "white",
            "gridwidth": 2,
            "linecolor": "white",
            "showbackground": true,
            "ticks": "",
            "zerolinecolor": "white"
           }
          },
          "shapedefaults": {
           "line": {
            "color": "#2a3f5f"
           }
          },
          "ternary": {
           "aaxis": {
            "gridcolor": "white",
            "linecolor": "white",
            "ticks": ""
           },
           "baxis": {
            "gridcolor": "white",
            "linecolor": "white",
            "ticks": ""
           },
           "bgcolor": "#E5ECF6",
           "caxis": {
            "gridcolor": "white",
            "linecolor": "white",
            "ticks": ""
           }
          },
          "title": {
           "x": 0.05
          },
          "xaxis": {
           "automargin": true,
           "gridcolor": "white",
           "linecolor": "white",
           "ticks": "",
           "title": {
            "standoff": 15
           },
           "zerolinecolor": "white",
           "zerolinewidth": 2
          },
          "yaxis": {
           "automargin": true,
           "gridcolor": "white",
           "linecolor": "white",
           "ticks": "",
           "title": {
            "standoff": 15
           },
           "zerolinecolor": "white",
           "zerolinewidth": 2
          }
         }
        },
        "xaxis": {
         "anchor": "y",
         "domain": [
          0,
          1
         ],
         "title": {
          "text": "index"
         }
        },
        "yaxis": {
         "anchor": "x",
         "domain": [
          0,
          1
         ],
         "range": [
          0,
          13.679525863185571
         ],
         "title": {
          "text": "value"
         }
        }
       }
      }
     },
     "metadata": {},
     "output_type": "display_data"
    }
   ],
   "source": [
    "\n",
    "# fig = make_subplots(rows=1, cols=1)#,specs=[[{\"secondary_y\": True}]])\n",
    "fig = go.Figure(total_day_profile.plot())\n",
    "fig.update_yaxes(range = [0,total_day_profile_peak])"
   ]
  },
  {
   "cell_type": "code",
   "execution_count": null,
   "metadata": {},
   "outputs": [],
   "source": []
  }
 ],
 "metadata": {
  "kernelspec": {
   "display_name": "venv",
   "language": "python",
   "name": "python3"
  },
  "language_info": {
   "codemirror_mode": {
    "name": "ipython",
    "version": 3
   },
   "file_extension": ".py",
   "mimetype": "text/x-python",
   "name": "python",
   "nbconvert_exporter": "python",
   "pygments_lexer": "ipython3",
   "version": "3.10.12"
  }
 },
 "nbformat": 4,
 "nbformat_minor": 2
}
