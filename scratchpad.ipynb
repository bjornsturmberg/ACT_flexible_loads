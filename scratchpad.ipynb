{
 "cells": [
  {
   "cell_type": "code",
   "execution_count": 1,
   "metadata": {},
   "outputs": [],
   "source": [
    "import numpy as np\n",
    "import pandas as pd\n",
    "\n",
    "import plotly.graph_objects as go\n",
    "import plotly.express as px\n",
    "from datetime import datetime\n",
    "from plotly.subplots import make_subplots\n",
    "pd.options.plotting.backend = \"plotly\""
   ]
  },
  {
   "cell_type": "code",
   "execution_count": 2,
   "metadata": {},
   "outputs": [],
   "source": [
    "\n",
    "def manual_data(start: str, end: str, src: str) -> pd.DataFrame:\n",
    "    \"\"\"Get data from \"\"\"\n",
    "    data_df = pd.read_csv(src, index_col=0)#, parse_dates=[\"Time\"])\n",
    "\n",
    "    freq='15min'\n",
    "    intervals_per_hour = 4\n",
    "\n",
    "    # temp bandaid to deal with substation data\n",
    "    # data_df.index = pd.to_datetime(data_df.index, utc=True)#, format='mixed')\n",
    "\n",
    "    # NOTE we'll adopt NEM time such that timestamps indicate the end of a 5 min interval\n",
    "    # Starting with 15 min data we'll set the time index to start at the beninning of this \n",
    "    # period and then trim off the first 5 min after ffill()\n",
    "    tmp = pd.date_range(start=pd.to_datetime(\"2021-7-1 00:00\").tz_localize(\"UTC\"), \n",
    "                        end=pd.to_datetime(\"2023-06-30 23:45\").tz_localize(\"UTC\"), \n",
    "                        freq=freq)\n",
    "    data_df.index = tmp\n",
    "\n",
    "    # data_df = data_df.resample(\"5min\").ffill()#.reset_index()\n",
    "\n",
    "    # data_df.rename(columns={data_df.columns[0]: \"network_load\"}, inplace=True)\n",
    "\n",
    "    new_df = data_df.loc[start:end][1:]\n",
    "\n",
    "    # new_df.reset_index(inplace=True)\n",
    "\n",
    "    # temp bandaid to deal with substation data\n",
    "    # new_df = new_df.rename(columns={data_df.index.name:'settlementdate'})\n",
    "    # new_df = new_df.rename(columns={'index':'settlementdate'})\n",
    "    return new_df, intervals_per_hour"
   ]
  },
  {
   "cell_type": "code",
   "execution_count": 34,
   "metadata": {},
   "outputs": [
    {
     "name": "stdout",
     "output_type": "stream",
     "text": [
      "                1        2\n",
      "00:15:00  19.3445  20.3105\n",
      "00:30:00  19.0820  19.6805\n",
      "00:45:00  18.6830  19.3760\n",
      "01:00:00  18.4730  19.1345\n",
      "01:15:00  18.1895  18.9455\n",
      "...           ...      ...\n",
      "22:45:00  24.4160  24.9935\n",
      "23:00:00  23.4815  24.0695\n",
      "23:15:00  22.7150  23.1035\n",
      "23:30:00  21.8960  22.2005\n",
      "23:45:00  21.4130  21.6545\n",
      "\n",
      "[95 rows x 2 columns]\n"
     ]
    },
    {
     "name": "stderr",
     "output_type": "stream",
     "text": [
      "/tmp/ipykernel_35541/4167593100.py:37: FutureWarning: Setting an item of incompatible dtype is deprecated and will raise an error in a future version of pandas. Value '7.142857142857143' has dtype incompatible with int64, please explicitly cast to a compatible dtype first.\n",
      "  timed_hw_df[time_mask] = forecast_hw_MW\n",
      "/tmp/ipykernel_35541/4167593100.py:37: FutureWarning: Setting an item of incompatible dtype is deprecated and will raise an error in a future version of pandas. Value '7.142857142857143' has dtype incompatible with int64, please explicitly cast to a compatible dtype first.\n",
      "  timed_hw_df[time_mask] = forecast_hw_MW\n"
     ]
    }
   ],
   "source": [
    "zs_df, intervals_per_hour = manual_data(\"2022-1-1 00:00\", \"2022-2-1 00:00\",\n",
    "    src = \"data/evoenergy-zone-substation-report-2021-23.csv\")\n",
    "\n",
    "\n",
    "for i_d, day in enumerate(range(1,3)):\n",
    "    current_day_zs_df = zs_df['Belconnen'][zs_df.index.dayofyear == day]\n",
    "    current_day_zs_df.rename('Current', inplace=True)\n",
    "    # current_day_zs_df.index = current_day_zs_df.index.strftime('%H:%M')\n",
    "    # current_day_zs_df.index = current_day_zs_df.index.time\n",
    "    # time_interval = current_day_zs_df.index[1] - current_day_zs_df.index[0]\n",
    "    # print(current_day_zs_df)\n",
    "    # print(repr(current_day_zs_df.index))\n",
    "\n",
    "    demand_growth = 0.05 # as a growth rate\n",
    "\n",
    "    current_hw_MWh_per_day = 10 # will be temperature dependent\n",
    "    current_hw_MW = current_hw_MWh_per_day/24\n",
    "        \n",
    "    curent_day_zs_sans_hw = current_day_zs_df - current_hw_MW\n",
    "    curent_day_zs_sans_hw.rename('Current w/o hot water', inplace=True)\n",
    "\n",
    "    future_zs = current_day_zs_df*(1+demand_growth)\n",
    "    future_zs_sans_hw = curent_day_zs_sans_hw*(1+demand_growth)\n",
    "\n",
    "    forecast_hw_heatpump_MWh = 40\n",
    "    forecast_hw_resist_MWh = 10\n",
    "    timed_hw_start = 9\n",
    "    timed_hw_end = 16\n",
    "    time_mask = (current_day_zs_df.index.hour >= timed_hw_start) & \\\n",
    "            (current_day_zs_df.index.hour < timed_hw_end)\n",
    "    timed_hw_df = pd.Series(index=current_day_zs_df.index, data = 0)\n",
    "    # timed_hw_df[timed_hw_df.index.hour > timed_hw_start & timed_hw_df.index.hour < timed_hw_end] == 1\n",
    "    # print(timed_hw_df.between_time(timed_hw_start,timed_hw_end))\n",
    "    timed_hw_df[time_mask] = 1\n",
    "    forecast_hw_MW = (forecast_hw_heatpump_MWh + forecast_hw_resist_MWh) / \\\n",
    "                        (np.sum(timed_hw_df)/intervals_per_hour)\n",
    "    timed_hw_df[time_mask] = forecast_hw_MW\n",
    "    # print(timed_hw_df)\n",
    "\n",
    "    future_zs_with_hw = future_zs_sans_hw + timed_hw_df\n",
    "    future_zs_with_hw.rename('Future', inplace=True)\n",
    "\n",
    "    # print(future_zs_with_hw)\n",
    "\n",
    "    plotting_df = pd.concat([current_day_zs_df, curent_day_zs_sans_hw, future_zs_with_hw],axis=1)\n",
    "\n",
    "    # # future_zs_with_hw.plot()\n",
    "    # plotting_df.plot()\n",
    "    # # print(plotting_df)\n",
    "\n",
    "    future_zs_with_hw.index = current_day_zs_df.index.time\n",
    "\n",
    "    if i_d == 0:\n",
    "        many_day_df = future_zs_with_hw.rename(day, inplace=True).to_frame()\n",
    "    else:\n",
    "        many_day_df = many_day_df.join(future_zs_with_hw.rename(day))\n",
    "print(many_day_df)\n"
   ]
  }
 ],
 "metadata": {
  "kernelspec": {
   "display_name": "venv",
   "language": "python",
   "name": "python3"
  },
  "language_info": {
   "codemirror_mode": {
    "name": "ipython",
    "version": 3
   },
   "file_extension": ".py",
   "mimetype": "text/x-python",
   "name": "python",
   "nbconvert_exporter": "python",
   "pygments_lexer": "ipython3",
   "version": "3.10.12"
  }
 },
 "nbformat": 4,
 "nbformat_minor": 2
}
