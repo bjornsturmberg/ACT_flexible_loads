{
 "cells": [
  {
   "cell_type": "code",
   "execution_count": 1,
   "metadata": {},
   "outputs": [],
   "source": [
    "import numpy as np\n",
    "import pandas as pd\n",
    "import copy\n",
    "import glob\n",
    "\n",
    "import plotly.graph_objects as go\n",
    "import plotly.express as px\n",
    "from datetime import datetime\n",
    "from plotly.subplots import make_subplots\n",
    "pd.options.plotting.backend = \"plotly\""
   ]
  },
  {
   "cell_type": "code",
   "execution_count": 2,
   "metadata": {},
   "outputs": [],
   "source": [
    "def zs_data(start: str, end: str, src: str) -> pd.DataFrame:\n",
    "    \"\"\"Get data from \"\"\"\n",
    "    data_df = pd.read_csv(src, index_col=0)#, parse_dates=[\"Time\"])\n",
    "\n",
    "    freq='15min'\n",
    "    intervals_per_hour = 4\n",
    "\n",
    "    # temp bandaid to deal with substation data\n",
    "    # data_df.index = pd.to_datetime(data_df.index, utc=True)#, format='mixed')\n",
    "\n",
    "    # NOTE timestamps indicate start of an interval\n",
    "    # Starting with 15 min data we'll set the time index to start at the beninning of this \n",
    "    # period and then trim off the first 5 min after ffill()\n",
    "    tmp = pd.date_range(start=pd.to_datetime(\"2021-7-1 00:00\").tz_localize(\"UTC\"), \n",
    "                        end=pd.to_datetime(\"2023-06-30 23:45\").tz_localize(\"UTC\"), \n",
    "                        freq=freq)\n",
    "    data_df.index = tmp\n",
    "\n",
    "    # data_df = data_df.resample(\"5min\").ffill()#.reset_index()\n",
    "\n",
    "    # data_df.rename(columns={data_df.columns[0]: \"network_load\"}, inplace=True)\n",
    "\n",
    "    new_df = data_df.loc[start:end]#[1:]\n",
    "\n",
    "    # new_df.reset_index(inplace=True)\n",
    "\n",
    "    # temp bandaid to deal with substation data\n",
    "    # new_df = new_df.rename(columns={data_df.index.name:'settlementdate'})\n",
    "    # new_df = new_df.rename(columns={'index':'settlementdate'})\n",
    "    return new_df, intervals_per_hour"
   ]
  },
  {
   "cell_type": "code",
   "execution_count": 3,
   "metadata": {},
   "outputs": [],
   "source": [
    "zs_df, intervals_per_hour = zs_data(\"2022-1-1 00:00\", \"2022-12-31 23:45\",\n",
    "    src = \"data/evoenergy-zone-substation-report-2021-23.csv\")\n",
    "\n",
    "pop_SA3_df = pd.read_csv('data/SA3_population.csv', index_col=0)\n",
    "pop_SA2_df = pd.read_csv('data/SA2_population.csv', index_col=0)\n",
    "evo_cust_df = pd.read_csv('data/evo_customers.csv', index_col=0)\n",
    "\n",
    "# http://www.bom.gov.au/climate/averages/tables/cw_070282.shtml\n",
    "mean_3pm_temps = [26.9,26.4,23.5,19.1,14.9,11.4,10.6,12.6,15.1,18.3,22.0,24.8,18.8]\n",
    "mean_temps_Bin = [20.495001,20.325001,17.85,13.48,9.469999,6.67,5.585,7.105,9.710001,12.985,15.895,18.775]\n",
    "\n",
    "NextGen_solar = pd.read_csv('data/NextGen_solar.csv', index_col=0) \n",
    "NextGen_solar_normalised = NextGen_solar/NextGen_solar.min()\n",
    "NextGen_solar_normalised.index = zs_df.index\n",
    "\n",
    "SA3_dict = {'Gungahlin':['Gold Creek'],\n",
    "            'Tuggeranong':['Wanniassa', 'Gilmore', 'Theodore'],\n",
    "            'Woden Valley':['Woden', 'Wanniassa'],\n",
    "            'Canberra East':['East Lake'],#, 'Fyshwick'],\n",
    "            'South Canberra':['Telopea Park'],\n",
    "            'Belconnen':['Belconnen', 'Latham'],\n",
    "            'North Canberra':['Civic', 'City East'],\n",
    "            'Weston Creek':['Woden'],\n",
    "            'Molongolo':['Woden'],\n",
    "            'Urriarra - Namadgi':['Tennent/Angle Crossing'],}\n",
    "\n",
    "SA3_division = {'Woden Valley':[39238/(39238+24315+12102), 39238/(39238+88965)],\n",
    "                'Tuggeranong':[88965/(39238+88965), 1, 1],\n",
    "            'Weston Creek':[24315/(39238+24315+12102), ],\n",
    "            'Molongolo':[12102/(39238+24315+12102)],\n",
    "            'Gungahlin':[1],\n",
    "            'Canberra East':[1,1],\n",
    "            'South Canberra':[1],\n",
    "            'Belconnen':[1,1],\n",
    "            'North Canberra':[1,1]}\n",
    "\n",
    "ACT_pop_total_current = 457565\n",
    "\n",
    "zs_ratings = {'Gold Creek':[57,74], \n",
    "             'Gilmore':[45,62],  \n",
    "             'Theodore':[45,62], \n",
    "            'Woden':[95,95], \n",
    "            'East Lake':[50,60], \n",
    "            'Fyshwick':[28,28], \n",
    "            'Telopea Park':[100,114], \n",
    "            'Belconnen':[55,74], \n",
    "            'Latham':[95,95], \n",
    "            'Civic':[110,114],\n",
    "            'City East':[95,95],\n",
    "            'Wanniassa':[95,95]} # Table 54  [Continuous, 2hr emergency] ratings\n",
    "\n",
    "zs_total = [870,968]\n",
    "\n",
    "ACT_solar_current = 448 # MW at 30/6/2024\n",
    "\n",
    "ACT_vehicles = 318000 # 2021 data https://www.abs.gov.au/statistics/industry/tourism-and-transport/motor-vehicle-census-australia/latest-release\n",
    "ACT_vehicles_future = 377871 # Bin\n",
    "\n",
    "# 2,400kWh per year per car = 6.6kWh/day\n",
    "# Round up to 7.4 for beautiful fit with Level 2 charger\n",
    "# https://electricvehiclecouncil.com.au/docs/how-much-extra-electricity-will-i-use-in-my-home-when-i-buy-an-ev/\n",
    "EV_daily_kWh = 6.6\n",
    "\n"
   ]
  },
  {
   "cell_type": "code",
   "execution_count": 4,
   "metadata": {},
   "outputs": [],
   "source": [
    "# ng_demand = pd.DataFrame()\n",
    "# ng_solar = pd.DataFrame()\n",
    "\n",
    "# nextgen_files = glob.glob('/home/bjorn/Data/NextGen_csv/*.csv')\n",
    "# for f in nextgen_files:\n",
    "#     ng = pd.read_csv(f)\n",
    "#     ng = ng.set_index('original index')\n",
    "#     load = ng['load power (kW)'].to_frame(name=f)\n",
    "#     solar_tmp = ng['solar power (kW)'].to_frame(name=f)\n",
    "#     ng_demand = pd.concat([ng_demand,load], axis=1)\n",
    "#     ng_solar = pd.concat([ng_solar,solar_tmp], axis=1)\n",
    "\n",
    "\n",
    "# # ng_demand_av = ng_demand.mean(axis=1)\n",
    "# ng_solar_av = ng_solar.mean(axis=1)\n",
    "\n",
    "# # rearrange to match WW day of year\n",
    "# # start_time = 1539435600 # 14/10/2018\n",
    "# # end_time = 1531663200 #16/7/2018\n",
    "# start_time = 1540990800 # 1/11/2018\n",
    "# end_time = 1533045600 #1/8/2018\n",
    "# end_2018_year = 1546261200\n",
    "# start_2018_year = 1514725200\n",
    "# # rearrange_year_demand = pd.concat([ng_demand_av.loc[start_time:end_2018_year],\n",
    "# #     ng_demand_av.loc[start_2018_year:end_time]], axis=0)\n",
    "# # rearrange_year_solar = pd.concat([ng_solar_av.loc[start_time:end_2018_year],\n",
    "# #     ng_solar_av.loc[start_2018_year:end_time]], axis=0)\n",
    "\n",
    "# # rearrange_year_demand = ng_demand_av.loc[start_2018_year:end_2018_year]\n",
    "# rearrange_year_solar = ng_solar_av.loc[start_2018_year:end_2018_year]\n",
    "\n",
    "# ng_solar_15min = rearrange_year_solar.groupby(np.arange(len(rearrange_year_solar.index)) // 3).mean()\n",
    "# ng_solar_15min.index = zs_df.index\n",
    "# ng_solar_15min.to_csv('NextGen_solar.csv', index=True) "
   ]
  },
  {
   "cell_type": "code",
   "execution_count": 5,
   "metadata": {},
   "outputs": [],
   "source": [
    "def forecast(evo_regions, evo_fractions, nu_days, start_day, zs_df, hw_times,\n",
    "             current_households, future_households, mean_temps, \n",
    "             current_frac_gas, future_frac_gas, current_frac_heatpumps, future_frac_heatpumps,\n",
    "             future_solar_MW, intervals_per_hour, EV_daytime_ratio, \n",
    "             EV_nighttime_ratio, EV_times, future_EV_MWh_day, EV_fast_public_ratio):\n",
    "    current_frac_elec = 1 - current_frac_gas\n",
    "    future_frac_elec = 1 - future_frac_gas\n",
    "    current_frac_resist = 1 - current_frac_heatpumps\n",
    "    future_frac_resist = 1 - future_frac_heatpumps\n",
    "\n",
    "    date_dict = {}\n",
    "    for i_d, day in enumerate(range(start_day,start_day+nu_days)):\n",
    "        for e, zs in enumerate(evo_regions):\n",
    "            if e == 0:\n",
    "                current_day_zs_df = zs_df[zs][zs_df.index.dayofyear == day+1]*evo_fractions[e]\n",
    "                current_day_zs_df.rename('Current', inplace=True)\n",
    "            else:\n",
    "                tmp_df = zs_df[zs][zs_df.index.dayofyear == day+1]*evo_fractions[e]\n",
    "                tmp_df.rename('Current', inplace=True)\n",
    "                # print(current_day_zs_df)\n",
    "                # print(tmp_df)\n",
    "                current_day_zs_df = current_day_zs_df.add(tmp_df)\n",
    "                # print(current_day_zs_df)\n",
    "        # current_day_zs_df.index = current_day_zs_df.index.strftime('%H:%M')\n",
    "        # current_day_zs_df.index = current_day_zs_df.index.time\n",
    "        # time_interval = current_day_zs_df.index[1] - current_day_zs_df.index[0]\n",
    "        # print(current_day_zs_df)\n",
    "        # print(repr(current_day_zs_df.index))\n",
    "\n",
    "        date_dict[day] = current_day_zs_df.index[0].date()\n",
    "        month = current_day_zs_df.index[0].month\n",
    "        temp = mean_temps[month-1]\n",
    "\n",
    "        # current_gas_users = current_frac_gas*current_households\n",
    "        future_elec_users = future_households*future_frac_elec\n",
    "        \n",
    "        pop_growth_factor = (future_households)/(current_households)\n",
    "        \n",
    "        # heating energy demand as function of temperature per household\n",
    "        CBR_factor = 1.266\n",
    "        hw_kWh_household_per_day = (10.295 - 0.2816*temp)*CBR_factor\n",
    "        # Heat pump coefficient of performance as function of temperature\n",
    "        heatpump_CoP = 2.9664 + 0.0703*temp\n",
    "\n",
    "        current_hw_MWh_per_day_elec = (current_frac_resist*hw_kWh_household_per_day + \\\n",
    "                                       current_frac_heatpumps*hw_kWh_household_per_day/heatpump_CoP)/1000\n",
    "        current_hw_MWh_per_day = current_frac_elec*current_households*current_hw_MWh_per_day_elec\n",
    "        current_hw_MW = current_hw_MWh_per_day/24\n",
    "        # print('current_hw_kWh', current_hw_MWh_per_day_elec*1000)\n",
    "            \n",
    "        curent_day_zs_sans_hw = current_day_zs_df - current_hw_MW\n",
    "        curent_day_zs_sans_hw.rename('Current w/o hot water', inplace=True)\n",
    "\n",
    "\n",
    "        ##################### \n",
    "        # Future hot water\n",
    "        #####################\n",
    "        future_solar_day_MW = future_solar_MW[future_solar_MW.index.dayofyear == day+1]\n",
    "\n",
    "        # future_zs = current_day_zs_df*pop_growth_factor\n",
    "        future_zs_sans_hw = curent_day_zs_sans_hw*pop_growth_factor - future_solar_day_MW['0']\n",
    "        \n",
    "        future_hw_resist_MWh = future_elec_users*future_frac_resist*hw_kWh_household_per_day/1000\n",
    "        future_hw_heatpump_MWh = future_elec_users*future_frac_heatpumps*hw_kWh_household_per_day/heatpump_CoP/1000\n",
    "        future_hw_MWh_total = future_hw_heatpump_MWh + future_hw_resist_MWh\n",
    "        # print('future_hw_kWh', future_hw_MWh_total/future_elec_users*1000)\n",
    "\n",
    "        for i, [timed_hw_start, timer_end] in enumerate(hw_times):\n",
    "            if timed_hw_start < timer_end:\n",
    "                time_mask = (current_day_zs_df.index.hour >= timed_hw_start) & \\\n",
    "                        (current_day_zs_df.index.hour < timer_end)\n",
    "            else:\n",
    "                time_mask = (current_day_zs_df.index.hour >= 0) & \\\n",
    "                        (current_day_zs_df.index.hour < timer_end) + \\\n",
    "                        (current_day_zs_df.index.hour >= timed_hw_start) & \\\n",
    "                        (current_day_zs_df.index.hour <= 24)\n",
    "\n",
    "            timer_df = pd.Series(index=current_day_zs_df.index, data = 0)\n",
    "            # timer_df[timer_df.index.hour > timed_hw_start & timer_df.index.hour < timer_end] == 1\n",
    "            # print(timer_df.between_time(timed_hw_start,timer_end))\n",
    "            timer_df[time_mask] = 1\n",
    "            if i == 0:\n",
    "                future_hw_MW = future_hw_heatpump_MWh / (np.sum(timer_df)/intervals_per_hour)\n",
    "                timer_df *= future_hw_MW\n",
    "                future_zs_with_hw = future_zs_sans_hw + timer_df\n",
    "            else:\n",
    "                future_hw_MW = future_hw_resist_MWh / (np.sum(timer_df)/intervals_per_hour)\n",
    "                timer_df *= future_hw_MW\n",
    "                future_zs_with_hw += timer_df\n",
    "            future_zs_with_hw.rename('Future', inplace=True)\n",
    "            # print(future_zs_with_hw)\n",
    "\n",
    "\n",
    "        ##################### \n",
    "        # Future EVs\n",
    "        #####################\n",
    "        future_zs_with_EV = copy.deepcopy(future_zs_with_hw)\n",
    "        for i, [timer_start, timer_end] in enumerate(EV_times):\n",
    "            if timer_start < timer_end:\n",
    "                time_mask = (current_day_zs_df.index.hour >= timer_start) & \\\n",
    "                        (current_day_zs_df.index.hour < timer_end)\n",
    "            else:\n",
    "                time_mask = (current_day_zs_df.index.hour >= 0) & \\\n",
    "                        (current_day_zs_df.index.hour < timer_end) + \\\n",
    "                        (current_day_zs_df.index.hour >= timer_start) & \\\n",
    "                        (current_day_zs_df.index.hour <= 24)\n",
    "\n",
    "            timer_df = pd.Series(index=current_day_zs_df.index, data = 0)\n",
    "            timer_df[time_mask] = 1\n",
    "            if i == 0:\n",
    "                EV_MW = EV_daytime_ratio*future_EV_MWh_day / (np.sum(timer_df)/intervals_per_hour)\n",
    "            elif i == 1:\n",
    "                EV_MW = EV_nighttime_ratio*future_EV_MWh_day / (np.sum(timer_df)/intervals_per_hour)\n",
    "            else:\n",
    "                EV_MW = EV_fast_public_ratio*future_EV_MWh_day / (np.sum(timer_df)/intervals_per_hour)\n",
    "            timer_df *= EV_MW\n",
    "            future_zs_with_EV += timer_df\n",
    "            future_zs_with_EV.rename('Future EVs', inplace=True)\n",
    "            # print(future_zs_with_hw)\n",
    "\n",
    "\n",
    "\n",
    "\n",
    "        ##################### \n",
    "        # Return values\n",
    "        #####################\n",
    "        plotting_df = pd.concat([current_day_zs_df, curent_day_zs_sans_hw, future_zs_with_hw,\n",
    "                                 future_zs_with_EV],axis=1)\n",
    "\n",
    "        current_day_zs_df.index = current_day_zs_df.index.time\n",
    "        curent_day_zs_sans_hw.index = current_day_zs_df.index\n",
    "        future_zs_sans_hw.index = current_day_zs_df.index\n",
    "        future_zs_with_hw.index = current_day_zs_df.index\n",
    "        future_zs_with_EV.index = current_day_zs_df.index\n",
    "\n",
    "        if i_d == 0:\n",
    "            many_day_df_current = current_day_zs_df.rename(date_dict[day], inplace=True).to_frame()\n",
    "            many_day_df_current_sans = curent_day_zs_sans_hw.rename(date_dict[day], inplace=True).to_frame()\n",
    "            many_day_df_future = future_zs_with_hw.rename(date_dict[day], inplace=True).to_frame()\n",
    "            many_day_df_future_sans = future_zs_sans_hw.rename(date_dict[day], inplace=True).to_frame()\n",
    "            many_day_df_future_EV = future_zs_with_EV.rename(date_dict[day], inplace=True).to_frame()\n",
    "        else:\n",
    "            many_day_df_current = many_day_df_current.join(current_day_zs_df.rename(date_dict[day]))\n",
    "            many_day_df_current_sans = many_day_df_current_sans.join(curent_day_zs_sans_hw.rename(date_dict[day]))\n",
    "            many_day_df_future = many_day_df_future.join(future_zs_with_hw.rename(date_dict[day]))\n",
    "            many_day_df_future_sans = many_day_df_future_sans.join(future_zs_sans_hw.rename(date_dict[day]))\n",
    "            many_day_df_future_EV = many_day_df_future_EV.join(future_zs_with_EV.rename(date_dict[day]))\n",
    "\n",
    "    plotting_df_many = pd.concat([many_day_df_current.mean(axis=1), many_day_df_current_sans.mean(axis=1), \n",
    "                                  many_day_df_future_sans.mean(axis=1), many_day_df_future.mean(axis=1),\n",
    "                                  many_day_df_future_EV.mean(axis=1)],axis=1)\n",
    "    plotting_df_many.columns = ['Current','Current w/o hot water','Future w/o hot water','Future w hot water',\n",
    "                                'Future w hot water + EVs']\n",
    "\n",
    "    return many_day_df_current, many_day_df_current_sans, many_day_df_future, \\\n",
    "            many_day_df_future_sans, many_day_df_future_EV, plotting_df_many, plotting_df, future_hw_MWh_total"
   ]
  },
  {
   "cell_type": "code",
   "execution_count": 6,
   "metadata": {},
   "outputs": [],
   "source": [
    "future_year = 2045\n",
    "POE = 0.9\n",
    "nu_days = 364\n",
    "start_day = 0#5*30\n",
    "\n",
    "EV_fast_public_ratio = 0.12 # Split this evenly 6am-24pm\n",
    "\n",
    "# Meta scenario choices\n",
    "solar_uptake = 'High'\n",
    "solar_uptake = 'Low'\n",
    "EV_private_charging = 'High'\n",
    "EV_private_charging = 'Low'\n",
    "\n",
    "# Study region\n",
    "SA_level = 3\n",
    "SA_region = 'Belconnen'\n",
    "# SA_region = 'Tuggeranong'\n",
    "# SA_region = 'Gungahlin'\n",
    "# SA_region = 'Woden Valley'\n",
    "# SA_region = 'Canberra East'\n",
    "# SA_region = 'South Canberra'\n",
    "# SA_region = 'North Canberra'\n",
    "\n",
    "if SA_region == 'North Canberra':\n",
    "    EV_visiting_ratio = 0.19 # fraction increase in a regions vehicles and charging during daytime\n",
    "    EV_away_ratio = 0.0 # fractional decrease in nighttime charging as charged away during day\n",
    "elif SA_region == 'South Canberra':\n",
    "    EV_away_ratio = 0.0\n",
    "    EV_visiting_ratio = 0.26\n",
    "else:\n",
    "    EV_away_ratio = 0.065 \n",
    "    EV_visiting_ratio = 0.0\n",
    "if EV_private_charging == 'High':\n",
    "    EV_away_ratio *= 0.5\n",
    "    EV_visiting_ratio *= 0.5\n",
    "elif EV_private_charging == 'Low':\n",
    "    EV_away_ratio *= 2\n",
    "    EV_visiting_ratio *= 2\n",
    "\n",
    "# EV assumptions/variables\n",
    "EV_daytime_ratio = 0.6\n",
    "EV_nighttime_ratio = 1 - EV_daytime_ratio\n",
    "EV_daytime_ratio += EV_visiting_ratio\n",
    "EV_nighttime_ratio -= EV_away_ratio\n",
    "EV_daytime_start = 10\n",
    "EV_daytime_end = 16\n",
    "EV_nighttime_start = 22\n",
    "EV_nighttime_end = 6\n",
    "\n",
    "# Solar assumptions/variables\n",
    "if solar_uptake == 'Low':\n",
    "    ACT_solar_future_total = 1000\n",
    "else:\n",
    "    ACT_solar_future_total = 1500\n",
    "    \n",
    "# Hot water assumptions/variables\n",
    "current_frac_gas = 0.45\n",
    "future_frac_gas = 0.0\n",
    "current_frac_heatpumps = 0.1\n",
    "future_frac_heatpumps = 0.75\n",
    "timed_hw_start_heatpumps = 11\n",
    "timed_hw_end_heatpumps = 15\n",
    "timed_hw_start_resist = 22\n",
    "timed_hw_end_resist = 6\n",
    "# timed_hw_start_heatpumps = 10\n",
    "# timed_hw_end_heatpumps = 16\n",
    "\n",
    "\n",
    "current_households = 0\n",
    "zs_combined_rating = 0\n",
    "for e, r in enumerate(SA3_dict[SA_region]):\n",
    "    zs_frac = SA3_division[SA_region][e]\n",
    "    current_households += evo_cust_df.loc[r,\"Evo resi customers\"]*zs_frac\n",
    "    zs_combined_rating += zs_ratings[r][0]*zs_frac # Continuous rating\n",
    "\n",
    "if SA_level == 2:\n",
    "    current_pop = pop_SA2_df.loc[SA_region,'2022']\n",
    "    pop_per_household = current_pop/current_households\n",
    "    # print(pop_per_household)\n",
    "    future_households = pop_SA2_df.loc[SA_region,str(future_year)]/pop_per_household\n",
    "    current_cars = ACT_vehicles*(current_pop/ACT_pop_total_current)\n",
    "elif SA_level == 3:\n",
    "    current_pop = pop_SA3_df.loc[SA_region,'2022']\n",
    "    pop_per_household = current_pop/current_households\n",
    "    future_households = pop_SA3_df.loc[SA_region,str(future_year)]/pop_per_household\n",
    "    current_cars = ACT_vehicles*(current_pop/ACT_pop_total_current)\n",
    "\n",
    "ACT_future_new_solar = ACT_solar_future_total - ACT_solar_current  # additions to current rooftop capacity across ACT\n",
    "future_new_solar_capacity_MW = ACT_future_new_solar*zs_combined_rating/zs_total[0]\n",
    "future_new_solar_MW = future_new_solar_capacity_MW*NextGen_solar_normalised\n",
    "\n",
    "future_EV_MWh_day = current_cars*EV_daily_kWh/1000 * future_households/current_households\n",
    "future_EV_MWh_region = future_EV_MWh_day*(EV_visiting_ratio-EV_away_ratio)\n",
    "\n",
    "# mean_temps = mean_3pm_temps\n",
    "mean_temps = mean_temps_Bin\n",
    "hw_times = [[timed_hw_start_heatpumps, timed_hw_end_heatpumps], [timed_hw_start_resist, timed_hw_end_resist]]\n",
    "EV_times = [[EV_daytime_start, EV_daytime_end], [EV_nighttime_start, EV_nighttime_end]]\n",
    "\n",
    "many_day_df_current, many_day_df_current_sans, many_day_df_future, \\\n",
    "    many_day_df_future_sans, many_day_df_future_EV, plotting_df_many, plotting_df, future_hw_MWh_total = \\\n",
    "        forecast(SA3_dict[SA_region], SA3_division[SA_region], nu_days, start_day, zs_df, hw_times,\n",
    "             current_households, future_households, mean_temps,\n",
    "             current_frac_gas, future_frac_gas, current_frac_heatpumps, future_frac_heatpumps, future_new_solar_MW,\n",
    "             intervals_per_hour, EV_daytime_ratio, EV_nighttime_ratio, EV_times, future_EV_MWh_day, \n",
    "            EV_fast_public_ratio)\n"
   ]
  },
  {
   "cell_type": "code",
   "execution_count": 13,
   "metadata": {},
   "outputs": [
    {
     "name": "stdout",
     "output_type": "stream",
     "text": [
      "\n",
      " Belconnen  solar  High EV home  High\n",
      "Current total energy delivered =  1321.0  MWh\n",
      "Current substation utilisation =  36.7  %\n",
      "Future total energy delivered =  1427.0  MWh\n",
      "Future substation utilisation =  39.6  %\n",
      "Current max peak = 133.8 MW\n",
      "Current threshold of 0.9 POE = 103.8 MW\n",
      "Future threshold of 0.9 POE = 154.2 MW\n",
      "Future max peak = 175.5 MW\n",
      "Future HW demand = 144.0 MWh/day\n",
      "Future HW demand = 2.7 kWh/household/day\n",
      "Future HW demand = 673596.4 MWh for 250,000 households/day\n",
      "Future EV demand = 577.6 MWh/day\n",
      "Current households = 38.8 k\n",
      "Future households = 53.5 k\n",
      "\n",
      " Tuggeranong  solar  High EV home  High\n",
      "Current total energy delivered =  1282.0  MWh\n",
      "Current substation utilisation =  34.2  %\n",
      "Future total energy delivered =  760.0  MWh\n",
      "Future substation utilisation =  20.3  %\n",
      "Current max peak = 123.0 MW\n",
      "Current threshold of 0.9 POE = 84.5 MW\n",
      "Future threshold of 0.9 POE = 104.5 MW\n",
      "Future max peak = 121.5 MW\n",
      "Future HW demand = 96.6 MWh/day\n",
      "Future HW demand = 2.7 kWh/household/day\n",
      "Future HW demand = 673596.4 MWh for 250,000 households/day\n",
      "Future EV demand = 484.9 MWh/day\n",
      "Current households = 36.5 k\n",
      "Future households = 35.9 k\n",
      "\n",
      " Gungahlin  solar  High EV home  High\n",
      "Current total energy delivered =  706.0  MWh\n",
      "Current substation utilisation =  51.6  %\n",
      "Future total energy delivered =  1033.0  MWh\n",
      "Future substation utilisation =  75.5  %\n",
      "Current max peak = 88.3 MW\n",
      "Current threshold of 0.9 POE = 50.9 MW\n",
      "Future threshold of 0.9 POE = 97.4 MW\n",
      "Future max peak = 121.7 MW\n",
      "Future HW demand = 109.0 MWh/day\n",
      "Future HW demand = 2.7 kWh/household/day\n",
      "Future HW demand = 673596.4 MWh for 250,000 households/day\n",
      "Future EV demand = 492.6 MWh/day\n",
      "Current households = 30.2 k\n",
      "Future households = 40.5 k\n",
      "\n",
      " Woden Valley  solar  High EV home  High\n",
      "Current total energy delivered =  695.0  MWh\n",
      "Current substation utilisation =  37.0  %\n",
      "Future total energy delivered =  501.0  MWh\n",
      "Future substation utilisation =  26.7  %\n",
      "Current max peak = 68.3 MW\n",
      "Current threshold of 0.9 POE = 52.7 MW\n",
      "Future threshold of 0.9 POE = 62.6 MW\n",
      "Future max peak = 74.4 MW\n",
      "Future HW demand = 61.4 MWh/day\n",
      "Future HW demand = 2.7 kWh/household/day\n",
      "Future HW demand = 673596.4 MWh for 250,000 households/day\n",
      "Future EV demand = 213.9 MWh/day\n",
      "Current households = 20.3 k\n",
      "Future households = 22.8 k\n",
      "\n",
      " Canberra East  solar  High EV home  High\n",
      "Current total energy delivered =  155.0  MWh\n",
      "Current substation utilisation =  12.9  %\n",
      "Future total energy delivered =  -99.0  MWh\n",
      "Future substation utilisation =  -8.3  %\n",
      "Current max peak = 14.5 MW\n",
      "Current threshold of 0.9 POE = 12.0 MW\n",
      "Future threshold of 0.9 POE = 14.4 MW\n",
      "Future max peak = 16.0 MW\n",
      "Future HW demand = 0.5 MWh/day\n",
      "Future HW demand = 2.7 kWh/household/day\n",
      "Future HW demand = 673596.4 MWh for 250,000 households/day\n",
      "Future EV demand = 10.1 MWh/day\n",
      "Current households = 0.2 k\n",
      "Future households = 0.2 k\n",
      "\n",
      " South Canberra  solar  High EV home  High\n",
      "Current total energy delivered =  999.0  MWh\n",
      "Current substation utilisation =  41.6  %\n",
      "Future total energy delivered =  935.0  MWh\n",
      "Future substation utilisation =  39.0  %\n",
      "Current max peak = 79.5 MW\n",
      "Current threshold of 0.9 POE = 62.9 MW\n",
      "Future threshold of 0.9 POE = 91.7 MW\n",
      "Future max peak = 106.7 MW\n",
      "Future HW demand = 55.3 MWh/day\n",
      "Future HW demand = 2.7 kWh/household/day\n",
      "Future HW demand = 673596.4 MWh for 250,000 households/day\n",
      "Future EV demand = 175.1 MWh/day\n",
      "Current households = 14.9 k\n",
      "Future households = 20.5 k\n",
      "\n",
      " North Canberra  solar  High EV home  High\n",
      "Current total energy delivered =  1637.0  MWh\n",
      "Current substation utilisation =  33.3  %\n",
      "Future total energy delivered =  1862.0  MWh\n",
      "Future substation utilisation =  37.8  %\n",
      "Current max peak = 128.9 MW\n",
      "Current threshold of 0.9 POE = 106.0 MW\n",
      "Future threshold of 0.9 POE = 180.5 MW\n",
      "Future max peak = 208.6 MW\n",
      "Future HW demand = 143.3 MWh/day\n",
      "Future HW demand = 2.7 kWh/household/day\n",
      "Future HW demand = 673596.4 MWh for 250,000 households/day\n",
      "Future EV demand = 338.2 MWh/day\n",
      "Current households = 31.2 k\n",
      "Future households = 53.2 k\n",
      "\n",
      " Belconnen  solar  High EV home  Low\n",
      "Current total energy delivered =  1321.0  MWh\n",
      "Current substation utilisation =  36.7  %\n",
      "Future total energy delivered =  1369.0  MWh\n",
      "Future substation utilisation =  38.0  %\n",
      "Current max peak = 133.8 MW\n",
      "Current threshold of 0.9 POE = 103.8 MW\n",
      "Future threshold of 0.9 POE = 151.0 MW\n",
      "Future max peak = 175.5 MW\n",
      "Future HW demand = 144.0 MWh/day\n",
      "Future HW demand = 2.7 kWh/household/day\n",
      "Future HW demand = 673596.4 MWh for 250,000 households/day\n",
      "Future EV demand = 577.6 MWh/day\n",
      "Current households = 38.8 k\n",
      "Future households = 53.5 k\n",
      "\n",
      " Tuggeranong  solar  High EV home  Low\n",
      "Current total energy delivered =  1282.0  MWh\n",
      "Current substation utilisation =  34.2  %\n",
      "Future total energy delivered =  711.0  MWh\n",
      "Future substation utilisation =  19.0  %\n",
      "Current max peak = 123.0 MW\n",
      "Current threshold of 0.9 POE = 84.5 MW\n",
      "Future threshold of 0.9 POE = 101.4 MW\n",
      "Future max peak = 118.8 MW\n",
      "Future HW demand = 96.6 MWh/day\n",
      "Future HW demand = 2.7 kWh/household/day\n",
      "Future HW demand = 673596.4 MWh for 250,000 households/day\n",
      "Future EV demand = 484.9 MWh/day\n",
      "Current households = 36.5 k\n",
      "Future households = 35.9 k\n",
      "\n",
      " Gungahlin  solar  High EV home  Low\n",
      "Current total energy delivered =  706.0  MWh\n",
      "Current substation utilisation =  51.6  %\n",
      "Future total energy delivered =  983.0  MWh\n",
      "Future substation utilisation =  71.9  %\n",
      "Current max peak = 88.3 MW\n",
      "Current threshold of 0.9 POE = 50.9 MW\n",
      "Future threshold of 0.9 POE = 95.2 MW\n",
      "Future max peak = 118.9 MW\n",
      "Future HW demand = 109.0 MWh/day\n",
      "Future HW demand = 2.7 kWh/household/day\n",
      "Future HW demand = 673596.4 MWh for 250,000 households/day\n",
      "Future EV demand = 492.6 MWh/day\n",
      "Current households = 30.2 k\n",
      "Future households = 40.5 k\n",
      "\n",
      " Woden Valley  solar  High EV home  Low\n",
      "Current total energy delivered =  695.0  MWh\n",
      "Current substation utilisation =  37.0  %\n",
      "Future total energy delivered =  480.0  MWh\n",
      "Future substation utilisation =  25.5  %\n",
      "Current max peak = 68.3 MW\n",
      "Current threshold of 0.9 POE = 52.7 MW\n",
      "Future threshold of 0.9 POE = 62.5 MW\n",
      "Future max peak = 73.2 MW\n",
      "Future HW demand = 61.4 MWh/day\n",
      "Future HW demand = 2.7 kWh/household/day\n",
      "Future HW demand = 673596.4 MWh for 250,000 households/day\n",
      "Future EV demand = 213.9 MWh/day\n",
      "Current households = 20.3 k\n",
      "Future households = 22.8 k\n",
      "\n",
      " Canberra East  solar  High EV home  Low\n",
      "Current total energy delivered =  155.0  MWh\n",
      "Current substation utilisation =  12.9  %\n",
      "Future total energy delivered =  -100.0  MWh\n",
      "Future substation utilisation =  -8.4  %\n",
      "Current max peak = 14.5 MW\n",
      "Current threshold of 0.9 POE = 12.0 MW\n",
      "Future threshold of 0.9 POE = 14.4 MW\n",
      "Future max peak = 16.0 MW\n",
      "Future HW demand = 0.5 MWh/day\n",
      "Future HW demand = 2.7 kWh/household/day\n",
      "Future HW demand = 673596.4 MWh for 250,000 households/day\n",
      "Future EV demand = 10.1 MWh/day\n",
      "Current households = 0.2 k\n",
      "Future households = 0.2 k\n",
      "\n",
      " South Canberra  solar  High EV home  Low\n",
      "Current total energy delivered =  999.0  MWh\n",
      "Current substation utilisation =  41.6  %\n",
      "Future total energy delivered =  918.0  MWh\n",
      "Future substation utilisation =  38.2  %\n",
      "Current max peak = 79.5 MW\n",
      "Current threshold of 0.9 POE = 62.9 MW\n",
      "Future threshold of 0.9 POE = 91.2 MW\n",
      "Future max peak = 105.7 MW\n",
      "Future HW demand = 55.3 MWh/day\n",
      "Future HW demand = 2.7 kWh/household/day\n",
      "Future HW demand = 673596.4 MWh for 250,000 households/day\n",
      "Future EV demand = 175.1 MWh/day\n",
      "Current households = 14.9 k\n",
      "Future households = 20.5 k\n",
      "\n",
      " North Canberra  solar  High EV home  Low\n",
      "Current total energy delivered =  1637.0  MWh\n",
      "Current substation utilisation =  33.3  %\n",
      "Future total energy delivered =  1828.0  MWh\n",
      "Future substation utilisation =  37.2  %\n",
      "Current max peak = 128.9 MW\n",
      "Current threshold of 0.9 POE = 106.0 MW\n",
      "Future threshold of 0.9 POE = 180.0 MW\n",
      "Future max peak = 208.6 MW\n",
      "Future HW demand = 143.3 MWh/day\n",
      "Future HW demand = 2.7 kWh/household/day\n",
      "Future HW demand = 673596.4 MWh for 250,000 households/day\n",
      "Future EV demand = 338.2 MWh/day\n",
      "Current households = 31.2 k\n",
      "Future households = 53.2 k\n",
      "\n",
      " Belconnen  solar  Low EV home  High\n",
      "Current total energy delivered =  1321.0  MWh\n",
      "Current substation utilisation =  36.7  %\n",
      "Future total energy delivered =  1847.0  MWh\n",
      "Future substation utilisation =  51.3  %\n",
      "Current max peak = 133.8 MW\n",
      "Current threshold of 0.9 POE = 87.7 MW\n",
      "Future threshold of 0.9 POE = 157.8 MW\n",
      "Future max peak = 184.5 MW\n",
      "Future HW demand = 144.0 MWh/day\n",
      "Future HW demand = 2.7 kWh/household/day\n",
      "Future HW demand = 673596.4 MWh for 250,000 households/day\n",
      "Future EV demand = 577.6 MWh/day\n",
      "Current households = 38.8 k\n",
      "Future households = 53.5 k\n",
      "\n",
      " Tuggeranong  solar  Low EV home  High\n",
      "Current total energy delivered =  1282.0  MWh\n",
      "Current substation utilisation =  34.2  %\n",
      "Future total energy delivered =  1196.0  MWh\n",
      "Future substation utilisation =  32.0  %\n",
      "Current max peak = 123.0 MW\n",
      "Current threshold of 0.9 POE = 84.5 MW\n",
      "Future threshold of 0.9 POE = 108.1 MW\n",
      "Future max peak = 128.9 MW\n",
      "Future HW demand = 96.6 MWh/day\n",
      "Future HW demand = 2.7 kWh/household/day\n",
      "Future HW demand = 673596.4 MWh for 250,000 households/day\n",
      "Future EV demand = 484.9 MWh/day\n",
      "Current households = 36.5 k\n",
      "Future households = 35.9 k\n",
      "\n",
      " Gungahlin  solar  Low EV home  High\n",
      "Current total energy delivered =  706.0  MWh\n",
      "Current substation utilisation =  51.6  %\n",
      "Future total energy delivered =  1192.0  MWh\n",
      "Future substation utilisation =  87.1  %\n",
      "Current max peak = 88.3 MW\n",
      "Current threshold of 0.9 POE = 50.9 MW\n",
      "Future threshold of 0.9 POE = 100.0 MW\n",
      "Future max peak = 127.2 MW\n",
      "Future HW demand = 109.0 MWh/day\n",
      "Future HW demand = 2.7 kWh/household/day\n",
      "Future HW demand = 673596.4 MWh for 250,000 households/day\n",
      "Future EV demand = 492.6 MWh/day\n",
      "Current households = 30.2 k\n",
      "Future households = 40.5 k\n",
      "\n",
      " Woden Valley  solar  Low EV home  High\n",
      "Current total energy delivered =  695.0  MWh\n",
      "Current substation utilisation =  37.0  %\n",
      "Future total energy delivered =  721.0  MWh\n",
      "Future substation utilisation =  38.3  %\n",
      "Current max peak = 68.3 MW\n",
      "Current threshold of 0.9 POE = 52.7 MW\n",
      "Future threshold of 0.9 POE = 65.9 MW\n",
      "Future max peak = 78.1 MW\n",
      "Future HW demand = 61.4 MWh/day\n",
      "Future HW demand = 2.7 kWh/household/day\n",
      "Future HW demand = 673596.4 MWh for 250,000 households/day\n",
      "Future EV demand = 213.9 MWh/day\n",
      "Current households = 20.3 k\n",
      "Future households = 22.8 k\n",
      "\n",
      " Canberra East  solar  Low EV home  High\n",
      "Current total energy delivered =  155.0  MWh\n",
      "Current substation utilisation =  12.9  %\n",
      "Future total energy delivered =  41.0  MWh\n",
      "Future substation utilisation =  3.4  %\n",
      "Current max peak = 14.5 MW\n",
      "Current threshold of 0.9 POE = 12.1 MW\n",
      "Future threshold of 0.9 POE = 14.5 MW\n",
      "Future max peak = 16.2 MW\n",
      "Future HW demand = 0.5 MWh/day\n",
      "Future HW demand = 2.7 kWh/household/day\n",
      "Future HW demand = 673596.4 MWh for 250,000 households/day\n",
      "Future EV demand = 10.1 MWh/day\n",
      "Current households = 0.2 k\n",
      "Future households = 0.2 k\n",
      "\n",
      " South Canberra  solar  Low EV home  High\n",
      "Current total energy delivered =  999.0  MWh\n",
      "Current substation utilisation =  41.6  %\n",
      "Future total energy delivered =  1215.0  MWh\n",
      "Future substation utilisation =  50.6  %\n",
      "Current max peak = 79.5 MW\n",
      "Current threshold of 0.9 POE = 62.9 MW\n",
      "Future threshold of 0.9 POE = 93.8 MW\n",
      "Future max peak = 108.6 MW\n",
      "Future HW demand = 55.3 MWh/day\n",
      "Future HW demand = 2.7 kWh/household/day\n",
      "Future HW demand = 673596.4 MWh for 250,000 households/day\n",
      "Future EV demand = 175.1 MWh/day\n",
      "Current households = 14.9 k\n",
      "Future households = 20.5 k\n",
      "\n",
      " North Canberra  solar  Low EV home  High\n",
      "Current total energy delivered =  1637.0  MWh\n",
      "Current substation utilisation =  33.3  %\n",
      "Future total energy delivered =  2436.0  MWh\n",
      "Future substation utilisation =  49.5  %\n",
      "Current max peak = 128.9 MW\n",
      "Current threshold of 0.9 POE = 94.4 MW\n",
      "Future threshold of 0.9 POE = 184.7 MW\n",
      "Future max peak = 213.1 MW\n",
      "Future HW demand = 143.3 MWh/day\n",
      "Future HW demand = 2.7 kWh/household/day\n",
      "Future HW demand = 673596.4 MWh for 250,000 households/day\n",
      "Future EV demand = 338.2 MWh/day\n",
      "Current households = 31.2 k\n",
      "Future households = 53.2 k\n",
      "\n",
      " Belconnen  solar  Low EV home  Low\n",
      "Current total energy delivered =  1321.0  MWh\n",
      "Current substation utilisation =  36.7  %\n",
      "Future total energy delivered =  1789.0  MWh\n",
      "Future substation utilisation =  49.7  %\n",
      "Current max peak = 133.8 MW\n",
      "Current threshold of 0.9 POE = 87.7 MW\n",
      "Future threshold of 0.9 POE = 155.3 MW\n",
      "Future max peak = 181.2 MW\n",
      "Future HW demand = 144.0 MWh/day\n",
      "Future HW demand = 2.7 kWh/household/day\n",
      "Future HW demand = 673596.4 MWh for 250,000 households/day\n",
      "Future EV demand = 577.6 MWh/day\n",
      "Current households = 38.8 k\n",
      "Future households = 53.5 k\n",
      "\n",
      " Tuggeranong  solar  Low EV home  Low\n",
      "Current total energy delivered =  1282.0  MWh\n",
      "Current substation utilisation =  34.2  %\n",
      "Future total energy delivered =  1148.0  MWh\n",
      "Future substation utilisation =  30.7  %\n",
      "Current max peak = 123.0 MW\n",
      "Current threshold of 0.9 POE = 84.5 MW\n",
      "Future threshold of 0.9 POE = 105.0 MW\n",
      "Future max peak = 126.1 MW\n",
      "Future HW demand = 96.6 MWh/day\n",
      "Future HW demand = 2.7 kWh/household/day\n",
      "Future HW demand = 673596.4 MWh for 250,000 households/day\n",
      "Future EV demand = 484.9 MWh/day\n",
      "Current households = 36.5 k\n",
      "Future households = 35.9 k\n",
      "\n",
      " Gungahlin  solar  Low EV home  Low\n",
      "Current total energy delivered =  706.0  MWh\n",
      "Current substation utilisation =  51.6  %\n",
      "Future total energy delivered =  1143.0  MWh\n",
      "Future substation utilisation =  83.5  %\n",
      "Current max peak = 88.3 MW\n",
      "Current threshold of 0.9 POE = 50.9 MW\n",
      "Future threshold of 0.9 POE = 97.2 MW\n",
      "Future max peak = 124.4 MW\n",
      "Future HW demand = 109.0 MWh/day\n",
      "Future HW demand = 2.7 kWh/household/day\n",
      "Future HW demand = 673596.4 MWh for 250,000 households/day\n",
      "Future EV demand = 492.6 MWh/day\n",
      "Current households = 30.2 k\n",
      "Future households = 40.5 k\n",
      "\n",
      " Woden Valley  solar  Low EV home  Low\n",
      "Current total energy delivered =  695.0  MWh\n",
      "Current substation utilisation =  37.0  %\n",
      "Future total energy delivered =  699.0  MWh\n",
      "Future substation utilisation =  37.2  %\n",
      "Current max peak = 68.3 MW\n",
      "Current threshold of 0.9 POE = 52.7 MW\n",
      "Future threshold of 0.9 POE = 64.7 MW\n",
      "Future max peak = 76.9 MW\n",
      "Future HW demand = 61.4 MWh/day\n",
      "Future HW demand = 2.7 kWh/household/day\n",
      "Future HW demand = 673596.4 MWh for 250,000 households/day\n",
      "Future EV demand = 213.9 MWh/day\n",
      "Current households = 20.3 k\n",
      "Future households = 22.8 k\n",
      "\n",
      " Canberra East  solar  Low EV home  Low\n",
      "Current total energy delivered =  155.0  MWh\n",
      "Current substation utilisation =  12.9  %\n",
      "Future total energy delivered =  40.0  MWh\n",
      "Future substation utilisation =  3.3  %\n",
      "Current max peak = 14.5 MW\n",
      "Current threshold of 0.9 POE = 12.1 MW\n",
      "Future threshold of 0.9 POE = 14.5 MW\n",
      "Future max peak = 16.2 MW\n",
      "Future HW demand = 0.5 MWh/day\n",
      "Future HW demand = 2.7 kWh/household/day\n",
      "Future HW demand = 673596.4 MWh for 250,000 households/day\n",
      "Future EV demand = 10.1 MWh/day\n",
      "Current households = 0.2 k\n",
      "Future households = 0.2 k\n",
      "\n",
      " South Canberra  solar  Low EV home  Low\n",
      "Current total energy delivered =  999.0  MWh\n",
      "Current substation utilisation =  41.6  %\n",
      "Future total energy delivered =  1198.0  MWh\n",
      "Future substation utilisation =  49.9  %\n",
      "Current max peak = 79.5 MW\n",
      "Current threshold of 0.9 POE = 62.9 MW\n",
      "Future threshold of 0.9 POE = 93.2 MW\n",
      "Future max peak = 107.6 MW\n",
      "Future HW demand = 55.3 MWh/day\n",
      "Future HW demand = 2.7 kWh/household/day\n",
      "Future HW demand = 673596.4 MWh for 250,000 households/day\n",
      "Future EV demand = 175.1 MWh/day\n",
      "Current households = 14.9 k\n",
      "Future households = 20.5 k\n",
      "\n",
      " North Canberra  solar  Low EV home  Low\n",
      "Current total energy delivered =  1637.0  MWh\n",
      "Current substation utilisation =  33.3  %\n",
      "Future total energy delivered =  2402.0  MWh\n",
      "Future substation utilisation =  48.8  %\n",
      "Current max peak = 128.9 MW\n",
      "Current threshold of 0.9 POE = 106.0 MW\n",
      "Future threshold of 0.9 POE = 184.0 MW\n",
      "Future max peak = 211.2 MW\n",
      "Future HW demand = 143.3 MWh/day\n",
      "Future HW demand = 2.7 kWh/household/day\n",
      "Future HW demand = 673596.4 MWh for 250,000 households/day\n",
      "Future EV demand = 338.2 MWh/day\n",
      "Current households = 31.2 k\n",
      "Future households = 53.2 k\n"
     ]
    }
   ],
   "source": [
    "future_year = 2045\n",
    "POE = 0.9\n",
    "nu_days = 364\n",
    "start_day = 0#5*30\n",
    "SA_level = 3\n",
    "\n",
    "for solar_uptake in ['High', 'Low']:\n",
    "    for EV_home_charging in ['High', 'Low']:\n",
    "        for SA_region in ['Belconnen', 'Tuggeranong', 'Gungahlin',\n",
    "                          'Woden Valley', 'Canberra East', \n",
    "                          'South Canberra', 'North Canberra']:\n",
    "\n",
    "\n",
    "            # AEMO ESOO 2024 - CSIRO 2023 EV forecast - Step change \n",
    "            Home_L1_L2 = 0.68 \n",
    "            Work_Public_L2 = 0.2\n",
    "            EV_fast_public_ratio = 0.12 # Split this evenly 6am-24pm\n",
    "\n",
    "            # Home split day night\n",
    "            home_day_ratio = 0.7\n",
    "            # Public split burbs, city\n",
    "            public_suburb_city_ratio = 0.5\n",
    "\n",
    "            public_private_scenario_multiplier = 2\n",
    "\n",
    "            if EV_home_charging == 'High':\n",
    "                public_private_scenario_multiplier = 1\n",
    "                EV_daytime_ratio = Home_L1_L2*home_day_ratio + Work_Public_L2*public_suburb_city_ratio\n",
    "                EV_nighttime_ratio = Home_L1_L2*(1-home_day_ratio)\n",
    "\n",
    "            if EV_home_charging == 'Low':\n",
    "                Work_Public_L2_2 = public_private_scenario_multiplier*Work_Public_L2\n",
    "                Home_L1_L2 -= (public_private_scenario_multiplier-1)*Work_Public_L2\n",
    "                EV_daytime_ratio = Home_L1_L2*home_day_ratio + Work_Public_L2_2*public_suburb_city_ratio\n",
    "                EV_nighttime_ratio = Home_L1_L2*(1-home_day_ratio)\n",
    "\n",
    "            if SA_region in ['North Canberra', 'South Canberra']:\n",
    "                visting_EVs = public_private_scenario_multiplier*Work_Public_L2*(1-public_suburb_city_ratio)*ACT_vehicles_future/2\n",
    "\n",
    "\n",
    "            # EV assumptions/variables\n",
    "            EV_daytime_start = 9\n",
    "            EV_daytime_end = 16\n",
    "            EV_nighttime_start = 22\n",
    "            EV_nighttime_end = 6\n",
    "            EV_fast_public_start = 6\n",
    "            EV_fast_public_end = 24\n",
    "\n",
    "            # Solar assumptions/variables\n",
    "            if solar_uptake == 'Low':\n",
    "                ACT_solar_future_total = 1000\n",
    "            else:\n",
    "                ACT_solar_future_total = 1500\n",
    "                \n",
    "            # Hot water assumptions/variables\n",
    "            current_frac_gas = 0.45\n",
    "            future_frac_gas = 0.0\n",
    "            current_frac_heatpumps = 0.1\n",
    "            future_frac_heatpumps = 0.75\n",
    "            timed_hw_start_heatpumps = 11\n",
    "            timed_hw_end_heatpumps = 15\n",
    "            timed_hw_start_resist = 22\n",
    "            timed_hw_end_resist = 6\n",
    "            # timed_hw_start_heatpumps = 10\n",
    "            # timed_hw_end_heatpumps = 16\n",
    "\n",
    "\n",
    "            current_households = 0\n",
    "            zs_combined_rating = 0\n",
    "            for e, r in enumerate(SA3_dict[SA_region]):\n",
    "                zs_frac = SA3_division[SA_region][e]\n",
    "                current_households += evo_cust_df.loc[r,\"Evo resi customers\"]*zs_frac\n",
    "                zs_combined_rating += zs_ratings[r][0]*zs_frac # Continuous rating\n",
    "\n",
    "            if SA_level == 2:\n",
    "                current_pop = pop_SA2_df.loc[SA_region,'2022']\n",
    "                pop_per_household = current_pop/current_households\n",
    "                # print(pop_per_household)\n",
    "                future_households = pop_SA2_df.loc[SA_region,str(future_year)]/pop_per_household\n",
    "                current_cars = ACT_vehicles*(current_pop/ACT_pop_total_current)\n",
    "            elif SA_level == 3:\n",
    "                current_pop = pop_SA3_df.loc[SA_region,'2022']\n",
    "                pop_per_household = current_pop/current_households\n",
    "                future_households = pop_SA3_df.loc[SA_region,str(future_year)]/pop_per_household\n",
    "                current_cars = ACT_vehicles*(current_pop/ACT_pop_total_current)\n",
    "                future_cars = ACT_vehicles_future*(current_pop/ACT_pop_total_current)\n",
    "\n",
    "            ACT_future_new_solar = ACT_solar_future_total - ACT_solar_current  # additions to current rooftop capacity across ACT\n",
    "            future_new_solar_capacity_MW = ACT_future_new_solar*zs_combined_rating/zs_total[0]\n",
    "            future_new_solar_MW = future_new_solar_capacity_MW*NextGen_solar_normalised\n",
    "\n",
    "            future_EV_MWh_day = future_cars*EV_daily_kWh/1000\n",
    "\n",
    "            # mean_temps = mean_3pm_temps\n",
    "            mean_temps = mean_temps_Bin\n",
    "            hw_times = [[timed_hw_start_heatpumps, timed_hw_end_heatpumps], [timed_hw_start_resist, timed_hw_end_resist]]\n",
    "            EV_times = [[EV_daytime_start, EV_daytime_end], [EV_nighttime_start, EV_nighttime_end], [EV_fast_public_start, EV_fast_public_end]]\n",
    "\n",
    "            many_day_df_current, many_day_df_current_sans, many_day_df_future, \\\n",
    "                many_day_df_future_sans, many_day_df_future_EV, plotting_df_many, plotting_df, future_hw_MWh_total = \\\n",
    "                    forecast(SA3_dict[SA_region], SA3_division[SA_region], nu_days, start_day, zs_df, hw_times,\n",
    "                        current_households, future_households, mean_temps,\n",
    "                        current_frac_gas, future_frac_gas, current_frac_heatpumps, future_frac_heatpumps, future_new_solar_MW,\n",
    "                        intervals_per_hour, EV_daytime_ratio, EV_nighttime_ratio, EV_times, future_EV_MWh_day, EV_fast_public_ratio)\n",
    "            \n",
    "\n",
    "\n",
    "            plt_max = plotting_df_many.max().max()\n",
    "            if plt_max > zs_combined_rating + 5:\n",
    "                y_max = plt_max + 5\n",
    "            else:\n",
    "                y_max = zs_combined_rating + 5\n",
    "\n",
    "            plt_min = plotting_df_many.min().min()\n",
    "            if plt_min < 0:\n",
    "                y_min = plt_min - 5\n",
    "            else:\n",
    "                y_min = 0\n",
    "\n",
    "            fig = go.Figure(plotting_df_many.plot())\n",
    "            fig.update_yaxes(range = [y_min,y_max])\n",
    "            if plt_min < 0:\n",
    "                fig.add_hline(y=0, line_width=1, line_dash=\"solid\", line_color=\"black\")\n",
    "            fig.add_hline(y=zs_combined_rating, line_width=3, line_dash=\"dash\", line_color=\"black\")\n",
    "            fig.update_layout(\n",
    "                title=f\"{SA_region} averaged - {solar_uptake} rooftop solar uptake, {EV_home_charging} private EV charging\",\n",
    "                xaxis_title=\"Time of day\",\n",
    "                yaxis_title=\"MW\",\n",
    "                legend_title=\"Scenarios\",\n",
    "            )\n",
    "            fig.write_image(f\"{SA_region}-{solar_uptake}_solar-{EV_home_charging}_private_EV-average.png\")\n",
    "\n",
    "\n",
    "            fig = go.Figure(plotting_df_many[['Current','Current w/o hot water','Future w/o hot water']].plot())\n",
    "            fig.update_yaxes(range = [y_min,y_max])\n",
    "            if plt_min < 0:\n",
    "                fig.add_hline(y=0, line_width=1, line_dash=\"solid\", line_color=\"black\")\n",
    "            fig.add_hline(y=zs_combined_rating, line_width=3, line_dash=\"dash\", line_color=\"black\")\n",
    "            fig.update_layout(\n",
    "                title=f\"{SA_region} averaged - {solar_uptake} rooftop solar uptake, {EV_home_charging} private EV charging\",\n",
    "                xaxis_title=\"Time of day\",\n",
    "                yaxis_title=\"MW\",\n",
    "                legend_title=\"Scenarios\",\n",
    "            )\n",
    "            fig.write_image(f\"{SA_region}-{solar_uptake}_solar-{EV_home_charging}_private_EV-average-1.png\")\n",
    "\n",
    "\n",
    "\n",
    "            fig = go.Figure(plotting_df_many[['Current','Future w hot water',\n",
    "                                'Future w hot water + EVs']].plot())\n",
    "            fig.update_yaxes(range = [y_min,y_max])\n",
    "            if plt_min < 0:\n",
    "                fig.add_hline(y=0, line_width=1, line_dash=\"solid\", line_color=\"black\")\n",
    "            fig.add_hline(y=zs_combined_rating, line_width=3, line_dash=\"dash\", line_color=\"black\")\n",
    "            fig.update_layout(\n",
    "                title=f\"{SA_region} averaged - {solar_uptake} rooftop solar uptake, {EV_home_charging} private EV charging\",\n",
    "                xaxis_title=\"Time of day\",\n",
    "                yaxis_title=\"MW\",\n",
    "                legend_title=\"Scenarios\",\n",
    "            )\n",
    "            fig.write_image(f\"{SA_region}-{solar_uptake}_solar-{EV_home_charging}_private_EV-average-2.png\")\n",
    "\n",
    "\n",
    "\n",
    "            # Utilization\n",
    "            total_day_profile = many_day_df_current.mean(axis='columns')\n",
    "            total_day_profile_peak = total_day_profile.max()\n",
    "            current_tot_energy = total_day_profile.sum()/intervals_per_hour\n",
    "            total_day_profile = many_day_df_future_EV.mean(axis='columns')\n",
    "            total_day_profile_peak = total_day_profile.max()\n",
    "            future_tot_energy = total_day_profile.sum()/intervals_per_hour\n",
    "\n",
    "            POE_index = int(POE*nu_days)\n",
    "            current_peak_load_day = many_day_df_current.max().idxmax()\n",
    "            current_peak_load_MW = many_day_df_current[current_peak_load_day].max()\n",
    "            # peak_load_MW = many_day_df_future_EV.max(axis='columns')\n",
    "            future_peak_load_day = many_day_df_future_EV.max().idxmax()\n",
    "            future_peak_load_MW = many_day_df_future_EV[future_peak_load_day].max()\n",
    "            sorted_load_days = many_day_df_future_EV.max().sort_values(ascending=True)\n",
    "            high_load_days = sorted_load_days.iloc[POE_index:].index.to_numpy()\n",
    "\n",
    "            sorted_solar_days = many_day_df_future_EV.min().sort_values(ascending=False)\n",
    "            high_solar_days = sorted_solar_days.iloc[POE_index:].index.to_numpy()\n",
    "\n",
    "            plt_max = many_day_df_future_EV[high_load_days].max().max()\n",
    "            if plt_max > zs_combined_rating + 5:\n",
    "                y_max = plt_max + 5\n",
    "            else:\n",
    "                y_max = zs_combined_rating + 5\n",
    "\n",
    "            plt_min = many_day_df_future_EV[high_load_days].min().min()\n",
    "            if plt_min < 0:\n",
    "                y_min = plt_min - 5\n",
    "            else:\n",
    "                y_min = 0\n",
    "\n",
    "            fig = go.Figure(many_day_df_future_EV[high_load_days].plot(title=''))\n",
    "            fig.update_yaxes(range = [y_min,y_max])\n",
    "            if plt_min < 0:\n",
    "                fig.add_hline(y=0, line_width=1, line_dash=\"solid\", line_color=\"black\")\n",
    "            fig.add_hline(y=zs_combined_rating, line_width=3, line_dash=\"dash\", line_color=\"black\")\n",
    "            fig.update_layout(\n",
    "                title=f\"{SA_region} {POE} POE days - {solar_uptake} rooftop solar uptake, {EV_home_charging} private EV charging\",\n",
    "                xaxis_title=\"Time of day\",\n",
    "                yaxis_title=\"MW\",\n",
    "                legend_title=\"Days\",\n",
    "                # font=dict(\n",
    "                #     family=\"Courier New, monospace\",\n",
    "                #     size=18,\n",
    "                #     color=\"RebeccaPurple\"\n",
    "                # )\n",
    "            )\n",
    "            fig.write_image(f\"{SA_region}-{solar_uptake}_solar-{EV_home_charging}_private_EV-{POE}_POE.png\")\n",
    "\n",
    "            plt_min = many_day_df_future_EV[high_solar_days].min().min()\n",
    "            if plt_min < 0:\n",
    "                y_min = plt_min - 5\n",
    "            else:\n",
    "                y_min = 0\n",
    "\n",
    "            fig = go.Figure(many_day_df_future_EV[high_solar_days].plot(title=''))\n",
    "            fig.update_yaxes(range = [y_min,y_max])\n",
    "            if plt_min < 0:\n",
    "                fig.add_hline(y=0, line_width=1, line_dash=\"solid\", line_color=\"black\")\n",
    "            fig.add_hline(y=zs_combined_rating, line_width=3, line_dash=\"dash\", line_color=\"black\")\n",
    "            fig.update_layout(\n",
    "                title=f\"{SA_region} {POE} POE days - {solar_uptake} rooftop solar uptake, {EV_home_charging} private EV charging\",\n",
    "                xaxis_title=\"Time of day\",\n",
    "                yaxis_title=\"MW\",\n",
    "                legend_title=\"Days\",\n",
    "                # font=dict(\n",
    "                #     family=\"Courier New, monospace\",\n",
    "                #     size=18,\n",
    "                #     color=\"RebeccaPurple\"\n",
    "                # )\n",
    "            )\n",
    "            fig.write_image(f\"{SA_region}-{solar_uptake}_solar-{EV_home_charging}_private_EV-{POE}_POE-solar.png\")\n",
    "\n",
    "\n",
    "\n",
    "            min_threshold_POE = many_day_df_future_EV[high_load_days].max().min()\n",
    "            current_min_threshold_POE = many_day_df_current[high_load_days].max().min()\n",
    "            print(\"\\n\", SA_region, ' solar ', solar_uptake, 'EV home ', EV_home_charging)\n",
    "            print('Current total energy delivered = ', np.round(current_tot_energy,0), \" MWh\")\n",
    "            print('Current substation utilisation = ', np.round(100*current_tot_energy/(zs_combined_rating*24),1), \" %\")\n",
    "            print('Future total energy delivered = ', np.round(future_tot_energy,0), \" MWh\")\n",
    "            print('Future substation utilisation = ', np.round(100*future_tot_energy/(zs_combined_rating*24),1), \" %\")\n",
    "            print(f\"Current max peak = {np.round(current_peak_load_MW,1)} MW\")\n",
    "            print(f\"Current threshold of {POE} POE = {np.round(current_min_threshold_POE,1)} MW\")\n",
    "            print(f\"Future threshold of {POE} POE = {np.round(min_threshold_POE,1)} MW\")\n",
    "            print(f\"Future max peak = {np.round(future_peak_load_MW,1)} MW\")\n",
    "            print(f\"Future HW demand = {np.round(future_hw_MWh_total,1)} MWh/day\")\n",
    "            print(f\"Future HW demand = {np.round((future_hw_MWh_total/future_households)*1000,1)} kWh/household/day\")\n",
    "            print(f\"Future HW demand = {np.round((future_hw_MWh_total/future_households)*250000*1000,1)} MWh for 250,000 households/day\")\n",
    "            print(f\"Future EV demand = {np.round(future_EV_MWh_day,1)} MWh/day\")\n",
    "            print(f\"Current households = {np.round((current_households)/1000,1)} k\")\n",
    "            print(f\"Future households = {np.round((future_households)/1000,1)} k\")\n",
    "\n",
    "\n",
    "            nu_bins = 100\n",
    "            names = ['Current', 'Future - HW, no EVs', 'Future - HW + EVs']\n",
    "            fig = go.Figure()\n",
    "            for i, data in enumerate([many_day_df_current, many_day_df_future, many_day_df_future_EV]):\n",
    "                occur, bins = np.histogram(data, range=(-50,y_max), bins=nu_bins, density=False)\n",
    "                pdf = occur/sum(occur)\n",
    "                cdf = np.cumsum(pdf) \n",
    "\n",
    "                fig.add_trace(go.Scatter(x=bins[1:], y=pdf, name=names[i]))\n",
    "\n",
    "            fig.add_vline(x=zs_combined_rating, line_width=3, line_dash=\"dash\", line_color=\"black\")\n",
    "            fig.update_layout(\n",
    "                title=f\"{SA_region} - {solar_uptake} rooftop solar uptake, {EV_private_charging} private EV charging\",\n",
    "                xaxis_title=\"MW\",\n",
    "                yaxis_title=\"Frequency\",\n",
    "                legend_title=\"Scenario\",\n",
    "            )\n",
    "            # fig.show()\n",
    "            fig.write_image(f\"{SA_region}-{solar_uptake}_solar-{EV_private_charging}_private_EV-frequency.png\")\n",
    "\n",
    "            fig = go.Figure()\n",
    "            for i, data in enumerate([many_day_df_current, many_day_df_future, many_day_df_future_EV]):\n",
    "                occur, bins = np.histogram(data, range=(-50,y_max), bins=nu_bins, density=False)\n",
    "                pdf = occur/sum(occur)\n",
    "                cdf = np.cumsum(pdf) \n",
    "\n",
    "                fig.add_trace(go.Scatter(y=bins[1:], x=cdf*8760, name=names[i]))\n",
    "                # fig.add_trace(go.Scatter(y=bins[1:][::-1], x=cdf*8760, name=names[i]))\n",
    "            fig.add_hline(y=zs_combined_rating, line_width=3, line_dash=\"dash\", line_color=\"black\")\n",
    "            fig.update_layout(\n",
    "                title=f\"{SA_region} - {solar_uptake} rooftop solar uptake, {EV_private_charging} private EV charging\",\n",
    "                xaxis_title=\"Hours of year\",\n",
    "                yaxis_title=\"MW\",\n",
    "                legend_title=\"Scenario\",\n",
    "            )\n",
    "            # fig.show()\n",
    "            fig.write_image(f\"{SA_region}-{solar_uptake}_solar-{EV_private_charging}_private_EV-duration.png\")\n"
   ]
  },
  {
   "cell_type": "code",
   "execution_count": 8,
   "metadata": {},
   "outputs": [
    {
     "data": {
      "application/vnd.plotly.v1+json": {
       "config": {
        "plotlyServerURL": "https://plot.ly"
       },
       "data": [
        {
         "hovertemplate": "variable=Current<br>index=%{x}<br>value=%{y}<extra></extra>",
         "legendgroup": "Current",
         "line": {
          "color": "#636efa",
          "dash": "solid"
         },
         "marker": {
          "symbol": "circle"
         },
         "mode": "lines",
         "name": "Current",
         "orientation": "v",
         "showlegend": true,
         "type": "scatter",
         "x": [
          "00:00:00",
          "00:15:00",
          "00:30:00",
          "00:45:00",
          "01:00:00",
          "01:15:00",
          "01:30:00",
          "01:45:00",
          "02:00:00",
          "02:15:00",
          "02:30:00",
          "02:45:00",
          "03:00:00",
          "03:15:00",
          "03:30:00",
          "03:45:00",
          "04:00:00",
          "04:15:00",
          "04:30:00",
          "04:45:00",
          "05:00:00",
          "05:15:00",
          "05:30:00",
          "05:45:00",
          "06:00:00",
          "06:15:00",
          "06:30:00",
          "06:45:00",
          "07:00:00",
          "07:15:00",
          "07:30:00",
          "07:45:00",
          "08:00:00",
          "08:15:00",
          "08:30:00",
          "08:45:00",
          "09:00:00",
          "09:15:00",
          "09:30:00",
          "09:45:00",
          "10:00:00",
          "10:15:00",
          "10:30:00",
          "10:45:00",
          "11:00:00",
          "11:15:00",
          "11:30:00",
          "11:45:00",
          "12:00:00",
          "12:15:00",
          "12:30:00",
          "12:45:00",
          "13:00:00",
          "13:15:00",
          "13:30:00",
          "13:45:00",
          "14:00:00",
          "14:15:00",
          "14:30:00",
          "14:45:00",
          "15:00:00",
          "15:15:00",
          "15:30:00",
          "15:45:00",
          "16:00:00",
          "16:15:00",
          "16:30:00",
          "16:45:00",
          "17:00:00",
          "17:15:00",
          "17:30:00",
          "17:45:00",
          "18:00:00",
          "18:15:00",
          "18:30:00",
          "18:45:00",
          "19:00:00",
          "19:15:00",
          "19:30:00",
          "19:45:00",
          "20:00:00",
          "20:15:00",
          "20:30:00",
          "20:45:00",
          "21:00:00",
          "21:15:00",
          "21:30:00",
          "21:45:00",
          "22:00:00",
          "22:15:00",
          "22:30:00",
          "22:45:00",
          "23:00:00",
          "23:15:00",
          "23:30:00",
          "23:45:00"
         ],
         "xaxis": "x",
         "y": {
          "bdata": "DzuxEzuxS0DPl0lmMStLQI6oIsTbvUpApUNtB6pjSkD17AJiUyFKQPWAQlvn4ElATMiETMisSUAxRVM0RYNJQLw6EooHd0lAnAwwZ9lcSUBigvMEHEVJQKYPxz2pOElAnjBwaf1MSUDM9gX5KUlJQLPpAYW2TklAOwn6BtZmSUA7wzM8w9tJQPpw3JMKDkpAC3YtpA9PSkB5YwQT/Z1KQBfTZIA5q0tAF8Bn4oxUTEAspA/HPRlNQNukTdqk7U1AII57UsG2T0CZ+TLJLGpQQJjXrAA++1BAsTaeFp10UUCGQziEQzBSQMhgDMZgtFJA7woVt9cFU0D6MsksZjBTQHdk4a+XWFNAM3uzN3tTU0CUvPz+IjNTQMZ63yrhBVNAnDkAagbtUkCW1fLGCNJSQLxvlfCisFJAfyer5Y19UkBG0DewNpJSQKINDQR0h1JA/Dw2yglfUkBWhHi76jJSQLOpNOTcF1JAl6n/YHb4UUD8PDbKCdtRQPkPZsfcwlFAKyjp+PTNUUDIyhKTl8dRQOn49LXFvVFAlPCiyCOyUUDpWWuC86xRQDNPwNHoqVFAvG3btm2vUUCUzGLG/71RQE14UeQRy1FALkOZ+g/eUUAgjntSwfJRQDMhEzIhD1JAGoMxGIMpUkBgZKwsMU1SQLyT1fLGjFJAiW8r6tXRUkA0ENDNqRlTQAvxdtW9a1NA+V3f9V27U0BbUNLx6Q9UQIbBGIzBIFRAmZmZmZltVEAhARIgAbZUQI8H31bU81RASwaYs2zKVECyCquwCsNUQAMbsAEbtFRAJycMXFqXVEDQj5YCw01UQFmgBVqgGVRAIEUesd7rU0CckeY1K7xTQJ0NDQR0c1NAWwCfiTMqU0BTg5seUOBSQAB7STGukFJAEw++ragnUkB7AbGpNMBRQO69eCXxU1FAoSi9BY/rUEBgmS+TzNZQQCyBrGG0s1BA53vxSuJHUEC4rMu6rLNPQO+xUU4YwE5AxhNwNHrWTUC3cvdDDAFNQETHp68tTkxA",
          "dtype": "f8"
         },
         "yaxis": "y"
        },
        {
         "hovertemplate": "variable=Current w/o hot water<br>index=%{x}<br>value=%{y}<extra></extra>",
         "legendgroup": "Current w/o hot water",
         "line": {
          "color": "#EF553B",
          "dash": "solid"
         },
         "marker": {
          "symbol": "circle"
         },
         "mode": "lines",
         "name": "Current w/o hot water",
         "orientation": "v",
         "showlegend": true,
         "type": "scatter",
         "x": [
          "00:00:00",
          "00:15:00",
          "00:30:00",
          "00:45:00",
          "01:00:00",
          "01:15:00",
          "01:30:00",
          "01:45:00",
          "02:00:00",
          "02:15:00",
          "02:30:00",
          "02:45:00",
          "03:00:00",
          "03:15:00",
          "03:30:00",
          "03:45:00",
          "04:00:00",
          "04:15:00",
          "04:30:00",
          "04:45:00",
          "05:00:00",
          "05:15:00",
          "05:30:00",
          "05:45:00",
          "06:00:00",
          "06:15:00",
          "06:30:00",
          "06:45:00",
          "07:00:00",
          "07:15:00",
          "07:30:00",
          "07:45:00",
          "08:00:00",
          "08:15:00",
          "08:30:00",
          "08:45:00",
          "09:00:00",
          "09:15:00",
          "09:30:00",
          "09:45:00",
          "10:00:00",
          "10:15:00",
          "10:30:00",
          "10:45:00",
          "11:00:00",
          "11:15:00",
          "11:30:00",
          "11:45:00",
          "12:00:00",
          "12:15:00",
          "12:30:00",
          "12:45:00",
          "13:00:00",
          "13:15:00",
          "13:30:00",
          "13:45:00",
          "14:00:00",
          "14:15:00",
          "14:30:00",
          "14:45:00",
          "15:00:00",
          "15:15:00",
          "15:30:00",
          "15:45:00",
          "16:00:00",
          "16:15:00",
          "16:30:00",
          "16:45:00",
          "17:00:00",
          "17:15:00",
          "17:30:00",
          "17:45:00",
          "18:00:00",
          "18:15:00",
          "18:30:00",
          "18:45:00",
          "19:00:00",
          "19:15:00",
          "19:30:00",
          "19:45:00",
          "20:00:00",
          "20:15:00",
          "20:30:00",
          "20:45:00",
          "21:00:00",
          "21:15:00",
          "21:30:00",
          "21:45:00",
          "22:00:00",
          "22:15:00",
          "22:30:00",
          "22:45:00",
          "23:00:00",
          "23:15:00",
          "23:30:00",
          "23:45:00"
         ],
         "xaxis": "x",
         "y": {
          "bdata": "1pZhgV7tSECS8/nTVGdIQGEE0zH/+UdAZ58ddc2fR0DJSLPPdl1HQLrc8sgKHUdAFyQ1uuvoRkD1oAOiaL9GQIeWwvcqs0ZAZGjg1PyYRkAx3qNyP4FGQGxrd6vMdEZAZYwg1yCJRkCOUrZmTYVGQIFFsvLZikZA/WSqdPmiRkAAH+Sp5hdHQL7MjAEuSkdA1tHdETOLR0A+v7SAINpHQOUuFe5c50hA3RsYULCQSUDv/780YVVKQKMA/kfIKUtA6ekrwOTyTEDyThYAfRBOQPkKCm+fMk9AlGR2za4SUEBqcRA7Vc5QQKqO5HxyUlFA0jjtbemjUUDfYKHjd85RQGCSuWap9lFAF6mL7ozxUUB76tS1NNFRQKeot+Hyo1FAgGfYIBiLUUB5A8t9GnBRQKCdbae0TlFAXlWDnJ8bUUAu/g9nSDBRQH875bqFJVFA42oOgRv9UEA3slBy/NBQQJTXDJvutVBAeNfXF4iWUEDhag6BG3lQQN89Pn7uYFBADlbBrwZsUECq+OpJqWVQQM0mzWzXW1BAfB57fzVQUEDJh0M5BUtQQBd9mIj6R1BAmZuzbX9NUEB6+jp9EVxQQC6mKZsjaVBAE3FxsSF8UED/u1MJ05BQQBNP6+gyrVBA+rAJz5THUEBCkoTjQutQQKXBranYKlFAZ50DoedvUUAUPqiEu7dRQOweT4zPCVJA14u3rG9ZUkA5fqqo+61SQG7v8ELTvlJAfMdxUKsLU0AGL+rWElRTQGw1tw3mkVNAMTRwan5oU0CUOINnHGFTQOdIiLgsUlNADFXkEmw1U0CzvW651OtSQDzO3RCyt1JA9nL2Z/CJUkCBv77sPFpSQIM75bqFEVJANy53QEXIUUA4sXPVYX5RQOGoIei/LlFA+DyWZLrFUEBWL4lgRl5QQKnXobgF5E9AAK0qeUETT0CRjg+UvOlOQCZeCTGMo05AjVOTA+jLTUCGCHwo0O9MQKwNArw7/EtAlG8gop0SS0B2zqexLz1KQA0jWB1RiklA",
          "dtype": "f8"
         },
         "yaxis": "y"
        },
        {
         "hovertemplate": "variable=Future w/o hot water<br>index=%{x}<br>value=%{y}<extra></extra>",
         "legendgroup": "Future w/o hot water",
         "line": {
          "color": "#00cc96",
          "dash": "solid"
         },
         "marker": {
          "symbol": "circle"
         },
         "mode": "lines",
         "name": "Future w/o hot water",
         "orientation": "v",
         "showlegend": true,
         "type": "scatter",
         "x": [
          "00:00:00",
          "00:15:00",
          "00:30:00",
          "00:45:00",
          "01:00:00",
          "01:15:00",
          "01:30:00",
          "01:45:00",
          "02:00:00",
          "02:15:00",
          "02:30:00",
          "02:45:00",
          "03:00:00",
          "03:15:00",
          "03:30:00",
          "03:45:00",
          "04:00:00",
          "04:15:00",
          "04:30:00",
          "04:45:00",
          "05:00:00",
          "05:15:00",
          "05:30:00",
          "05:45:00",
          "06:00:00",
          "06:15:00",
          "06:30:00",
          "06:45:00",
          "07:00:00",
          "07:15:00",
          "07:30:00",
          "07:45:00",
          "08:00:00",
          "08:15:00",
          "08:30:00",
          "08:45:00",
          "09:00:00",
          "09:15:00",
          "09:30:00",
          "09:45:00",
          "10:00:00",
          "10:15:00",
          "10:30:00",
          "10:45:00",
          "11:00:00",
          "11:15:00",
          "11:30:00",
          "11:45:00",
          "12:00:00",
          "12:15:00",
          "12:30:00",
          "12:45:00",
          "13:00:00",
          "13:15:00",
          "13:30:00",
          "13:45:00",
          "14:00:00",
          "14:15:00",
          "14:30:00",
          "14:45:00",
          "15:00:00",
          "15:15:00",
          "15:30:00",
          "15:45:00",
          "16:00:00",
          "16:15:00",
          "16:30:00",
          "16:45:00",
          "17:00:00",
          "17:15:00",
          "17:30:00",
          "17:45:00",
          "18:00:00",
          "18:15:00",
          "18:30:00",
          "18:45:00",
          "19:00:00",
          "19:15:00",
          "19:30:00",
          "19:45:00",
          "20:00:00",
          "20:15:00",
          "20:30:00",
          "20:45:00",
          "21:00:00",
          "21:15:00",
          "21:30:00",
          "21:45:00",
          "22:00:00",
          "22:15:00",
          "22:30:00",
          "22:45:00",
          "23:00:00",
          "23:15:00",
          "23:30:00",
          "23:45:00"
         ],
         "xaxis": "x",
         "y": {
          "bdata": "F6HhyrE3VUBHvp5yb8VUQPrzMrk6aFRAkx2iAFgbVEAx3FpEw+JTQLiTdvLXq1NAht1iYm5/U0Bl+EWcBlxTQPXMXcidUVNAiHtJhk47U0DyPIyRJCdTQD+mN4KCHFNAVyoxK9wtU0DTkMLPlipTQJtBNwpdL1NArNeK++VDU0BKQboNlqdTQOfudvxq0lNAiDY9z8wJVEBoFhNuHU1UQCyMvDyUMlVAuaKWVkrCVUBBPFJLVGhWQO6Tptu8GVdA84VjCRaVWEB1GZ1UUXRZQFR7bHc5SFpAJYAEGITeWkCRAlOZDMlbQGKmC5ViNVxAZdRJplIzXEBv0uaTObpbQOua2pkdCltA0DibwmzxWUAxsQeHEXZYQOzBBnNFx1ZAKIHxBRUYVUDBgs58zE1TQBmhn75NdFFAa0cEn0MJT0B/9wZEnmJMQBzvlhFakElAUKUb5hCSRkDFnZ6SBMJDQAT1Vm2JlUFApvvBuN4pP0BCxF9bViM8QKdFUSOKEDlA8/tzV/DwN0Dx05mBcXE2QKT9PqJO6DVAsDrUPvrANUCbqfdkOrY1QPel3ZW4MjZAujlDbhFAN0BrLmMYhA05QGKVmXiKtjpABEP0BLQyPUC7yGs15Ng/QDGMlT47JkJAInm1E7uCREBuOLgdpRNHQJjr8y1ELkpA3T0au3hqTUA8yiQ4eVxQQDd7j1DqQVJAj0e1LhY/VEAqJ7tKsztWQDpiXpFNzVdA7Pd+InrCWUBzVGtT/6lbQBkJZMvrUF1AYC8qvL8NXkCl58tRht1eQJW1av8/Yl9AkapytaGxX0C8/ukQz5JfQGTWJJ2KfF9A+kokORtcX0AUo42aFShfQIbMQ7hRul5AW7K8dYBCXkAuLs7Dp8ddQBUBdp/EQV1A5WV2ha+PXEA1HzfxgN9bQDjBnJwSJ1tAtGF9PDp1WkAKTu5Z71FaQH8986M5FlpANIZo1KReWUA0astc/KJYQOkXf4Ip01dA5LlQJvMLV0DaaBHEB1ZWQCxO6haBvVVA",
          "dtype": "f8"
         },
         "yaxis": "y"
        },
        {
         "hovertemplate": "variable=Future w hot water<br>index=%{x}<br>value=%{y}<extra></extra>",
         "legendgroup": "Future w hot water",
         "line": {
          "color": "#ab63fa",
          "dash": "solid"
         },
         "marker": {
          "symbol": "circle"
         },
         "mode": "lines",
         "name": "Future w hot water",
         "orientation": "v",
         "showlegend": true,
         "type": "scatter",
         "x": [
          "00:00:00",
          "00:15:00",
          "00:30:00",
          "00:45:00",
          "01:00:00",
          "01:15:00",
          "01:30:00",
          "01:45:00",
          "02:00:00",
          "02:15:00",
          "02:30:00",
          "02:45:00",
          "03:00:00",
          "03:15:00",
          "03:30:00",
          "03:45:00",
          "04:00:00",
          "04:15:00",
          "04:30:00",
          "04:45:00",
          "05:00:00",
          "05:15:00",
          "05:30:00",
          "05:45:00",
          "06:00:00",
          "06:15:00",
          "06:30:00",
          "06:45:00",
          "07:00:00",
          "07:15:00",
          "07:30:00",
          "07:45:00",
          "08:00:00",
          "08:15:00",
          "08:30:00",
          "08:45:00",
          "09:00:00",
          "09:15:00",
          "09:30:00",
          "09:45:00",
          "10:00:00",
          "10:15:00",
          "10:30:00",
          "10:45:00",
          "11:00:00",
          "11:15:00",
          "11:30:00",
          "11:45:00",
          "12:00:00",
          "12:15:00",
          "12:30:00",
          "12:45:00",
          "13:00:00",
          "13:15:00",
          "13:30:00",
          "13:45:00",
          "14:00:00",
          "14:15:00",
          "14:30:00",
          "14:45:00",
          "15:00:00",
          "15:15:00",
          "15:30:00",
          "15:45:00",
          "16:00:00",
          "16:15:00",
          "16:30:00",
          "16:45:00",
          "17:00:00",
          "17:15:00",
          "17:30:00",
          "17:45:00",
          "18:00:00",
          "18:15:00",
          "18:30:00",
          "18:45:00",
          "19:00:00",
          "19:15:00",
          "19:30:00",
          "19:45:00",
          "20:00:00",
          "20:15:00",
          "20:30:00",
          "20:45:00",
          "21:00:00",
          "21:15:00",
          "21:30:00",
          "21:45:00",
          "22:00:00",
          "22:15:00",
          "22:30:00",
          "22:45:00",
          "23:00:00",
          "23:15:00",
          "23:30:00",
          "23:45:00"
         ],
         "xaxis": "x",
         "y": {
          "bdata": "pQg6lwywWEDaJfc+yj1YQI1bi4WV4FdAI4X6zLKTV0DBQ7MQHltXQE37zr4yJFdAGUW7Lsn3VkD4X55oYdRWQIs0tpT4yVZAIuOhUqmzVkCEpORdf59WQNkNkE7dlFZA4pGJ9zamVkBi+Bqc8aJWQDOpj9a3p1ZANz/jx0C8VkDgqBLa8B9XQH9Wz8jFSldAG56VmyeCV0AEfms6eMVXQMLzFAnvqlhATwrvIqU6WUDUo6oXr+BZQIH7/qcXklpA84VjCRaVWEB1GZ1UUXRZQFR7bHc5SFpAJYAEGITeWkCRAlOZDMlbQGKmC5ViNVxAZdRJplIzXEBv0uaTObpbQOua2pkdCltA0DibwmzxWUAxsQeHEXZYQOzBBnNFx1ZAKIHxBRUYVUDBgs58zE1TQBmhn75NdFFAa0cEn0MJT0B/9wZEnmJMQBzvlhFakElAUKUb5hCSRkDFnZ6SBMJDQI/c/O3ZnExAYuUG3T+cSkCpyVWu+xhJQGeKTpKVj0dAg+VfrMj/RkCK0XJBCUBGQGFmxdF3+0VA5QQQoM3nRUBgvCGzbeJFQIW6lMusIEZAcYTHN1mnRkDNfteMEo5HQEGy8ryVYkhAFAkgg6qgSUDry1ubwvNKQLtzO7+LLU1AInm1E7uCREBuOLgdpRNHQJjr8y1ELkpA3T0au3hqTUA8yiQ4eVxQQDd7j1DqQVJAj0e1LhY/VEAqJ7tKsztWQDpiXpFNzVdA7Pd+InrCWUBzVGtT/6lbQBkJZMvrUF1AYC8qvL8NXkCl58tRht1eQJW1av8/Yl9AkapytaGxX0C8/ukQz5JfQGTWJJ2KfF9A+kokORtcX0AUo42aFShfQIbMQ7hRul5AW7K8dYBCXkAuLs7Dp8ddQBUBdp/EQV1A5WV2ha+PXEA1HzfxgN9bQDjBnJwSJ1tAtGF9PDp1WkCjtUYmSspdQAelS3CUjl1Aye3AoP/WXEC+0SMpVxtcQIF/106ES1tAdiGp8k2EWkB20GmQYs5ZQL61QuPbNVlA",
          "dtype": "f8"
         },
         "yaxis": "y"
        },
        {
         "hovertemplate": "variable=Future w hot water + EVs<br>index=%{x}<br>value=%{y}<extra></extra>",
         "legendgroup": "Future w hot water + EVs",
         "line": {
          "color": "#FFA15A",
          "dash": "solid"
         },
         "marker": {
          "symbol": "circle"
         },
         "mode": "lines",
         "name": "Future w hot water + EVs",
         "orientation": "v",
         "showlegend": true,
         "type": "scatter",
         "x": [
          "00:00:00",
          "00:15:00",
          "00:30:00",
          "00:45:00",
          "01:00:00",
          "01:15:00",
          "01:30:00",
          "01:45:00",
          "02:00:00",
          "02:15:00",
          "02:30:00",
          "02:45:00",
          "03:00:00",
          "03:15:00",
          "03:30:00",
          "03:45:00",
          "04:00:00",
          "04:15:00",
          "04:30:00",
          "04:45:00",
          "05:00:00",
          "05:15:00",
          "05:30:00",
          "05:45:00",
          "06:00:00",
          "06:15:00",
          "06:30:00",
          "06:45:00",
          "07:00:00",
          "07:15:00",
          "07:30:00",
          "07:45:00",
          "08:00:00",
          "08:15:00",
          "08:30:00",
          "08:45:00",
          "09:00:00",
          "09:15:00",
          "09:30:00",
          "09:45:00",
          "10:00:00",
          "10:15:00",
          "10:30:00",
          "10:45:00",
          "11:00:00",
          "11:15:00",
          "11:30:00",
          "11:45:00",
          "12:00:00",
          "12:15:00",
          "12:30:00",
          "12:45:00",
          "13:00:00",
          "13:15:00",
          "13:30:00",
          "13:45:00",
          "14:00:00",
          "14:15:00",
          "14:30:00",
          "14:45:00",
          "15:00:00",
          "15:15:00",
          "15:30:00",
          "15:45:00",
          "16:00:00",
          "16:15:00",
          "16:30:00",
          "16:45:00",
          "17:00:00",
          "17:15:00",
          "17:30:00",
          "17:45:00",
          "18:00:00",
          "18:15:00",
          "18:30:00",
          "18:45:00",
          "19:00:00",
          "19:15:00",
          "19:30:00",
          "19:45:00",
          "20:00:00",
          "20:15:00",
          "20:30:00",
          "20:45:00",
          "21:00:00",
          "21:15:00",
          "21:30:00",
          "21:45:00",
          "22:00:00",
          "22:15:00",
          "22:30:00",
          "22:45:00",
          "23:00:00",
          "23:15:00",
          "23:30:00",
          "23:45:00"
         ],
         "xaxis": "x",
         "y": {
          "bdata": "lMhTdKA1WkDJ5RAcXsNZQIAbpWIpZllAG0UUqkYZWUC4A83tseBYQDu76JvGqVhADQXVC119WEDiH7hF9VlYQHj0z3GMT1hAEaO7Lz05WEB2ZP46EyVYQMHNqStxGlhA0lGj1MorWEBTuDR5hShYQBtpqbNLLVhAKv/8pNRBWEDLaCy3hKVYQGgW6aVZ0FhABl6veLsHWUDzPYUXDEtZQKyzLuaCMFpAOMoIADnAWkDBY8T0QmZbQHO7GIWrF1xAb/ySw18lWUD1j8wOmwRaQMzxmzGD2FpApfYz0s1uW0AReYJTVllcQOIcO0+sxVxA3Up5YJzDXED8SBZOg0pcQFoRClRnmltASK/KfLaBWkCsJzdBWwZZQHU4Ni2PV1dAFyS37p4hXECmJZRlVldaQApEZafXfVhAn8ZHuCuOVkCiHskK2TpVQHkakfG20VNAj3XTW5JSUkDO8RQyjOpQQDcRxN/2V1VAlxVJ16lXVEDAh/C/B5ZTQBvo7LFU0VJAqZX1Pm6JUkCqC3+JjilSQBdWqNFFB1JAWaXNuHD9UUAbgVbCwPpRQCwAkE7gGVJAIWWphDZdUkBNYjEvk9BSQAn8PsfUOlNAc6dVKt/ZU0DbiHM2a4NUQMZcY8hPoFVAel+gcudKUUAZv6F3XJNSQLSYv/+rIFRA2cFSRsa+VUDAQFTywuxQQLPxvgo00lJAD77k6F/PVECsneoE/ctWQLTYjUuXXVhAbm6u3MNSWkD5ypoNSTpcQKB/k4U14V1A1KVZdgmeXkAiXvsL0G1fQBksmrmJ8l9AgRDRt/UgYECbuoxljBFgQHEmqitqBmBAeMFT82TsX0CRGb1UX7hfQABDc3KbSl9A2ijsL8rSXkCwpP198VdeQI53pVkO0l1AVtylP/kfXUC0lWarym9cQLs3zFZct1tAONis9oMFW0AU7I+9J+BfQHrblAdypF9AOCQKON3sXkAzCG3ANDFeQOS1IOZhYV1A51fyiSuaXEDgBrMnQORbQCrsi3q5S1tA",
          "dtype": "f8"
         },
         "yaxis": "y"
        }
       ],
       "layout": {
        "legend": {
         "title": {
          "text": "Scenarios"
         },
         "tracegroupgap": 0
        },
        "margin": {
         "t": 60
        },
        "shapes": [
         {
          "line": {
           "color": "black",
           "dash": "solid",
           "width": 1
          },
          "type": "line",
          "x0": 0,
          "x1": 1,
          "xref": "x domain",
          "y0": 0,
          "y1": 0,
          "yref": "y"
         },
         {
          "line": {
           "color": "black",
           "dash": "dash",
           "width": 3
          },
          "type": "line",
          "x0": 0,
          "x1": 1,
          "xref": "x domain",
          "y0": 205,
          "y1": 205,
          "yref": "y"
         }
        ],
        "template": {
         "data": {
          "bar": [
           {
            "error_x": {
             "color": "#2a3f5f"
            },
            "error_y": {
             "color": "#2a3f5f"
            },
            "marker": {
             "line": {
              "color": "#E5ECF6",
              "width": 0.5
             },
             "pattern": {
              "fillmode": "overlay",
              "size": 10,
              "solidity": 0.2
             }
            },
            "type": "bar"
           }
          ],
          "barpolar": [
           {
            "marker": {
             "line": {
              "color": "#E5ECF6",
              "width": 0.5
             },
             "pattern": {
              "fillmode": "overlay",
              "size": 10,
              "solidity": 0.2
             }
            },
            "type": "barpolar"
           }
          ],
          "carpet": [
           {
            "aaxis": {
             "endlinecolor": "#2a3f5f",
             "gridcolor": "white",
             "linecolor": "white",
             "minorgridcolor": "white",
             "startlinecolor": "#2a3f5f"
            },
            "baxis": {
             "endlinecolor": "#2a3f5f",
             "gridcolor": "white",
             "linecolor": "white",
             "minorgridcolor": "white",
             "startlinecolor": "#2a3f5f"
            },
            "type": "carpet"
           }
          ],
          "choropleth": [
           {
            "colorbar": {
             "outlinewidth": 0,
             "ticks": ""
            },
            "type": "choropleth"
           }
          ],
          "contour": [
           {
            "colorbar": {
             "outlinewidth": 0,
             "ticks": ""
            },
            "colorscale": [
             [
              0,
              "#0d0887"
             ],
             [
              0.1111111111111111,
              "#46039f"
             ],
             [
              0.2222222222222222,
              "#7201a8"
             ],
             [
              0.3333333333333333,
              "#9c179e"
             ],
             [
              0.4444444444444444,
              "#bd3786"
             ],
             [
              0.5555555555555556,
              "#d8576b"
             ],
             [
              0.6666666666666666,
              "#ed7953"
             ],
             [
              0.7777777777777778,
              "#fb9f3a"
             ],
             [
              0.8888888888888888,
              "#fdca26"
             ],
             [
              1,
              "#f0f921"
             ]
            ],
            "type": "contour"
           }
          ],
          "contourcarpet": [
           {
            "colorbar": {
             "outlinewidth": 0,
             "ticks": ""
            },
            "type": "contourcarpet"
           }
          ],
          "heatmap": [
           {
            "colorbar": {
             "outlinewidth": 0,
             "ticks": ""
            },
            "colorscale": [
             [
              0,
              "#0d0887"
             ],
             [
              0.1111111111111111,
              "#46039f"
             ],
             [
              0.2222222222222222,
              "#7201a8"
             ],
             [
              0.3333333333333333,
              "#9c179e"
             ],
             [
              0.4444444444444444,
              "#bd3786"
             ],
             [
              0.5555555555555556,
              "#d8576b"
             ],
             [
              0.6666666666666666,
              "#ed7953"
             ],
             [
              0.7777777777777778,
              "#fb9f3a"
             ],
             [
              0.8888888888888888,
              "#fdca26"
             ],
             [
              1,
              "#f0f921"
             ]
            ],
            "type": "heatmap"
           }
          ],
          "histogram": [
           {
            "marker": {
             "pattern": {
              "fillmode": "overlay",
              "size": 10,
              "solidity": 0.2
             }
            },
            "type": "histogram"
           }
          ],
          "histogram2d": [
           {
            "colorbar": {
             "outlinewidth": 0,
             "ticks": ""
            },
            "colorscale": [
             [
              0,
              "#0d0887"
             ],
             [
              0.1111111111111111,
              "#46039f"
             ],
             [
              0.2222222222222222,
              "#7201a8"
             ],
             [
              0.3333333333333333,
              "#9c179e"
             ],
             [
              0.4444444444444444,
              "#bd3786"
             ],
             [
              0.5555555555555556,
              "#d8576b"
             ],
             [
              0.6666666666666666,
              "#ed7953"
             ],
             [
              0.7777777777777778,
              "#fb9f3a"
             ],
             [
              0.8888888888888888,
              "#fdca26"
             ],
             [
              1,
              "#f0f921"
             ]
            ],
            "type": "histogram2d"
           }
          ],
          "histogram2dcontour": [
           {
            "colorbar": {
             "outlinewidth": 0,
             "ticks": ""
            },
            "colorscale": [
             [
              0,
              "#0d0887"
             ],
             [
              0.1111111111111111,
              "#46039f"
             ],
             [
              0.2222222222222222,
              "#7201a8"
             ],
             [
              0.3333333333333333,
              "#9c179e"
             ],
             [
              0.4444444444444444,
              "#bd3786"
             ],
             [
              0.5555555555555556,
              "#d8576b"
             ],
             [
              0.6666666666666666,
              "#ed7953"
             ],
             [
              0.7777777777777778,
              "#fb9f3a"
             ],
             [
              0.8888888888888888,
              "#fdca26"
             ],
             [
              1,
              "#f0f921"
             ]
            ],
            "type": "histogram2dcontour"
           }
          ],
          "mesh3d": [
           {
            "colorbar": {
             "outlinewidth": 0,
             "ticks": ""
            },
            "type": "mesh3d"
           }
          ],
          "parcoords": [
           {
            "line": {
             "colorbar": {
              "outlinewidth": 0,
              "ticks": ""
             }
            },
            "type": "parcoords"
           }
          ],
          "pie": [
           {
            "automargin": true,
            "type": "pie"
           }
          ],
          "scatter": [
           {
            "fillpattern": {
             "fillmode": "overlay",
             "size": 10,
             "solidity": 0.2
            },
            "type": "scatter"
           }
          ],
          "scatter3d": [
           {
            "line": {
             "colorbar": {
              "outlinewidth": 0,
              "ticks": ""
             }
            },
            "marker": {
             "colorbar": {
              "outlinewidth": 0,
              "ticks": ""
             }
            },
            "type": "scatter3d"
           }
          ],
          "scattercarpet": [
           {
            "marker": {
             "colorbar": {
              "outlinewidth": 0,
              "ticks": ""
             }
            },
            "type": "scattercarpet"
           }
          ],
          "scattergeo": [
           {
            "marker": {
             "colorbar": {
              "outlinewidth": 0,
              "ticks": ""
             }
            },
            "type": "scattergeo"
           }
          ],
          "scattergl": [
           {
            "marker": {
             "colorbar": {
              "outlinewidth": 0,
              "ticks": ""
             }
            },
            "type": "scattergl"
           }
          ],
          "scattermap": [
           {
            "marker": {
             "colorbar": {
              "outlinewidth": 0,
              "ticks": ""
             }
            },
            "type": "scattermap"
           }
          ],
          "scattermapbox": [
           {
            "marker": {
             "colorbar": {
              "outlinewidth": 0,
              "ticks": ""
             }
            },
            "type": "scattermapbox"
           }
          ],
          "scatterpolar": [
           {
            "marker": {
             "colorbar": {
              "outlinewidth": 0,
              "ticks": ""
             }
            },
            "type": "scatterpolar"
           }
          ],
          "scatterpolargl": [
           {
            "marker": {
             "colorbar": {
              "outlinewidth": 0,
              "ticks": ""
             }
            },
            "type": "scatterpolargl"
           }
          ],
          "scatterternary": [
           {
            "marker": {
             "colorbar": {
              "outlinewidth": 0,
              "ticks": ""
             }
            },
            "type": "scatterternary"
           }
          ],
          "surface": [
           {
            "colorbar": {
             "outlinewidth": 0,
             "ticks": ""
            },
            "colorscale": [
             [
              0,
              "#0d0887"
             ],
             [
              0.1111111111111111,
              "#46039f"
             ],
             [
              0.2222222222222222,
              "#7201a8"
             ],
             [
              0.3333333333333333,
              "#9c179e"
             ],
             [
              0.4444444444444444,
              "#bd3786"
             ],
             [
              0.5555555555555556,
              "#d8576b"
             ],
             [
              0.6666666666666666,
              "#ed7953"
             ],
             [
              0.7777777777777778,
              "#fb9f3a"
             ],
             [
              0.8888888888888888,
              "#fdca26"
             ],
             [
              1,
              "#f0f921"
             ]
            ],
            "type": "surface"
           }
          ],
          "table": [
           {
            "cells": {
             "fill": {
              "color": "#EBF0F8"
             },
             "line": {
              "color": "white"
             }
            },
            "header": {
             "fill": {
              "color": "#C8D4E3"
             },
             "line": {
              "color": "white"
             }
            },
            "type": "table"
           }
          ]
         },
         "layout": {
          "annotationdefaults": {
           "arrowcolor": "#2a3f5f",
           "arrowhead": 0,
           "arrowwidth": 1
          },
          "autotypenumbers": "strict",
          "coloraxis": {
           "colorbar": {
            "outlinewidth": 0,
            "ticks": ""
           }
          },
          "colorscale": {
           "diverging": [
            [
             0,
             "#8e0152"
            ],
            [
             0.1,
             "#c51b7d"
            ],
            [
             0.2,
             "#de77ae"
            ],
            [
             0.3,
             "#f1b6da"
            ],
            [
             0.4,
             "#fde0ef"
            ],
            [
             0.5,
             "#f7f7f7"
            ],
            [
             0.6,
             "#e6f5d0"
            ],
            [
             0.7,
             "#b8e186"
            ],
            [
             0.8,
             "#7fbc41"
            ],
            [
             0.9,
             "#4d9221"
            ],
            [
             1,
             "#276419"
            ]
           ],
           "sequential": [
            [
             0,
             "#0d0887"
            ],
            [
             0.1111111111111111,
             "#46039f"
            ],
            [
             0.2222222222222222,
             "#7201a8"
            ],
            [
             0.3333333333333333,
             "#9c179e"
            ],
            [
             0.4444444444444444,
             "#bd3786"
            ],
            [
             0.5555555555555556,
             "#d8576b"
            ],
            [
             0.6666666666666666,
             "#ed7953"
            ],
            [
             0.7777777777777778,
             "#fb9f3a"
            ],
            [
             0.8888888888888888,
             "#fdca26"
            ],
            [
             1,
             "#f0f921"
            ]
           ],
           "sequentialminus": [
            [
             0,
             "#0d0887"
            ],
            [
             0.1111111111111111,
             "#46039f"
            ],
            [
             0.2222222222222222,
             "#7201a8"
            ],
            [
             0.3333333333333333,
             "#9c179e"
            ],
            [
             0.4444444444444444,
             "#bd3786"
            ],
            [
             0.5555555555555556,
             "#d8576b"
            ],
            [
             0.6666666666666666,
             "#ed7953"
            ],
            [
             0.7777777777777778,
             "#fb9f3a"
            ],
            [
             0.8888888888888888,
             "#fdca26"
            ],
            [
             1,
             "#f0f921"
            ]
           ]
          },
          "colorway": [
           "#636efa",
           "#EF553B",
           "#00cc96",
           "#ab63fa",
           "#FFA15A",
           "#19d3f3",
           "#FF6692",
           "#B6E880",
           "#FF97FF",
           "#FECB52"
          ],
          "font": {
           "color": "#2a3f5f"
          },
          "geo": {
           "bgcolor": "white",
           "lakecolor": "white",
           "landcolor": "#E5ECF6",
           "showlakes": true,
           "showland": true,
           "subunitcolor": "white"
          },
          "hoverlabel": {
           "align": "left"
          },
          "hovermode": "closest",
          "mapbox": {
           "style": "light"
          },
          "paper_bgcolor": "white",
          "plot_bgcolor": "#E5ECF6",
          "polar": {
           "angularaxis": {
            "gridcolor": "white",
            "linecolor": "white",
            "ticks": ""
           },
           "bgcolor": "#E5ECF6",
           "radialaxis": {
            "gridcolor": "white",
            "linecolor": "white",
            "ticks": ""
           }
          },
          "scene": {
           "xaxis": {
            "backgroundcolor": "#E5ECF6",
            "gridcolor": "white",
            "gridwidth": 2,
            "linecolor": "white",
            "showbackground": true,
            "ticks": "",
            "zerolinecolor": "white"
           },
           "yaxis": {
            "backgroundcolor": "#E5ECF6",
            "gridcolor": "white",
            "gridwidth": 2,
            "linecolor": "white",
            "showbackground": true,
            "ticks": "",
            "zerolinecolor": "white"
           },
           "zaxis": {
            "backgroundcolor": "#E5ECF6",
            "gridcolor": "white",
            "gridwidth": 2,
            "linecolor": "white",
            "showbackground": true,
            "ticks": "",
            "zerolinecolor": "white"
           }
          },
          "shapedefaults": {
           "line": {
            "color": "#2a3f5f"
           }
          },
          "ternary": {
           "aaxis": {
            "gridcolor": "white",
            "linecolor": "white",
            "ticks": ""
           },
           "baxis": {
            "gridcolor": "white",
            "linecolor": "white",
            "ticks": ""
           },
           "bgcolor": "#E5ECF6",
           "caxis": {
            "gridcolor": "white",
            "linecolor": "white",
            "ticks": ""
           }
          },
          "title": {
           "x": 0.05
          },
          "xaxis": {
           "automargin": true,
           "gridcolor": "white",
           "linecolor": "white",
           "ticks": "",
           "title": {
            "standoff": 15
           },
           "zerolinecolor": "white",
           "zerolinewidth": 2
          },
          "yaxis": {
           "automargin": true,
           "gridcolor": "white",
           "linecolor": "white",
           "ticks": "",
           "title": {
            "standoff": 15
           },
           "zerolinecolor": "white",
           "zerolinewidth": 2
          }
         }
        },
        "title": {
         "text": "North Canberra averaged - Low rooftop solar uptake, Low private EV charging"
        },
        "xaxis": {
         "anchor": "y",
         "domain": [
          0,
          1
         ],
         "title": {
          "text": "Time of day"
         }
        },
        "yaxis": {
         "anchor": "x",
         "domain": [
          0,
          1
         ],
         "range": [
          -31.286167464224512,
          216.20713905512892
         ],
         "title": {
          "text": "MW"
         }
        }
       }
      }
     },
     "metadata": {},
     "output_type": "display_data"
    }
   ],
   "source": [
    "fig = go.Figure(plotting_df_many.plot())\n",
    "fig.update_yaxes(range = [y_min,y_max])\n",
    "if plt_min < 0:\n",
    "    fig.add_hline(y=0, line_width=1, line_dash=\"solid\", line_color=\"black\")\n",
    "fig.add_hline(y=zs_combined_rating, line_width=3, line_dash=\"dash\", line_color=\"black\")\n",
    "fig.update_layout(\n",
    "    title=f\"{SA_region} averaged - {solar_uptake} rooftop solar uptake, {EV_private_charging} private EV charging\",\n",
    "    xaxis_title=\"Time of day\",\n",
    "    yaxis_title=\"MW\",\n",
    "    legend_title=\"Scenarios\",\n",
    ")\n",
    "# fig.write_image(f\"{SA_region}-{solar_uptake}_solar-{EV_private_charging}_private_EV-average.png\")"
   ]
  },
  {
   "cell_type": "code",
   "execution_count": 9,
   "metadata": {},
   "outputs": [
    {
     "data": {
      "application/vnd.plotly.v1+json": {
       "config": {
        "plotlyServerURL": "https://plot.ly"
       },
       "data": [
        {
         "hovertemplate": "variable=2022-07-18<br>index=%{x}<br>value=%{y}<extra></extra>",
         "legendgroup": "2022-07-18",
         "line": {
          "color": "#636efa",
          "dash": "solid"
         },
         "marker": {
          "symbol": "circle"
         },
         "mode": "lines",
         "name": "2022-07-18",
         "showlegend": true,
         "type": "scattergl",
         "x": [
          "00:00:00",
          "00:15:00",
          "00:30:00",
          "00:45:00",
          "01:00:00",
          "01:15:00",
          "01:30:00",
          "01:45:00",
          "02:00:00",
          "02:15:00",
          "02:30:00",
          "02:45:00",
          "03:00:00",
          "03:15:00",
          "03:30:00",
          "03:45:00",
          "04:00:00",
          "04:15:00",
          "04:30:00",
          "04:45:00",
          "05:00:00",
          "05:15:00",
          "05:30:00",
          "05:45:00",
          "06:00:00",
          "06:15:00",
          "06:30:00",
          "06:45:00",
          "07:00:00",
          "07:15:00",
          "07:30:00",
          "07:45:00",
          "08:00:00",
          "08:15:00",
          "08:30:00",
          "08:45:00",
          "09:00:00",
          "09:15:00",
          "09:30:00",
          "09:45:00",
          "10:00:00",
          "10:15:00",
          "10:30:00",
          "10:45:00",
          "11:00:00",
          "11:15:00",
          "11:30:00",
          "11:45:00",
          "12:00:00",
          "12:15:00",
          "12:30:00",
          "12:45:00",
          "13:00:00",
          "13:15:00",
          "13:30:00",
          "13:45:00",
          "14:00:00",
          "14:15:00",
          "14:30:00",
          "14:45:00",
          "15:00:00",
          "15:15:00",
          "15:30:00",
          "15:45:00",
          "16:00:00",
          "16:15:00",
          "16:30:00",
          "16:45:00",
          "17:00:00",
          "17:15:00",
          "17:30:00",
          "17:45:00",
          "18:00:00",
          "18:15:00",
          "18:30:00",
          "18:45:00",
          "19:00:00",
          "19:15:00",
          "19:30:00",
          "19:45:00",
          "20:00:00",
          "20:15:00",
          "20:30:00",
          "20:45:00",
          "21:00:00",
          "21:15:00",
          "21:30:00",
          "21:45:00",
          "22:00:00",
          "22:15:00",
          "22:30:00",
          "22:45:00",
          "23:00:00",
          "23:15:00",
          "23:30:00",
          "23:45:00"
         ],
         "xaxis": "x",
         "y": {
          "bdata": "Rt/9V5mEX0BH9xQSXcteQP9OndDVTF5AVZLFDoHIXUDCAUsh/2ldQFTjbQHOI11AXLf+Wm30XEAOP7YVhJVcQB5fC752kFxAPsFoOwtuXEBQ+oXatUNcQDcxQom/RFxAAWLeSOlsXED+pyDRxn9cQGYlnqWlrlxAvW6O5fewXEBvRj/7+D5dQGJt+t6li11AjFm2SNjVXUCu1BTmyyNeQKmL0ygJTV9AfR8h+BErYEB+r3LXxapgQFr27ipGP2FAm+7Ua+GXX0Bn9fEAUX9gQN4WM8DCtmFAUDOahSWMYkCLwZQGJ/BjQGUvMsTkBGVA0y6uhDPTZUCsfGOLM11mQPYKcpKOcWZAW8cbSllRZkCPMTu8mJhlQPcmhlygw2RA12ey85vSZkCc2wSGr4dlQLn269XYymNAMBCEXWs7YkAjyAXdrSthQAWhOyolCWBA+rYFzgyBXUACXW9GcwlbQDYrnMH4pGBAYjxwHYMwX0DOn9YMH0xdQOgZVSe4AVxAMJ9ulUOGW0Dw/SUFrs1aQAKKnpGGi1pASnYlrk8YWkDa5TRl/uZZQIwToMSWt1lATr6U0UQfWkC+N1Xc215aQDYV0cEJUVtAwAQnR72QW0Bob1fQjCtcQHSz4HE5OF1AJqag8EMtVkC1EUzoTNxXQF6zAO6hYlpA3nQXzVL2XEA/yC7mdnZZQFiUy9RLbVxAwBO7jB/LX0DWalfvgnJhQDw5TXwP82JAR0yKOj2YZEBhoOYsGvFlQALTO9Xe/mZAZvcPJf/YZkDawqjbLt9mQFIOgeoo0mZAwHJ2QIOZZkDm12ofiCRmQJvm2p/WzmVAn3jAZcywZUBrLnP0Q2dlQNpUtYtlH2VAe2YYsW2zZECN6+SJhmlkQDtU8shHD2RAORLmPz+GY0DRgb+6rfJiQLMPgPH1cGJAN50V7QnAYUBJAAVSwXVkQHM+GmQ7JWRAPZHNz8WnY0B5pWN7MxdjQLGsBMtWemJAfQgmSy/eYUDHzTtyCDphQJ34ipnDz2BA",
          "dtype": "f8"
         },
         "yaxis": "y"
        },
        {
         "hovertemplate": "variable=2022-06-23<br>index=%{x}<br>value=%{y}<extra></extra>",
         "legendgroup": "2022-06-23",
         "line": {
          "color": "#EF553B",
          "dash": "solid"
         },
         "marker": {
          "symbol": "circle"
         },
         "mode": "lines",
         "name": "2022-06-23",
         "showlegend": true,
         "type": "scattergl",
         "x": [
          "00:00:00",
          "00:15:00",
          "00:30:00",
          "00:45:00",
          "01:00:00",
          "01:15:00",
          "01:30:00",
          "01:45:00",
          "02:00:00",
          "02:15:00",
          "02:30:00",
          "02:45:00",
          "03:00:00",
          "03:15:00",
          "03:30:00",
          "03:45:00",
          "04:00:00",
          "04:15:00",
          "04:30:00",
          "04:45:00",
          "05:00:00",
          "05:15:00",
          "05:30:00",
          "05:45:00",
          "06:00:00",
          "06:15:00",
          "06:30:00",
          "06:45:00",
          "07:00:00",
          "07:15:00",
          "07:30:00",
          "07:45:00",
          "08:00:00",
          "08:15:00",
          "08:30:00",
          "08:45:00",
          "09:00:00",
          "09:15:00",
          "09:30:00",
          "09:45:00",
          "10:00:00",
          "10:15:00",
          "10:30:00",
          "10:45:00",
          "11:00:00",
          "11:15:00",
          "11:30:00",
          "11:45:00",
          "12:00:00",
          "12:15:00",
          "12:30:00",
          "12:45:00",
          "13:00:00",
          "13:15:00",
          "13:30:00",
          "13:45:00",
          "14:00:00",
          "14:15:00",
          "14:30:00",
          "14:45:00",
          "15:00:00",
          "15:15:00",
          "15:30:00",
          "15:45:00",
          "16:00:00",
          "16:15:00",
          "16:30:00",
          "16:45:00",
          "17:00:00",
          "17:15:00",
          "17:30:00",
          "17:45:00",
          "18:00:00",
          "18:15:00",
          "18:30:00",
          "18:45:00",
          "19:00:00",
          "19:15:00",
          "19:30:00",
          "19:45:00",
          "20:00:00",
          "20:15:00",
          "20:30:00",
          "20:45:00",
          "21:00:00",
          "21:15:00",
          "21:30:00",
          "21:45:00",
          "22:00:00",
          "22:15:00",
          "22:30:00",
          "22:45:00",
          "23:00:00",
          "23:15:00",
          "23:30:00",
          "23:45:00"
         ],
         "xaxis": "x",
         "y": {
          "bdata": "mVD1OeJgX0CpEMjzd7xeQJ3WPqBSI15Ah9bRp0SmXUAluxoxnnFdQPFP9bZjK11AQZXhAfHuXEAdtPsQQcJcQK0oU0y3mFxAryw+hCCWXECnsWyLf2RcQL39f0HPR1xAN++i4OZHXEBnIwXbezVcQDEAKuMaMFxA2UDbkv5XXECnk0PEd7pcQGHGDVOV2FxAUYtJScYXXUDzJMpe62ddQK0X8Cj8lV5A22mv8oZQX0D+UopNzDJgQDS3xOxuw2BAIitMJvZpXkB/Svo4RBRgQAf6qxSRD2FAdGjpw20PYkAFAwk+KmFjQEN1f1W/nmRAgb7KwfVjZUBYZEnIOtdlQMqfYiJq0GVAqR5qMraaZUAPmryxlxBlQGH2qDOrR2RARrpzrrH/ZkA+sig3YARnQBlB/bRigGZAmkqX60pEZUBA4TpX3GxkQOkwSdcCJGRAXIL67qWAY0BJi7igbY5iQIFkSfWbqWVAhnkuZpwVZEB/jbltMTtiQJrt1yTyHGFAQWQMLEhfYECZedATN+ZfQD5j+GPsdV9A+U3GYJi2XkDKLmo6p+1dQIgRtMBnEF1AAZuZRJiIXUAPCrgO0HxeQPwh5qN6M19AT8SYIRavX0DuB9ZSFf9fQIkD5jSeZWBAgeuhk4xnW0CoQ7/qoVZdQNSVfTKXBF9ACVwnaAmaYECk0WypIx1dQHrpeb6Tb19Au+DaLnH4YEA71961zGBiQNdcy9twn2NAheVej1XhZED/eJMwY9BlQJLldeuJMmZASj+XVKvEZUDC4/FCpqZlQAEznsYzqWVApUQeSjunZUDPjbI4jhFlQDfB2T8J12RAbe3uqhx1ZEDaurUHs0FkQNzjyFVNBmRAL9qf0V7fY0CBCYVtsK1jQCfarj9TR2NARd71l+K1YkAYQaUPzzliQJDV8nOin2FAugeS9W8OYUDZ5BtuULxjQAuAeHfnb2NAe/pUao/WYkDpTSOGZUZiQK1loE9hqGFAa0on52EgYUBVCB51yZRgQMqfhziuL2BA",
          "dtype": "f8"
         },
         "yaxis": "y"
        },
        {
         "hovertemplate": "variable=2022-08-08<br>index=%{x}<br>value=%{y}<extra></extra>",
         "legendgroup": "2022-08-08",
         "line": {
          "color": "#00cc96",
          "dash": "solid"
         },
         "marker": {
          "symbol": "circle"
         },
         "mode": "lines",
         "name": "2022-08-08",
         "showlegend": true,
         "type": "scattergl",
         "x": [
          "00:00:00",
          "00:15:00",
          "00:30:00",
          "00:45:00",
          "01:00:00",
          "01:15:00",
          "01:30:00",
          "01:45:00",
          "02:00:00",
          "02:15:00",
          "02:30:00",
          "02:45:00",
          "03:00:00",
          "03:15:00",
          "03:30:00",
          "03:45:00",
          "04:00:00",
          "04:15:00",
          "04:30:00",
          "04:45:00",
          "05:00:00",
          "05:15:00",
          "05:30:00",
          "05:45:00",
          "06:00:00",
          "06:15:00",
          "06:30:00",
          "06:45:00",
          "07:00:00",
          "07:15:00",
          "07:30:00",
          "07:45:00",
          "08:00:00",
          "08:15:00",
          "08:30:00",
          "08:45:00",
          "09:00:00",
          "09:15:00",
          "09:30:00",
          "09:45:00",
          "10:00:00",
          "10:15:00",
          "10:30:00",
          "10:45:00",
          "11:00:00",
          "11:15:00",
          "11:30:00",
          "11:45:00",
          "12:00:00",
          "12:15:00",
          "12:30:00",
          "12:45:00",
          "13:00:00",
          "13:15:00",
          "13:30:00",
          "13:45:00",
          "14:00:00",
          "14:15:00",
          "14:30:00",
          "14:45:00",
          "15:00:00",
          "15:15:00",
          "15:30:00",
          "15:45:00",
          "16:00:00",
          "16:15:00",
          "16:30:00",
          "16:45:00",
          "17:00:00",
          "17:15:00",
          "17:30:00",
          "17:45:00",
          "18:00:00",
          "18:15:00",
          "18:30:00",
          "18:45:00",
          "19:00:00",
          "19:15:00",
          "19:30:00",
          "19:45:00",
          "20:00:00",
          "20:15:00",
          "20:30:00",
          "20:45:00",
          "21:00:00",
          "21:15:00",
          "21:30:00",
          "21:45:00",
          "22:00:00",
          "22:15:00",
          "22:30:00",
          "22:45:00",
          "23:00:00",
          "23:15:00",
          "23:30:00",
          "23:45:00"
         ],
         "xaxis": "x",
         "y": {
          "bdata": "Cmcgiu9XX0C/r5Sbw8VeQCo7G5KdOl5ArdMmCTfuXUBRUxeTa5BdQNiTgV8xRF1AJHJXvQQRXUA+Ms2YstxcQAuTj4Kv5lxAn2j+jq65XEAjYIYKZL9cQAijxRIGtVxAsZrqIHbHXEAXlaPrt9pcQLoP5XudEl1AP9vK2ewWXUCXfYirT61dQLNe6fnj7V1AuSGpLV05XkDwJbevc5BeQN6UNgP0zV9AaTBEsZdeYEA0z284QvhgQKoy+T5llWFAt4BdbmEVYEBeKphsd/NgQLEwBmCVAmJAgzxnld8XY0D+B8JR4IVkQERHHgVYhmVAa4Sq0O80ZkAF4pn/6apmQAMqKda28GZAc7SwgLrxZkCiBsT4jTBmQJYG58h4zmRAbJALBfxBZkBlciV74nBlQBSyTJQiVmVAM9u/kbGFZEC1VOoRLUpjQFgBrWyG+mFAxOULmHZ+YEC2JZQRHnxdQJs5U1kqaWJAcThD8P+MYkDBaFekOYliQB3jUmc+T2JAMegW7l20YUDS5cewly5eQGJnw1Mn311AHew6BXeaXUB4Ez/a3bxcQJbBKPNuY1xABWlLDugzYEADabLpaRVjQORbw/YXsGFAY1e2DFqrYUDwQLzBICRlQAh4s8TvpmVADV9psfKcYkDVtpW9nUZiQAu1M7ezuGJA5oOlDbvZYkDAXtii1QxgQFQJQf8kLWFAxQ6ccmD4YUB2EEiwg2tiQLWpO+HxkGNAh8dkHxDUZEBoL5ke5+xlQHtvoNC1/WZAFE6intQFZ0BS2ZCOkBZnQIjnpvZ7C2dAew3kHozyZkAIgOV1u3dmQJptBI1DHGZAy1kiT3jpZUCDRQJ5XcxlQO4+0CMla2VADaTGAm4ZZUBW6zuZ57hkQBe0eKyEQmRAfzhM922wY0AaqeNFEx9jQHZzU7GTg2JA96txHVXyYUCfQ5Xtd6ZkQFeCAlkMUGRAAd/ZdKGeY0AxB3IK/QhjQG1uPg6Wh2JAv4orolP5YUCNCAzqiX5hQAMot/ghB2FA",
          "dtype": "f8"
         },
         "yaxis": "y"
        },
        {
         "hovertemplate": "variable=2022-08-09<br>index=%{x}<br>value=%{y}<extra></extra>",
         "legendgroup": "2022-08-09",
         "line": {
          "color": "#ab63fa",
          "dash": "solid"
         },
         "marker": {
          "symbol": "circle"
         },
         "mode": "lines",
         "name": "2022-08-09",
         "showlegend": true,
         "type": "scattergl",
         "x": [
          "00:00:00",
          "00:15:00",
          "00:30:00",
          "00:45:00",
          "01:00:00",
          "01:15:00",
          "01:30:00",
          "01:45:00",
          "02:00:00",
          "02:15:00",
          "02:30:00",
          "02:45:00",
          "03:00:00",
          "03:15:00",
          "03:30:00",
          "03:45:00",
          "04:00:00",
          "04:15:00",
          "04:30:00",
          "04:45:00",
          "05:00:00",
          "05:15:00",
          "05:30:00",
          "05:45:00",
          "06:00:00",
          "06:15:00",
          "06:30:00",
          "06:45:00",
          "07:00:00",
          "07:15:00",
          "07:30:00",
          "07:45:00",
          "08:00:00",
          "08:15:00",
          "08:30:00",
          "08:45:00",
          "09:00:00",
          "09:15:00",
          "09:30:00",
          "09:45:00",
          "10:00:00",
          "10:15:00",
          "10:30:00",
          "10:45:00",
          "11:00:00",
          "11:15:00",
          "11:30:00",
          "11:45:00",
          "12:00:00",
          "12:15:00",
          "12:30:00",
          "12:45:00",
          "13:00:00",
          "13:15:00",
          "13:30:00",
          "13:45:00",
          "14:00:00",
          "14:15:00",
          "14:30:00",
          "14:45:00",
          "15:00:00",
          "15:15:00",
          "15:30:00",
          "15:45:00",
          "16:00:00",
          "16:15:00",
          "16:30:00",
          "16:45:00",
          "17:00:00",
          "17:15:00",
          "17:30:00",
          "17:45:00",
          "18:00:00",
          "18:15:00",
          "18:30:00",
          "18:45:00",
          "19:00:00",
          "19:15:00",
          "19:30:00",
          "19:45:00",
          "20:00:00",
          "20:15:00",
          "20:30:00",
          "20:45:00",
          "21:00:00",
          "21:15:00",
          "21:30:00",
          "21:45:00",
          "22:00:00",
          "22:15:00",
          "22:30:00",
          "22:45:00",
          "23:00:00",
          "23:15:00",
          "23:30:00",
          "23:45:00"
         ],
         "xaxis": "x",
         "y": {
          "bdata": "vs06jdJSYECouXxJO/dfQA7c39C5hV9ADV/XR+IQX0Dyx83uu8peQA70rEGpal5AOFckev0cXkBfmXgFxgFeQA0pO5xq/F1ALU9IMfHwXUCyGJQxyNBdQGQm8OP5011An/6kC9r1XUBRaY8v+wNeQInRz7m1GF5AI2eEYp0uXkAIBSxgZo1eQH9g4EYFpl5AdhBfh83pXkCIv6fgAT5fQE4X7qiTOmBAX0bY403CYECoxYd6819hQBoP5ceGAmJA330RsZKaYEDQOQ+VyX5hQDXD7uDqemJAWnV/Q991Y0AHBF4KbBJlQBg9yMpVRWZAp8rIlW38ZkAM3viEBx1nQIfYJJIU8GZAU7d+GrpZZkCHqhyKSSZlQJjuwuYf8WNALxxdiCMyZkDXufXj5ThlQNQ+tlaMLGRA0dKNtQQLY0Dvr9UDjldiQO6rdf5jl2FApdRvoJdkYEDqBB76mC1dQPJW2tDDamBAPelP3rGpXkDGYTeYmkJcQEOP0jRq3FpAX7YjSSgVWkBxXqihF3JYQBA602nFPFdAVC5FFHeVVUDSGAkY17pTQCSDtQYjEVNAocg8OAGTU0AJmX6ud/hTQByU0Xha7lRAy4Dc+kVuWEBRgGpfoBVaQJqdn6xIwltA8jH+d0rFVUBByeeC8y5XQPBx9G7G9FhAJkTRJ438WkBCoJqXpMRWQJEX6pQEe1lA9p6zFRaYXEAIkrexiIFfQObgN4h1QmFAgS/Sqj69YkCVgcdGNDNkQFIuNLGGc2VA0bQN8DndZUBMnDLoux9mQAomwKpGUGZAiKdAf60+ZkBTY7INzeRlQKChpbQzrGVA7WOt3RJ4ZUDAY/zPk0xlQBEdJ9nJ8mRAzc9CPOjLZEAAf92BUodkQNi3dPXoUWRAkYQPYRHIY0D0hFPRgzpjQL0jd+uhtGJAlv3vvxb5YUClB226XKFkQOkFjha3UGRAzf1g5FeoY0CXGovmAiFjQCsOSd0YamJAAZ4JoR/WYUBxqUV9DlVhQBHsikn512BA",
          "dtype": "f8"
         },
         "yaxis": "y"
        },
        {
         "hovertemplate": "variable=2022-06-17<br>index=%{x}<br>value=%{y}<extra></extra>",
         "legendgroup": "2022-06-17",
         "line": {
          "color": "#FFA15A",
          "dash": "solid"
         },
         "marker": {
          "symbol": "circle"
         },
         "mode": "lines",
         "name": "2022-06-17",
         "showlegend": true,
         "type": "scattergl",
         "x": [
          "00:00:00",
          "00:15:00",
          "00:30:00",
          "00:45:00",
          "01:00:00",
          "01:15:00",
          "01:30:00",
          "01:45:00",
          "02:00:00",
          "02:15:00",
          "02:30:00",
          "02:45:00",
          "03:00:00",
          "03:15:00",
          "03:30:00",
          "03:45:00",
          "04:00:00",
          "04:15:00",
          "04:30:00",
          "04:45:00",
          "05:00:00",
          "05:15:00",
          "05:30:00",
          "05:45:00",
          "06:00:00",
          "06:15:00",
          "06:30:00",
          "06:45:00",
          "07:00:00",
          "07:15:00",
          "07:30:00",
          "07:45:00",
          "08:00:00",
          "08:15:00",
          "08:30:00",
          "08:45:00",
          "09:00:00",
          "09:15:00",
          "09:30:00",
          "09:45:00",
          "10:00:00",
          "10:15:00",
          "10:30:00",
          "10:45:00",
          "11:00:00",
          "11:15:00",
          "11:30:00",
          "11:45:00",
          "12:00:00",
          "12:15:00",
          "12:30:00",
          "12:45:00",
          "13:00:00",
          "13:15:00",
          "13:30:00",
          "13:45:00",
          "14:00:00",
          "14:15:00",
          "14:30:00",
          "14:45:00",
          "15:00:00",
          "15:15:00",
          "15:30:00",
          "15:45:00",
          "16:00:00",
          "16:15:00",
          "16:30:00",
          "16:45:00",
          "17:00:00",
          "17:15:00",
          "17:30:00",
          "17:45:00",
          "18:00:00",
          "18:15:00",
          "18:30:00",
          "18:45:00",
          "19:00:00",
          "19:15:00",
          "19:30:00",
          "19:45:00",
          "20:00:00",
          "20:15:00",
          "20:30:00",
          "20:45:00",
          "21:00:00",
          "21:15:00",
          "21:30:00",
          "21:45:00",
          "22:00:00",
          "22:15:00",
          "22:30:00",
          "22:45:00",
          "23:00:00",
          "23:15:00",
          "23:30:00",
          "23:45:00"
         ],
         "xaxis": "x",
         "y": {
          "bdata": "rxyCtXFuX0CdTXjP9bZeQLm0mpgAMV5AJYx31WbYXUC1TkD9tH1dQNMNz9C7EF1AH9I1Xiq1XEApZRxv8W1cQNP/ykxdS1xA/Vn+W/8mXECxZW+6oflbQHd8RR4A+ltAoWGTAogLXEBtK3ld+hFcQFnc9ZXO9FtATc38g8L1W0DjCCDr1GJcQK10/MB4l1xAlwa8jSnRXEDRMgpaaRVdQPEgjaY2P15AMRosnk0eX0AnM11DduVfQPRedRVzj2BANHhVNbLaXUAvsLwZhD1fQAXFXf6wnWBAarpdmWx2YUAhKmQlGNZiQIYLgmPV4mNAppHJJFe0ZECk+3gP6TZlQMjCS2OtnGVAlImX0DqfZUAZOWklPGhlQA4GeQk4uWRAZaLwlDUiZ0BcAJv6AuhlQKmj1iHmq2RAd+9BWIKwY0CNc2OHzTpjQP/dfFd+gmJAuAAFLTNLYkCtmRWe0k1hQNsS3hV31WRAP9FtEmhGZEAf/C1eOWpjQClITXGEg2JADxUCYWCsYUARP4dUtAxiQG65TZad5GJARLrjK15RY0BBvJGvCwBkQOkPTQyVsmRAkwK0Nde9ZEB1FmxCxuJkQIGBbPwbgGVAhx457QupZUBojeM5TYJkQDocyjvYpWVAQGmTx/CRYUD9GngB/u5gQAl1gTCTqWFAkcczcMHoYUCZif1HKhteQP9eSEdJKGBAhjN5gbkkYUBYHTiRq3FiQM/bZUAyXWNA59BwGMp0ZECFO4AnB+lkQF9OEDWFG2VACOr9FT7EZECh15OkipNkQLpUaHqLXWRAFI+FqiojZEBfjCxwzKpjQBM+7T0SUGNAXEwcaHwXY0BdFwQmleRiQCEcu1WzqWJApvuxvbttYkCKcPcBq1piQMxI1I6+J2JAkm59Q9zLYUD22336XIFhQPGKM1BgGWFAcDeyB8THYEAbkDrmtJljQKkLmKrKg2NAHfRg8zwdY0B58ZCf46JiQOk6FSc3BmJADz16Kbx+YUBNkBX8pwphQO2wqFmhpWBA",
          "dtype": "f8"
         },
         "yaxis": "y"
        },
        {
         "hovertemplate": "variable=2022-08-10<br>index=%{x}<br>value=%{y}<extra></extra>",
         "legendgroup": "2022-08-10",
         "line": {
          "color": "#19d3f3",
          "dash": "solid"
         },
         "marker": {
          "symbol": "circle"
         },
         "mode": "lines",
         "name": "2022-08-10",
         "showlegend": true,
         "type": "scattergl",
         "x": [
          "00:00:00",
          "00:15:00",
          "00:30:00",
          "00:45:00",
          "01:00:00",
          "01:15:00",
          "01:30:00",
          "01:45:00",
          "02:00:00",
          "02:15:00",
          "02:30:00",
          "02:45:00",
          "03:00:00",
          "03:15:00",
          "03:30:00",
          "03:45:00",
          "04:00:00",
          "04:15:00",
          "04:30:00",
          "04:45:00",
          "05:00:00",
          "05:15:00",
          "05:30:00",
          "05:45:00",
          "06:00:00",
          "06:15:00",
          "06:30:00",
          "06:45:00",
          "07:00:00",
          "07:15:00",
          "07:30:00",
          "07:45:00",
          "08:00:00",
          "08:15:00",
          "08:30:00",
          "08:45:00",
          "09:00:00",
          "09:15:00",
          "09:30:00",
          "09:45:00",
          "10:00:00",
          "10:15:00",
          "10:30:00",
          "10:45:00",
          "11:00:00",
          "11:15:00",
          "11:30:00",
          "11:45:00",
          "12:00:00",
          "12:15:00",
          "12:30:00",
          "12:45:00",
          "13:00:00",
          "13:15:00",
          "13:30:00",
          "13:45:00",
          "14:00:00",
          "14:15:00",
          "14:30:00",
          "14:45:00",
          "15:00:00",
          "15:15:00",
          "15:30:00",
          "15:45:00",
          "16:00:00",
          "16:15:00",
          "16:30:00",
          "16:45:00",
          "17:00:00",
          "17:15:00",
          "17:30:00",
          "17:45:00",
          "18:00:00",
          "18:15:00",
          "18:30:00",
          "18:45:00",
          "19:00:00",
          "19:15:00",
          "19:30:00",
          "19:45:00",
          "20:00:00",
          "20:15:00",
          "20:30:00",
          "20:45:00",
          "21:00:00",
          "21:15:00",
          "21:30:00",
          "21:45:00",
          "22:00:00",
          "22:15:00",
          "22:30:00",
          "22:45:00",
          "23:00:00",
          "23:15:00",
          "23:30:00",
          "23:45:00"
         ],
         "xaxis": "x",
         "y": {
          "bdata": "slxQRkkkYEAlgRz5vN5fQMs4jjlKPl9AaQwpTXC0XkBa1NdnKHZeQGk2G41xKF5ApQpBeCjpXUB2zi+Ab8tdQKiIzSfrv11AhkGQtgOzXUAAFExaaZxdQIj0WLnccF1AYNprDuCfXUB7bMRec7FdQF1+fWIz511AoH8y5hsXXkCHW7RbSHheQHi7nOmNpV5ApDxA7er6XkBbGtL4+IJfQA3gAmlGWWBAbGixzVTcYECW/u3gbl5hQKJ/eyjwD2JASq+74vbEYECVG7zIQYlhQCKXr79CgWJACRFk24eeY0AzdhoQtRtlQPM98cfxPGZAP1bGnZjjZkBL+m2CUB1nQP/l0pbmMmdAqlX7/z6CZkA6E6j2Ak9lQNsh+0meEmRAdbrAyY5DZkAiCafVGjBlQMrGq3z6AGRAV9bUgUe2YkB9b7xThb1hQIVPH3KpX2BAUvYeoGk/XUCMfZEZdpFZQCodw43kHF5Akot5aWfrW0DfBPvAVudZQCwaXOaN6FhABVvI/llCVkBG/FWrLA1VQBjBzp/Q+lVA98gPXOfQVUAqZF/zryRVQLxVkbOuUlhAWX1RlkKRWUDWhONraJBYQMyQcx+jC1hA0B0xF/KkWUCXdpEFmdNYQAQpTurclllAQzJ55Gv/UkD0LQnrcSpUQId53o1zeFZAYXbQgLNdWEDqhoknt/RTQNgxqofJHlZAf1MoCpsVWUCEWS8plSpbQHRcva287V1AITLXc0UNYUASRNwVp+NiQGdayOgnCmRAaQ4I6T7sZEAsPS3r6HNlQDU+C1WCqWVAjCb4m+pyZUAt5G/s5PtkQNWZrCBT1mRAjV+thV+2ZEDSIlwD+nlkQPkdeM+6VWRAbY1WzngUZECgxEhSkdRjQBRTm71pc2NASGMVNM78YkCR2mtxRZViQAxuK7UTEWJAo8zgeXh6YUBBL118JipkQP/xgzPG9WNAca8FxrhTY0Dpyi+f6MdiQOkZr0QGJGJAZbQKvo6LYUD1fOVjQvJgQJUJOvgbkGBA",
          "dtype": "f8"
         },
         "yaxis": "y"
        },
        {
         "hovertemplate": "variable=2022-07-13<br>index=%{x}<br>value=%{y}<extra></extra>",
         "legendgroup": "2022-07-13",
         "line": {
          "color": "#FF6692",
          "dash": "solid"
         },
         "marker": {
          "symbol": "circle"
         },
         "mode": "lines",
         "name": "2022-07-13",
         "showlegend": true,
         "type": "scattergl",
         "x": [
          "00:00:00",
          "00:15:00",
          "00:30:00",
          "00:45:00",
          "01:00:00",
          "01:15:00",
          "01:30:00",
          "01:45:00",
          "02:00:00",
          "02:15:00",
          "02:30:00",
          "02:45:00",
          "03:00:00",
          "03:15:00",
          "03:30:00",
          "03:45:00",
          "04:00:00",
          "04:15:00",
          "04:30:00",
          "04:45:00",
          "05:00:00",
          "05:15:00",
          "05:30:00",
          "05:45:00",
          "06:00:00",
          "06:15:00",
          "06:30:00",
          "06:45:00",
          "07:00:00",
          "07:15:00",
          "07:30:00",
          "07:45:00",
          "08:00:00",
          "08:15:00",
          "08:30:00",
          "08:45:00",
          "09:00:00",
          "09:15:00",
          "09:30:00",
          "09:45:00",
          "10:00:00",
          "10:15:00",
          "10:30:00",
          "10:45:00",
          "11:00:00",
          "11:15:00",
          "11:30:00",
          "11:45:00",
          "12:00:00",
          "12:15:00",
          "12:30:00",
          "12:45:00",
          "13:00:00",
          "13:15:00",
          "13:30:00",
          "13:45:00",
          "14:00:00",
          "14:15:00",
          "14:30:00",
          "14:45:00",
          "15:00:00",
          "15:15:00",
          "15:30:00",
          "15:45:00",
          "16:00:00",
          "16:15:00",
          "16:30:00",
          "16:45:00",
          "17:00:00",
          "17:15:00",
          "17:30:00",
          "17:45:00",
          "18:00:00",
          "18:15:00",
          "18:30:00",
          "18:45:00",
          "19:00:00",
          "19:15:00",
          "19:30:00",
          "19:45:00",
          "20:00:00",
          "20:15:00",
          "20:30:00",
          "20:45:00",
          "21:00:00",
          "21:15:00",
          "21:30:00",
          "21:45:00",
          "22:00:00",
          "22:15:00",
          "22:30:00",
          "22:45:00",
          "23:00:00",
          "23:15:00",
          "23:30:00",
          "23:45:00"
         ],
         "xaxis": "x",
         "y": {
          "bdata": "Iq5odfgqYEANnpWeVJpfQLGrXS4GIl9A458YwbWtXkAA3qAcv21eQAZqZJW7GV5A8rli/rjeXUCt2mLXuZZdQFVTfrKNrl1Ak4hrxYqfXUAodWelLoNdQHWixbDsdl1A3XVL58CkXUB9l6OACJxdQBGa4XR7cl1AXec9tKGyXUDuxPs+KwJeQDfm3q3UCV5AQCesB89bXkAFw+j/HaJeQKbFXFnWtl9AX+Mv9OJXYEDgSK1QN85gQIrJAtiFVGFAPr7NVHp2X0A5dRWhlmtgQNCIdB30SmFAVnA5dbhHYkCnGPMxTW9jQGd/sywfaWRAmsLu4+YVZUDktR4ISMJlQGX2b+4SU2ZAYGkb4KaFZkDrFky3KPxlQBGrVjF7QWVAaUTSWPI6Z0DE02LT66plQIxPvx2wLWRA1wSF3ii0YkAl2Fi2eYFhQEnhKCxwimBAu2fJoY4AX0BcK79RskRcQJFD6WoQT2FA/Ib9bunQYEBdOwLbfHRgQINKYVHZV2BA3nefbIvHX0CgxSATHbleQHi5A04Ey1xAtovy2Sc+XEC04Bt4K3VbQC7HMT0V/1pAKGmRUklaW0AI60kKinNbQDKl7OTEjlxATvD1h7IeXkB6t0HF211eQEIyiFtYa19A3Ek+5/dTWEAULKqMgltZQBTm/ik/+VpAnUvYGkA6XUAWTV3lMnxZQMLeowRvoFxAYfvKqhQFYEB9jngpLH9hQAbmMTjM9GJAFhQ7xul/ZECiIXzCOqBlQOSy9mdflWZA2sTGVVZmZkDyFQaY5j1mQKXpPrXURGZAomQ/FSsrZkDKrHGe7LxlQCgyCVsEeWVA8Lyi5yRDZUAyGeBcpQVlQJ6xLrX202RA5I1wmD6oZEADtiwD9m9kQC/o7Al/H2RAh2bwOf6xY0DSHxjg9nRjQDlmvPRy3mJAVBVVw3JGYkD/I+PWyCtlQJf27yo25WRAVVej/5VWZEATZwSBG8JjQEvG76i0AWNAGfQFCXtQYkCxnMHXXqthQKEuyZzqPGFA",
          "dtype": "f8"
         },
         "yaxis": "y"
        },
        {
         "hovertemplate": "variable=2022-07-11<br>index=%{x}<br>value=%{y}<extra></extra>",
         "legendgroup": "2022-07-11",
         "line": {
          "color": "#B6E880",
          "dash": "solid"
         },
         "marker": {
          "symbol": "circle"
         },
         "mode": "lines",
         "name": "2022-07-11",
         "showlegend": true,
         "type": "scattergl",
         "x": [
          "00:00:00",
          "00:15:00",
          "00:30:00",
          "00:45:00",
          "01:00:00",
          "01:15:00",
          "01:30:00",
          "01:45:00",
          "02:00:00",
          "02:15:00",
          "02:30:00",
          "02:45:00",
          "03:00:00",
          "03:15:00",
          "03:30:00",
          "03:45:00",
          "04:00:00",
          "04:15:00",
          "04:30:00",
          "04:45:00",
          "05:00:00",
          "05:15:00",
          "05:30:00",
          "05:45:00",
          "06:00:00",
          "06:15:00",
          "06:30:00",
          "06:45:00",
          "07:00:00",
          "07:15:00",
          "07:30:00",
          "07:45:00",
          "08:00:00",
          "08:15:00",
          "08:30:00",
          "08:45:00",
          "09:00:00",
          "09:15:00",
          "09:30:00",
          "09:45:00",
          "10:00:00",
          "10:15:00",
          "10:30:00",
          "10:45:00",
          "11:00:00",
          "11:15:00",
          "11:30:00",
          "11:45:00",
          "12:00:00",
          "12:15:00",
          "12:30:00",
          "12:45:00",
          "13:00:00",
          "13:15:00",
          "13:30:00",
          "13:45:00",
          "14:00:00",
          "14:15:00",
          "14:30:00",
          "14:45:00",
          "15:00:00",
          "15:15:00",
          "15:30:00",
          "15:45:00",
          "16:00:00",
          "16:15:00",
          "16:30:00",
          "16:45:00",
          "17:00:00",
          "17:15:00",
          "17:30:00",
          "17:45:00",
          "18:00:00",
          "18:15:00",
          "18:30:00",
          "18:45:00",
          "19:00:00",
          "19:15:00",
          "19:30:00",
          "19:45:00",
          "20:00:00",
          "20:15:00",
          "20:30:00",
          "20:45:00",
          "21:00:00",
          "21:15:00",
          "21:30:00",
          "21:45:00",
          "22:00:00",
          "22:15:00",
          "22:30:00",
          "22:45:00",
          "23:00:00",
          "23:15:00",
          "23:30:00",
          "23:45:00"
         ],
         "xaxis": "x",
         "y": {
          "bdata": "jk0uG+pEYEDc1Abxt81fQBs79Rr9V19AOJ1sxirjXkDO6QU0nlVeQIhJ8CJpDV5A91zJZuGnXUBYHsaKCE5dQEJdDXLfPV1AqDfqoeIPXUDtERiWuuFcQC3lcuoP41xA8qsuiT4LXUAWXd9jMwxdQP98LVVvC11ATxaokjgeXUA8yknzmbJdQFJ5x+WYFV5AcVSYxY5vXkC/dZSOkNxeQJ5NaS5Z4l9AjUVcW9ZQYEDAAjvrmuFgQAzgHD6Ea2FAbEUigrt8X0C7T8+vH5ZgQJM9dHKMa2FAzSfoVL08YkCha1aNxWFjQB2Z3GctkGRAQXm+lpFTZUBG4h7TDullQDSAkGtiOWZAbwBbryBOZkDX4OBvIdplQEGeAf/WPWVA/LES+C9JZ0ATHY4fgd5lQGBNu0HxVmRATayBb9vVYkABBQn4OaRhQLm/Lb2/bWBAPlw8KQmfXkAb3lSvXydcQIn4Yb4SXWFApoA9vj/5YEAqCH/yS/ZeQH502wbuulxAEumOGKfkW0DgsG8wJLFaQNzbbqCm0llALk4yrQVaWUCOEulJvzxaQI58+KzAL1pA4Lcsw3svWkBiKMS2zStaQEpRXb66l1pAvrC726WmXED+xtlDZmhdQFAYuc8E6F5A6Lf1Rb3nWEDKjo61m3taQMAz4f7bd1xAzFdkoL9DX0BDip7vVT9bQD8CF6SjMF5AdAJSdrWgYEBVaGbNpB5iQJRiZaNGYWNADdIM9VbaZEDbKnrPa/BlQNECGCM+g2ZACa4PuWdEZkCX8/MmTCpmQGz4KH1sJWZAUuwBu9UnZkCe0sDGXbFlQG0yAxGieGVAge29T4FFZUBpmTcz+CplQKId9nGV92RAfcCWsqDKZECJI/MBgYRkQH8Rj1AuRWRAl4/QK9WyY0CPobmVCUJjQIo42Wi3t2JA1sB6Y0U+YkCFn4U5c9tkQJXk8em9iWRAQSvtsVP3Y0CJqp0j209jQBlw1k0xuGJATytJAYgsYkCXbw34c65hQBnJ9vdaQmFA",
          "dtype": "f8"
         },
         "yaxis": "y"
        },
        {
         "hovertemplate": "variable=2022-07-28<br>index=%{x}<br>value=%{y}<extra></extra>",
         "legendgroup": "2022-07-28",
         "line": {
          "color": "#FF97FF",
          "dash": "solid"
         },
         "marker": {
          "symbol": "circle"
         },
         "mode": "lines",
         "name": "2022-07-28",
         "showlegend": true,
         "type": "scattergl",
         "x": [
          "00:00:00",
          "00:15:00",
          "00:30:00",
          "00:45:00",
          "01:00:00",
          "01:15:00",
          "01:30:00",
          "01:45:00",
          "02:00:00",
          "02:15:00",
          "02:30:00",
          "02:45:00",
          "03:00:00",
          "03:15:00",
          "03:30:00",
          "03:45:00",
          "04:00:00",
          "04:15:00",
          "04:30:00",
          "04:45:00",
          "05:00:00",
          "05:15:00",
          "05:30:00",
          "05:45:00",
          "06:00:00",
          "06:15:00",
          "06:30:00",
          "06:45:00",
          "07:00:00",
          "07:15:00",
          "07:30:00",
          "07:45:00",
          "08:00:00",
          "08:15:00",
          "08:30:00",
          "08:45:00",
          "09:00:00",
          "09:15:00",
          "09:30:00",
          "09:45:00",
          "10:00:00",
          "10:15:00",
          "10:30:00",
          "10:45:00",
          "11:00:00",
          "11:15:00",
          "11:30:00",
          "11:45:00",
          "12:00:00",
          "12:15:00",
          "12:30:00",
          "12:45:00",
          "13:00:00",
          "13:15:00",
          "13:30:00",
          "13:45:00",
          "14:00:00",
          "14:15:00",
          "14:30:00",
          "14:45:00",
          "15:00:00",
          "15:15:00",
          "15:30:00",
          "15:45:00",
          "16:00:00",
          "16:15:00",
          "16:30:00",
          "16:45:00",
          "17:00:00",
          "17:15:00",
          "17:30:00",
          "17:45:00",
          "18:00:00",
          "18:15:00",
          "18:30:00",
          "18:45:00",
          "19:00:00",
          "19:15:00",
          "19:30:00",
          "19:45:00",
          "20:00:00",
          "20:15:00",
          "20:30:00",
          "20:45:00",
          "21:00:00",
          "21:15:00",
          "21:30:00",
          "21:45:00",
          "22:00:00",
          "22:15:00",
          "22:30:00",
          "22:45:00",
          "23:00:00",
          "23:15:00",
          "23:30:00",
          "23:45:00"
         ],
         "xaxis": "x",
         "y": {
          "bdata": "LDpOlsj/X0CPniI6HUJfQK25y3FAsl5A/RO4ylBXXkBSolYCfPFdQJQmXbz+jF1AXjKfC0k9XUD6bEKZ2CBdQNr8M6dDH11AZWxIuFbiXEBiAqQ2IbFcQFlcZ82qoFxAqwWGBPC6XEArcIou/LFcQE+NzhpnxlxA7HFIlc7NXECFNpvMhktdQAHAu2Y9Ul1AZ18tsjW7XUAVnlYE2gdeQArUvZHDEF9ADRY17Dv0X0APe5Is+XVgQLjnTp9m8mBAFJkW4OjSXkBVvxYv1yJgQMxiQjBWDGFAz7i5yj/vYUCEYkCC2V9jQI69yXqXb2RAoEFRR603ZUBs/lK2C4hlQBOCXZtxkGVASolqosM2ZUAC8mC0U0JkQOsmb4DrG2NAhVCeMwy6ZUDzbL8YLPhkQNA2MJU952NAYUVty5YkYkDiqfAz7W1iQBU4jBAg9mBAmi6lgnyAYEBDt+RZObRhQHFrrwQLzmVAjjS7C2bgZUCsdquruL1lQL2r3XLVcWZAVp2i4H9kZ0DwbmVa7XBlQNOMEF8TcGRA+J3J7K0eYkBit32eO65gQFjTCibAhl9ANqYMW182XkCuJSAdyrFdQJrJGw+CplpAjCqOo9ieW0A6dqb75wdfQL40fGZ6wF9AsjuTiN4iWkASbrMn3wteQMi7iYtGvVxABwoXo0oNYEBysuAfT0leQN5kohIoKGFAyvKEvHccYkBfRxL+4hBiQLRSoEngAGNAsj5Hp9BiZEBJB3ZQhOZkQOSn4pw2tWVAmGeFXIXLZUARIQRWqr1lQCiKahJLq2VAkWIPazV/ZUBEzduKqA9lQAfX9ggG0GRAgOcZ8DCYZEDR8uekoE5kQGpv5X7HA2RAGCOIRm/eY0Bo0ud3v6ljQC2Ydx3gTGNAdSxkOP/WYkADqLHyyWBiQErgTZ38wGFAvu/1Z8pOYUDn7WyokC9kQGtzTn9v6WNAM2rX1wdOY0DZXIhcRKliQDEoBdClGGJAdfVXlwaNYUAndRGepglhQK26tFvooWBA",
          "dtype": "f8"
         },
         "yaxis": "y"
        },
        {
         "hovertemplate": "variable=2022-07-21<br>index=%{x}<br>value=%{y}<extra></extra>",
         "legendgroup": "2022-07-21",
         "line": {
          "color": "#FECB52",
          "dash": "solid"
         },
         "marker": {
          "symbol": "circle"
         },
         "mode": "lines",
         "name": "2022-07-21",
         "showlegend": true,
         "type": "scattergl",
         "x": [
          "00:00:00",
          "00:15:00",
          "00:30:00",
          "00:45:00",
          "01:00:00",
          "01:15:00",
          "01:30:00",
          "01:45:00",
          "02:00:00",
          "02:15:00",
          "02:30:00",
          "02:45:00",
          "03:00:00",
          "03:15:00",
          "03:30:00",
          "03:45:00",
          "04:00:00",
          "04:15:00",
          "04:30:00",
          "04:45:00",
          "05:00:00",
          "05:15:00",
          "05:30:00",
          "05:45:00",
          "06:00:00",
          "06:15:00",
          "06:30:00",
          "06:45:00",
          "07:00:00",
          "07:15:00",
          "07:30:00",
          "07:45:00",
          "08:00:00",
          "08:15:00",
          "08:30:00",
          "08:45:00",
          "09:00:00",
          "09:15:00",
          "09:30:00",
          "09:45:00",
          "10:00:00",
          "10:15:00",
          "10:30:00",
          "10:45:00",
          "11:00:00",
          "11:15:00",
          "11:30:00",
          "11:45:00",
          "12:00:00",
          "12:15:00",
          "12:30:00",
          "12:45:00",
          "13:00:00",
          "13:15:00",
          "13:30:00",
          "13:45:00",
          "14:00:00",
          "14:15:00",
          "14:30:00",
          "14:45:00",
          "15:00:00",
          "15:15:00",
          "15:30:00",
          "15:45:00",
          "16:00:00",
          "16:15:00",
          "16:30:00",
          "16:45:00",
          "17:00:00",
          "17:15:00",
          "17:30:00",
          "17:45:00",
          "18:00:00",
          "18:15:00",
          "18:30:00",
          "18:45:00",
          "19:00:00",
          "19:15:00",
          "19:30:00",
          "19:45:00",
          "20:00:00",
          "20:15:00",
          "20:30:00",
          "20:45:00",
          "21:00:00",
          "21:15:00",
          "21:30:00",
          "21:45:00",
          "22:00:00",
          "22:15:00",
          "22:30:00",
          "22:45:00",
          "23:00:00",
          "23:15:00",
          "23:30:00",
          "23:45:00"
         ],
         "xaxis": "x",
         "y": {
          "bdata": "hhcDrOtSYEBqaW+9Ed1fQGs3x95yQF9APxFkqU7HXkDZqy0bTFxeQLvo8niM+V1AMq+joG3CXUAi4PT/S4VdQLLt+sric11AkTrjr3ExXUDeddhP2f5cQEuzjYXV41xAf/bJO0LzXECuKMMiuN9cQLtOcek+8lxAbrh5gyrxXEBHXmMgMlBdQHLVWVfkiV1A5v+NdbbFXUAU6F69UPpdQCpog3e7E19AqpJ6553hX0DMkOINRmxgQIqLMtg272BAKf4Xt6ujXkAzJLsOj+FfQKZI4fnJ22BAPigESCfIYUDntHur0RFjQNh9jGysO2RAWTeTtXYgZUDz1w5fwLVlQLUS7Qh+HWZA4gDnCTc8ZkBtXW5YPLplQLrt3jCK6WRAOatifEtlZ0CO52zYtYBmQBtdDnRZPmVAJjtzNPG6Y0Cb7uLU7ehiQJYHJsKvxmFAYQXlWc7RYEB3y8/nlJBfQHssg2NgAmNAPCxRroMFYkDXaPcV471gQD7WZlqjCGBARLjixGX4X0A428ss+X9gQG1OGsFjX2BAQt64o6UsYEDC/yvZvPtfQLRw33XDA19AimGPvyJNXkD2Cdbuo9leQJDAjf/XG19AeNN6O/YGYEArre/HkQNgQJA+9XaViWBAbGSvEec/WkBksCynXPVbQA1hVROhG15AOleTTe7ZX0CqcRhiOK9bQGdgyyoNTF5AwzXimEp5YECjX2G5hd1hQDnSuf3xMWNACpQRAuagZECw7Jv4Dc1lQIl5tzojymZA5zfXKL60ZkDbzzIdxIVmQM+PRHPJd2ZArq878fJJZkBrixIFKcJlQFKWrPeIhmVAN5RSavEoZUBhcHyGiAZlQJfEyWQ30WRAV3/b3yWSZEAvSJm5sklkQDo5MXeY82NACQLNJftdY0BZsC35IdRiQPXwzTk0UmJAa4IYcTHTYUBFIk76tbNkQNXv/XeMYmRAcRqz9BPQY0BvBXBOcDZjQMOcgTdRimJAi8A7z+PtYUBl7QztZkphQBlbtPIj22BA",
          "dtype": "f8"
         },
         "yaxis": "y"
        },
        {
         "hovertemplate": "variable=2022-06-01<br>index=%{x}<br>value=%{y}<extra></extra>",
         "legendgroup": "2022-06-01",
         "line": {
          "color": "#636efa",
          "dash": "solid"
         },
         "marker": {
          "symbol": "circle"
         },
         "mode": "lines",
         "name": "2022-06-01",
         "showlegend": true,
         "type": "scattergl",
         "x": [
          "00:00:00",
          "00:15:00",
          "00:30:00",
          "00:45:00",
          "01:00:00",
          "01:15:00",
          "01:30:00",
          "01:45:00",
          "02:00:00",
          "02:15:00",
          "02:30:00",
          "02:45:00",
          "03:00:00",
          "03:15:00",
          "03:30:00",
          "03:45:00",
          "04:00:00",
          "04:15:00",
          "04:30:00",
          "04:45:00",
          "05:00:00",
          "05:15:00",
          "05:30:00",
          "05:45:00",
          "06:00:00",
          "06:15:00",
          "06:30:00",
          "06:45:00",
          "07:00:00",
          "07:15:00",
          "07:30:00",
          "07:45:00",
          "08:00:00",
          "08:15:00",
          "08:30:00",
          "08:45:00",
          "09:00:00",
          "09:15:00",
          "09:30:00",
          "09:45:00",
          "10:00:00",
          "10:15:00",
          "10:30:00",
          "10:45:00",
          "11:00:00",
          "11:15:00",
          "11:30:00",
          "11:45:00",
          "12:00:00",
          "12:15:00",
          "12:30:00",
          "12:45:00",
          "13:00:00",
          "13:15:00",
          "13:30:00",
          "13:45:00",
          "14:00:00",
          "14:15:00",
          "14:30:00",
          "14:45:00",
          "15:00:00",
          "15:15:00",
          "15:30:00",
          "15:45:00",
          "16:00:00",
          "16:15:00",
          "16:30:00",
          "16:45:00",
          "17:00:00",
          "17:15:00",
          "17:30:00",
          "17:45:00",
          "18:00:00",
          "18:15:00",
          "18:30:00",
          "18:45:00",
          "19:00:00",
          "19:15:00",
          "19:30:00",
          "19:45:00",
          "20:00:00",
          "20:15:00",
          "20:30:00",
          "20:45:00",
          "21:00:00",
          "21:15:00",
          "21:30:00",
          "21:45:00",
          "22:00:00",
          "22:15:00",
          "22:30:00",
          "22:45:00",
          "23:00:00",
          "23:15:00",
          "23:30:00",
          "23:45:00"
         ],
         "xaxis": "x",
         "y": {
          "bdata": "FW0J08fbXkCdg6KOJE5eQDU/APNTgl1A6W0OTCwUXUAP4t9By7hcQP1ErVDyflxAG+fWmREjXEA7QHZX8QVcQI9+fu7U8ltAa3mwrTjAW0CBcL9XMs5bQA/CU0Zjp1tA39ZuTfzBW0AdYCZDPtNbQP/pqnFFpltAF+GxQ4bEW0BL8J+3j0NcQIfNnzGGb1xAbcPcwhOmXECv2ZTEqQNdQM1VfzMXIV5AYYZlR8neXkB/wRPa7NtfQBorLVqZgGBAUW8Za2n2XUA60oqW96ZfQLj/uzyg5WBAQ2dMXbTwYUBObcMYmR5jQCtC1SV1jGRA7r6OgDlQZUCw3iLssbNlQLPIKxhSAGZAuDmRfSvpZUBb6JXPTGtlQGsB76HUyGRAIS2lnO0gZ0C/QZSq+T9mQCa/tnlIzGRAhmEUdjWoY0BHeGGCICZjQPmVS1/ksGJAHmg1Byt/YUCaQQdqvXJeQGGAwg6JE2JAjx0M6P4rYkBaDF81BEZhQB09Bpp8PmFAork3tIAIYUCPeNFx5zhhQBWBC8Xy72BAAfXiMuceYUAA1FM/DjRgQAULM29WMl9AA0XUdReRXkAYXQ3Z7xpfQMFjJEIkJ2BAbp0HR66rYEAysXs5vVthQHUXEmFkpGFA4L1HF8gHXEA05U07w7ZeQB3W1oansWBAOTM/Gt3NYUA3uXGQ7QBfQJQi+ygcXGBAQoG6A6KYYUAEa232hR1jQFURTgd6oGRA98LyZSDqZUCkd/fiOuVmQPoEu97PZmdAccLc6S4HZ0ArGSTLh/dmQNtCaPtz3WZABaZYd3qzZkAc1At632BmQGRUmxeh62VAsuFTiMXVZUANek8p7YZlQFBl4qvWOWVAHklyTTAXZUCqlFJpmctkQOfi7gZTb2RA2EeVdtqwY0AXBnnJxBNjQJLqq9/inWJA6IlUrfb/YUBV73nhQ+5kQAdTIGXMpGRAJYDpKorpY0A1G5dd2kRjQCNc0NvEuGJAI0VmopElYkBZM/miNF1hQGdAAa0wzWBA",
          "dtype": "f8"
         },
         "yaxis": "y"
        },
        {
         "hovertemplate": "variable=2022-06-20<br>index=%{x}<br>value=%{y}<extra></extra>",
         "legendgroup": "2022-06-20",
         "line": {
          "color": "#EF553B",
          "dash": "solid"
         },
         "marker": {
          "symbol": "circle"
         },
         "mode": "lines",
         "name": "2022-06-20",
         "showlegend": true,
         "type": "scattergl",
         "x": [
          "00:00:00",
          "00:15:00",
          "00:30:00",
          "00:45:00",
          "01:00:00",
          "01:15:00",
          "01:30:00",
          "01:45:00",
          "02:00:00",
          "02:15:00",
          "02:30:00",
          "02:45:00",
          "03:00:00",
          "03:15:00",
          "03:30:00",
          "03:45:00",
          "04:00:00",
          "04:15:00",
          "04:30:00",
          "04:45:00",
          "05:00:00",
          "05:15:00",
          "05:30:00",
          "05:45:00",
          "06:00:00",
          "06:15:00",
          "06:30:00",
          "06:45:00",
          "07:00:00",
          "07:15:00",
          "07:30:00",
          "07:45:00",
          "08:00:00",
          "08:15:00",
          "08:30:00",
          "08:45:00",
          "09:00:00",
          "09:15:00",
          "09:30:00",
          "09:45:00",
          "10:00:00",
          "10:15:00",
          "10:30:00",
          "10:45:00",
          "11:00:00",
          "11:15:00",
          "11:30:00",
          "11:45:00",
          "12:00:00",
          "12:15:00",
          "12:30:00",
          "12:45:00",
          "13:00:00",
          "13:15:00",
          "13:30:00",
          "13:45:00",
          "14:00:00",
          "14:15:00",
          "14:30:00",
          "14:45:00",
          "15:00:00",
          "15:15:00",
          "15:30:00",
          "15:45:00",
          "16:00:00",
          "16:15:00",
          "16:30:00",
          "16:45:00",
          "17:00:00",
          "17:15:00",
          "17:30:00",
          "17:45:00",
          "18:00:00",
          "18:15:00",
          "18:30:00",
          "18:45:00",
          "19:00:00",
          "19:15:00",
          "19:30:00",
          "19:45:00",
          "20:00:00",
          "20:15:00",
          "20:30:00",
          "20:45:00",
          "21:00:00",
          "21:15:00",
          "21:30:00",
          "21:45:00",
          "22:00:00",
          "22:15:00",
          "22:30:00",
          "22:45:00",
          "23:00:00",
          "23:15:00",
          "23:30:00",
          "23:45:00"
         ],
         "xaxis": "x",
         "y": {
          "bdata": "QzfQwGmYXkBzc6RCeeZdQOP9wtP5jF1A3x4bgvARXUD71m+gLdNcQAfk4/osr1xAeydtHvZnXEA7/yYMtDBcQNtLrtcQI1xALe8e14n1W0DbmP5B+utbQK8wx0Me1VtALaXgUkruW0DXoluBIB1cQKMPd5ejI1xAOTnkqz8oXEBF5HSu57ZcQCvwjBv4AV1AC5fy7RFHXUCV6NILcGRdQJ8pXkmTqV5AkYxy552qX0BCakkseE9gQBq3wGMt4WBAtdUnFhGRXkB+QiEg5B1gQDESdyxjM2FAjDLiNM89YkDNxCVsro9jQM1nQKZIimRAMHNyk7s+ZUDtT16vz5tlQGEBJxKZAmZAorf+ymm6ZUAyEueSuXtlQC9RlexHHWVAZG+CgxRrZ0A8DqiZIXNmQEzrWsLAEWVAgijGVFw7ZECrJzZ6l09jQOPcX+RmlmNAxcshjSTjYkBhRgkC9K1gQHbPpJv0UmNAo6btnUmcYkABoOO5dwxiQGZOgvGg22JAnkWgZGtnY0AuRRT6yHBjQMD8oT76oWJAce4WmQdEYkCvLd1/tuZhQFHB4HA5vGFANWRYgsd/YUB/NCd1orphQCe0utiOeWFACe3w+GcoYUAIQDLjlKJhQGlxRWm04GFA6QIfPcs3XUCWE7qNovBdQP6qJpBCgV9ANUo2cSDdYED6XVLXsjJdQCVJIaNj/F9AgFfa5O6pYEAmlScIm5xhQOcVRUli1WJAx6MZge5sZEAlaj39v5VlQEiY0/LnVmZA9MIZtUP7ZUDNabCiZQdmQAgbuDUzLmZAbejAt9gOZkDkXPOKwVZlQILmDFdvDGVA9c0ZkX29ZECJWxx0aqJkQHL9xm6vYGRAUFXZdCHuY0AmY97YOaBjQOtH8q0FUGNATAqMB+TeYkBYEKbPeFRiQN/k/kmLxmFAPdGDJLEjYUA7tjhntMtjQPMckg5ca2NAYyliKFPqYkB9c5O6cF5iQAFNxJdaxmFAf5ZNDn8/YUCxHap6j6dgQMY5aS5aQGBA",
          "dtype": "f8"
         },
         "yaxis": "y"
        },
        {
         "hovertemplate": "variable=2022-07-19<br>index=%{x}<br>value=%{y}<extra></extra>",
         "legendgroup": "2022-07-19",
         "line": {
          "color": "#00cc96",
          "dash": "solid"
         },
         "marker": {
          "symbol": "circle"
         },
         "mode": "lines",
         "name": "2022-07-19",
         "showlegend": true,
         "type": "scattergl",
         "x": [
          "00:00:00",
          "00:15:00",
          "00:30:00",
          "00:45:00",
          "01:00:00",
          "01:15:00",
          "01:30:00",
          "01:45:00",
          "02:00:00",
          "02:15:00",
          "02:30:00",
          "02:45:00",
          "03:00:00",
          "03:15:00",
          "03:30:00",
          "03:45:00",
          "04:00:00",
          "04:15:00",
          "04:30:00",
          "04:45:00",
          "05:00:00",
          "05:15:00",
          "05:30:00",
          "05:45:00",
          "06:00:00",
          "06:15:00",
          "06:30:00",
          "06:45:00",
          "07:00:00",
          "07:15:00",
          "07:30:00",
          "07:45:00",
          "08:00:00",
          "08:15:00",
          "08:30:00",
          "08:45:00",
          "09:00:00",
          "09:15:00",
          "09:30:00",
          "09:45:00",
          "10:00:00",
          "10:15:00",
          "10:30:00",
          "10:45:00",
          "11:00:00",
          "11:15:00",
          "11:30:00",
          "11:45:00",
          "12:00:00",
          "12:15:00",
          "12:30:00",
          "12:45:00",
          "13:00:00",
          "13:15:00",
          "13:30:00",
          "13:45:00",
          "14:00:00",
          "14:15:00",
          "14:30:00",
          "14:45:00",
          "15:00:00",
          "15:15:00",
          "15:30:00",
          "15:45:00",
          "16:00:00",
          "16:15:00",
          "16:30:00",
          "16:45:00",
          "17:00:00",
          "17:15:00",
          "17:30:00",
          "17:45:00",
          "18:00:00",
          "18:15:00",
          "18:30:00",
          "18:45:00",
          "19:00:00",
          "19:15:00",
          "19:30:00",
          "19:45:00",
          "20:00:00",
          "20:15:00",
          "20:30:00",
          "20:45:00",
          "21:00:00",
          "21:15:00",
          "21:30:00",
          "21:45:00",
          "22:00:00",
          "22:15:00",
          "22:30:00",
          "22:45:00",
          "23:00:00",
          "23:15:00",
          "23:30:00",
          "23:45:00"
         ],
         "xaxis": "x",
         "y": {
          "bdata": "Qg/y+eEjYEAWJik+t7dfQI3MVb17JV9AsOQv+qvFXkAypIjnpm9eQCO9O7vyJV5A5CdoR7LRXUDT4PuqtLBdQM2rNqI3iV1AxIovmNOTXUDEN4Qfg51dQICBAJIFdV1AAk1g0F2BXUDnlhqscphdQPspxwiko11A5gPB116/XUCvhO2z4DpeQFTXysR2cV5A24x/mg3bXkBnC65DCBpfQCDRLnlQLWBAaSBxswmrYEAMbD8BREVhQFr4+8FW2mFAPLfLHSxeYEBuOUzYBSZhQJWwQMsePGJAG2vKbydFY0DleVa1VcdkQF/z5H3UEmZAG1yYTlHqZkA0OJEipT5nQAJyQoMJZWdAJ+YncsIgZ0BU3F5VE1hmQODQUctMUmVALlowuvsqZ0CHnxhJxy1mQE70QYSA6GRABrjy9s2OY0CJQr511NRhQLzAm1Cn9mBA3DXsDz04XkAgiPvU7wNcQOi9WwYg4GBA3nJ1z4DnX0Bsfh8QsPhdQDROq8Fsl1xAYlpgwx3CW0AEU+m0J9RaQO6j/L0i5llACIrgQRVfWUAuCf65IkdZQCSzPX3LTVlAxkF50MHSWUBwgXdH/Z1bQICcF4BFWlxAzpql9l0GXEDA9mkyDSNdQAJ3l7wcU15A8CGtlDOpV0BnfRGvQ65ZQM1nWXAgrFtAuC0ZCYixXUBBPe6vk5NaQFsCzhm0rV1ANhq8WUpWYEDZ4pI3efFhQMrHdX7NSGNAAH83yv7kZED1FAAbcVVmQFknqtoyUmdAZo48kaVlZ0BW//DEY3VnQA5/JSz2YGdA4yhBK+5DZ0AzWdhqoNBmQNVPiLwxk2ZAdwgAncxnZkCt6OowY0FmQLP0r6rI7WVA3EhS5SicZUDCcqrn419lQE+ewa3t5mRAL6xWvE9SZED5WZ5cLuRjQMAMucmbT2NALf9SZA6wYkBb6v/MkXdlQHfMwXYwHmVA69imdvNuZEC5v7JyDOFjQHe57uH+M2NA+WSg6ieTYkCfx4HHo+phQP0FZB8QhmFA",
          "dtype": "f8"
         },
         "yaxis": "y"
        },
        {
         "hovertemplate": "variable=2022-06-27<br>index=%{x}<br>value=%{y}<extra></extra>",
         "legendgroup": "2022-06-27",
         "line": {
          "color": "#ab63fa",
          "dash": "solid"
         },
         "marker": {
          "symbol": "circle"
         },
         "mode": "lines",
         "name": "2022-06-27",
         "showlegend": true,
         "type": "scattergl",
         "x": [
          "00:00:00",
          "00:15:00",
          "00:30:00",
          "00:45:00",
          "01:00:00",
          "01:15:00",
          "01:30:00",
          "01:45:00",
          "02:00:00",
          "02:15:00",
          "02:30:00",
          "02:45:00",
          "03:00:00",
          "03:15:00",
          "03:30:00",
          "03:45:00",
          "04:00:00",
          "04:15:00",
          "04:30:00",
          "04:45:00",
          "05:00:00",
          "05:15:00",
          "05:30:00",
          "05:45:00",
          "06:00:00",
          "06:15:00",
          "06:30:00",
          "06:45:00",
          "07:00:00",
          "07:15:00",
          "07:30:00",
          "07:45:00",
          "08:00:00",
          "08:15:00",
          "08:30:00",
          "08:45:00",
          "09:00:00",
          "09:15:00",
          "09:30:00",
          "09:45:00",
          "10:00:00",
          "10:15:00",
          "10:30:00",
          "10:45:00",
          "11:00:00",
          "11:15:00",
          "11:30:00",
          "11:45:00",
          "12:00:00",
          "12:15:00",
          "12:30:00",
          "12:45:00",
          "13:00:00",
          "13:15:00",
          "13:30:00",
          "13:45:00",
          "14:00:00",
          "14:15:00",
          "14:30:00",
          "14:45:00",
          "15:00:00",
          "15:15:00",
          "15:30:00",
          "15:45:00",
          "16:00:00",
          "16:15:00",
          "16:30:00",
          "16:45:00",
          "17:00:00",
          "17:15:00",
          "17:30:00",
          "17:45:00",
          "18:00:00",
          "18:15:00",
          "18:30:00",
          "18:45:00",
          "19:00:00",
          "19:15:00",
          "19:30:00",
          "19:45:00",
          "20:00:00",
          "20:15:00",
          "20:30:00",
          "20:45:00",
          "21:00:00",
          "21:15:00",
          "21:30:00",
          "21:45:00",
          "22:00:00",
          "22:15:00",
          "22:30:00",
          "22:45:00",
          "23:00:00",
          "23:15:00",
          "23:30:00",
          "23:45:00"
         ],
         "xaxis": "x",
         "y": {
          "bdata": "hYkOUfe8XkDV5GIa8jpeQA1edRXQxl1AvcRKheVXXUAjreIZOBpdQC3DX8Kw2lxAw7TF6AmkXEA9Sg0gTmhcQN9QaDumSFxAqWf7K/gnXECZQFuJ2QlcQDucG2e9A1xARwl6O+YpXEBB8oHvayZcQKfv6AC3PVxAe5x7kFVKXEDLgOHvj9VcQPFrHk2wIl1AjRWkTfZ9XUCvfEU4Kc9dQEHAewXRBV9Azy91cP7zX0A0hlTmGH1gQMhksMC/CWFAZHJ8xlrXXkAqu2cMlDJgQCXlcAkfVmFArgT/ZiIrYkDlBbrWTHJjQJsQgR6OfWRAZGcha9ZVZUDAl4rap8plQC5uOP+3GGZA0JVsOQT3ZUCUeV2rz1ZlQI3GHDJAvmRAKulYtUuLZ0B2YfeLL8RmQC4M0DidgGVAVmvkuHX6Y0DIoBI0KORiQF/xZZV/bGFAKJV7HZt/X0Dl3d8eQfBcQLsKZjynk2FAlMDS3s38YUAXpxtTUwthQBLllhrioGBAqwssnZNMYUC0AY6hDYhhQMOOMmgBbGBASvJgJa1QX0Cz0F8Wk09eQHt7p9yL3F5AD/LkwKDWX0Ai2lQ+SVlgQNfAdsMBtGBA3UI0vgjxYEAp1LrgUBVhQCftyUbcBWFAoGxiHoX9WkD3RYq5+rhdQOJchlb202BAxGG4Yrt+YkAFQfzuiiRgQJmEYD0ZamFAIRrpIYpfYkBDs70nzS5jQCbtsiuFXmRACHTTCk2rZUB4Eye0SaJmQIleCCipMmdAswLx9F3qZkB+8woEivlmQJFhXbjKJGdA6LWwZYL9ZkAbJeZ5UplmQEXwsorfa2ZAwosdOpYpZkAu8X4JjvNlQGml+YGxeWVA+eKb/xJOZUDrbBbzkwZlQBVUuoYMsGRAQzEVvjMdZEB9+Q4t6HRjQAswa1NT9WJAU7xJ529PYkBzKHl6PdBkQM+Q3O6jhGRAh2bEzL32Y0CdYAD2g3NjQNX2jy8IvmJAY/PoX7E1YkDFtkOOtLNhQBe4ZnfERGFA",
          "dtype": "f8"
         },
         "yaxis": "y"
        },
        {
         "hovertemplate": "variable=2022-06-16<br>index=%{x}<br>value=%{y}<extra></extra>",
         "legendgroup": "2022-06-16",
         "line": {
          "color": "#FFA15A",
          "dash": "solid"
         },
         "marker": {
          "symbol": "circle"
         },
         "mode": "lines",
         "name": "2022-06-16",
         "showlegend": true,
         "type": "scattergl",
         "x": [
          "00:00:00",
          "00:15:00",
          "00:30:00",
          "00:45:00",
          "01:00:00",
          "01:15:00",
          "01:30:00",
          "01:45:00",
          "02:00:00",
          "02:15:00",
          "02:30:00",
          "02:45:00",
          "03:00:00",
          "03:15:00",
          "03:30:00",
          "03:45:00",
          "04:00:00",
          "04:15:00",
          "04:30:00",
          "04:45:00",
          "05:00:00",
          "05:15:00",
          "05:30:00",
          "05:45:00",
          "06:00:00",
          "06:15:00",
          "06:30:00",
          "06:45:00",
          "07:00:00",
          "07:15:00",
          "07:30:00",
          "07:45:00",
          "08:00:00",
          "08:15:00",
          "08:30:00",
          "08:45:00",
          "09:00:00",
          "09:15:00",
          "09:30:00",
          "09:45:00",
          "10:00:00",
          "10:15:00",
          "10:30:00",
          "10:45:00",
          "11:00:00",
          "11:15:00",
          "11:30:00",
          "11:45:00",
          "12:00:00",
          "12:15:00",
          "12:30:00",
          "12:45:00",
          "13:00:00",
          "13:15:00",
          "13:30:00",
          "13:45:00",
          "14:00:00",
          "14:15:00",
          "14:30:00",
          "14:45:00",
          "15:00:00",
          "15:15:00",
          "15:30:00",
          "15:45:00",
          "16:00:00",
          "16:15:00",
          "16:30:00",
          "16:45:00",
          "17:00:00",
          "17:15:00",
          "17:30:00",
          "17:45:00",
          "18:00:00",
          "18:15:00",
          "18:30:00",
          "18:45:00",
          "19:00:00",
          "19:15:00",
          "19:30:00",
          "19:45:00",
          "20:00:00",
          "20:15:00",
          "20:30:00",
          "20:45:00",
          "21:00:00",
          "21:15:00",
          "21:30:00",
          "21:45:00",
          "22:00:00",
          "22:15:00",
          "22:30:00",
          "22:45:00",
          "23:00:00",
          "23:15:00",
          "23:30:00",
          "23:45:00"
         ],
         "xaxis": "x",
         "y": {
          "bdata": "0omSpygcYEB773NN6lFfQPv00hI/ul5Ar1RLqVQbXkD5UcGKcbldQPvaZQFMWF1AqwiCDSQTXUA7j3cGfLZcQLUVjxbKtlxAxVlghzmlXEAfQ/QtOXVcQLs23zCGeVxABwQ3houEXECB4zeBl3ZcQGmhI+uvblxAvRvFzjaJXED1LtzC2dRcQK+RchPM1FxARR+cjp8TXUCXJbJqP3FdQGeyQVs2nl5AVUbQf3yDX0B4hgIfuz5gQArsQ9dW9WBAsD2B00f2XkB+K9ZIFy9gQGrf1SVTEmFACOuktOvxYUAD6TsWNEZjQPasxVgKQmRAfAo1PlAXZUDSRNAMXLJlQC3ec1MWDGZAtHvHXXb2ZUDjMKVjPotlQMvTnDMK12RA7M8qdLuQZ0DWYrXf6PhmQF4LD0d/rWVAiw5gzqU4ZECWk1x54TRjQHKcUesliGJArqi2ksqkYUCAIP6z3vFgQMvnXdkaVGRAykMNkiaNY0C6a2velCJiQH1ynaa3j2FA436i48DeYECF++8FaAFhQDElKYEX9mJAVSmM1l7OY0AU9lNPcp9iQJed/UBwOWJAQ1gRp5EMYUDJcmWMQlliQOO+xiLqDGRA/fsKWFNIY0Bnyie2t8ZiQKW/Uq+LmmNAVPORkRVOYkCe0S5hMDtkQBRXB6oK8WRA0AnnpmSjZUBtZ3qaJxxjQBnGU286SWNAT8S8iHdrY0DLcghrUkdiQCMWv09IBGRAqQYMOoPcZUAe8sud+GBmQDVVYptBpGZAijEJCu43ZkBkX4bdTx5mQFDvJtAp8mVAEhHDzIfSZUDBMEe6p1FlQMWrIf6JBmVAzHqvBLTKZECyLzaeu59kQH+k/OB0WmRAS21fxogiZEAybdTnwspjQAx4RlXcemNAmwBeow4VY0BpampTHJViQPKTU/x9DmJAzCpKqqJwYUBh+juK4R5kQO+jMs0O4GNAbT91hcdHY0D7UauWd5hiQPVWUJJeDGJA2xtAK9x1YUCzp1GNufBgQH0f4G2SeGBA",
          "dtype": "f8"
         },
         "yaxis": "y"
        },
        {
         "hovertemplate": "variable=2022-08-11<br>index=%{x}<br>value=%{y}<extra></extra>",
         "legendgroup": "2022-08-11",
         "line": {
          "color": "#19d3f3",
          "dash": "solid"
         },
         "marker": {
          "symbol": "circle"
         },
         "mode": "lines",
         "name": "2022-08-11",
         "showlegend": true,
         "type": "scattergl",
         "x": [
          "00:00:00",
          "00:15:00",
          "00:30:00",
          "00:45:00",
          "01:00:00",
          "01:15:00",
          "01:30:00",
          "01:45:00",
          "02:00:00",
          "02:15:00",
          "02:30:00",
          "02:45:00",
          "03:00:00",
          "03:15:00",
          "03:30:00",
          "03:45:00",
          "04:00:00",
          "04:15:00",
          "04:30:00",
          "04:45:00",
          "05:00:00",
          "05:15:00",
          "05:30:00",
          "05:45:00",
          "06:00:00",
          "06:15:00",
          "06:30:00",
          "06:45:00",
          "07:00:00",
          "07:15:00",
          "07:30:00",
          "07:45:00",
          "08:00:00",
          "08:15:00",
          "08:30:00",
          "08:45:00",
          "09:00:00",
          "09:15:00",
          "09:30:00",
          "09:45:00",
          "10:00:00",
          "10:15:00",
          "10:30:00",
          "10:45:00",
          "11:00:00",
          "11:15:00",
          "11:30:00",
          "11:45:00",
          "12:00:00",
          "12:15:00",
          "12:30:00",
          "12:45:00",
          "13:00:00",
          "13:15:00",
          "13:30:00",
          "13:45:00",
          "14:00:00",
          "14:15:00",
          "14:30:00",
          "14:45:00",
          "15:00:00",
          "15:15:00",
          "15:30:00",
          "15:45:00",
          "16:00:00",
          "16:15:00",
          "16:30:00",
          "16:45:00",
          "17:00:00",
          "17:15:00",
          "17:30:00",
          "17:45:00",
          "18:00:00",
          "18:15:00",
          "18:30:00",
          "18:45:00",
          "19:00:00",
          "19:15:00",
          "19:30:00",
          "19:45:00",
          "20:00:00",
          "20:15:00",
          "20:30:00",
          "20:45:00",
          "21:00:00",
          "21:15:00",
          "21:30:00",
          "21:45:00",
          "22:00:00",
          "22:15:00",
          "22:30:00",
          "22:45:00",
          "23:00:00",
          "23:15:00",
          "23:30:00",
          "23:45:00"
         ],
         "xaxis": "x",
         "y": {
          "bdata": "YP8XPOaVX0BGMCmNLfdeQHXDJsj4dF5AEjwze5b0XUAGBx/jxJVdQPbum9IoPl1Asc6UTtkXXUDjVHd0tfZcQMIu+kLN5FxA6MhwtRm3XEAzqRX37LFcQBWwbhnTmVxACx9HLRPFXEDfvFt2EddcQHiNyMqj11xAI52gXbPlXEAaD+a9fnxdQJH5ADrBrl1AgdZbycz0XUAlljg38DxeQL5xOcZeUF9AEB3xP1kMYEC+2uGZxqFgQNSTVeAqPGFAEjBLAcOfX0Cq+qpEzppgQAotHSbicmFAvAaXkwFyYkCPoz06zeZjQCzilfhE0mRA3yK3MftkZUBeLDvPsBVmQE9muWdpQWZA2X6fe3EeZkCcdQB5c4BlQC/IWb+AmGRAe4oucvHUZkCVvzuMVMZlQMh2Ucc9V2VAyOXUBPlBZEC7hvTnUKBiQG/k56qD2WFAR3C7InCpYEAG3G1roAJfQN7pmUOXlGJAh3hVb+spYkC9+2GnM4FhQISlrpC4B2FAuc9kaGK6YEAyHIamu2hgQE76OMyoKGBAT+VI+qPFYUCZJ4LBHUZjQD9kZv3jkWFAB3DfNTUzY0Dl213xmNZjQJcWKmZFtGFA1xwr5AlNYkC5QXvNq4ZjQBvIN6jwv2RAXUtCFGHjYUA/N/UK5MljQFW5ahQ+CmVAfu6N+4G4ZUD/MED50lBjQH4uN+dt32NAp4R3vh/tZED9YlETO7hlQMRdX1bVN2ZAf4aZc/rLZkCGGeTzQCxnQHATX8CAqmdA13t8Ar1eZ0AwCgezfTlnQORg9S+8DmdAMjP3sFTKZkAzbe6NcEBmQEvpfKhz6WVACzCrHr+YZUBjd0lmH0dlQN+IvEUZ/GRA3nyRm0mTZEASJ+6FojlkQBX2+W2O7WNA0CZrm3JiY0BR5YjwPtxiQOvrLB5tTWJAEpNNwTjBYUCvCvi0hFtkQNVGvJkiGGRAPbJEcER9Y0DZ1cFrxdViQCO/wcknSWJAKxftPwazYUALOv6uzBphQKVSr0ygkGBA",
          "dtype": "f8"
         },
         "yaxis": "y"
        },
        {
         "hovertemplate": "variable=2022-08-24<br>index=%{x}<br>value=%{y}<extra></extra>",
         "legendgroup": "2022-08-24",
         "line": {
          "color": "#FF6692",
          "dash": "solid"
         },
         "marker": {
          "symbol": "circle"
         },
         "mode": "lines",
         "name": "2022-08-24",
         "showlegend": true,
         "type": "scattergl",
         "x": [
          "00:00:00",
          "00:15:00",
          "00:30:00",
          "00:45:00",
          "01:00:00",
          "01:15:00",
          "01:30:00",
          "01:45:00",
          "02:00:00",
          "02:15:00",
          "02:30:00",
          "02:45:00",
          "03:00:00",
          "03:15:00",
          "03:30:00",
          "03:45:00",
          "04:00:00",
          "04:15:00",
          "04:30:00",
          "04:45:00",
          "05:00:00",
          "05:15:00",
          "05:30:00",
          "05:45:00",
          "06:00:00",
          "06:15:00",
          "06:30:00",
          "06:45:00",
          "07:00:00",
          "07:15:00",
          "07:30:00",
          "07:45:00",
          "08:00:00",
          "08:15:00",
          "08:30:00",
          "08:45:00",
          "09:00:00",
          "09:15:00",
          "09:30:00",
          "09:45:00",
          "10:00:00",
          "10:15:00",
          "10:30:00",
          "10:45:00",
          "11:00:00",
          "11:15:00",
          "11:30:00",
          "11:45:00",
          "12:00:00",
          "12:15:00",
          "12:30:00",
          "12:45:00",
          "13:00:00",
          "13:15:00",
          "13:30:00",
          "13:45:00",
          "14:00:00",
          "14:15:00",
          "14:30:00",
          "14:45:00",
          "15:00:00",
          "15:15:00",
          "15:30:00",
          "15:45:00",
          "16:00:00",
          "16:15:00",
          "16:30:00",
          "16:45:00",
          "17:00:00",
          "17:15:00",
          "17:30:00",
          "17:45:00",
          "18:00:00",
          "18:15:00",
          "18:30:00",
          "18:45:00",
          "19:00:00",
          "19:15:00",
          "19:30:00",
          "19:45:00",
          "20:00:00",
          "20:15:00",
          "20:30:00",
          "20:45:00",
          "21:00:00",
          "21:15:00",
          "21:30:00",
          "21:45:00",
          "22:00:00",
          "22:15:00",
          "22:30:00",
          "22:45:00",
          "23:00:00",
          "23:15:00",
          "23:30:00",
          "23:45:00"
         ],
         "xaxis": "x",
         "y": {
          "bdata": "mIRokPxgYUCq1XMoxPxgQPKFkx8st2BA3Mf5rTF1YEB2UCOW3k1gQPB+iDUDIGBAnIh2uK0NYEC3EkxCmfFfQFbb0Lpf1l9AOkMrHEuzX0D06zN9tKxfQAqPPYtadF9AC2hQSVKyX0DTCRFb9bpfQIP2WcCmuV9AFGHtBiD5X0DSQN4aIjlgQCK4YXN7N2BAIH1BCGpaYEDhay81xptgQH7KYbQZQmFAGIEfI3G2YUD4oZKG9FBiQF4WZeu28GJAK/fBYX62YUA21u7ZwrRiQH74+vks2GNASUG0iRTrZECV0GhYKm5mQMrkFxc2bWdACYmh2j0PaEDSKFmmUhBoQFDwm+Xw2mdAib+00QY/Z0DyftG/YlNmQPQbWOgNMGVARy65hsZGZ0C7UJGEaghmQDLXOH3dg2RAiJc8yU4WY0ActrVu9eJhQFCfEHNaUWFAmSLcKfagYECrLq4kVPFfQHN+wTUqnGJAPwDhpApsYEDwkCHu3+FeQFMR/q/s5lxAEE/RH4dNW0BRa78DDBxaQKl1AoKKQlpAIPsM+tEKW0D4BEQNo/9bQG20BH7DclxA1222vGNhW0AsbGn9I2dcQEqsgnXWy11AL5mtOyAmYECP8sQWZVJgQFxWHl3fYmBAln2zS/MoWkA7dxLhA31aQOWPTBxLdVpAxDVPSlQZW0Bor95qKuhWQNqO7A0melhA0Lhn3Xc+W0Aw1BRWukBeQCjHdKSLz2BALKK7wSOWYkBBxSr5y/VjQIewSXh9hmVAO3dSVxJjZkBvZ3uWjglnQNdoWDp2U2dAq2ZGbykvZ0AauhLaQLlmQL7LHt89cWZA4ap4WNtDZkBtDob7KRNmQEFupQRz3mVAQdxs7+yNZUCEiXOyikFlQOU3z0QJ3GRAXRxhCOFPZEDRjvj2Fr9jQMqPRKdNCGNAjzKbFCZjYkDxSrEk/xRlQEnIwdGmxmRA97N0u+BGZED5URmFNaVjQP9zbkU+9mJAoSYpYE5EYkDbn7xE/8NhQKt7isMfSmFA",
          "dtype": "f8"
         },
         "yaxis": "y"
        },
        {
         "hovertemplate": "variable=2022-06-06<br>index=%{x}<br>value=%{y}<extra></extra>",
         "legendgroup": "2022-06-06",
         "line": {
          "color": "#B6E880",
          "dash": "solid"
         },
         "marker": {
          "symbol": "circle"
         },
         "mode": "lines",
         "name": "2022-06-06",
         "showlegend": true,
         "type": "scattergl",
         "x": [
          "00:00:00",
          "00:15:00",
          "00:30:00",
          "00:45:00",
          "01:00:00",
          "01:15:00",
          "01:30:00",
          "01:45:00",
          "02:00:00",
          "02:15:00",
          "02:30:00",
          "02:45:00",
          "03:00:00",
          "03:15:00",
          "03:30:00",
          "03:45:00",
          "04:00:00",
          "04:15:00",
          "04:30:00",
          "04:45:00",
          "05:00:00",
          "05:15:00",
          "05:30:00",
          "05:45:00",
          "06:00:00",
          "06:15:00",
          "06:30:00",
          "06:45:00",
          "07:00:00",
          "07:15:00",
          "07:30:00",
          "07:45:00",
          "08:00:00",
          "08:15:00",
          "08:30:00",
          "08:45:00",
          "09:00:00",
          "09:15:00",
          "09:30:00",
          "09:45:00",
          "10:00:00",
          "10:15:00",
          "10:30:00",
          "10:45:00",
          "11:00:00",
          "11:15:00",
          "11:30:00",
          "11:45:00",
          "12:00:00",
          "12:15:00",
          "12:30:00",
          "12:45:00",
          "13:00:00",
          "13:15:00",
          "13:30:00",
          "13:45:00",
          "14:00:00",
          "14:15:00",
          "14:30:00",
          "14:45:00",
          "15:00:00",
          "15:15:00",
          "15:30:00",
          "15:45:00",
          "16:00:00",
          "16:15:00",
          "16:30:00",
          "16:45:00",
          "17:00:00",
          "17:15:00",
          "17:30:00",
          "17:45:00",
          "18:00:00",
          "18:15:00",
          "18:30:00",
          "18:45:00",
          "19:00:00",
          "19:15:00",
          "19:30:00",
          "19:45:00",
          "20:00:00",
          "20:15:00",
          "20:30:00",
          "20:45:00",
          "21:00:00",
          "21:15:00",
          "21:30:00",
          "21:45:00",
          "22:00:00",
          "22:15:00",
          "22:30:00",
          "22:45:00",
          "23:00:00",
          "23:15:00",
          "23:30:00",
          "23:45:00"
         ],
         "xaxis": "x",
         "y": {
          "bdata": "1wD14DZ9XkCDiRoSz+ZdQJNqBDL/Rl1Ax7cxxUbTXEAjdUJs/GlcQIFfddJLKFxAjdYIz1jbW0B7ZpFY8LVbQIlL5ptW/FtAaxYIKTDHW0DbLidSz5JbQNM/JUoJjVtA89zGaKu7W0CFNGBPRstbQLt18k7f0ltAc+Vv+DrLW0Dv4Pk34VdcQPNwHLgSjVxA3WlV+YvgXEBLj/YnEw9dQDPgPWhhWV5Af9PPziIXX0BhTnUWO9ZfQKhDJ7u7bWBAOdp2fALMXUCyoZ13RxdfQLTOeIaqd2BAIAefoXqHYUA0KcONmadiQAhHtNiSyGNA0WKuzb2bZEDEHXdbzAxlQAG5qdYRcWVAB89jDttqZUCsrmCC8xRlQBWrRO5Tl2RAKWj+nuQQZ0BjTutbNhBmQN88mANcrWVA0S6jwXEHZUAg4kp4O39kQK1P2T/qu2NAWSsXN7yzYkCp7Qt4sZ1iQGFft7Jr7mVA10dz1cjDZEBjP4GsWQNlQAvi0NUVamRAlN16hMRaZUA6cdI+fYtmQNS5lCMI1GVAaQxe4BrOY0DS9jgPlZVkQI5myC+zeWVAMToXNEhUZkDIrRsxoRRoQOcgvj5cRGdA7n2eH3dRZUDeWiur/JtkQF9VMvtTdmdAkiqAjN01ZEC4KKqWAiNjQPjAHev+ymNASVQG1HqhZECzK0CibZ9iQPxa8joux2NAZJeHhX6fZEDgWgM7Ho1lQDTEucQ6PmZACy5AYrlKZ0B9o0ynT81nQB/0HN7OL2hAzlV7lwXGZ0AmkEpRMbJnQFcxPIFnamdAECfJLB8lZ0AX22tNLY1mQHFUcavgR2ZADh4GUg70ZUAuYSZr0qJlQJUlKENWYGVAhZ3g6HkkZUD66KdHJrtkQLh324ocQ2RAifVwYT+oY0D2TtS/BBNjQOWERjDyiGJAOmobdIX+YUDpZCNNkbRkQJs1NYypWGRA/VNxxMCrY0B9UJ4kBApjQCXfcgboY2JAi9aX9QHBYUBBC71+PSxhQAHhpWjgrWBA",
          "dtype": "f8"
         },
         "yaxis": "y"
        },
        {
         "hovertemplate": "variable=2022-06-30<br>index=%{x}<br>value=%{y}<extra></extra>",
         "legendgroup": "2022-06-30",
         "line": {
          "color": "#FF97FF",
          "dash": "solid"
         },
         "marker": {
          "symbol": "circle"
         },
         "mode": "lines",
         "name": "2022-06-30",
         "showlegend": true,
         "type": "scattergl",
         "x": [
          "00:00:00",
          "00:15:00",
          "00:30:00",
          "00:45:00",
          "01:00:00",
          "01:15:00",
          "01:30:00",
          "01:45:00",
          "02:00:00",
          "02:15:00",
          "02:30:00",
          "02:45:00",
          "03:00:00",
          "03:15:00",
          "03:30:00",
          "03:45:00",
          "04:00:00",
          "04:15:00",
          "04:30:00",
          "04:45:00",
          "05:00:00",
          "05:15:00",
          "05:30:00",
          "05:45:00",
          "06:00:00",
          "06:15:00",
          "06:30:00",
          "06:45:00",
          "07:00:00",
          "07:15:00",
          "07:30:00",
          "07:45:00",
          "08:00:00",
          "08:15:00",
          "08:30:00",
          "08:45:00",
          "09:00:00",
          "09:15:00",
          "09:30:00",
          "09:45:00",
          "10:00:00",
          "10:15:00",
          "10:30:00",
          "10:45:00",
          "11:00:00",
          "11:15:00",
          "11:30:00",
          "11:45:00",
          "12:00:00",
          "12:15:00",
          "12:30:00",
          "12:45:00",
          "13:00:00",
          "13:15:00",
          "13:30:00",
          "13:45:00",
          "14:00:00",
          "14:15:00",
          "14:30:00",
          "14:45:00",
          "15:00:00",
          "15:15:00",
          "15:30:00",
          "15:45:00",
          "16:00:00",
          "16:15:00",
          "16:30:00",
          "16:45:00",
          "17:00:00",
          "17:15:00",
          "17:30:00",
          "17:45:00",
          "18:00:00",
          "18:15:00",
          "18:30:00",
          "18:45:00",
          "19:00:00",
          "19:15:00",
          "19:30:00",
          "19:45:00",
          "20:00:00",
          "20:15:00",
          "20:30:00",
          "20:45:00",
          "21:00:00",
          "21:15:00",
          "21:30:00",
          "21:45:00",
          "22:00:00",
          "22:15:00",
          "22:30:00",
          "22:45:00",
          "23:00:00",
          "23:15:00",
          "23:30:00",
          "23:45:00"
         ],
         "xaxis": "x",
         "y": {
          "bdata": "3hER4cYkYEAD/pFwp31fQCckFuQE7l5AMeKNEKFzXkB38l85hi9eQDcW6UxT7F1Ade0D43qeXUBfiIfS6VxdQGNZB+76T11AsbM/lIwaXUAJz0Qur+xcQH/khd0o5FxAA6zxe3XvXECLhD3hkNtcQNm9DfM54VxAiUSlotjoXECLRWYlAVNdQB9mXx6Mb11AmUEhFie3XUCxBJIqOhReQJFIsQn/P19AGSZ1WG3oX0D4+29nmINgQCQ/2+nJIGFAUzt5A/lgX0CMrVl3gmpgQLCMyVmNX2FA3S2X1/5pYkAinOOvxcljQEZSVeZ212RAcvtlijqrZUBs4ExpJUJmQCP0/NKTqGZAnp3kdAXiZkAqkn7Uyo5mQPN18l1pn2VAeF69nWQ6aEAYTe2i2EhnQBez7VcIUWZAq+6HWKTzZUAwj22LSqhkQMtusXffOWNADZksfGwZYkDmtWLLU6VfQHcMXymD7mJAyY1lPZ3KYkD6aiVfdzVjQN/3dYY6nmJAL1I3GltuYUBddWyn2U9gQPR+5prOy15AMPdYUD+sXUDgrZl+ja9dQAbgmNRlIF9ABJPoltLMX0CHCgRvdd1fQMNx1Ic/UmBA1svnp0e2YEAlNVroVt9gQKfHh0v+gWFAkmsMjohbXUDSWHQlXIVfQEkcLa+qwGBAKKXsvSBrYkAUmRAdoJxgQE8g2KHfrWFAmP3V79y4YkAsT64s9KVjQAWirKRMgGRAgt507KaDZUBf1igmXlJmQAKisBFs02ZAwFl0FDiIZkCeo2lYzlpmQLnzDH2IRGZAhaiox7AaZkDcbuXhQsZlQLBV+hzpk2VA7WITsTJOZUAnfZTlZTBlQIIZuoB48WRAwGNctbzAZEB05UJAR3tkQPQlx7j9KmRAIAIthV2yY0BmyFuPxTNjQIIjw62SnGJAu+RwKxTrYUDvjXk+R7FkQFsXi80jZ2RAB2QtxSLnY0DJtYyXb0NjQBONATGEimJA/61K9xD9YUDnm+W2hmJhQG/j1AH23WBA",
          "dtype": "f8"
         },
         "yaxis": "y"
        },
        {
         "hovertemplate": "variable=2022-05-31<br>index=%{x}<br>value=%{y}<extra></extra>",
         "legendgroup": "2022-05-31",
         "line": {
          "color": "#FECB52",
          "dash": "solid"
         },
         "marker": {
          "symbol": "circle"
         },
         "mode": "lines",
         "name": "2022-05-31",
         "showlegend": true,
         "type": "scattergl",
         "x": [
          "00:00:00",
          "00:15:00",
          "00:30:00",
          "00:45:00",
          "01:00:00",
          "01:15:00",
          "01:30:00",
          "01:45:00",
          "02:00:00",
          "02:15:00",
          "02:30:00",
          "02:45:00",
          "03:00:00",
          "03:15:00",
          "03:30:00",
          "03:45:00",
          "04:00:00",
          "04:15:00",
          "04:30:00",
          "04:45:00",
          "05:00:00",
          "05:15:00",
          "05:30:00",
          "05:45:00",
          "06:00:00",
          "06:15:00",
          "06:30:00",
          "06:45:00",
          "07:00:00",
          "07:15:00",
          "07:30:00",
          "07:45:00",
          "08:00:00",
          "08:15:00",
          "08:30:00",
          "08:45:00",
          "09:00:00",
          "09:15:00",
          "09:30:00",
          "09:45:00",
          "10:00:00",
          "10:15:00",
          "10:30:00",
          "10:45:00",
          "11:00:00",
          "11:15:00",
          "11:30:00",
          "11:45:00",
          "12:00:00",
          "12:15:00",
          "12:30:00",
          "12:45:00",
          "13:00:00",
          "13:15:00",
          "13:30:00",
          "13:45:00",
          "14:00:00",
          "14:15:00",
          "14:30:00",
          "14:45:00",
          "15:00:00",
          "15:15:00",
          "15:30:00",
          "15:45:00",
          "16:00:00",
          "16:15:00",
          "16:30:00",
          "16:45:00",
          "17:00:00",
          "17:15:00",
          "17:30:00",
          "17:45:00",
          "18:00:00",
          "18:15:00",
          "18:30:00",
          "18:45:00",
          "19:00:00",
          "19:15:00",
          "19:30:00",
          "19:45:00",
          "20:00:00",
          "20:15:00",
          "20:30:00",
          "20:45:00",
          "21:00:00",
          "21:15:00",
          "21:30:00",
          "21:45:00",
          "22:00:00",
          "22:15:00",
          "22:30:00",
          "22:45:00",
          "23:00:00",
          "23:15:00",
          "23:30:00",
          "23:45:00"
         ],
         "xaxis": "x",
         "y": {
          "bdata": "X/AXZ0qCXUByksnMwtdcQBLOIEgRQFxAaTxcVM3CW0DbEB8vw0lbQLiF63OhDFtAwow2hXHbWkA+UALHJKZaQLShXTxdgFpA8G+5HTdYWkBePFmuk1JaQFcJvSs4T1pAE2AwP/1SWkAVTKQlAUZaQAHpBIqPT1pAje3H7ExwWkAUdVuZteNaQN6PCSl8AVtAO5VN4hoYW0BiBwpG/W9bQEsrxL8zg1xAZN0kMOduXUDmSs/gElFeQFWNmM7eSV9AlDmuhQmMXEAnIAF3pjVeQOj0SIuPEWBAX3myRWMqYUDckV5JO5tiQPBseu8psWNAzq+NmoBnZEDNfD4olPZkQITzECZjX2VAB6WqjqFGZUDWYGr9ZS5lQJ11vA9/C2VAO1S40OOxZ0DU/f+SD+hmQOVH180FpWVAMKmB4pyIZEC9GAbE449kQHcAwmQya2JAeOtWqPONYEBwx4ZNN71dQIHq0cGEtmFAKUibPOqaYEC3xeny5qpgQBZThfv8lWBAlpHI/IQRYEDpdPy/xfVfQIRvNtggMWBAT8aj2rvYXkAJGn3xDfNeQGpNZa3s719A5AoKNJI7YEA3KniCDIBgQNFFEJXVtGBAPYciiOR+YUA/YMQf8jViQO6PX2Xb0WFA7yGE+4rxXUC1hTvCrO5gQCgnzRDuQ2JAQICnq4JhY0AjYyLh0yJhQP5d9Tt+DmJAF8DWfPRkY0CpjH230LtkQM4mkA1x7WVAyerCQWxFZ0ACnV0jQNxnQKT5s997Z2hA77ncPkgZaEAc4uwGkRRoQAOCX3K8xmdAbFMio72SZ0AVqkqhHAJnQFFhthXp/mZAHZ3fMNjjZkBcL54QA6NmQN8kVqc5DmZAZUZRrLypZUCXGcu5DjxlQITryGCgsGRA7UjjyxbbY0CO/2xKuUdjQOb6W2LBqWJA0lpNB+AtYkB1EOFs/5dkQH08S7TDTGRA+/CGX5WXY0At87aj5fNiQGWEc1PtP2JAPdlIKLGdYUAD+QLFLAdhQB8lLUaal2BA",
          "dtype": "f8"
         },
         "yaxis": "y"
        },
        {
         "hovertemplate": "variable=2022-07-20<br>index=%{x}<br>value=%{y}<extra></extra>",
         "legendgroup": "2022-07-20",
         "line": {
          "color": "#636efa",
          "dash": "solid"
         },
         "marker": {
          "symbol": "circle"
         },
         "mode": "lines",
         "name": "2022-07-20",
         "showlegend": true,
         "type": "scattergl",
         "x": [
          "00:00:00",
          "00:15:00",
          "00:30:00",
          "00:45:00",
          "01:00:00",
          "01:15:00",
          "01:30:00",
          "01:45:00",
          "02:00:00",
          "02:15:00",
          "02:30:00",
          "02:45:00",
          "03:00:00",
          "03:15:00",
          "03:30:00",
          "03:45:00",
          "04:00:00",
          "04:15:00",
          "04:30:00",
          "04:45:00",
          "05:00:00",
          "05:15:00",
          "05:30:00",
          "05:45:00",
          "06:00:00",
          "06:15:00",
          "06:30:00",
          "06:45:00",
          "07:00:00",
          "07:15:00",
          "07:30:00",
          "07:45:00",
          "08:00:00",
          "08:15:00",
          "08:30:00",
          "08:45:00",
          "09:00:00",
          "09:15:00",
          "09:30:00",
          "09:45:00",
          "10:00:00",
          "10:15:00",
          "10:30:00",
          "10:45:00",
          "11:00:00",
          "11:15:00",
          "11:30:00",
          "11:45:00",
          "12:00:00",
          "12:15:00",
          "12:30:00",
          "12:45:00",
          "13:00:00",
          "13:15:00",
          "13:30:00",
          "13:45:00",
          "14:00:00",
          "14:15:00",
          "14:30:00",
          "14:45:00",
          "15:00:00",
          "15:15:00",
          "15:30:00",
          "15:45:00",
          "16:00:00",
          "16:15:00",
          "16:30:00",
          "16:45:00",
          "17:00:00",
          "17:15:00",
          "17:30:00",
          "17:45:00",
          "18:00:00",
          "18:15:00",
          "18:30:00",
          "18:45:00",
          "19:00:00",
          "19:15:00",
          "19:30:00",
          "19:45:00",
          "20:00:00",
          "20:15:00",
          "20:30:00",
          "20:45:00",
          "21:00:00",
          "21:15:00",
          "21:30:00",
          "21:45:00",
          "22:00:00",
          "22:15:00",
          "22:30:00",
          "22:45:00",
          "23:00:00",
          "23:15:00",
          "23:30:00",
          "23:45:00"
         ],
         "xaxis": "x",
         "y": {
          "bdata": "tIQ3XqDSYEA2kXQzsYtgQClKOxnTOWBAFyWJ5VfTX0DJht5Y5XZfQIgRgHT1Tl9A1QGIxn0EX0BziuMbycteQGGyruXstV5AFfncFNunXkAUtAev05NeQOl5Chcge15AhdZNb9KrXkB/oi/oLLteQGZ94mMjw15AlVXlyI7hXkDOg0KuPm1fQMwnS9Ajml9AL0uQUsTcX0A4axBMdydgQEPqCRs3v2BAeEZPURssYUDmmI/6DMdhQGRe+wprdmJAEf1wFobgYEC4MdU31rhhQKEb6Gc5tGJALP31uJXWY0AhpXbx+WRlQLPrAWc/i2ZAw9kD6RWAZ0Cas4sZiA5oQLoXnByuPWhAHP5S8iTZZ0CoFgGyUkRnQMktOvVfgGZAZIxoi49LaECYjlD652xoQDrN7JsCu2dAI9LST3iZZkA4R4+NeF9mQMR/tKNHV2ZA1dxSxw/AZUANboFdi59kQPU5YTmMi2hAjYfmSp3xZkAL0PRzR3NjQDDElEEvLl9API2nGQ78XkDIMLpixOFdQL5u0tDxY15AK62vnSXTYEA/SY1JOsNhQPojJxCr3WBA7NzleU9PYECyUREJ1wteQDs9iaQBH2BA8FOST79yYEB043XK1zJgQHYTRFoQP2BAUF5TfieHWEBOfRutjtpZQK30xLCEq1tA9vtY5iI0X0AzLdo7riRaQL923z99Y1xA3L5P/vLGX0B7tHwP0TtiQNkooeQoq2NArAW57KMfZUBFdoJO+TZmQOBMq/OFBmdAfuZ5Hj/4ZkBnM13dMPdmQNPImnfk8mZAMrTPE4naZkBNdImV3EdmQMrTp3oRCmZAlu0sKN/MZUBFouczs5plQJg+cyluTWVA3MMBYmzVZEA4HnPdgotkQEhLO83SMmRApghxRhGQY0CZVXxAox5jQKAPsY4Dc2JAlXA6G7fsYUDTVIMZr75kQPXDgldrc2RARXmmUTPOY0AXnyt0NldjQE88dHissmJAI9Pk7AoQYkD96LrlB3VhQO/KG1T09GBA",
          "dtype": "f8"
         },
         "yaxis": "y"
        },
        {
         "hovertemplate": "variable=2022-06-21<br>index=%{x}<br>value=%{y}<extra></extra>",
         "legendgroup": "2022-06-21",
         "line": {
          "color": "#EF553B",
          "dash": "solid"
         },
         "marker": {
          "symbol": "circle"
         },
         "mode": "lines",
         "name": "2022-06-21",
         "showlegend": true,
         "type": "scattergl",
         "x": [
          "00:00:00",
          "00:15:00",
          "00:30:00",
          "00:45:00",
          "01:00:00",
          "01:15:00",
          "01:30:00",
          "01:45:00",
          "02:00:00",
          "02:15:00",
          "02:30:00",
          "02:45:00",
          "03:00:00",
          "03:15:00",
          "03:30:00",
          "03:45:00",
          "04:00:00",
          "04:15:00",
          "04:30:00",
          "04:45:00",
          "05:00:00",
          "05:15:00",
          "05:30:00",
          "05:45:00",
          "06:00:00",
          "06:15:00",
          "06:30:00",
          "06:45:00",
          "07:00:00",
          "07:15:00",
          "07:30:00",
          "07:45:00",
          "08:00:00",
          "08:15:00",
          "08:30:00",
          "08:45:00",
          "09:00:00",
          "09:15:00",
          "09:30:00",
          "09:45:00",
          "10:00:00",
          "10:15:00",
          "10:30:00",
          "10:45:00",
          "11:00:00",
          "11:15:00",
          "11:30:00",
          "11:45:00",
          "12:00:00",
          "12:15:00",
          "12:30:00",
          "12:45:00",
          "13:00:00",
          "13:15:00",
          "13:30:00",
          "13:45:00",
          "14:00:00",
          "14:15:00",
          "14:30:00",
          "14:45:00",
          "15:00:00",
          "15:15:00",
          "15:30:00",
          "15:45:00",
          "16:00:00",
          "16:15:00",
          "16:30:00",
          "16:45:00",
          "17:00:00",
          "17:15:00",
          "17:30:00",
          "17:45:00",
          "18:00:00",
          "18:15:00",
          "18:30:00",
          "18:45:00",
          "19:00:00",
          "19:15:00",
          "19:30:00",
          "19:45:00",
          "20:00:00",
          "20:15:00",
          "20:30:00",
          "20:45:00",
          "21:00:00",
          "21:15:00",
          "21:30:00",
          "21:45:00",
          "22:00:00",
          "22:15:00",
          "22:30:00",
          "22:45:00",
          "23:00:00",
          "23:15:00",
          "23:30:00",
          "23:45:00"
         ],
         "xaxis": "x",
         "y": {
          "bdata": "ZQ0OxCkVX0BJrRVjhnNeQHcJcc53E15Aw5QzWiiWXUCDUK+xCmVdQIctGNgGG11Akax8hEqsXEBlNkOX5KVcQIP0GJivflxAH4cMIMpEXECfJ1JmAkhcQOVGM5EbM1xAWWb65MZHXEBTSCmKAzxcQIGDUu7IUFxAFScADO9ZXEADG2XnWLtcQD++OKLQ+lxAO4A+Bok4XUBZFvtQSWRdQIXKDJGVwl5AXWW/nqO0X0DovbaxpGZgQILwwT/092BAGm8Mbb/wXkB5k1w+5lxgQHyiCESdZ2FAcMiI3uFRYkAW0VtBMLNjQBNb/gGy2WRAGzDp3qGaZUCS6a4EYxBmQP7vVhjeL2ZAqqjLsyE2ZkD6qatLXdRlQA5LuhCqnWVAEymZ9tSPaEBgSym51F9nQJed0c+9pmVA9S5q8U0GZED3v8mVe3NiQFezsRZ8UWJAxiy0r6jQY0DdMVZ1e0hkQJacrlzFe2dA/TDt1e6rZkBoO5fLYVFlQOhNXRRkFmRAODdaE7wOY0D9QD9BoVJiQBRVKHNAQmJAsO6+AjgAYkDb5mAF+clhQLF4KE95LmFAG/S79YvxYEDUZT8bgtBgQA3vvn9f/WBAl+3OnSQHYUBYwlT3fEJhQJmQuKohOmJAsQnBwvYMYEAp05FCjOlhQDIznvRjTGNALtVakBFiZEBSbYjTyO1hQPhuvs2XimJACjk+OgawYkBkFEbaXBBjQDVzhbxz42NAAWriPguIZUBI/PQc3bJmQKAtqHhyYGdAboOtlz4YZ0CBoCi3G/xmQOTpXW+p/mZAJBTxDwrEZkCv3ssHNEhmQAPyd3IjC2ZATsLpkH22ZUBpUlKs1mVlQL2x48DjEWVAtT5gN4nOZEBKvkBwFH5kQNGy2vsAI2RAu9Iqbd2WY0DMayd0yPliQHbhJpoFZ2JAcas//IXmYUDVpOtoSYlkQPE6j4U4SGRAxSxE7K62Y0BfRKuljxRjQCuNxK8ZYWJA1dqpwh3QYUAXHV3poUVhQNXl3+Usz2BA",
          "dtype": "f8"
         },
         "yaxis": "y"
        },
        {
         "hovertemplate": "variable=2022-06-09<br>index=%{x}<br>value=%{y}<extra></extra>",
         "legendgroup": "2022-06-09",
         "line": {
          "color": "#00cc96",
          "dash": "solid"
         },
         "marker": {
          "symbol": "circle"
         },
         "mode": "lines",
         "name": "2022-06-09",
         "showlegend": true,
         "type": "scattergl",
         "x": [
          "00:00:00",
          "00:15:00",
          "00:30:00",
          "00:45:00",
          "01:00:00",
          "01:15:00",
          "01:30:00",
          "01:45:00",
          "02:00:00",
          "02:15:00",
          "02:30:00",
          "02:45:00",
          "03:00:00",
          "03:15:00",
          "03:30:00",
          "03:45:00",
          "04:00:00",
          "04:15:00",
          "04:30:00",
          "04:45:00",
          "05:00:00",
          "05:15:00",
          "05:30:00",
          "05:45:00",
          "06:00:00",
          "06:15:00",
          "06:30:00",
          "06:45:00",
          "07:00:00",
          "07:15:00",
          "07:30:00",
          "07:45:00",
          "08:00:00",
          "08:15:00",
          "08:30:00",
          "08:45:00",
          "09:00:00",
          "09:15:00",
          "09:30:00",
          "09:45:00",
          "10:00:00",
          "10:15:00",
          "10:30:00",
          "10:45:00",
          "11:00:00",
          "11:15:00",
          "11:30:00",
          "11:45:00",
          "12:00:00",
          "12:15:00",
          "12:30:00",
          "12:45:00",
          "13:00:00",
          "13:15:00",
          "13:30:00",
          "13:45:00",
          "14:00:00",
          "14:15:00",
          "14:30:00",
          "14:45:00",
          "15:00:00",
          "15:15:00",
          "15:30:00",
          "15:45:00",
          "16:00:00",
          "16:15:00",
          "16:30:00",
          "16:45:00",
          "17:00:00",
          "17:15:00",
          "17:30:00",
          "17:45:00",
          "18:00:00",
          "18:15:00",
          "18:30:00",
          "18:45:00",
          "19:00:00",
          "19:15:00",
          "19:30:00",
          "19:45:00",
          "20:00:00",
          "20:15:00",
          "20:30:00",
          "20:45:00",
          "21:00:00",
          "21:15:00",
          "21:30:00",
          "21:45:00",
          "22:00:00",
          "22:15:00",
          "22:30:00",
          "22:45:00",
          "23:00:00",
          "23:15:00",
          "23:30:00",
          "23:45:00"
         ],
         "xaxis": "x",
         "y": {
          "bdata": "xLABJ/XmYECSsvbXXHNgQJiTwb0CG2BAg9p+e7+tX0Cx055OrilfQLHlioaerV5AUV9CiZpoXkDbW14RahxeQK1OeRMpDV5AA3MNtUDSXUD/+H+YvKRdQK80dK4nnl1AC3nUFle4XUCbY/5FHMFdQJeKOGyorl1AieIIcEq/XUAjoDSTOxxeQEPh8PVaIV5AjRhCVU9zXkApjKZE8bReQOnAaAwz6l9A2DVxWgpnYECkDO/KNAFhQMiAqWzPf2FACsLzNBn6X0BwS8Y/+/lgQHgGC3CpAGJA5MTtyyEIY0CGNYB8L0FkQE+wlGkJlGVAqntyNNp5ZkA+yLPatahmQGSbpTSQ8WZAhliY5pHHZkC2gOMD/0JmQAyn/87PmGVASwgDvWCMaEA2To6kpANoQITMwmWkKGdAcEAzTJJSZkB3mtW+qi1mQLxfnK751mVAN0KdGZR2ZUDZEqMp2wplQAxzRKyIoWhAzLyMa1kAaEAzhVo3DPJnQL3dszNqIGhATy49no24Z0CU3LCo1JhnQCG7e7DDz2dAw/r7oCbpZ0B7/LGv4iNoQCvTiT/tb2hACJNmBduVaECo8NngNKdoQPQRhC+cJWhA2dJchqjLZ0DY1ZadpWxnQJV1ErleT2ZAhQZMVhaiYkC44X9IAh5jQKEFUbCiIWNAycw9jfKgY0DrVF0b7GlhQEPqzaZzPmJALrJGvPSXY0A1kzlNX+lkQFd+BDRS32VAQfcmljkmZ0CzFnsjt/dnQJIPPEzRU2hAoV2DIXbmZ0DoRkVu9MtnQJlCfZXkp2dAMEtKv4xuZ0B82IGsQhNnQGaL7Y6pmWZAo5Ugezp6ZkD4rTqOlDBmQD8PAI22x2VARl7r9GiJZUDVaTgdOR1lQL5BiR/o3mRAmcAy9RsxZECh0x5+YpRjQCc0nudZxGJAJK4qZWI/YkB7frckS/dkQPenZ9qopWRAa+07+q76Y0AlTuN/x15jQKWW6cpzlmJAn9UZKuPzYUD9mKO/JVZhQK9Ff6ZW32BA",
          "dtype": "f8"
         },
         "yaxis": "y"
        },
        {
         "hovertemplate": "variable=2022-06-02<br>index=%{x}<br>value=%{y}<extra></extra>",
         "legendgroup": "2022-06-02",
         "line": {
          "color": "#ab63fa",
          "dash": "solid"
         },
         "marker": {
          "symbol": "circle"
         },
         "mode": "lines",
         "name": "2022-06-02",
         "showlegend": true,
         "type": "scattergl",
         "x": [
          "00:00:00",
          "00:15:00",
          "00:30:00",
          "00:45:00",
          "01:00:00",
          "01:15:00",
          "01:30:00",
          "01:45:00",
          "02:00:00",
          "02:15:00",
          "02:30:00",
          "02:45:00",
          "03:00:00",
          "03:15:00",
          "03:30:00",
          "03:45:00",
          "04:00:00",
          "04:15:00",
          "04:30:00",
          "04:45:00",
          "05:00:00",
          "05:15:00",
          "05:30:00",
          "05:45:00",
          "06:00:00",
          "06:15:00",
          "06:30:00",
          "06:45:00",
          "07:00:00",
          "07:15:00",
          "07:30:00",
          "07:45:00",
          "08:00:00",
          "08:15:00",
          "08:30:00",
          "08:45:00",
          "09:00:00",
          "09:15:00",
          "09:30:00",
          "09:45:00",
          "10:00:00",
          "10:15:00",
          "10:30:00",
          "10:45:00",
          "11:00:00",
          "11:15:00",
          "11:30:00",
          "11:45:00",
          "12:00:00",
          "12:15:00",
          "12:30:00",
          "12:45:00",
          "13:00:00",
          "13:15:00",
          "13:30:00",
          "13:45:00",
          "14:00:00",
          "14:15:00",
          "14:30:00",
          "14:45:00",
          "15:00:00",
          "15:15:00",
          "15:30:00",
          "15:45:00",
          "16:00:00",
          "16:15:00",
          "16:30:00",
          "16:45:00",
          "17:00:00",
          "17:15:00",
          "17:30:00",
          "17:45:00",
          "18:00:00",
          "18:15:00",
          "18:30:00",
          "18:45:00",
          "19:00:00",
          "19:15:00",
          "19:30:00",
          "19:45:00",
          "20:00:00",
          "20:15:00",
          "20:30:00",
          "20:45:00",
          "21:00:00",
          "21:15:00",
          "21:30:00",
          "21:45:00",
          "22:00:00",
          "22:15:00",
          "22:30:00",
          "22:45:00",
          "23:00:00",
          "23:15:00",
          "23:30:00",
          "23:45:00"
         ],
         "xaxis": "x",
         "y": {
          "bdata": "RrbOJcbuYECAmiMq25FgQPw0gGm6QmBAU6QBAF3oX0Dhz2O1Qm5fQLkolxwSFV9AR94e/33eXkDP/65kJH5eQPda5Nnze15AfdT7MlFvXkD7GKel0WBeQDkGdMr/YV5Ae9uzqyt6XkDhP3cnfmReQEXWGuYjgl5AC+DaVvuaXkAZVTWGDjlfQEutKUtJcl9ABe3eMt2bX0CvM9JEWN9fQMAbptu6i2BAkPgNjOkWYUAQEDjjLq9hQO6z88dnTWJAJpI6DAzXYEC3BTOcpd1hQGM0YRBWCWNArHhz1rEOZED+39qhHGtlQB0OB2SUvGZAQhEXlQ61Z0BMuC1JNEJoQIuKQatJq2hAveVKVrxtaEChbRGksJ9nQFcwayWQR2ZAsMJa/4B5aECST1QT0e9nQPbRwOWzFWdAixYKZwi7ZUBENXCAz+5kQNPcN3JJjGRAQyoZGQRvY0DCfbb7d81iQI5gRJsxYWZA9hgLUOeCZkDFObBo0D5lQCqbZJ77FGVA+Uf3ZC5HZUDGoBUpxbtmQJJed3WwyWVAT21dlqtLZEDzCUWIRmlkQP+sSgqf8GNANw9HL3pXZEAhyXgwfY5kQM/3KwoRT2VA5wfTy0vuZUBWNkcOINtmQJnVwsPp72ZAOOGEcxhDY0DqlZOfoQNkQKCFCRvi/WRAo/HYyCLYZUBrl6IqpldjQMd9a0zUO2RA5dFVkHRTZUC2cnmPJ2JmQF43K0OG/GZAyluH8tCxZ0DEcupbzVBoQGtkz2fWkWhA9vnNbFkKaEAsXQogjOhnQJkh70Q5uWdAO+4d3n2nZ0AxFw/ccTNnQJ3N5Qim6GZAnhCS9Z6mZkBCGLUqqpRmQPl0dOKGT2ZAWMeKKswfZkCBT9074M1lQK1/kTgJYWVAVYDEgHDVZEBZfPUMSkZkQIPUFUG6tmNAVMfnstwtY0B1yAmm27tlQFPKiSMTlGVA1xSUGvfVZEBveKIrXhpkQAkUV0dydWNA01rUdRXbYkBt4m2EpTViQMl3AC/UtmFA",
          "dtype": "f8"
         },
         "yaxis": "y"
        },
        {
         "hovertemplate": "variable=2022-07-12<br>index=%{x}<br>value=%{y}<extra></extra>",
         "legendgroup": "2022-07-12",
         "line": {
          "color": "#FFA15A",
          "dash": "solid"
         },
         "marker": {
          "symbol": "circle"
         },
         "mode": "lines",
         "name": "2022-07-12",
         "showlegend": true,
         "type": "scattergl",
         "x": [
          "00:00:00",
          "00:15:00",
          "00:30:00",
          "00:45:00",
          "01:00:00",
          "01:15:00",
          "01:30:00",
          "01:45:00",
          "02:00:00",
          "02:15:00",
          "02:30:00",
          "02:45:00",
          "03:00:00",
          "03:15:00",
          "03:30:00",
          "03:45:00",
          "04:00:00",
          "04:15:00",
          "04:30:00",
          "04:45:00",
          "05:00:00",
          "05:15:00",
          "05:30:00",
          "05:45:00",
          "06:00:00",
          "06:15:00",
          "06:30:00",
          "06:45:00",
          "07:00:00",
          "07:15:00",
          "07:30:00",
          "07:45:00",
          "08:00:00",
          "08:15:00",
          "08:30:00",
          "08:45:00",
          "09:00:00",
          "09:15:00",
          "09:30:00",
          "09:45:00",
          "10:00:00",
          "10:15:00",
          "10:30:00",
          "10:45:00",
          "11:00:00",
          "11:15:00",
          "11:30:00",
          "11:45:00",
          "12:00:00",
          "12:15:00",
          "12:30:00",
          "12:45:00",
          "13:00:00",
          "13:15:00",
          "13:30:00",
          "13:45:00",
          "14:00:00",
          "14:15:00",
          "14:30:00",
          "14:45:00",
          "15:00:00",
          "15:15:00",
          "15:30:00",
          "15:45:00",
          "16:00:00",
          "16:15:00",
          "16:30:00",
          "16:45:00",
          "17:00:00",
          "17:15:00",
          "17:30:00",
          "17:45:00",
          "18:00:00",
          "18:15:00",
          "18:30:00",
          "18:45:00",
          "19:00:00",
          "19:15:00",
          "19:30:00",
          "19:45:00",
          "20:00:00",
          "20:15:00",
          "20:30:00",
          "20:45:00",
          "21:00:00",
          "21:15:00",
          "21:30:00",
          "21:45:00",
          "22:00:00",
          "22:15:00",
          "22:30:00",
          "22:45:00",
          "23:00:00",
          "23:15:00",
          "23:30:00",
          "23:45:00"
         ],
         "xaxis": "x",
         "y": {
          "bdata": "zmPW1cKYYEBWsFbQtUJgQBQ8jMY2+l9Aij8LXT64X0BgjwF5AGdfQNKj+rxIIF9AoBxHGLn/XkCqsg4OML5eQNctiKIAp15AoJijNu+RXkCckesQa3ReQERcJJa3eF5AQwvJYmWoXkA6lvzgVbBeQMl1yllprl5AReyVdkrgXkDjj9U7dytfQMXZpq4tY19AsT6oFibXX0A8kwo61wVgQJn/XFhrmmBAnI4rfw4aYUB+j0zkBK9hQAYILf3eSmJA99xSwweXYEDpOD9FzFZhQPi9uD6ARWJA2XyAYstbY0BcDxjRtZBkQDDc1sZlqmVAne2gzjOiZkDPj7B0fyBnQAPDOhMlj2dAtJGMqvLWZ0AiSQh+volnQEOqLIhvmmZAsLeaH0zJaEDDAZApEKhnQIK8kydfUGZAj7mXvunkZECTbY2Xkn9jQBWnjwgPGGJAGc/fwzK8YECUzkMY9yhfQGCc+yamaWNAjhI4j6imYkCZuG+sYcBgQF7ij/CP319ArkeDu8vAYEAuWvkgkCFhQO2DbWnnf2FAgHAVbDqLYUBF4X2MlYthQJFHr6jj2WFAsTPTNK4tYEDA0ImNg5dfQDPJXY8YFWBAfiVaEcmNYEAesK6tTeVgQBMrlt3hv2FA5qWxEpERXUAkmnsHSLxeQH9VoiG5YmBAYGYhuOqPYEBC1FghVEtcQPinr+gjiV9AUhOrO7UTYUANIJ7PdoViQD2BOmvxs2NAZEEFD94BZUAJ04ntI0lmQAsm6KAOFGdAHqTNqVTCZkCatjiWlZ5mQJZIaQm3iGZARlMVzppnZkD/ToqrYO5lQGgNx/VHsWVAbfY0hCx3ZUBcVc2L9DJlQNIZtEzf0WRAnG+mBGOSZEAEkw6LtjhkQBHvwBQK7WNA3g53YPVjY0DL3GfbMvNiQF7TabSFamJA3OgU6lXlYUBFGNL4ZqxkQEXpx11yUWRAJcnvsvioY0BX0PcPIhljQHMCEsI4b2JAueWHs33IYUC3O46KYzZhQM8GOAAA0WBA",
          "dtype": "f8"
         },
         "yaxis": "y"
        },
        {
         "hovertemplate": "variable=2022-07-06<br>index=%{x}<br>value=%{y}<extra></extra>",
         "legendgroup": "2022-07-06",
         "line": {
          "color": "#19d3f3",
          "dash": "solid"
         },
         "marker": {
          "symbol": "circle"
         },
         "mode": "lines",
         "name": "2022-07-06",
         "showlegend": true,
         "type": "scattergl",
         "x": [
          "00:00:00",
          "00:15:00",
          "00:30:00",
          "00:45:00",
          "01:00:00",
          "01:15:00",
          "01:30:00",
          "01:45:00",
          "02:00:00",
          "02:15:00",
          "02:30:00",
          "02:45:00",
          "03:00:00",
          "03:15:00",
          "03:30:00",
          "03:45:00",
          "04:00:00",
          "04:15:00",
          "04:30:00",
          "04:45:00",
          "05:00:00",
          "05:15:00",
          "05:30:00",
          "05:45:00",
          "06:00:00",
          "06:15:00",
          "06:30:00",
          "06:45:00",
          "07:00:00",
          "07:15:00",
          "07:30:00",
          "07:45:00",
          "08:00:00",
          "08:15:00",
          "08:30:00",
          "08:45:00",
          "09:00:00",
          "09:15:00",
          "09:30:00",
          "09:45:00",
          "10:00:00",
          "10:15:00",
          "10:30:00",
          "10:45:00",
          "11:00:00",
          "11:15:00",
          "11:30:00",
          "11:45:00",
          "12:00:00",
          "12:15:00",
          "12:30:00",
          "12:45:00",
          "13:00:00",
          "13:15:00",
          "13:30:00",
          "13:45:00",
          "14:00:00",
          "14:15:00",
          "14:30:00",
          "14:45:00",
          "15:00:00",
          "15:15:00",
          "15:30:00",
          "15:45:00",
          "16:00:00",
          "16:15:00",
          "16:30:00",
          "16:45:00",
          "17:00:00",
          "17:15:00",
          "17:30:00",
          "17:45:00",
          "18:00:00",
          "18:15:00",
          "18:30:00",
          "18:45:00",
          "19:00:00",
          "19:15:00",
          "19:30:00",
          "19:45:00",
          "20:00:00",
          "20:15:00",
          "20:30:00",
          "20:45:00",
          "21:00:00",
          "21:15:00",
          "21:30:00",
          "21:45:00",
          "22:00:00",
          "22:15:00",
          "22:30:00",
          "22:45:00",
          "23:00:00",
          "23:15:00",
          "23:30:00",
          "23:45:00"
         ],
         "xaxis": "x",
         "y": {
          "bdata": "rK0qeyLYXkB6AU6VLkBeQCUCqqMYsF1A11uZf31AXUBSXYmuNQNdQJz7Qyiq1lxAB75vjASMXEDvqJv7UTVcQMdE4h0XJ1xAULOBUfT6W0AvVddh6uhbQEq3dKYMu1tAMlqPxzm6W0Ci2WeRlLVbQPd7dvC6w1tAF0r9RCHIW0DWjZ3e8y1cQI7p9snDNlxAASP+8WSHXEAmfKFQSdJcQB671fg8+11Amn/d1f7FXkCD55C3cKFfQL3tESAuOGBAxVC5+U0hXUBgJYiV4HVeQGS6z/MvIWBAjVCMeC7nYEBS3kEsjBliQDVldsFe4mJA77pOunmeY0A6ZZsgsiFkQIiVbEOvsmRA/GdFwE/qZEB0MP8MCaRkQPbIma5p0GNAsOendecvZkBGMHQ4WPZkQACjzKc0GmRAykZxr09HY0BZYyhiE6xiQNM3g3FuCGNAG0ZHbgpoYkD60TIoG21jQN+tmr3jkGZARMuL6xYeZkCW6zHWMkVmQGUGpFhHQWZAdes0VP3GZkCyGW8n6K1mQMlKHo7Q42dAyMkLlNesZ0DPv5lcSfFnQKH3mQtrgGhA9hJJCbi0aEApZppoM+toQOglHIXQo2hA+dxWGBnLZ0BZTMB3EsxmQHaHcHzur2VAVq05j52EYUD8Wg9leTJiQKCZRZ2bfmJASq6qXznqYkDoEt6HjdhfQKpA6i0sr2BAzF5SvfKsYUC/SBBWaGBiQIq74DoaCWNAd7UMrT4ZZEDD90kkwa5kQFrThHN6OWVAFi6fxnn9ZEBRO3+UNOtkQHKUXmZvu2RAUFHIBW1zZEAC6g/8XPZjQLh6wiZUkmNAqQl2r7NwY0AuKwZjrkNjQEugu9WtDmNA/GDdUZbPYkA6GrgI5pliQIxhvvDeQ2JATk1obirVYUCGxgxTPFphQE5aaX9t5mBAxosqv1hwYEBHBrpb905jQL9xsAH2ImNANUqS0aqmYkAVsUPidgliQIMBWPKVdmFAG16vrN3oYECP//1/+lhgQF4nioID519A",
          "dtype": "f8"
         },
         "yaxis": "y"
        },
        {
         "hovertemplate": "variable=2022-06-22<br>index=%{x}<br>value=%{y}<extra></extra>",
         "legendgroup": "2022-06-22",
         "line": {
          "color": "#FF6692",
          "dash": "solid"
         },
         "marker": {
          "symbol": "circle"
         },
         "mode": "lines",
         "name": "2022-06-22",
         "showlegend": true,
         "type": "scattergl",
         "x": [
          "00:00:00",
          "00:15:00",
          "00:30:00",
          "00:45:00",
          "01:00:00",
          "01:15:00",
          "01:30:00",
          "01:45:00",
          "02:00:00",
          "02:15:00",
          "02:30:00",
          "02:45:00",
          "03:00:00",
          "03:15:00",
          "03:30:00",
          "03:45:00",
          "04:00:00",
          "04:15:00",
          "04:30:00",
          "04:45:00",
          "05:00:00",
          "05:15:00",
          "05:30:00",
          "05:45:00",
          "06:00:00",
          "06:15:00",
          "06:30:00",
          "06:45:00",
          "07:00:00",
          "07:15:00",
          "07:30:00",
          "07:45:00",
          "08:00:00",
          "08:15:00",
          "08:30:00",
          "08:45:00",
          "09:00:00",
          "09:15:00",
          "09:30:00",
          "09:45:00",
          "10:00:00",
          "10:15:00",
          "10:30:00",
          "10:45:00",
          "11:00:00",
          "11:15:00",
          "11:30:00",
          "11:45:00",
          "12:00:00",
          "12:15:00",
          "12:30:00",
          "12:45:00",
          "13:00:00",
          "13:15:00",
          "13:30:00",
          "13:45:00",
          "14:00:00",
          "14:15:00",
          "14:30:00",
          "14:45:00",
          "15:00:00",
          "15:15:00",
          "15:30:00",
          "15:45:00",
          "16:00:00",
          "16:15:00",
          "16:30:00",
          "16:45:00",
          "17:00:00",
          "17:15:00",
          "17:30:00",
          "17:45:00",
          "18:00:00",
          "18:15:00",
          "18:30:00",
          "18:45:00",
          "19:00:00",
          "19:15:00",
          "19:30:00",
          "19:45:00",
          "20:00:00",
          "20:15:00",
          "20:30:00",
          "20:45:00",
          "21:00:00",
          "21:15:00",
          "21:30:00",
          "21:45:00",
          "22:00:00",
          "22:15:00",
          "22:30:00",
          "22:45:00",
          "23:00:00",
          "23:15:00",
          "23:30:00",
          "23:45:00"
         ],
         "xaxis": "x",
         "y": {
          "bdata": "IMlP3BcXYEB18QzukGhfQNPr5tztxV5A+yipURiAXkDfVAXfETheQH9b7DTL+11Asa/0Y8HlXUCRmMk5kJ9dQKdDY5HWll1A506WrgRuXUCLEYOjBHBdQOMCdYVsVV1A+RGHgPNcXUD529vY82xdQGNDEgXKhl1AXUs5OM6zXUDPMVVYEw9eQOF2q0fNV15A98DTKa60XkBRuVlLiBtfQMiF3m97MmBA+BGqG2SrYECYBAlqRyphQBzuylrYwmFAACqfal1ZYEB35wMTnFdhQKYxVfh7bmJAzzh7+dJ3Y0BgKB/P6PZkQOAEoSL0N2ZA2x4QPEAWZ0DDnoKtSGxnQErtWwtUdmdA3iL/QW6SZ0AeUhIxc+NmQBrm0CZKVGZA73Qs2lsJaUBqZyt3iDpoQChjJ0qDEWdAXnKHqFGeZUBrqJFkx1lkQCPy7MDG1GJAPLZ9yqiaYUBeowO/1hpgQLtcrajufGJAM3UTocZfYUD0J4I7QkVgQOuICHib9l5AGZ+EyPkpXkBO0hZfVQhdQImVUilDaFxAhm55iR+rXEDGMMXFkW5cQKgE+nFkpltAwrKYAEABXEBTbQ2x6GJcQLFdGrzZqVxAl43xoS8/XUAc9k6ubXleQJ3QdR1hcV9Azm2edrXxWEAy4oDOjPJaQHbmqX+f4VxAEmFiyBq+X0Dva0xylhJcQHwMDF3Bql5AXLn16P3JYEDTvEE9HTRiQKcSSNt5m2NA/M1U76HpZEDh3Rrsw+tlQHF9FR80gWZA63PRRMtMZkD49GhOIlpmQK/hRcw9RWZANMPHDG4nZkDqm076MqJlQKG0AQ1Nb2VA5WjzjRYUZUAGzT7hUvBkQLD7/jO6tmRAeZn+YtZyZECoTH76SDFkQIkCWI/UsGNAheSJXRQRY0CByHihyatiQHSwCjeBMGJA4lSXuPydYUAL+3uPjUxkQBkBkocj+WNAK23tJYNpY0BJ0Wqn2cdiQI2zGbw7FmJAF4tQKsR7YUDzJXW3o/pgQLvWX4ZHc2BA",
          "dtype": "f8"
         },
         "yaxis": "y"
        },
        {
         "hovertemplate": "variable=2022-07-01<br>index=%{x}<br>value=%{y}<extra></extra>",
         "legendgroup": "2022-07-01",
         "line": {
          "color": "#B6E880",
          "dash": "solid"
         },
         "marker": {
          "symbol": "circle"
         },
         "mode": "lines",
         "name": "2022-07-01",
         "showlegend": true,
         "type": "scattergl",
         "x": [
          "00:00:00",
          "00:15:00",
          "00:30:00",
          "00:45:00",
          "01:00:00",
          "01:15:00",
          "01:30:00",
          "01:45:00",
          "02:00:00",
          "02:15:00",
          "02:30:00",
          "02:45:00",
          "03:00:00",
          "03:15:00",
          "03:30:00",
          "03:45:00",
          "04:00:00",
          "04:15:00",
          "04:30:00",
          "04:45:00",
          "05:00:00",
          "05:15:00",
          "05:30:00",
          "05:45:00",
          "06:00:00",
          "06:15:00",
          "06:30:00",
          "06:45:00",
          "07:00:00",
          "07:15:00",
          "07:30:00",
          "07:45:00",
          "08:00:00",
          "08:15:00",
          "08:30:00",
          "08:45:00",
          "09:00:00",
          "09:15:00",
          "09:30:00",
          "09:45:00",
          "10:00:00",
          "10:15:00",
          "10:30:00",
          "10:45:00",
          "11:00:00",
          "11:15:00",
          "11:30:00",
          "11:45:00",
          "12:00:00",
          "12:15:00",
          "12:30:00",
          "12:45:00",
          "13:00:00",
          "13:15:00",
          "13:30:00",
          "13:45:00",
          "14:00:00",
          "14:15:00",
          "14:30:00",
          "14:45:00",
          "15:00:00",
          "15:15:00",
          "15:30:00",
          "15:45:00",
          "16:00:00",
          "16:15:00",
          "16:30:00",
          "16:45:00",
          "17:00:00",
          "17:15:00",
          "17:30:00",
          "17:45:00",
          "18:00:00",
          "18:15:00",
          "18:30:00",
          "18:45:00",
          "19:00:00",
          "19:15:00",
          "19:30:00",
          "19:45:00",
          "20:00:00",
          "20:15:00",
          "20:30:00",
          "20:45:00",
          "21:00:00",
          "21:15:00",
          "21:30:00",
          "21:45:00",
          "22:00:00",
          "22:15:00",
          "22:30:00",
          "22:45:00",
          "23:00:00",
          "23:15:00",
          "23:30:00",
          "23:45:00"
         ],
         "xaxis": "x",
         "y": {
          "bdata": "qq6GDmMzYEBLcbqhGMBfQEeCXc0ZOV9AjSnpL6jRXkCmwyYaY2deQPnb8s1dEV5Ahr2OE9uuXUBUB0axj2FdQN84xx4fWl1AtvHwn6cmXUDpfFRXtAJdQLGvFn1n5FxAgDDvgPUFXUBSgp6EYOdcQIZHi98Z21xA7HJhRr35XEAW+4DX8HFdQIp81Tl8pl1AeUooOW/+XUDKJqV6xTJeQHvo3sq/RV9AyLKOWHIUYEALKJ95X4FgQAgBcCcMC2FAPrlKH1LLXkBrBbfQMyVgQPOD9aoQC2FAuOgWENn7YUAckshwdUdjQC9EmioBXGRASnWFGXZGZUB037L81uZlQNivNJnGd2ZAF5OoxlPbZkBJPpDaXrNmQFQ7udjkSGZAwtnD/IMPaUCpf9Ses6toQL3a2X3zImhAJAKwClhkZ0C6QXqRGp5mQPmVsQuW8WVA3L1QR1AeZUAaNIecgSdkQBYZYLHAMWdA3lqtH68vZkAcIlb40kdlQMwueM8Qo2RAzr1zBHUZZECAXnJNT7FjQB5ByNzecmNAvkFR9rQlY0Bxj6WpqFJjQHcDKey3dGNAkh1jALyLY0AAXvb28K5jQL8tU8aQ7WNAZ+AXWg9EZEDRJPv5m5hkQE2fQ3878WRAssak2HZQYUApedPVe/RhQFptcBouxGJAtkohPp6rY0D/zBF1f3lhQBUjKN6dnWJAO4HTi8rHY0BE1SFate1kQLUndv3RAWZA58cYussEZ0D1U72xqWdnQMkyMLEww2dAP7zF4OJIZ0AyQDbLWitnQMtD/1QI7GZAWCk/lNK2ZkD0/Eu5TjBmQPxsxKd732VAsXE+Of+hZUALK1kZSFxlQHY0vnZ5HWVARdkRI5DKZEB/AMPZuW9kQFWspL5kI2RAUW6UwKm3Y0AhW6Jn1TdjQEJ4ziEsvGJAr7r9OV8/YkAvfS/Qax1lQKVUY6S14GRAR/c+N51pZEB9NmB/JOJjQDvTRGdmI2NAUTSgSpqcYkD9Qw1CRvxhQHGXmX3pkWFA",
          "dtype": "f8"
         },
         "yaxis": "y"
        },
        {
         "hovertemplate": "variable=2022-06-08<br>index=%{x}<br>value=%{y}<extra></extra>",
         "legendgroup": "2022-06-08",
         "line": {
          "color": "#FF97FF",
          "dash": "solid"
         },
         "marker": {
          "symbol": "circle"
         },
         "mode": "lines",
         "name": "2022-06-08",
         "showlegend": true,
         "type": "scattergl",
         "x": [
          "00:00:00",
          "00:15:00",
          "00:30:00",
          "00:45:00",
          "01:00:00",
          "01:15:00",
          "01:30:00",
          "01:45:00",
          "02:00:00",
          "02:15:00",
          "02:30:00",
          "02:45:00",
          "03:00:00",
          "03:15:00",
          "03:30:00",
          "03:45:00",
          "04:00:00",
          "04:15:00",
          "04:30:00",
          "04:45:00",
          "05:00:00",
          "05:15:00",
          "05:30:00",
          "05:45:00",
          "06:00:00",
          "06:15:00",
          "06:30:00",
          "06:45:00",
          "07:00:00",
          "07:15:00",
          "07:30:00",
          "07:45:00",
          "08:00:00",
          "08:15:00",
          "08:30:00",
          "08:45:00",
          "09:00:00",
          "09:15:00",
          "09:30:00",
          "09:45:00",
          "10:00:00",
          "10:15:00",
          "10:30:00",
          "10:45:00",
          "11:00:00",
          "11:15:00",
          "11:30:00",
          "11:45:00",
          "12:00:00",
          "12:15:00",
          "12:30:00",
          "12:45:00",
          "13:00:00",
          "13:15:00",
          "13:30:00",
          "13:45:00",
          "14:00:00",
          "14:15:00",
          "14:30:00",
          "14:45:00",
          "15:00:00",
          "15:15:00",
          "15:30:00",
          "15:45:00",
          "16:00:00",
          "16:15:00",
          "16:30:00",
          "16:45:00",
          "17:00:00",
          "17:15:00",
          "17:30:00",
          "17:45:00",
          "18:00:00",
          "18:15:00",
          "18:30:00",
          "18:45:00",
          "19:00:00",
          "19:15:00",
          "19:30:00",
          "19:45:00",
          "20:00:00",
          "20:15:00",
          "20:30:00",
          "20:45:00",
          "21:00:00",
          "21:15:00",
          "21:30:00",
          "21:45:00",
          "22:00:00",
          "22:15:00",
          "22:30:00",
          "22:45:00",
          "23:00:00",
          "23:15:00",
          "23:30:00",
          "23:45:00"
         ],
         "xaxis": "x",
         "y": {
          "bdata": "zCR086r0YEAqsNzb/o1gQE6Yqa/kMWBAacVpRNCwX0BD/FL/WE1fQC3dgDXW/15Al/BK6mCUXkBF50UJxlheQCHPB6TZMV5AP7lTK0IlXkCznvhzwxJeQBO7K3Jc7V1AlyLKcnwcXkCTltjpeAheQPv88gmi+l1AO8YYuPMLXkC9Sw0zl4ZeQLV9UTjstF5AVdwdM0UMX0C/kALM5XxfQHDknX1iY2BAAAH26J7VYECebHtwMl9hQLraAczzA2JAFLCRdJW+YEAtCn42RJ9hQAkVvdrwt2JA9HEB+S/NY0Dtt4hOG0RlQKQ7mH+klGZAPbzDAh9hZ0DD58PORbBnQPyyuxIl4WdAaiQfc+meZ0DjU8tZpfZmQBh9OWt8YmZAeMJlbqstaUAk01U7vaxoQFgQhduDxmdA9w3GUy3nZkCtzkJKWthmQBUKSnrTw2ZAWAFzZCrtZUBJloiFJx1lQGrouzeIg2hAIqGOJjpeZ0AIolfojwJnQGeis20yCmdAbT5J5FrmZkAaZI6fj6FmQJSJGihqfWZAfp58SrSnZkByErGI+ihnQI+3NVT4ZmZAbJxXHUNYZkDjNcelNehmQDosu0XDdWdAzIgzkinQZ0DuNkFFsPZnQIeGKanxH2hAZxOdfEh4ZEBIIrhwWLJkQFq8lTO4cGVAq96uz4gWZkBGlNXcvsljQKpzvyzlnmRA7DLWhnaFZUCX4GtEMVZmQM8PUaijFWdATDntbXcjaEAXPXf1ao5oQMBX/w4SCWlA0EeAihvMaEBxaA5mZbRoQK1epY6nnmhAixkAcRdkaEB+LlGoOe5nQCUjGLlmz2dAH8vBKpZ2Z0AgLh9fFTNnQNb33SKHBWdAAGWl78KFZkB4uHh/HzJmQPxGDPBaymVA8W9MNiVGZUDtFQ8uZMVkQLdxr4u0LWRAW9zabYyXY0CDbdLqI0pmQEM7M3xn3WVAm02pKTE3ZUClem7uMFNkQF9U2Lh5jmNAhYPYsDXfYkBfKSY+pjtiQFu6wQbHrWFA",
          "dtype": "f8"
         },
         "yaxis": "y"
        },
        {
         "hovertemplate": "variable=2022-07-15<br>index=%{x}<br>value=%{y}<extra></extra>",
         "legendgroup": "2022-07-15",
         "line": {
          "color": "#FECB52",
          "dash": "solid"
         },
         "marker": {
          "symbol": "circle"
         },
         "mode": "lines",
         "name": "2022-07-15",
         "showlegend": true,
         "type": "scattergl",
         "x": [
          "00:00:00",
          "00:15:00",
          "00:30:00",
          "00:45:00",
          "01:00:00",
          "01:15:00",
          "01:30:00",
          "01:45:00",
          "02:00:00",
          "02:15:00",
          "02:30:00",
          "02:45:00",
          "03:00:00",
          "03:15:00",
          "03:30:00",
          "03:45:00",
          "04:00:00",
          "04:15:00",
          "04:30:00",
          "04:45:00",
          "05:00:00",
          "05:15:00",
          "05:30:00",
          "05:45:00",
          "06:00:00",
          "06:15:00",
          "06:30:00",
          "06:45:00",
          "07:00:00",
          "07:15:00",
          "07:30:00",
          "07:45:00",
          "08:00:00",
          "08:15:00",
          "08:30:00",
          "08:45:00",
          "09:00:00",
          "09:15:00",
          "09:30:00",
          "09:45:00",
          "10:00:00",
          "10:15:00",
          "10:30:00",
          "10:45:00",
          "11:00:00",
          "11:15:00",
          "11:30:00",
          "11:45:00",
          "12:00:00",
          "12:15:00",
          "12:30:00",
          "12:45:00",
          "13:00:00",
          "13:15:00",
          "13:30:00",
          "13:45:00",
          "14:00:00",
          "14:15:00",
          "14:30:00",
          "14:45:00",
          "15:00:00",
          "15:15:00",
          "15:30:00",
          "15:45:00",
          "16:00:00",
          "16:15:00",
          "16:30:00",
          "16:45:00",
          "17:00:00",
          "17:15:00",
          "17:30:00",
          "17:45:00",
          "18:00:00",
          "18:15:00",
          "18:30:00",
          "18:45:00",
          "19:00:00",
          "19:15:00",
          "19:30:00",
          "19:45:00",
          "20:00:00",
          "20:15:00",
          "20:30:00",
          "20:45:00",
          "21:00:00",
          "21:15:00",
          "21:30:00",
          "21:45:00",
          "22:00:00",
          "22:15:00",
          "22:30:00",
          "22:45:00",
          "23:00:00",
          "23:15:00",
          "23:30:00",
          "23:45:00"
         ],
         "xaxis": "x",
         "y": {
          "bdata": "DB+DCw4FYUCEjJ3xzLRgQKqawuX3bmBACZlv79YxYEBf1LJ87glgQI7z/q4wtF9ACvT+ib9sX0ASLcnnGChfQFxlyCXwH19A228inKQVX0BArBtvIPxeQMFnF0WNCF9A9z4rb7oMX0AKzKzs4hlfQNgM7HnMMF9A30EqewVYX0CiFxzI1eFfQD81mBVxCWBARagKReFKYECM0nUjk3ZgQPiI1pLqDmFAygwfbyeIYUBSlxPh//1hQNDtrP1kkmJArQouNVr0YEBkAJepZLZhQLkopVGcw2JAufSIbM2cY0C7EGPEL+1kQEsELY9yD2ZACKZxEFbiZkCZlcjVb5BnQBRaMzNC02dAdY9vb7CuZ0BxWBav6GtnQD51YDf05GZAs7Gh5SF4aUBfJnvTTcxoQIut9Ht/v2dA8k/89SXeZkClUCxqNSVmQP+t6e9KLWVAvUJygjjvY0Dg98n+e3xiQOyrsyndbGVAGEK9V0goZEA/W2uN/H9iQNGD1Fe1A2FAcoUVf+TxX0BcYK25JP5dQAr9iAPMmFtAXhFxwjTJWUA4YsVpuk9ZQGRsQFUyRFlAojWcQ4Y6WUA2NnC/FrVZQOiXT7aNS1pAtsHIUGv3WkDg7PBY/u9bQKJXnhOHUl1AwEwW0hfQVkBHYUwh8K9YQGDxChKDzFpABkxtLLtaXUCj/+gjLNRZQGbv5FNJ1lxA+8rCAeT9X0AHaV8KD7RhQPUuFdszJmNAYElVagalZECYS0SmpeBlQOrBL3B6qGZAqr/mBP1xZkCd7lzFqXtmQHeUKjMveGZAwuF0eolBZkDAxzM7f/JlQIjolOzZumVA+4iwXcKIZUC/+ZkV2HxlQKNdTidQQGVArlvjkmQeZUDsn25QkgBlQAffvqIcxWRAABj1V6pXZEB41iVi3OFjQK5ClAycd2NAfyS7MMQyY0CXSbTC8PdlQFtAp6vWsWVA5863GYgLZUD11FbctnlkQL9Hx4HzymNA/8MCQKhKY0DfgRFbKrpiQOWuKtq9P2JA",
          "dtype": "f8"
         },
         "yaxis": "y"
        },
        {
         "hovertemplate": "variable=2022-06-14<br>index=%{x}<br>value=%{y}<extra></extra>",
         "legendgroup": "2022-06-14",
         "line": {
          "color": "#636efa",
          "dash": "solid"
         },
         "marker": {
          "symbol": "circle"
         },
         "mode": "lines",
         "name": "2022-06-14",
         "showlegend": true,
         "type": "scattergl",
         "x": [
          "00:00:00",
          "00:15:00",
          "00:30:00",
          "00:45:00",
          "01:00:00",
          "01:15:00",
          "01:30:00",
          "01:45:00",
          "02:00:00",
          "02:15:00",
          "02:30:00",
          "02:45:00",
          "03:00:00",
          "03:15:00",
          "03:30:00",
          "03:45:00",
          "04:00:00",
          "04:15:00",
          "04:30:00",
          "04:45:00",
          "05:00:00",
          "05:15:00",
          "05:30:00",
          "05:45:00",
          "06:00:00",
          "06:15:00",
          "06:30:00",
          "06:45:00",
          "07:00:00",
          "07:15:00",
          "07:30:00",
          "07:45:00",
          "08:00:00",
          "08:15:00",
          "08:30:00",
          "08:45:00",
          "09:00:00",
          "09:15:00",
          "09:30:00",
          "09:45:00",
          "10:00:00",
          "10:15:00",
          "10:30:00",
          "10:45:00",
          "11:00:00",
          "11:15:00",
          "11:30:00",
          "11:45:00",
          "12:00:00",
          "12:15:00",
          "12:30:00",
          "12:45:00",
          "13:00:00",
          "13:15:00",
          "13:30:00",
          "13:45:00",
          "14:00:00",
          "14:15:00",
          "14:30:00",
          "14:45:00",
          "15:00:00",
          "15:15:00",
          "15:30:00",
          "15:45:00",
          "16:00:00",
          "16:15:00",
          "16:30:00",
          "16:45:00",
          "17:00:00",
          "17:15:00",
          "17:30:00",
          "17:45:00",
          "18:00:00",
          "18:15:00",
          "18:30:00",
          "18:45:00",
          "19:00:00",
          "19:15:00",
          "19:30:00",
          "19:45:00",
          "20:00:00",
          "20:15:00",
          "20:30:00",
          "20:45:00",
          "21:00:00",
          "21:15:00",
          "21:30:00",
          "21:45:00",
          "22:00:00",
          "22:15:00",
          "22:30:00",
          "22:45:00",
          "23:00:00",
          "23:15:00",
          "23:30:00",
          "23:45:00"
         ],
         "xaxis": "x",
         "y": {
          "bdata": "UMltR3SDYECu8JJwwRtgQBmLgDZRl19Apyq3nO0lX0CZP4bVNateQDlmEWibUV5Amz77AFwcXkBJqX3VothdQK1NGbtTt11A9xT4qo+RXUCFYQqItktdQBdEsO0xOl1At7jkD+Y2XUArtY82ADxdQMegnpVGJ11AV1QntbM+XUAfCrkJFKddQOVIgCVS0l1AUaEhY8oYXkBVeFoFyYReQO+90kUasF9AGrGBUpBIYEDeDZiKvsJgQAKCDDaUa2FAV8o51VzlX0CtcMHi/MhgQOOmVCfUzGFAJ2CH5+TSYkCGOiNkQR5kQE31oROaVmVAzEsaqi9OZkAziP1Bau1mQMtEqmFUpGdAzwcVH6XOZ0DU39uM+ohnQB2/sIjvCmdA38ESGZPUaUD2G7UZDWhpQCQTNPnUZmhAkYpoqObIZ0DSoniAEpRnQMB/whE44GZAkKeBSRWgZkAeIb7C3CFmQGGQ+O80WmlAGmunSFT3aEAtPyGxlBNpQF8Hqjvm0GhAEX/ZOZCNZ0CxwopFboplQDgyhpn+NmVAPSRlCmEBZUCwT+MTFdVkQHX+PnUTfmRAcgHdAG+mZED5ZpZIFTFkQH+jkrkZHWRAQujSQoE6ZEBZCQ3SzwBlQKsTu2VVV2VAl4CdyhzoYUDmMK2KoeViQFQgY4JKD2RAS0buvm7RZECq2S+bZlJiQK8eBPrXL2NAH9k43VKmZEBQ7B/zINdlQHNkA3HxDWdAKDOdwgF/aEClRgZ+YTppQHu75lUL02lAHSH18T+VaUAhzvAesXlpQHCsRh3xgmlAb2/XQ/BNaUCYF10zjbJoQKhA+R1mjmhAXzJ30B1MaEC/QSrMLgNoQKC81gg0s2dAzPSMw4BuZ0BYhz30FEJnQBaWXIR2mGZATeOGj4LrZUBitDP3VVxlQOsnkFIwvGRA0kKZSKclZEA/i1jm7rdmQBMyZoxzNGZAK7sqvGhzZUC5Ila0scNkQG+ri7k6AWRAZcpHOmhSY0C5Gmmq2axiQJMG4HuOMmJA",
          "dtype": "f8"
         },
         "yaxis": "y"
        },
        {
         "hovertemplate": "variable=2022-06-03<br>index=%{x}<br>value=%{y}<extra></extra>",
         "legendgroup": "2022-06-03",
         "line": {
          "color": "#EF553B",
          "dash": "solid"
         },
         "marker": {
          "symbol": "circle"
         },
         "mode": "lines",
         "name": "2022-06-03",
         "showlegend": true,
         "type": "scattergl",
         "x": [
          "00:00:00",
          "00:15:00",
          "00:30:00",
          "00:45:00",
          "01:00:00",
          "01:15:00",
          "01:30:00",
          "01:45:00",
          "02:00:00",
          "02:15:00",
          "02:30:00",
          "02:45:00",
          "03:00:00",
          "03:15:00",
          "03:30:00",
          "03:45:00",
          "04:00:00",
          "04:15:00",
          "04:30:00",
          "04:45:00",
          "05:00:00",
          "05:15:00",
          "05:30:00",
          "05:45:00",
          "06:00:00",
          "06:15:00",
          "06:30:00",
          "06:45:00",
          "07:00:00",
          "07:15:00",
          "07:30:00",
          "07:45:00",
          "08:00:00",
          "08:15:00",
          "08:30:00",
          "08:45:00",
          "09:00:00",
          "09:15:00",
          "09:30:00",
          "09:45:00",
          "10:00:00",
          "10:15:00",
          "10:30:00",
          "10:45:00",
          "11:00:00",
          "11:15:00",
          "11:30:00",
          "11:45:00",
          "12:00:00",
          "12:15:00",
          "12:30:00",
          "12:45:00",
          "13:00:00",
          "13:15:00",
          "13:30:00",
          "13:45:00",
          "14:00:00",
          "14:15:00",
          "14:30:00",
          "14:45:00",
          "15:00:00",
          "15:15:00",
          "15:30:00",
          "15:45:00",
          "16:00:00",
          "16:15:00",
          "16:30:00",
          "16:45:00",
          "17:00:00",
          "17:15:00",
          "17:30:00",
          "17:45:00",
          "18:00:00",
          "18:15:00",
          "18:30:00",
          "18:45:00",
          "19:00:00",
          "19:15:00",
          "19:30:00",
          "19:45:00",
          "20:00:00",
          "20:15:00",
          "20:30:00",
          "20:45:00",
          "21:00:00",
          "21:15:00",
          "21:30:00",
          "21:45:00",
          "22:00:00",
          "22:15:00",
          "22:30:00",
          "22:45:00",
          "23:00:00",
          "23:15:00",
          "23:30:00",
          "23:45:00"
         ],
         "xaxis": "x",
         "y": {
          "bdata": "JiLMTjcDYUCw7/vE6ZFgQJRme3sxQGBAeg1ALMcXYED3o3WmgahfQCfUI6LOaF9Ah4/zmjElX0D3ERijm/JeQCtR37Mu5F5AnxXLn2a4XkAf14MsQrpeQElWmJ/Xgl5A76c8iUCbXkAFL5W9X5BeQL/8yZZCel5A19f5g0KLXkBnwRaYHv5eQOnP8ZOTLF9An9B6MUFwX0DPb9z5HNFfQIAAs/q+fmBAaskaMAn1YEDmLApranlhQKYtZzwM/WFAU3YypOF+YEADT5FLs1JhQB/CWu96WmJA67jHRjNZY0BAXHiZH7dkQP8f8R2d7mVAHVgg8KnDZkA9O3k63kpnQEdz63Bo+mdA7Q5VKzAtaECT98y3n/ZnQDMwcIVgL2dAEplBz4jYaUBJ7VMQSzdpQKYiP0ZuFmhA8mMX6XHAZkAQIMXrXQlmQNQcNN/D42RAzumyR1AmZEBHngV9k6hiQDs+cokAWWVAKX2eboo9ZEArdPjHNwFkQHjQZes2BWRAOcHY7bWOY0Ch5cHcdutiQPvIYGAhlWNAT1kap9lQZEAHep654iBlQM/js1Gt5WVAKN9BP6H1ZkBkQUXxnjNoQP2pzaIllmhAyCjxQB3HaEBnybdrcfVnQHSWDMiRcGhAxyjZETqsZUAVo5f7FSxmQKDWVCKaGmZAbQuYaZQPZkAGCpykEf5iQMbZGw65XmNA16lKJ8aPZEC+193nDYRlQDXmZth3Q2ZAWe2bwAMkZ0DfKJq6p4NnQHY0rcPg52dAkgqVx2FFZ0BLuTPoZ/ZmQCoITEgz2GZATmZSKBGJZkCAi6WinwhmQNNWlQ79p2VAj6kLQxhuZUClXBaoXCZlQF6/Zz+46WRA7lb8dLp8ZECdAaL7/TVkQBuZe+h31WNA7Lk8b8xlY0Ch0nkvveViQC9jJbabN2JANm3X3GnTYUBRcYv72pZkQIuZV2LuamRAH4GY9Vr2Y0DBBgqojGhjQCtEz4A702JAbQTtGvQbYkA74I2Z2aRhQKcsAw2rK2FA",
          "dtype": "f8"
         },
         "yaxis": "y"
        },
        {
         "hovertemplate": "variable=2022-06-28<br>index=%{x}<br>value=%{y}<extra></extra>",
         "legendgroup": "2022-06-28",
         "line": {
          "color": "#00cc96",
          "dash": "solid"
         },
         "marker": {
          "symbol": "circle"
         },
         "mode": "lines",
         "name": "2022-06-28",
         "showlegend": true,
         "type": "scattergl",
         "x": [
          "00:00:00",
          "00:15:00",
          "00:30:00",
          "00:45:00",
          "01:00:00",
          "01:15:00",
          "01:30:00",
          "01:45:00",
          "02:00:00",
          "02:15:00",
          "02:30:00",
          "02:45:00",
          "03:00:00",
          "03:15:00",
          "03:30:00",
          "03:45:00",
          "04:00:00",
          "04:15:00",
          "04:30:00",
          "04:45:00",
          "05:00:00",
          "05:15:00",
          "05:30:00",
          "05:45:00",
          "06:00:00",
          "06:15:00",
          "06:30:00",
          "06:45:00",
          "07:00:00",
          "07:15:00",
          "07:30:00",
          "07:45:00",
          "08:00:00",
          "08:15:00",
          "08:30:00",
          "08:45:00",
          "09:00:00",
          "09:15:00",
          "09:30:00",
          "09:45:00",
          "10:00:00",
          "10:15:00",
          "10:30:00",
          "10:45:00",
          "11:00:00",
          "11:15:00",
          "11:30:00",
          "11:45:00",
          "12:00:00",
          "12:15:00",
          "12:30:00",
          "12:45:00",
          "13:00:00",
          "13:15:00",
          "13:30:00",
          "13:45:00",
          "14:00:00",
          "14:15:00",
          "14:30:00",
          "14:45:00",
          "15:00:00",
          "15:15:00",
          "15:30:00",
          "15:45:00",
          "16:00:00",
          "16:15:00",
          "16:30:00",
          "16:45:00",
          "17:00:00",
          "17:15:00",
          "17:30:00",
          "17:45:00",
          "18:00:00",
          "18:15:00",
          "18:30:00",
          "18:45:00",
          "19:00:00",
          "19:15:00",
          "19:30:00",
          "19:45:00",
          "20:00:00",
          "20:15:00",
          "20:30:00",
          "20:45:00",
          "21:00:00",
          "21:15:00",
          "21:30:00",
          "21:45:00",
          "22:00:00",
          "22:15:00",
          "22:30:00",
          "22:45:00",
          "23:00:00",
          "23:15:00",
          "23:30:00",
          "23:45:00"
         ],
         "xaxis": "x",
         "y": {
          "bdata": "ZLutO/iBYEAemTEcFkNgQBd9E3tY+F9AUXqW4O9wX0CpD8DjkhlfQBXvAOC+xV5A1XiY0aZ9XkCnPEA7SkZeQAe2uYPIQV5AC11cejIjXkBxmX6atw5eQCPG6n9aBF5A1X4HTDQqXkDhBhJT3SxeQI10LZYpRF5Agd0z7nBnXkDLKK0Fj9NeQIeYM4mYGV9ApT3gCUd5X0AT733OcatfQBgI27bugGBAarBAGaIEYUAYd5AWfKphQHIJMAM9VmJAVg9TA8/rYECnkzglgNhhQCaYxw4u52JAuYIq4OMbZEDSZ9YKQWZlQNOVIJO42WZA+xTDtr7mZ0AwoVyLm2hoQJQFmyG+nGhAIOxKZfmXaEALhZbANcBnQNASfZ1PVmdApdV9q0PdaUArbfazenZpQFkh4RpEtWhA16YYVgCZZ0ALNnQVv/BmQDGqKQg/h2VA8xHaijDjY0AwjPw82aZiQMBCthsmi2VAqkMyVTJBZkBJpGvYyDZnQP57wnSl0mZAHrWClMgTZUAYt5sxN1lkQOevOxmmEWRAwJpMchU0ZEDIDQ26AM5kQHL94pRRrGNAD3oR9YsYZEBbjzOTA31lQMS4srP/OmZAtYnt0TGXZkAmaonhJTZmQHkLbyIqmGZAE4Wuqs9eY0D0wKybTXljQLIkhT09bWRAtsJDbiNdZUCUeg59v3tiQMMJw5Xk5WJAMqMYugLaY0BOe4WvGpZkQC8Gw+jZD2VAXMq2RcVBZkAqXJpOGzBnQJZ7IoFp5GdACAXL70DPZ0DobI0R4sZnQN84Ko1iwGdAs39fu/DCZ0C35T16WWRnQGQF4anyNGdAn2JE94kMZ0CCkzpw6dhmQJx3S2Zxh2ZAt9X7kUljZkCTgyABtvVlQJCGj5yQqmVAcktrZxH9ZECNClnQ/INkQPQIDpNO4WNAN7VlctlMY0DLTRtvy+1lQBFCYvAEfGVAy7tUOMvZZEBXna0x4lhkQLVd+/5ti2NAyxNUSdPlYkAByeDWckRiQKv+/s7A52FA",
          "dtype": "f8"
         },
         "yaxis": "y"
        },
        {
         "hovertemplate": "variable=2022-06-15<br>index=%{x}<br>value=%{y}<extra></extra>",
         "legendgroup": "2022-06-15",
         "line": {
          "color": "#ab63fa",
          "dash": "solid"
         },
         "marker": {
          "symbol": "circle"
         },
         "mode": "lines",
         "name": "2022-06-15",
         "showlegend": true,
         "type": "scattergl",
         "x": [
          "00:00:00",
          "00:15:00",
          "00:30:00",
          "00:45:00",
          "01:00:00",
          "01:15:00",
          "01:30:00",
          "01:45:00",
          "02:00:00",
          "02:15:00",
          "02:30:00",
          "02:45:00",
          "03:00:00",
          "03:15:00",
          "03:30:00",
          "03:45:00",
          "04:00:00",
          "04:15:00",
          "04:30:00",
          "04:45:00",
          "05:00:00",
          "05:15:00",
          "05:30:00",
          "05:45:00",
          "06:00:00",
          "06:15:00",
          "06:30:00",
          "06:45:00",
          "07:00:00",
          "07:15:00",
          "07:30:00",
          "07:45:00",
          "08:00:00",
          "08:15:00",
          "08:30:00",
          "08:45:00",
          "09:00:00",
          "09:15:00",
          "09:30:00",
          "09:45:00",
          "10:00:00",
          "10:15:00",
          "10:30:00",
          "10:45:00",
          "11:00:00",
          "11:15:00",
          "11:30:00",
          "11:45:00",
          "12:00:00",
          "12:15:00",
          "12:30:00",
          "12:45:00",
          "13:00:00",
          "13:15:00",
          "13:30:00",
          "13:45:00",
          "14:00:00",
          "14:15:00",
          "14:30:00",
          "14:45:00",
          "15:00:00",
          "15:15:00",
          "15:30:00",
          "15:45:00",
          "16:00:00",
          "16:15:00",
          "16:30:00",
          "16:45:00",
          "17:00:00",
          "17:15:00",
          "17:30:00",
          "17:45:00",
          "18:00:00",
          "18:15:00",
          "18:30:00",
          "18:45:00",
          "19:00:00",
          "19:15:00",
          "19:30:00",
          "19:45:00",
          "20:00:00",
          "20:15:00",
          "20:30:00",
          "20:45:00",
          "21:00:00",
          "21:15:00",
          "21:30:00",
          "21:45:00",
          "22:00:00",
          "22:15:00",
          "22:30:00",
          "22:45:00",
          "23:00:00",
          "23:15:00",
          "23:30:00",
          "23:45:00"
         ],
         "xaxis": "x",
         "y": {
          "bdata": "+Dofg0VrYUD8LxRTaQZhQJ64cap0tWBAHH834Bh3YEAKaZWDvVBgQMxycE3xM2BAqsbpmoEMYEAphVCNc65fQPdPtkExrl9ACy1lqn2mX0CfsDpGYWdfQN2UcVOIUV9AU0rVnv5lX0DbdBbNXWpfQDPiyKyEZF9Az591FzaLX0ApKvEzCPNfQGRNA0o2F2BAJD0zieUwYEB+HXizv1VgQIKx+sxQCWFA/gvOsNJ2YUC+EUZTRw1iQNSDdciiqmJAOn1g785KYUDw96XdXTViQJ7+245bcmNAeRb0qQOLZEAw3uCWWvNlQKYSK36sVmdAnjuyvixfaEApWOY0PfloQKQawkm6EWlA70Wgj7HXaEDDpmYVlq1nQJ3Uz6ZsIWdA+opc/5jkaUC4J/i9q1NpQF+Nz8jiZGhACXyqgNvmZkBlPlqSk+hmQOwOtFMvg2VAAiQCjOgXZECWYOCZjFVkQG6IMpT7sWdAH8U8I8tUZ0Cdm5CRKnxnQDxoTNKh62ZAdfn4VnyQZkCFtYZ+9UdmQHJscR6NnmZAOe2Q2xsjZkAiiYDFVXBlQLnEyvRCcWRA8JgQKnTPY0Ba50PWGvhjQP2LbgUfsWZA/k+etb18ZEA7NQ1RiqtiQPQei0tECmJAvcVPNeYxXUDKPDQ8FIlfQIMMx/e9K2FAP1+AkdnrYkB3TZeUu0ZhQEBcubhLqmJA1epBudHEY0A872C1GHtlQH8w20cfJmZA0Ry6zpQeZ0DQgbnIEo1nQEeWoza8xGdA33ivJvqEZ0AS4sLS14FnQAOR85ZhbmdAAtqn18gyZ0DDmpRAJcBmQOP2TVuLXGZAz1c4yMYGZkDsnIGEB8tlQIOhpPkEeGVANE8hqBgmZUDt0hjpWg1lQNSCHBcby2RALXDDdxRCZEB30h9ceZljQBKrbMcP0WJAH4ujvKImYkAb21CEneNkQNFGLBRel2RA/579Hw/UY0DhUnqBpkFjQDdrmHUHd2JAq8fneaXzYUAvMmpavWphQMGTnFQsymBA",
          "dtype": "f8"
         },
         "yaxis": "y"
        },
        {
         "hovertemplate": "variable=2022-06-07<br>index=%{x}<br>value=%{y}<extra></extra>",
         "legendgroup": "2022-06-07",
         "line": {
          "color": "#FFA15A",
          "dash": "solid"
         },
         "marker": {
          "symbol": "circle"
         },
         "mode": "lines",
         "name": "2022-06-07",
         "showlegend": true,
         "type": "scattergl",
         "x": [
          "00:00:00",
          "00:15:00",
          "00:30:00",
          "00:45:00",
          "01:00:00",
          "01:15:00",
          "01:30:00",
          "01:45:00",
          "02:00:00",
          "02:15:00",
          "02:30:00",
          "02:45:00",
          "03:00:00",
          "03:15:00",
          "03:30:00",
          "03:45:00",
          "04:00:00",
          "04:15:00",
          "04:30:00",
          "04:45:00",
          "05:00:00",
          "05:15:00",
          "05:30:00",
          "05:45:00",
          "06:00:00",
          "06:15:00",
          "06:30:00",
          "06:45:00",
          "07:00:00",
          "07:15:00",
          "07:30:00",
          "07:45:00",
          "08:00:00",
          "08:15:00",
          "08:30:00",
          "08:45:00",
          "09:00:00",
          "09:15:00",
          "09:30:00",
          "09:45:00",
          "10:00:00",
          "10:15:00",
          "10:30:00",
          "10:45:00",
          "11:00:00",
          "11:15:00",
          "11:30:00",
          "11:45:00",
          "12:00:00",
          "12:15:00",
          "12:30:00",
          "12:45:00",
          "13:00:00",
          "13:15:00",
          "13:30:00",
          "13:45:00",
          "14:00:00",
          "14:15:00",
          "14:30:00",
          "14:45:00",
          "15:00:00",
          "15:15:00",
          "15:30:00",
          "15:45:00",
          "16:00:00",
          "16:15:00",
          "16:30:00",
          "16:45:00",
          "17:00:00",
          "17:15:00",
          "17:30:00",
          "17:45:00",
          "18:00:00",
          "18:15:00",
          "18:30:00",
          "18:45:00",
          "19:00:00",
          "19:15:00",
          "19:30:00",
          "19:45:00",
          "20:00:00",
          "20:15:00",
          "20:30:00",
          "20:45:00",
          "21:00:00",
          "21:15:00",
          "21:30:00",
          "21:45:00",
          "22:00:00",
          "22:15:00",
          "22:30:00",
          "22:45:00",
          "23:00:00",
          "23:15:00",
          "23:30:00",
          "23:45:00"
         ],
         "xaxis": "x",
         "y": {
          "bdata": "vAYJCqJVYEDqC3s+WgpgQD0fh1XPbl9ASet+97LeXkDTJ9Az4XdeQL0bi0MTKl5At/DnFFbPXUAjbklUB4RdQMtK9Ktqi11AhfUwHNhdXUC57ruWD0NdQKUQL0SXPV1A68n0M31WXUBJeAM4xkZdQO1DeoHHN11AqwmWNTVUXUBhYytBRrddQK1QKW/rxV1Av7bNxQISXkBbjh1DYV5eQNk02g4Rml9AbM8L5o4+YEDg79k8pcJgQDD10381VmFAvz4zD3S1X0CMmdssZLFgQJWFnjZKx2FAnexFTinZYkChLlyIykdkQF6yj+KYjWVA/0G57Qh1ZkD219EOl+ZmQNTMytmgUGdA/2tRmGRUZ0AA2tLg97hmQCwtx1mx2GVAnBomiOv4aECOZ16MM+xoQELQtc8KQWhAncKKyOTDZkAsbUaEdD1lQLj513WZc2RA30BVbQO/Y0AhpPm37JJiQKHE1Fy6U2VAnjK8I3V4ZEAf6vcq0nNjQOsfsZD8smNABttaya2lY0Ctm/TSHnBjQCn5xLza9WNAapoMovV8ZEAKDSLuv7dkQC673t3R8GRAQVmCz3wIZUBp0O8b9RVlQEUrA6D0ymRAenWbTV6FZUBoGqbEwSlmQIBoOH0Zj2ZArzCoMqtKY0BrMdVtYGdlQB6K5tN+52VArlv1CTlWZ0D5iyv+dT9lQEbpPmFKv2VA3B5tm8lIZkDTargijV1nQFU4BnSz/2dALq/ZmkP9aEBWGLUvUo5pQOiO4Ud8KGpAEieCSp/jaUBR7pSRVOVpQK0uXTOiw2lAQUZna+p5aUCqAYXwYeloQE+wK1/OlWhA14tIvYJIaEA6tswxjQ1oQPFGT4MksmdAOsnZjd5gZ0CI3ZSPE/hmQGUe5vw6e2ZALfsd0UbEZUCG9KdMDitlQP6Bh6aQZWRAyyLRe+/WY0AJcAU4MjtmQEFk1st3x2VAmw/gzsbtZEBBjpalnj5kQA0TDoDgi2NANZkgqovcYkBrB/SzQiRiQK/TxCads2FA",
          "dtype": "f8"
         },
         "yaxis": "y"
        },
        {
         "hovertemplate": "variable=2022-08-23<br>index=%{x}<br>value=%{y}<extra></extra>",
         "legendgroup": "2022-08-23",
         "line": {
          "color": "#19d3f3",
          "dash": "solid"
         },
         "marker": {
          "symbol": "circle"
         },
         "mode": "lines",
         "name": "2022-08-23",
         "showlegend": true,
         "type": "scattergl",
         "x": [
          "00:00:00",
          "00:15:00",
          "00:30:00",
          "00:45:00",
          "01:00:00",
          "01:15:00",
          "01:30:00",
          "01:45:00",
          "02:00:00",
          "02:15:00",
          "02:30:00",
          "02:45:00",
          "03:00:00",
          "03:15:00",
          "03:30:00",
          "03:45:00",
          "04:00:00",
          "04:15:00",
          "04:30:00",
          "04:45:00",
          "05:00:00",
          "05:15:00",
          "05:30:00",
          "05:45:00",
          "06:00:00",
          "06:15:00",
          "06:30:00",
          "06:45:00",
          "07:00:00",
          "07:15:00",
          "07:30:00",
          "07:45:00",
          "08:00:00",
          "08:15:00",
          "08:30:00",
          "08:45:00",
          "09:00:00",
          "09:15:00",
          "09:30:00",
          "09:45:00",
          "10:00:00",
          "10:15:00",
          "10:30:00",
          "10:45:00",
          "11:00:00",
          "11:15:00",
          "11:30:00",
          "11:45:00",
          "12:00:00",
          "12:15:00",
          "12:30:00",
          "12:45:00",
          "13:00:00",
          "13:15:00",
          "13:30:00",
          "13:45:00",
          "14:00:00",
          "14:15:00",
          "14:30:00",
          "14:45:00",
          "15:00:00",
          "15:15:00",
          "15:30:00",
          "15:45:00",
          "16:00:00",
          "16:15:00",
          "16:30:00",
          "16:45:00",
          "17:00:00",
          "17:15:00",
          "17:30:00",
          "17:45:00",
          "18:00:00",
          "18:15:00",
          "18:30:00",
          "18:45:00",
          "19:00:00",
          "19:15:00",
          "19:30:00",
          "19:45:00",
          "20:00:00",
          "20:15:00",
          "20:30:00",
          "20:45:00",
          "21:00:00",
          "21:15:00",
          "21:30:00",
          "21:45:00",
          "22:00:00",
          "22:15:00",
          "22:30:00",
          "22:45:00",
          "23:00:00",
          "23:15:00",
          "23:30:00",
          "23:45:00"
         ],
         "xaxis": "x",
         "y": {
          "bdata": "YbyVR6YWXkATwEIw44xdQOwDIMikEV1AnBDhOy+YXEAANJcRe0tcQO3cDIO3+1tA4SDI0JSwW0BMrP8h5o9bQJbGiegGZ1tAWBrNTJIxW0C1xmkUYiFbQNAjibmhCFtARhEnYcX8WkAO3F3DnBhbQJqRN/q6HltAgSvAmh5PW0D2/L+tDp5bQOjZfivLrltAUwc6l/zrW0ByZ5AZZSBcQMBXk4aCNl1Aqyn+ERrzXUB2udjHMOxeQOW1Cp/r8l9AXxpkB8MJXUBAXcPYGHteQJ7x8w6C+F9A6S0DRRXPYECPVBcPvuFhQBxd25sIFmNAx75EVB/oY0DnS5g+DztkQAwPJK2yUWRAHX+GQQJkZECaQ3v7vSpkQAaSlFf68GNAxIUOS+0mZ0DGf5Vq4tNmQJX3IAjHvGZAYw2eO2bTZkDDwzWOsQJnQMYvUtHJJ2ZACuaKKm20ZECv6yVfreZjQHu4LipxM2dAmSaxhyGdZkB2SkBrqW1mQAgJr45ncmZArWkgeoBCZkArbkk9kedlQDghf54tAGZATWySaENiZkDd+dhTONVmQEUp0s4yY2dAVQrc6/zqZ0DJz6ax/lRoQMHY7KdH3mhAd8PnzUZuaUA9mNYigftpQEQbN4H+SWpANJU6B5ejZkDGWNVNc9BmQO7jaOivsmZAFadI8z66ZkDon+6bJPFjQA4ErDwwbGRAKNudnWfoZEBeLJMcspRlQGOYej1uKWZAXVQcHIfKZkDY4XzNgkZnQB2BKC0w3WdA57/naGUJaEA1sxAboz5oQJdmRa/3M2hAoGXwO2wXaECsW6Br/Z9nQDDp57m1V2dAQL4A9oRLZ0AnSNhhXRZnQHX639Y3wWZAMjjipS1dZkArnQrIhThmQC6TNZFU+WVAUG641X5FZUBFOlZhhsZkQOS/tJhvLGRA9fDP2caHY0CBBdI+QRVmQPELNvY2x2VATaMTTyUgZUD5dJ9ug2tkQP1xl9yQv2NARXASklMkY0ClBEKz2ptiQNuhwoDMI2JA",
          "dtype": "f8"
         },
         "yaxis": "y"
        },
        {
         "hovertemplate": "variable=2022-06-29<br>index=%{x}<br>value=%{y}<extra></extra>",
         "legendgroup": "2022-06-29",
         "line": {
          "color": "#FF6692",
          "dash": "solid"
         },
         "marker": {
          "symbol": "circle"
         },
         "mode": "lines",
         "name": "2022-06-29",
         "showlegend": true,
         "type": "scattergl",
         "x": [
          "00:00:00",
          "00:15:00",
          "00:30:00",
          "00:45:00",
          "01:00:00",
          "01:15:00",
          "01:30:00",
          "01:45:00",
          "02:00:00",
          "02:15:00",
          "02:30:00",
          "02:45:00",
          "03:00:00",
          "03:15:00",
          "03:30:00",
          "03:45:00",
          "04:00:00",
          "04:15:00",
          "04:30:00",
          "04:45:00",
          "05:00:00",
          "05:15:00",
          "05:30:00",
          "05:45:00",
          "06:00:00",
          "06:15:00",
          "06:30:00",
          "06:45:00",
          "07:00:00",
          "07:15:00",
          "07:30:00",
          "07:45:00",
          "08:00:00",
          "08:15:00",
          "08:30:00",
          "08:45:00",
          "09:00:00",
          "09:15:00",
          "09:30:00",
          "09:45:00",
          "10:00:00",
          "10:15:00",
          "10:30:00",
          "10:45:00",
          "11:00:00",
          "11:15:00",
          "11:30:00",
          "11:45:00",
          "12:00:00",
          "12:15:00",
          "12:30:00",
          "12:45:00",
          "13:00:00",
          "13:15:00",
          "13:30:00",
          "13:45:00",
          "14:00:00",
          "14:15:00",
          "14:30:00",
          "14:45:00",
          "15:00:00",
          "15:15:00",
          "15:30:00",
          "15:45:00",
          "16:00:00",
          "16:15:00",
          "16:30:00",
          "16:45:00",
          "17:00:00",
          "17:15:00",
          "17:30:00",
          "17:45:00",
          "18:00:00",
          "18:15:00",
          "18:30:00",
          "18:45:00",
          "19:00:00",
          "19:15:00",
          "19:30:00",
          "19:45:00",
          "20:00:00",
          "20:15:00",
          "20:30:00",
          "20:45:00",
          "21:00:00",
          "21:15:00",
          "21:30:00",
          "21:45:00",
          "22:00:00",
          "22:15:00",
          "22:30:00",
          "22:45:00",
          "23:00:00",
          "23:15:00",
          "23:30:00",
          "23:45:00"
         ],
         "xaxis": "x",
         "y": {
          "bdata": "0oX9580aYUBwyB94r8tgQI7FFMXyjmBAznCHaZBUYEAoHuj19SNgQB+0mdYF619Ae3hTN12kX0ARndWrM31fQKWbx+xYcV9Ad7RbFlJmX0DNCIX6BkxfQBlw3w6wMF9AWYkGIi1KX0DxDtV/41JfQNkOz7byXV9AP/oJwS6TX0CcUfuCugRgQBpW2oxQGmBAXv4fj61HYECK/sysrn1gQDoAFukMKmFAvuL/QLKcYUBC8j1GHkRiQKIswgIq2mJAaTw2X9xzYUBcwXrOw2ZiQMaOn/u8i2NAcET4wleeZEDGw6Kb7dxlQIZoJV6WPWdA1gDBSIo9aEDd+SIrktRoQL8WNrw+RWlAhearVJRCaUDFlPJHGGFoQLopPnKVC2hAGXAV4qBmakAfuAAbEPloQNStABhxf2dACTK6zB+eZkAHXGI2OcNlQGysL6SwHmRAR2O8cmysY0CmIW2oTehjQD/na2t5NGZAVXJVJKjEZEA6U2MfoZxkQL+953eeTGRA+X7GhZQ6ZECfZ+qEwlFjQBAQa+uHAmJAV4IAjtEtYUBg42kSi61hQAhHjU8Ea2FACJWduJO4YkBXI3GXHSJjQFS43HFuA2NAaSzswpYDZEByuOjqSOBkQDd4xemXBGVAqBRyPM6yYUDCT5r6VbViQIvK4BrfBWRAA9yOU8AoZUDnwG4yt7pjQKKwLdCrPWRACrxOnqQhZUAfuAGtyfZlQB1EYZrmimZAbqy2E5yZZ0B1LI3F6/NnQO53l1NxImhAtjXmXQy5Z0DRaPX4gptnQH5DDqOrYGdA4lCaI78zZ0DkCbg/BapmQAxvupSwcmZARTyGInUzZkDaTcG+QQFmQAgOY1m8qmVAgi6A+llLZUALG+aFkexkQAgdlxBYkGRAKhNjPCT1Y0Bl+It+rXFjQFhdo5T93GJA75Dw5fBBYkCNRNJmLelkQAvEQKQPk2RABYmu4ub2Y0D/J1TZOVVjQLEiGnfSpGJAUWyxHxkSYkBjeR6uPWlhQG/AiAcZ2mBA",
          "dtype": "f8"
         },
         "yaxis": "y"
        }
       ],
       "layout": {
        "legend": {
         "title": {
          "text": "Days"
         },
         "tracegroupgap": 0
        },
        "margin": {
         "t": 60
        },
        "shapes": [
         {
          "line": {
           "color": "black",
           "dash": "solid",
           "width": 1
          },
          "type": "line",
          "x0": 0,
          "x1": 1,
          "xref": "x domain",
          "y0": 0,
          "y1": 0,
          "yref": "y"
         },
         {
          "line": {
           "color": "black",
           "dash": "dash",
           "width": 3
          },
          "type": "line",
          "x0": 0,
          "x1": 1,
          "xref": "x domain",
          "y0": 205,
          "y1": 205,
          "yref": "y"
         }
        ],
        "template": {
         "data": {
          "bar": [
           {
            "error_x": {
             "color": "#2a3f5f"
            },
            "error_y": {
             "color": "#2a3f5f"
            },
            "marker": {
             "line": {
              "color": "#E5ECF6",
              "width": 0.5
             },
             "pattern": {
              "fillmode": "overlay",
              "size": 10,
              "solidity": 0.2
             }
            },
            "type": "bar"
           }
          ],
          "barpolar": [
           {
            "marker": {
             "line": {
              "color": "#E5ECF6",
              "width": 0.5
             },
             "pattern": {
              "fillmode": "overlay",
              "size": 10,
              "solidity": 0.2
             }
            },
            "type": "barpolar"
           }
          ],
          "carpet": [
           {
            "aaxis": {
             "endlinecolor": "#2a3f5f",
             "gridcolor": "white",
             "linecolor": "white",
             "minorgridcolor": "white",
             "startlinecolor": "#2a3f5f"
            },
            "baxis": {
             "endlinecolor": "#2a3f5f",
             "gridcolor": "white",
             "linecolor": "white",
             "minorgridcolor": "white",
             "startlinecolor": "#2a3f5f"
            },
            "type": "carpet"
           }
          ],
          "choropleth": [
           {
            "colorbar": {
             "outlinewidth": 0,
             "ticks": ""
            },
            "type": "choropleth"
           }
          ],
          "contour": [
           {
            "colorbar": {
             "outlinewidth": 0,
             "ticks": ""
            },
            "colorscale": [
             [
              0,
              "#0d0887"
             ],
             [
              0.1111111111111111,
              "#46039f"
             ],
             [
              0.2222222222222222,
              "#7201a8"
             ],
             [
              0.3333333333333333,
              "#9c179e"
             ],
             [
              0.4444444444444444,
              "#bd3786"
             ],
             [
              0.5555555555555556,
              "#d8576b"
             ],
             [
              0.6666666666666666,
              "#ed7953"
             ],
             [
              0.7777777777777778,
              "#fb9f3a"
             ],
             [
              0.8888888888888888,
              "#fdca26"
             ],
             [
              1,
              "#f0f921"
             ]
            ],
            "type": "contour"
           }
          ],
          "contourcarpet": [
           {
            "colorbar": {
             "outlinewidth": 0,
             "ticks": ""
            },
            "type": "contourcarpet"
           }
          ],
          "heatmap": [
           {
            "colorbar": {
             "outlinewidth": 0,
             "ticks": ""
            },
            "colorscale": [
             [
              0,
              "#0d0887"
             ],
             [
              0.1111111111111111,
              "#46039f"
             ],
             [
              0.2222222222222222,
              "#7201a8"
             ],
             [
              0.3333333333333333,
              "#9c179e"
             ],
             [
              0.4444444444444444,
              "#bd3786"
             ],
             [
              0.5555555555555556,
              "#d8576b"
             ],
             [
              0.6666666666666666,
              "#ed7953"
             ],
             [
              0.7777777777777778,
              "#fb9f3a"
             ],
             [
              0.8888888888888888,
              "#fdca26"
             ],
             [
              1,
              "#f0f921"
             ]
            ],
            "type": "heatmap"
           }
          ],
          "histogram": [
           {
            "marker": {
             "pattern": {
              "fillmode": "overlay",
              "size": 10,
              "solidity": 0.2
             }
            },
            "type": "histogram"
           }
          ],
          "histogram2d": [
           {
            "colorbar": {
             "outlinewidth": 0,
             "ticks": ""
            },
            "colorscale": [
             [
              0,
              "#0d0887"
             ],
             [
              0.1111111111111111,
              "#46039f"
             ],
             [
              0.2222222222222222,
              "#7201a8"
             ],
             [
              0.3333333333333333,
              "#9c179e"
             ],
             [
              0.4444444444444444,
              "#bd3786"
             ],
             [
              0.5555555555555556,
              "#d8576b"
             ],
             [
              0.6666666666666666,
              "#ed7953"
             ],
             [
              0.7777777777777778,
              "#fb9f3a"
             ],
             [
              0.8888888888888888,
              "#fdca26"
             ],
             [
              1,
              "#f0f921"
             ]
            ],
            "type": "histogram2d"
           }
          ],
          "histogram2dcontour": [
           {
            "colorbar": {
             "outlinewidth": 0,
             "ticks": ""
            },
            "colorscale": [
             [
              0,
              "#0d0887"
             ],
             [
              0.1111111111111111,
              "#46039f"
             ],
             [
              0.2222222222222222,
              "#7201a8"
             ],
             [
              0.3333333333333333,
              "#9c179e"
             ],
             [
              0.4444444444444444,
              "#bd3786"
             ],
             [
              0.5555555555555556,
              "#d8576b"
             ],
             [
              0.6666666666666666,
              "#ed7953"
             ],
             [
              0.7777777777777778,
              "#fb9f3a"
             ],
             [
              0.8888888888888888,
              "#fdca26"
             ],
             [
              1,
              "#f0f921"
             ]
            ],
            "type": "histogram2dcontour"
           }
          ],
          "mesh3d": [
           {
            "colorbar": {
             "outlinewidth": 0,
             "ticks": ""
            },
            "type": "mesh3d"
           }
          ],
          "parcoords": [
           {
            "line": {
             "colorbar": {
              "outlinewidth": 0,
              "ticks": ""
             }
            },
            "type": "parcoords"
           }
          ],
          "pie": [
           {
            "automargin": true,
            "type": "pie"
           }
          ],
          "scatter": [
           {
            "fillpattern": {
             "fillmode": "overlay",
             "size": 10,
             "solidity": 0.2
            },
            "type": "scatter"
           }
          ],
          "scatter3d": [
           {
            "line": {
             "colorbar": {
              "outlinewidth": 0,
              "ticks": ""
             }
            },
            "marker": {
             "colorbar": {
              "outlinewidth": 0,
              "ticks": ""
             }
            },
            "type": "scatter3d"
           }
          ],
          "scattercarpet": [
           {
            "marker": {
             "colorbar": {
              "outlinewidth": 0,
              "ticks": ""
             }
            },
            "type": "scattercarpet"
           }
          ],
          "scattergeo": [
           {
            "marker": {
             "colorbar": {
              "outlinewidth": 0,
              "ticks": ""
             }
            },
            "type": "scattergeo"
           }
          ],
          "scattergl": [
           {
            "marker": {
             "colorbar": {
              "outlinewidth": 0,
              "ticks": ""
             }
            },
            "type": "scattergl"
           }
          ],
          "scattermap": [
           {
            "marker": {
             "colorbar": {
              "outlinewidth": 0,
              "ticks": ""
             }
            },
            "type": "scattermap"
           }
          ],
          "scattermapbox": [
           {
            "marker": {
             "colorbar": {
              "outlinewidth": 0,
              "ticks": ""
             }
            },
            "type": "scattermapbox"
           }
          ],
          "scatterpolar": [
           {
            "marker": {
             "colorbar": {
              "outlinewidth": 0,
              "ticks": ""
             }
            },
            "type": "scatterpolar"
           }
          ],
          "scatterpolargl": [
           {
            "marker": {
             "colorbar": {
              "outlinewidth": 0,
              "ticks": ""
             }
            },
            "type": "scatterpolargl"
           }
          ],
          "scatterternary": [
           {
            "marker": {
             "colorbar": {
              "outlinewidth": 0,
              "ticks": ""
             }
            },
            "type": "scatterternary"
           }
          ],
          "surface": [
           {
            "colorbar": {
             "outlinewidth": 0,
             "ticks": ""
            },
            "colorscale": [
             [
              0,
              "#0d0887"
             ],
             [
              0.1111111111111111,
              "#46039f"
             ],
             [
              0.2222222222222222,
              "#7201a8"
             ],
             [
              0.3333333333333333,
              "#9c179e"
             ],
             [
              0.4444444444444444,
              "#bd3786"
             ],
             [
              0.5555555555555556,
              "#d8576b"
             ],
             [
              0.6666666666666666,
              "#ed7953"
             ],
             [
              0.7777777777777778,
              "#fb9f3a"
             ],
             [
              0.8888888888888888,
              "#fdca26"
             ],
             [
              1,
              "#f0f921"
             ]
            ],
            "type": "surface"
           }
          ],
          "table": [
           {
            "cells": {
             "fill": {
              "color": "#EBF0F8"
             },
             "line": {
              "color": "white"
             }
            },
            "header": {
             "fill": {
              "color": "#C8D4E3"
             },
             "line": {
              "color": "white"
             }
            },
            "type": "table"
           }
          ]
         },
         "layout": {
          "annotationdefaults": {
           "arrowcolor": "#2a3f5f",
           "arrowhead": 0,
           "arrowwidth": 1
          },
          "autotypenumbers": "strict",
          "coloraxis": {
           "colorbar": {
            "outlinewidth": 0,
            "ticks": ""
           }
          },
          "colorscale": {
           "diverging": [
            [
             0,
             "#8e0152"
            ],
            [
             0.1,
             "#c51b7d"
            ],
            [
             0.2,
             "#de77ae"
            ],
            [
             0.3,
             "#f1b6da"
            ],
            [
             0.4,
             "#fde0ef"
            ],
            [
             0.5,
             "#f7f7f7"
            ],
            [
             0.6,
             "#e6f5d0"
            ],
            [
             0.7,
             "#b8e186"
            ],
            [
             0.8,
             "#7fbc41"
            ],
            [
             0.9,
             "#4d9221"
            ],
            [
             1,
             "#276419"
            ]
           ],
           "sequential": [
            [
             0,
             "#0d0887"
            ],
            [
             0.1111111111111111,
             "#46039f"
            ],
            [
             0.2222222222222222,
             "#7201a8"
            ],
            [
             0.3333333333333333,
             "#9c179e"
            ],
            [
             0.4444444444444444,
             "#bd3786"
            ],
            [
             0.5555555555555556,
             "#d8576b"
            ],
            [
             0.6666666666666666,
             "#ed7953"
            ],
            [
             0.7777777777777778,
             "#fb9f3a"
            ],
            [
             0.8888888888888888,
             "#fdca26"
            ],
            [
             1,
             "#f0f921"
            ]
           ],
           "sequentialminus": [
            [
             0,
             "#0d0887"
            ],
            [
             0.1111111111111111,
             "#46039f"
            ],
            [
             0.2222222222222222,
             "#7201a8"
            ],
            [
             0.3333333333333333,
             "#9c179e"
            ],
            [
             0.4444444444444444,
             "#bd3786"
            ],
            [
             0.5555555555555556,
             "#d8576b"
            ],
            [
             0.6666666666666666,
             "#ed7953"
            ],
            [
             0.7777777777777778,
             "#fb9f3a"
            ],
            [
             0.8888888888888888,
             "#fdca26"
            ],
            [
             1,
             "#f0f921"
            ]
           ]
          },
          "colorway": [
           "#636efa",
           "#EF553B",
           "#00cc96",
           "#ab63fa",
           "#FFA15A",
           "#19d3f3",
           "#FF6692",
           "#B6E880",
           "#FF97FF",
           "#FECB52"
          ],
          "font": {
           "color": "#2a3f5f"
          },
          "geo": {
           "bgcolor": "white",
           "lakecolor": "white",
           "landcolor": "#E5ECF6",
           "showlakes": true,
           "showland": true,
           "subunitcolor": "white"
          },
          "hoverlabel": {
           "align": "left"
          },
          "hovermode": "closest",
          "mapbox": {
           "style": "light"
          },
          "paper_bgcolor": "white",
          "plot_bgcolor": "#E5ECF6",
          "polar": {
           "angularaxis": {
            "gridcolor": "white",
            "linecolor": "white",
            "ticks": ""
           },
           "bgcolor": "#E5ECF6",
           "radialaxis": {
            "gridcolor": "white",
            "linecolor": "white",
            "ticks": ""
           }
          },
          "scene": {
           "xaxis": {
            "backgroundcolor": "#E5ECF6",
            "gridcolor": "white",
            "gridwidth": 2,
            "linecolor": "white",
            "showbackground": true,
            "ticks": "",
            "zerolinecolor": "white"
           },
           "yaxis": {
            "backgroundcolor": "#E5ECF6",
            "gridcolor": "white",
            "gridwidth": 2,
            "linecolor": "white",
            "showbackground": true,
            "ticks": "",
            "zerolinecolor": "white"
           },
           "zaxis": {
            "backgroundcolor": "#E5ECF6",
            "gridcolor": "white",
            "gridwidth": 2,
            "linecolor": "white",
            "showbackground": true,
            "ticks": "",
            "zerolinecolor": "white"
           }
          },
          "shapedefaults": {
           "line": {
            "color": "#2a3f5f"
           }
          },
          "ternary": {
           "aaxis": {
            "gridcolor": "white",
            "linecolor": "white",
            "ticks": ""
           },
           "baxis": {
            "gridcolor": "white",
            "linecolor": "white",
            "ticks": ""
           },
           "bgcolor": "#E5ECF6",
           "caxis": {
            "gridcolor": "white",
            "linecolor": "white",
            "ticks": ""
           }
          },
          "title": {
           "x": 0.05
          },
          "xaxis": {
           "automargin": true,
           "gridcolor": "white",
           "linecolor": "white",
           "ticks": "",
           "title": {
            "standoff": 15
           },
           "zerolinecolor": "white",
           "zerolinewidth": 2
          },
          "yaxis": {
           "automargin": true,
           "gridcolor": "white",
           "linecolor": "white",
           "ticks": "",
           "title": {
            "standoff": 15
           },
           "zerolinecolor": "white",
           "zerolinewidth": 2
          }
         }
        },
        "title": {
         "text": "North Canberra 0.9 POE days - Low rooftop solar uptake, Low private EV charging"
        },
        "xaxis": {
         "anchor": "y",
         "domain": [
          0,
          1
         ],
         "title": {
          "text": "Time of day"
         }
        },
        "yaxis": {
         "anchor": "x",
         "domain": [
          0,
          1
         ],
         "range": [
          -31.286167464224512,
          216.20713905512892
         ],
         "title": {
          "text": "MW"
         }
        }
       }
      }
     },
     "metadata": {},
     "output_type": "display_data"
    }
   ],
   "source": [
    "fig = go.Figure(many_day_df_future_EV[high_load_days].plot(title=''))\n",
    "fig.update_yaxes(range = [y_min,y_max])\n",
    "if plt_min < 0:\n",
    "    fig.add_hline(y=0, line_width=1, line_dash=\"solid\", line_color=\"black\")\n",
    "fig.add_hline(y=zs_combined_rating, line_width=3, line_dash=\"dash\", line_color=\"black\")\n",
    "fig.update_layout(\n",
    "    title=f\"{SA_region} {POE} POE days - {solar_uptake} rooftop solar uptake, {EV_private_charging} private EV charging\",\n",
    "    xaxis_title=\"Time of day\",\n",
    "    yaxis_title=\"MW\",\n",
    "    legend_title=\"Days\",\n",
    ")"
   ]
  },
  {
   "cell_type": "code",
   "execution_count": 10,
   "metadata": {},
   "outputs": [
    {
     "name": "stdout",
     "output_type": "stream",
     "text": [
      "Current total energy delivered =  1637.0  MWh\n",
      "Current substation utilisation =  33.0  %\n",
      "Future total energy delivered =  2402.0  MWh\n",
      "Future substation utilisation =  49.0  %\n",
      "Future threshold of 0.9 POE = 184.0 MW\n",
      "Future max peak = 211.2 MW\n",
      "Future HW demand = 143.3 MWh/day\n",
      "Future HW demand = 2.7 kWh/household/day\n",
      "Future HW demand = 673596.4 MWh for 250,000 households/day\n",
      "Future EV demand = -87.0 MWh/day\n",
      "Current households = 31.2 k\n",
      "Future households = 53.2 k\n"
     ]
    }
   ],
   "source": [
    "min_threshold_POE = many_day_df_future_EV[high_load_days].max().min()\n",
    "\n",
    "print('Current total energy delivered = ', np.round(current_tot_energy,0), \" MWh\")\n",
    "print('Current substation utilisation = ', np.round(100*current_tot_energy/(zs_combined_rating*24),0), \" %\")\n",
    "print('Future total energy delivered = ', np.round(future_tot_energy,0), \" MWh\")\n",
    "print('Future substation utilisation = ', np.round(100*future_tot_energy/(zs_combined_rating*24),0), \" %\")\n",
    "\n",
    "print(f\"Future threshold of {POE} POE = {np.round(min_threshold_POE,1)} MW\")\n",
    "print(f\"Future max peak = {np.round(future_peak_load_MW,1)} MW\")\n",
    "print(f\"Future HW demand = {np.round(future_hw_MWh_total,1)} MWh/day\")\n",
    "print(f\"Future HW demand = {np.round((future_hw_MWh_total/future_households)*1000,1)} kWh/household/day\")\n",
    "print(f\"Future HW demand = {np.round((future_hw_MWh_total/future_households)*250000*1000,1)} MWh for 250,000 households/day\")\n",
    "print(f\"Future EV demand = {np.round(future_EV_MWh_region,1)} MWh/day\")\n",
    "print(f\"Current households = {np.round((current_households)/1000,1)} k\")\n",
    "print(f\"Future households = {np.round((future_households)/1000,1)} k\")"
   ]
  },
  {
   "cell_type": "code",
   "execution_count": 11,
   "metadata": {},
   "outputs": [
    {
     "data": {
      "application/vnd.plotly.v1+json": {
       "config": {
        "plotlyServerURL": "https://plot.ly"
       },
       "data": [
        {
         "name": "Current",
         "type": "scatter",
         "x": {
          "bdata": "AAAAAAAAAAAAAAAAAAAAAAAAAAAAAAAAAAAAAAAAAAAAAAAAAAAAAAAAAAAAAAAAAAAAAAAAAAAAAAAAAAAAAAAAAAAAAAAAAAAAAAAAAAAAAAAAAAAAAAAAAAAAAAAAAAAAAAAAAAAAAAAAAAAAAAAAAAAAAAAAAAAAAAAAAAAAAAAAAAAAAAAAAAAAAAAAAAAAAAAAAAAAAAAAAAAAAAAAAAAAAAAAAAAAAAAAAAAAAAAAAAAAAAAAAAAAAAAAAAAAAAAAAAAAAAAAAAAAAAAAAAAAAAAAAAAAAAAAAAAAAAAAAAAAAAAAAAAAAAAAAAAAAAAAAAAAAAAAAAAAAL/0S7/0CxFA7cRO7MQOJUAkSZIkSRJaQC3QAi3QRIJASpIkSVKRkUDe4z3eI3CYQOZqrubqP59AfumXfglNo0DETuzEDuWmQD3e4z0eQqtA3uM93sO+r0CKndiJbROyQDqxEzthJbRARWVURjUKtkDjPd7j7ce3QPmlX/pFV7lAojIqo7KoukDol37p98G7QI73eI9nvLxADw7hEP6SvUB0Yid2wk++QF76pV+6+r5AiJ3Yie2ev0AHh3AIRxTAQINDOIRLSMBAreZqrm56wEBkVEZlzKTAQI73eI+Hy8BATuzEThzpwEBczdVcbQHBQK7maq62DsFAqIzKqDwXwUBTRmVUnhnBQGIndmIfG8FA6Zd+6d8bwUD//////xvBQP//////G8FA//////8bwUD//////xvBQP//////G8FA//////8bwUD//////xvBQP//////G8FA//////8bwUD//////xvBQP//////G8FA//////8bwUD//////xvBQP//////G8FA//////8bwUD//////xvBQP//////G8FA//////8bwUD//////xvBQP//////G8FA//////8bwUD//////xvBQP//////G8FA//////8bwUD//////xvBQP//////G8FA//////8bwUD//////xvBQP//////G8FA//////8bwUD//////xvBQP//////G8FA//////8bwUA=",
          "dtype": "f8"
         },
         "y": {
          "bdata": "hPuiPkGrR8AI90V9glZGwIzy6LvDAUXAEe6L+gStQ8CV6S45RlhCwBnl0XeHA0HAO8HpbJFdP8BDuC/qE7Q8wEuvdWeWCjrAVKa75BhhN8BcnQFim7c0wGSUR98dDjLA2BYbuUDJLsDsBKezRXYpwPzyMq5KIyTAGMJ9UZ+gHcA4npVGqfoSwLD0WndmqQDAAEzVeRaK4j/AmkW0ce4JQEDxCuUunRdAkIr5d5IhIUCAnG19jXQmQHCu4YKIxytAMOAqxEGNMEAo6eRGvzYzQBzynsk84DVAFPtYTLqJOEAMBBPPNzM7QAQNzVG13D1A/opDahlDQEB6j6Ar2JdBQPaT/eyW7EJAcpharlVBREDunLdvFJZFQGqhFDHT6kZA5qVx8pE/SEBgqs6zUJRJQNyuK3UP6UpAWLOINs49TEDUt+X3jJJNQFC8QrlL505AZuBPPQUeUECkYv6dZMhQQOLkrP7DclFAIGdbXyMdUkBe6QnAgsdSQJxruCDicVNA2u1mgUEcVEAYcBXioMZUQFbyw0IAcVVAlHRyo18bVkDS9iAEv8VWQA55z2QecFdATPt9xX0aWECKfSwm3cRYQMj/2oY8b1lABoKJ55sZWkBEBDhI+8NaQIKG5qhabltAwAiVCboYXED+ikNqGcNcQDwN8sp4bV1Aeo+gK9gXXkC4EU+MN8JeQPaT/eyWbF9AGgvWJnsLYEA5TC3XqmBgQFiNhIfatWBAd87bNwoLYUCWDzPoOWBhQLVQiphptWFA1JHhSJkKYkDz0jj5yF9iQBEUkKn4tGJAMFXnWSgKY0BPlj4KWF9jQG7XlbqHtGNAjRjtarcJZECsWUQb515kQMuam8sWtGRA6tvye0YJZUAJHUosdl5lQCheodyls2VAR5/4jNUIZkBm4E89BV5mQIUhp+00s2ZApGL+nWQIZ0DDo1VOlF1nQOLkrP7DsmdAASYEr/MHaEAgZ1tfI11oQD+osg9TsmhAXukJwIIHaUB9KmFwslxpQJxruCDisWlAuqwP0REHakDa7WaBQVxqQPguvjFxsWpAGXAV4qAGa0A=",
          "dtype": "f8"
         }
        },
        {
         "name": "Future - no HW or EVs",
         "type": "scatter",
         "x": {
          "bdata": "m6rNdowmDkAShzVmoJslQLxx3vmyGTRA1TgEkfojPEAuzlBzV5pEQNXown+IAktA91d0C2iGUUAQL9ZuWSxWQCpWeeO881tAE0Mhru3uYUDYAB0yB+xlQPOHPYSGcGlA8HPyRPKtbUBMdeldKlZxQNjeEtatFXRAgotI6P2sdkB/02sTm4B5QH6ZBwXDwHxA0qZAi9v0f0AvR/HkdJCBQGeCoFwJlYNAn34TcVhjhUCftTHuyEuHQJ4WeK1nWIlAus/eJ+pOi0B/a9BPqnWNQLfluyqEsI9AhrzFLn7PkEDaKXySssCRQC+sRhf+w5JAhEMlvWDZk0ARtWwbueaUQPRtUQ4C6JVA12VyZJAfl0A6KeHn5CmYQAGKpR9KQZlA85hCMrNbmkCrzXaMJn6bQPIjsTOAjJxAOKQTHQi/nUAqs7AvcdmeQGLdWvnY8p9AsStipjycoEChDMgDjWuiQBJI+QJbZaVAH3lhNbrQqECPSy6PFHCrQAfLXjJ0r61Ad/WKgxW+r0AUHQjfqfGwQH4LU3KOCLJAd0XMlIcvs0AWLUSrU2W0QLkfIDlcmLVAowPhOzWmtkAK0rM2xq23QBgkXeP7n7hA0QRBuRJ6uUCCpTRegjW6QP9hD6Eh5LpAse3uJHqNu0CparMdoxG8QNGLoEf1g7xAu7KsIP7uvEBGXNvdSVy9QIzgTDq8tb1AHosvxWkLvkAoFcDQkl2+QIsGZgkAs75AeQ6uFxf3vkCqJp9l8Dy/QFET2rwIgr9ALc8ZVdrBv0BqCDcJaf+/QEn18+e6HcBARw/gXT86wEB37WydQFTAQKrWXVR+a8BAmq+ly/mAwEC4QSqVtZbAQNreEtatqcBAclBFIOW7wEByZVlB/M3AQC5qxCJR3sBAs4/u9kLswEClY14ZUffAQFMnJfycAMFAsanabMcIwUDYTE/Qjg7BQDraaLj1E8FAzSsjatkWwUA/9Qj82xjBQPjZ+0TdGcFAGmLQZL4awUANMWgyXxvBQGqj4dbfG8FAAQAAAAAcwUABAAAAABzBQAEAAAAAHMFAAQAAAAAcwUA=",
          "dtype": "f8"
         },
         "y": {
          "bdata": "hPuiPkGrR8AI90V9glZGwIzy6LvDAUXAEe6L+gStQ8CV6S45RlhCwBnl0XeHA0HAO8HpbJFdP8BDuC/qE7Q8wEuvdWeWCjrAVKa75BhhN8BcnQFim7c0wGSUR98dDjLA2BYbuUDJLsDsBKezRXYpwPzyMq5KIyTAGMJ9UZ+gHcA4npVGqfoSwLD0WndmqQDAAEzVeRaK4j/AmkW0ce4JQEDxCuUunRdAkIr5d5IhIUCAnG19jXQmQHCu4YKIxytAMOAqxEGNMEAo6eRGvzYzQBzynsk84DVAFPtYTLqJOEAMBBPPNzM7QAQNzVG13D1A/opDahlDQEB6j6Ar2JdBQPaT/eyW7EJAcpharlVBREDunLdvFJZFQGqhFDHT6kZA5qVx8pE/SEBgqs6zUJRJQNyuK3UP6UpAWLOINs49TEDUt+X3jJJNQFC8QrlL505AZuBPPQUeUECkYv6dZMhQQOLkrP7DclFAIGdbXyMdUkBe6QnAgsdSQJxruCDicVNA2u1mgUEcVEAYcBXioMZUQFbyw0IAcVVAlHRyo18bVkDS9iAEv8VWQA55z2QecFdATPt9xX0aWECKfSwm3cRYQMj/2oY8b1lABoKJ55sZWkBEBDhI+8NaQIKG5qhabltAwAiVCboYXED+ikNqGcNcQDwN8sp4bV1Aeo+gK9gXXkC4EU+MN8JeQPaT/eyWbF9AGgvWJnsLYEA5TC3XqmBgQFiNhIfatWBAd87bNwoLYUCWDzPoOWBhQLVQiphptWFA1JHhSJkKYkDz0jj5yF9iQBEUkKn4tGJAMFXnWSgKY0BPlj4KWF9jQG7XlbqHtGNAjRjtarcJZECsWUQb515kQMuam8sWtGRA6tvye0YJZUAJHUosdl5lQCheodyls2VAR5/4jNUIZkBm4E89BV5mQIUhp+00s2ZApGL+nWQIZ0DDo1VOlF1nQOLkrP7DsmdAASYEr/MHaEAgZ1tfI11oQD+osg9TsmhAXukJwIIHaUB9KmFwslxpQJxruCDisWlAuqwP0REHakDa7WaBQVxqQPguvjFxsWpAGXAV4qAGa0A=",
          "dtype": "f8"
         }
        },
        {
         "name": "Future - HW, no EVs",
         "type": "scatter",
         "x": {
          "bdata": "wVKN56kM8D+efOn/nhAVQAcSrbA5kCRAaLtzpI6WLEBF0vfCCQ8zQNbGtTPM0jdAVtChMIkYP0CvZ7tzpI5CQLqhz5m1cUZA0VA3VSkWTEBsimbOSx5SQKKZ85InAldA0VA3VSkWXEBLuVszSNVgQFbzb1lZuGRAEkzB1kpzaEDRUDdVKRZsQF8VEznpXHBAVtgcSLSickDosYen0VB1QF7X8f5zp3hAMOKMAv3de0CbA4lW2Hx/QNAdc/0CwoFA4D7rk1Jrg0CXejJ+uzSFQEQInuVTOodAobRGpMwXiUBN7B+LbimLQE+ITl0FLY1ATCLGrbhUj0AesR49V+iQQCAqf+Yd5JFA78M0WAsRk0DsOt5/7jCUQGgcYwfUU5VAYhIxbsWFlkDe87X1qqiXQAFGnFGg35hAywjkgaUqmkBsbxO9pnCbQONO4cKot5xAhQujfqDxnUD2EwNDulafQJ/1SallWKBArEfPFfgRoUBZsmxUwA+iQEP4p7b9oaNAVWc3thhNpkAnctK5oYOpQCOIjH4/MqxA6GvrVTGprkBAOau7lpawQJpUgorHx7FA25WoXYkOs0CTgPYTA0u0QIE0NT24gbVAYefnLcqLtkDBBHZ+3pi3QJag4nGvobhArUfPFfifuUBBmpoe3G+6QNwZZumeFbtAGMq6zBiwu0CWhY9gCkC8QPh8bb0qurxABrwaMEMqvUBrNNRNVZK9QC+nTZOr/71A9pqimfNavkDyLJ/Se7a+QPoAK0lADb9A7KYqxYJhv0C08BFMwbC/QPO413W8+79AjqmI0hoiwEBOk6s/VELAQO83/LTKXsBAwAR2ft53wEC8WFF98Y/AQL5N9JqipcBAMSCuPHK5wECIIxTFIc3AQHuL8gbv3cBAPfbwNBrswEBmJ8DpIvfAQDXUTVWKAMFAEznp3NAIwUDdb/hplQ7BQFc5DKv5E8FAvNST8dsWwUBmxtCG3RjBQDs/b1HeGcFA9ei5Ar8awUB69FyBXxvBQOUwrObfG8FA//////8bwUD//////xvBQP//////G8FA//////8bwUA=",
          "dtype": "f8"
         },
         "y": {
          "bdata": "hPuiPkGrR8AI90V9glZGwIzy6LvDAUXAEe6L+gStQ8CV6S45RlhCwBnl0XeHA0HAO8HpbJFdP8BDuC/qE7Q8wEuvdWeWCjrAVKa75BhhN8BcnQFim7c0wGSUR98dDjLA2BYbuUDJLsDsBKezRXYpwPzyMq5KIyTAGMJ9UZ+gHcA4npVGqfoSwLD0WndmqQDAAEzVeRaK4j/AmkW0ce4JQEDxCuUunRdAkIr5d5IhIUCAnG19jXQmQHCu4YKIxytAMOAqxEGNMEAo6eRGvzYzQBzynsk84DVAFPtYTLqJOEAMBBPPNzM7QAQNzVG13D1A/opDahlDQEB6j6Ar2JdBQPaT/eyW7EJAcpharlVBREDunLdvFJZFQGqhFDHT6kZA5qVx8pE/SEBgqs6zUJRJQNyuK3UP6UpAWLOINs49TEDUt+X3jJJNQFC8QrlL505AZuBPPQUeUECkYv6dZMhQQOLkrP7DclFAIGdbXyMdUkBe6QnAgsdSQJxruCDicVNA2u1mgUEcVEAYcBXioMZUQFbyw0IAcVVAlHRyo18bVkDS9iAEv8VWQA55z2QecFdATPt9xX0aWECKfSwm3cRYQMj/2oY8b1lABoKJ55sZWkBEBDhI+8NaQIKG5qhabltAwAiVCboYXED+ikNqGcNcQDwN8sp4bV1Aeo+gK9gXXkC4EU+MN8JeQPaT/eyWbF9AGgvWJnsLYEA5TC3XqmBgQFiNhIfatWBAd87bNwoLYUCWDzPoOWBhQLVQiphptWFA1JHhSJkKYkDz0jj5yF9iQBEUkKn4tGJAMFXnWSgKY0BPlj4KWF9jQG7XlbqHtGNAjRjtarcJZECsWUQb515kQMuam8sWtGRA6tvye0YJZUAJHUosdl5lQCheodyls2VAR5/4jNUIZkBm4E89BV5mQIUhp+00s2ZApGL+nWQIZ0DDo1VOlF1nQOLkrP7DsmdAASYEr/MHaEAgZ1tfI11oQD+osg9TsmhAXukJwIIHaUB9KmFwslxpQJxruCDisWlAuqwP0REHakDa7WaBQVxqQPguvjFxsWpAGXAV4qAGa0A=",
          "dtype": "f8"
         }
        },
        {
         "name": "Future - HW + EVs",
         "type": "scatter",
         "x": {
          "bdata": "AAAAAAAAAAAAAAAAAAAAAAAAAAAAAAAAAAAAAAAAAAAAAAAAAAAAAAAAAAAAAAAAAAAAAAAAAAAAAAAAAAAAALRAC7RAC9A/4RAO4RAO9D8kSZIkSRIKQDuxEzuxExxA27Zt27aNI0A7sRM7sRMsQNMv/dIvzTJAFTuxEzuROEBTGZVRGRU+QNZczdVcDUNAjMqojMrwR0DHe7zHezRNQAu0QAu0HFJARmVURmVgV0C8x3u8xzNcQAMt0AItXGFAS7/0S78GZUA93uM93nlpQCqjMiqjbG1Av/RLv/QLcUDbtm3bto1zQMuojMqoU3ZAQQu0QAu6eUDtxE7sxJx9QP3SL/3S24BATL/0Sz/jgkB2Yid24jiFQI3KqIxKOodAlVEZldFniUBJkiRJkueLQJVRGZVRZY5AoAVaoIVtkEBzNVdzdcORQCEcwiFcDJNAzNVczVVwlEB3j/d4T9SVQHRiJ3ZiXJdATOzETmzXmED70i/9knuaQJzYiZ3YS5xADeEQDiEgnkClX/qln5KgQJqruZprIqNABVqgBTpspkAWaIEW6IepQNq2bdu2G6xAS7/0Sx/UrkCBFmiBNrOwQNZczdVsErJAvMd7vFdhs0AO4RAOMZe0QIEWaIG2sLVAe7zHe/zKtkCYfumXvt+3QFmgBVow3bhAV3M1V8OuuUCVURmVwWK6QCVJkiQ5DbtALdACLSCgu0DZiZ3Y+R+8QKMyKqOSnrxAgRZogSYWvUAhHMIhbHm9QDiEQzg04L1A14md2HlDvkBZoAVaAKi+QCmjMipDB79ALv3SL/1Zv0Dol37pt62/QFmgBVow/r9Aaq7mas4ewEDETuzEhkHAQAu0QAvcX8BA/////098wECUURmVYZXAQBM7sRNTrsBAyaiMyuDBwECXfumXjtXAQDqxEzu55MBAbdu2bUPzwEAyKqMy6vzAQFmgBVqwBcFAL/3SL5UMwUBZoAVaGBHBQEALtEA7FcFAAi3QAr0XwUAndmInXhnBQPEe7/F+GsFAvMd7vJ8bwUDpl37p3xvBQAAAAAAAHMFAAAAAAAAcwUA=",
          "dtype": "f8"
         },
         "y": {
          "bdata": "hPuiPkGrR8AI90V9glZGwIzy6LvDAUXAEe6L+gStQ8CV6S45RlhCwBnl0XeHA0HAO8HpbJFdP8BDuC/qE7Q8wEuvdWeWCjrAVKa75BhhN8BcnQFim7c0wGSUR98dDjLA2BYbuUDJLsDsBKezRXYpwPzyMq5KIyTAGMJ9UZ+gHcA4npVGqfoSwLD0WndmqQDAAEzVeRaK4j/AmkW0ce4JQEDxCuUunRdAkIr5d5IhIUCAnG19jXQmQHCu4YKIxytAMOAqxEGNMEAo6eRGvzYzQBzynsk84DVAFPtYTLqJOEAMBBPPNzM7QAQNzVG13D1A/opDahlDQEB6j6Ar2JdBQPaT/eyW7EJAcpharlVBREDunLdvFJZFQGqhFDHT6kZA5qVx8pE/SEBgqs6zUJRJQNyuK3UP6UpAWLOINs49TEDUt+X3jJJNQFC8QrlL505AZuBPPQUeUECkYv6dZMhQQOLkrP7DclFAIGdbXyMdUkBe6QnAgsdSQJxruCDicVNA2u1mgUEcVEAYcBXioMZUQFbyw0IAcVVAlHRyo18bVkDS9iAEv8VWQA55z2QecFdATPt9xX0aWECKfSwm3cRYQMj/2oY8b1lABoKJ55sZWkBEBDhI+8NaQIKG5qhabltAwAiVCboYXED+ikNqGcNcQDwN8sp4bV1Aeo+gK9gXXkC4EU+MN8JeQPaT/eyWbF9AGgvWJnsLYEA5TC3XqmBgQFiNhIfatWBAd87bNwoLYUCWDzPoOWBhQLVQiphptWFA1JHhSJkKYkDz0jj5yF9iQBEUkKn4tGJAMFXnWSgKY0BPlj4KWF9jQG7XlbqHtGNAjRjtarcJZECsWUQb515kQMuam8sWtGRA6tvye0YJZUAJHUosdl5lQCheodyls2VAR5/4jNUIZkBm4E89BV5mQIUhp+00s2ZApGL+nWQIZ0DDo1VOlF1nQOLkrP7DsmdAASYEr/MHaEAgZ1tfI11oQD+osg9TsmhAXukJwIIHaUB9KmFwslxpQJxruCDisWlAuqwP0REHakDa7WaBQVxqQPguvjFxsWpAGXAV4qAGa0A=",
          "dtype": "f8"
         }
        }
       ],
       "layout": {
        "legend": {
         "title": {
          "text": "Scenario"
         }
        },
        "shapes": [
         {
          "line": {
           "color": "black",
           "dash": "dash",
           "width": 3
          },
          "type": "line",
          "x0": 0,
          "x1": 1,
          "xref": "x domain",
          "y0": 205,
          "y1": 205,
          "yref": "y"
         }
        ],
        "template": {
         "data": {
          "bar": [
           {
            "error_x": {
             "color": "#2a3f5f"
            },
            "error_y": {
             "color": "#2a3f5f"
            },
            "marker": {
             "line": {
              "color": "#E5ECF6",
              "width": 0.5
             },
             "pattern": {
              "fillmode": "overlay",
              "size": 10,
              "solidity": 0.2
             }
            },
            "type": "bar"
           }
          ],
          "barpolar": [
           {
            "marker": {
             "line": {
              "color": "#E5ECF6",
              "width": 0.5
             },
             "pattern": {
              "fillmode": "overlay",
              "size": 10,
              "solidity": 0.2
             }
            },
            "type": "barpolar"
           }
          ],
          "carpet": [
           {
            "aaxis": {
             "endlinecolor": "#2a3f5f",
             "gridcolor": "white",
             "linecolor": "white",
             "minorgridcolor": "white",
             "startlinecolor": "#2a3f5f"
            },
            "baxis": {
             "endlinecolor": "#2a3f5f",
             "gridcolor": "white",
             "linecolor": "white",
             "minorgridcolor": "white",
             "startlinecolor": "#2a3f5f"
            },
            "type": "carpet"
           }
          ],
          "choropleth": [
           {
            "colorbar": {
             "outlinewidth": 0,
             "ticks": ""
            },
            "type": "choropleth"
           }
          ],
          "contour": [
           {
            "colorbar": {
             "outlinewidth": 0,
             "ticks": ""
            },
            "colorscale": [
             [
              0,
              "#0d0887"
             ],
             [
              0.1111111111111111,
              "#46039f"
             ],
             [
              0.2222222222222222,
              "#7201a8"
             ],
             [
              0.3333333333333333,
              "#9c179e"
             ],
             [
              0.4444444444444444,
              "#bd3786"
             ],
             [
              0.5555555555555556,
              "#d8576b"
             ],
             [
              0.6666666666666666,
              "#ed7953"
             ],
             [
              0.7777777777777778,
              "#fb9f3a"
             ],
             [
              0.8888888888888888,
              "#fdca26"
             ],
             [
              1,
              "#f0f921"
             ]
            ],
            "type": "contour"
           }
          ],
          "contourcarpet": [
           {
            "colorbar": {
             "outlinewidth": 0,
             "ticks": ""
            },
            "type": "contourcarpet"
           }
          ],
          "heatmap": [
           {
            "colorbar": {
             "outlinewidth": 0,
             "ticks": ""
            },
            "colorscale": [
             [
              0,
              "#0d0887"
             ],
             [
              0.1111111111111111,
              "#46039f"
             ],
             [
              0.2222222222222222,
              "#7201a8"
             ],
             [
              0.3333333333333333,
              "#9c179e"
             ],
             [
              0.4444444444444444,
              "#bd3786"
             ],
             [
              0.5555555555555556,
              "#d8576b"
             ],
             [
              0.6666666666666666,
              "#ed7953"
             ],
             [
              0.7777777777777778,
              "#fb9f3a"
             ],
             [
              0.8888888888888888,
              "#fdca26"
             ],
             [
              1,
              "#f0f921"
             ]
            ],
            "type": "heatmap"
           }
          ],
          "histogram": [
           {
            "marker": {
             "pattern": {
              "fillmode": "overlay",
              "size": 10,
              "solidity": 0.2
             }
            },
            "type": "histogram"
           }
          ],
          "histogram2d": [
           {
            "colorbar": {
             "outlinewidth": 0,
             "ticks": ""
            },
            "colorscale": [
             [
              0,
              "#0d0887"
             ],
             [
              0.1111111111111111,
              "#46039f"
             ],
             [
              0.2222222222222222,
              "#7201a8"
             ],
             [
              0.3333333333333333,
              "#9c179e"
             ],
             [
              0.4444444444444444,
              "#bd3786"
             ],
             [
              0.5555555555555556,
              "#d8576b"
             ],
             [
              0.6666666666666666,
              "#ed7953"
             ],
             [
              0.7777777777777778,
              "#fb9f3a"
             ],
             [
              0.8888888888888888,
              "#fdca26"
             ],
             [
              1,
              "#f0f921"
             ]
            ],
            "type": "histogram2d"
           }
          ],
          "histogram2dcontour": [
           {
            "colorbar": {
             "outlinewidth": 0,
             "ticks": ""
            },
            "colorscale": [
             [
              0,
              "#0d0887"
             ],
             [
              0.1111111111111111,
              "#46039f"
             ],
             [
              0.2222222222222222,
              "#7201a8"
             ],
             [
              0.3333333333333333,
              "#9c179e"
             ],
             [
              0.4444444444444444,
              "#bd3786"
             ],
             [
              0.5555555555555556,
              "#d8576b"
             ],
             [
              0.6666666666666666,
              "#ed7953"
             ],
             [
              0.7777777777777778,
              "#fb9f3a"
             ],
             [
              0.8888888888888888,
              "#fdca26"
             ],
             [
              1,
              "#f0f921"
             ]
            ],
            "type": "histogram2dcontour"
           }
          ],
          "mesh3d": [
           {
            "colorbar": {
             "outlinewidth": 0,
             "ticks": ""
            },
            "type": "mesh3d"
           }
          ],
          "parcoords": [
           {
            "line": {
             "colorbar": {
              "outlinewidth": 0,
              "ticks": ""
             }
            },
            "type": "parcoords"
           }
          ],
          "pie": [
           {
            "automargin": true,
            "type": "pie"
           }
          ],
          "scatter": [
           {
            "fillpattern": {
             "fillmode": "overlay",
             "size": 10,
             "solidity": 0.2
            },
            "type": "scatter"
           }
          ],
          "scatter3d": [
           {
            "line": {
             "colorbar": {
              "outlinewidth": 0,
              "ticks": ""
             }
            },
            "marker": {
             "colorbar": {
              "outlinewidth": 0,
              "ticks": ""
             }
            },
            "type": "scatter3d"
           }
          ],
          "scattercarpet": [
           {
            "marker": {
             "colorbar": {
              "outlinewidth": 0,
              "ticks": ""
             }
            },
            "type": "scattercarpet"
           }
          ],
          "scattergeo": [
           {
            "marker": {
             "colorbar": {
              "outlinewidth": 0,
              "ticks": ""
             }
            },
            "type": "scattergeo"
           }
          ],
          "scattergl": [
           {
            "marker": {
             "colorbar": {
              "outlinewidth": 0,
              "ticks": ""
             }
            },
            "type": "scattergl"
           }
          ],
          "scattermap": [
           {
            "marker": {
             "colorbar": {
              "outlinewidth": 0,
              "ticks": ""
             }
            },
            "type": "scattermap"
           }
          ],
          "scattermapbox": [
           {
            "marker": {
             "colorbar": {
              "outlinewidth": 0,
              "ticks": ""
             }
            },
            "type": "scattermapbox"
           }
          ],
          "scatterpolar": [
           {
            "marker": {
             "colorbar": {
              "outlinewidth": 0,
              "ticks": ""
             }
            },
            "type": "scatterpolar"
           }
          ],
          "scatterpolargl": [
           {
            "marker": {
             "colorbar": {
              "outlinewidth": 0,
              "ticks": ""
             }
            },
            "type": "scatterpolargl"
           }
          ],
          "scatterternary": [
           {
            "marker": {
             "colorbar": {
              "outlinewidth": 0,
              "ticks": ""
             }
            },
            "type": "scatterternary"
           }
          ],
          "surface": [
           {
            "colorbar": {
             "outlinewidth": 0,
             "ticks": ""
            },
            "colorscale": [
             [
              0,
              "#0d0887"
             ],
             [
              0.1111111111111111,
              "#46039f"
             ],
             [
              0.2222222222222222,
              "#7201a8"
             ],
             [
              0.3333333333333333,
              "#9c179e"
             ],
             [
              0.4444444444444444,
              "#bd3786"
             ],
             [
              0.5555555555555556,
              "#d8576b"
             ],
             [
              0.6666666666666666,
              "#ed7953"
             ],
             [
              0.7777777777777778,
              "#fb9f3a"
             ],
             [
              0.8888888888888888,
              "#fdca26"
             ],
             [
              1,
              "#f0f921"
             ]
            ],
            "type": "surface"
           }
          ],
          "table": [
           {
            "cells": {
             "fill": {
              "color": "#EBF0F8"
             },
             "line": {
              "color": "white"
             }
            },
            "header": {
             "fill": {
              "color": "#C8D4E3"
             },
             "line": {
              "color": "white"
             }
            },
            "type": "table"
           }
          ]
         },
         "layout": {
          "annotationdefaults": {
           "arrowcolor": "#2a3f5f",
           "arrowhead": 0,
           "arrowwidth": 1
          },
          "autotypenumbers": "strict",
          "coloraxis": {
           "colorbar": {
            "outlinewidth": 0,
            "ticks": ""
           }
          },
          "colorscale": {
           "diverging": [
            [
             0,
             "#8e0152"
            ],
            [
             0.1,
             "#c51b7d"
            ],
            [
             0.2,
             "#de77ae"
            ],
            [
             0.3,
             "#f1b6da"
            ],
            [
             0.4,
             "#fde0ef"
            ],
            [
             0.5,
             "#f7f7f7"
            ],
            [
             0.6,
             "#e6f5d0"
            ],
            [
             0.7,
             "#b8e186"
            ],
            [
             0.8,
             "#7fbc41"
            ],
            [
             0.9,
             "#4d9221"
            ],
            [
             1,
             "#276419"
            ]
           ],
           "sequential": [
            [
             0,
             "#0d0887"
            ],
            [
             0.1111111111111111,
             "#46039f"
            ],
            [
             0.2222222222222222,
             "#7201a8"
            ],
            [
             0.3333333333333333,
             "#9c179e"
            ],
            [
             0.4444444444444444,
             "#bd3786"
            ],
            [
             0.5555555555555556,
             "#d8576b"
            ],
            [
             0.6666666666666666,
             "#ed7953"
            ],
            [
             0.7777777777777778,
             "#fb9f3a"
            ],
            [
             0.8888888888888888,
             "#fdca26"
            ],
            [
             1,
             "#f0f921"
            ]
           ],
           "sequentialminus": [
            [
             0,
             "#0d0887"
            ],
            [
             0.1111111111111111,
             "#46039f"
            ],
            [
             0.2222222222222222,
             "#7201a8"
            ],
            [
             0.3333333333333333,
             "#9c179e"
            ],
            [
             0.4444444444444444,
             "#bd3786"
            ],
            [
             0.5555555555555556,
             "#d8576b"
            ],
            [
             0.6666666666666666,
             "#ed7953"
            ],
            [
             0.7777777777777778,
             "#fb9f3a"
            ],
            [
             0.8888888888888888,
             "#fdca26"
            ],
            [
             1,
             "#f0f921"
            ]
           ]
          },
          "colorway": [
           "#636efa",
           "#EF553B",
           "#00cc96",
           "#ab63fa",
           "#FFA15A",
           "#19d3f3",
           "#FF6692",
           "#B6E880",
           "#FF97FF",
           "#FECB52"
          ],
          "font": {
           "color": "#2a3f5f"
          },
          "geo": {
           "bgcolor": "white",
           "lakecolor": "white",
           "landcolor": "#E5ECF6",
           "showlakes": true,
           "showland": true,
           "subunitcolor": "white"
          },
          "hoverlabel": {
           "align": "left"
          },
          "hovermode": "closest",
          "mapbox": {
           "style": "light"
          },
          "paper_bgcolor": "white",
          "plot_bgcolor": "#E5ECF6",
          "polar": {
           "angularaxis": {
            "gridcolor": "white",
            "linecolor": "white",
            "ticks": ""
           },
           "bgcolor": "#E5ECF6",
           "radialaxis": {
            "gridcolor": "white",
            "linecolor": "white",
            "ticks": ""
           }
          },
          "scene": {
           "xaxis": {
            "backgroundcolor": "#E5ECF6",
            "gridcolor": "white",
            "gridwidth": 2,
            "linecolor": "white",
            "showbackground": true,
            "ticks": "",
            "zerolinecolor": "white"
           },
           "yaxis": {
            "backgroundcolor": "#E5ECF6",
            "gridcolor": "white",
            "gridwidth": 2,
            "linecolor": "white",
            "showbackground": true,
            "ticks": "",
            "zerolinecolor": "white"
           },
           "zaxis": {
            "backgroundcolor": "#E5ECF6",
            "gridcolor": "white",
            "gridwidth": 2,
            "linecolor": "white",
            "showbackground": true,
            "ticks": "",
            "zerolinecolor": "white"
           }
          },
          "shapedefaults": {
           "line": {
            "color": "#2a3f5f"
           }
          },
          "ternary": {
           "aaxis": {
            "gridcolor": "white",
            "linecolor": "white",
            "ticks": ""
           },
           "baxis": {
            "gridcolor": "white",
            "linecolor": "white",
            "ticks": ""
           },
           "bgcolor": "#E5ECF6",
           "caxis": {
            "gridcolor": "white",
            "linecolor": "white",
            "ticks": ""
           }
          },
          "title": {
           "x": 0.05
          },
          "xaxis": {
           "automargin": true,
           "gridcolor": "white",
           "linecolor": "white",
           "ticks": "",
           "title": {
            "standoff": 15
           },
           "zerolinecolor": "white",
           "zerolinewidth": 2
          },
          "yaxis": {
           "automargin": true,
           "gridcolor": "white",
           "linecolor": "white",
           "ticks": "",
           "title": {
            "standoff": 15
           },
           "zerolinecolor": "white",
           "zerolinewidth": 2
          }
         }
        },
        "title": {
         "text": "North Canberra - Low rooftop solar uptake, Low private EV charging"
        },
        "xaxis": {
         "title": {
          "text": "Hours of year"
         }
        },
        "yaxis": {
         "title": {
          "text": "MW"
         }
        }
       }
      }
     },
     "metadata": {},
     "output_type": "display_data"
    }
   ],
   "source": [
    "nu_bins = 100\n",
    "names = ['Current', 'Future - no HW or EVs', 'Future - HW, no EVs', 'Future - HW + EVs']\n",
    "fig = go.Figure()\n",
    "for i, data in enumerate([many_day_df_current, many_day_df_future_sans, many_day_df_future, many_day_df_future_EV]):\n",
    "    occur, bins = np.histogram(data, range=(-50,y_max), bins=nu_bins, density=False)\n",
    "    pdf = occur/sum(occur)\n",
    "    cdf = np.cumsum(pdf) \n",
    "\n",
    "    fig.add_trace(go.Scatter(x=bins[1:], y=pdf, name=names[i]))\n",
    "\n",
    "fig.add_vline(x=zs_combined_rating, line_width=3, line_dash=\"dash\", line_color=\"black\")\n",
    "fig.update_layout(\n",
    "    title=f\"{SA_region} - {solar_uptake} rooftop solar uptake, {EV_private_charging} private EV charging\",\n",
    "    xaxis_title=\"MW\",\n",
    "    yaxis_title=\"Frequency\",\n",
    "    legend_title=\"Scenario\",\n",
    ")\n",
    "# fig.show()\n",
    "fig.write_image(f\"{SA_region}-{solar_uptake}_solar-{EV_private_charging}_private_EV-frequency.png\")\n",
    "\n",
    "fig = go.Figure()\n",
    "for i, data in enumerate([many_day_df_current, many_day_df_future_sans, many_day_df_future, many_day_df_future_EV]):\n",
    "    occur, bins = np.histogram(data, range=(-50,y_max), bins=nu_bins, density=False)\n",
    "    pdf = occur/sum(occur)\n",
    "    cdf = np.cumsum(pdf) \n",
    "\n",
    "    fig.add_trace(go.Scatter(y=bins[1:], x=cdf*8760, name=names[i]))\n",
    "    # fig.add_trace(go.Scatter(y=bins[1:][::-1], x=cdf*8760, name=names[i]))\n",
    "fig.add_hline(y=zs_combined_rating, line_width=3, line_dash=\"dash\", line_color=\"black\")\n",
    "fig.update_layout(\n",
    "    title=f\"{SA_region} - {solar_uptake} rooftop solar uptake, {EV_private_charging} private EV charging\",\n",
    "    xaxis_title=\"Hours of year\",\n",
    "    yaxis_title=\"MW\",\n",
    "    legend_title=\"Scenario\",\n",
    ")\n",
    "fig.show()\n",
    "fig.write_image(f\"{SA_region}-{solar_uptake}_solar-{EV_private_charging}_private_EV-duration.png\")"
   ]
  },
  {
   "cell_type": "code",
   "execution_count": null,
   "metadata": {},
   "outputs": [],
   "source": []
  }
 ],
 "metadata": {
  "kernelspec": {
   "display_name": "venv",
   "language": "python",
   "name": "python3"
  },
  "language_info": {
   "codemirror_mode": {
    "name": "ipython",
    "version": 3
   },
   "file_extension": ".py",
   "mimetype": "text/x-python",
   "name": "python",
   "nbconvert_exporter": "python",
   "pygments_lexer": "ipython3",
   "version": "3.12.3"
  }
 },
 "nbformat": 4,
 "nbformat_minor": 2
}
